{
 "cells": [
  {
   "cell_type": "code",
   "execution_count": 1,
   "metadata": {},
   "outputs": [
    {
     "name": "stdout",
     "output_type": "stream",
     "text": [
      "As long as it finishes, 0\n",
      "The tested force field is:  UFF.json\n",
      "The tested cif is:  /home/yutao/project/Al-MOF/mil121/RSM0112.cif\n",
      "The simulation temperature is:  303\n",
      "This is the final pk values for isotherm workflow:  820016\n",
      "\n",
      "Go to  /home/yutao/project/Al-MOF/MIL120\n",
      "Go to  /home/yutao/project/Al-MOF/cau21bpdc\n",
      "Go to  /home/yutao/project/Al-MOF/WOJJOV\n",
      "Go to  /home/yutao/project/Al-MOF/MIL-160\n",
      "Go to  /home/yutao/project/Al-MOF/nott300\n",
      "Go to  /home/yutao/project/Al-MOF/mof520\n",
      "Go to  /home/yutao/project/Al-MOF/Al-soc-MOF-1\n",
      "Go to  /home/yutao/project/Al-MOF/cau10-OCH3\n",
      "Go to  /home/yutao/project/Al-MOF/cau10H\n",
      "Go to  /home/yutao/project/Al-MOF/mil121\n"
     ]
    }
   ],
   "source": []
  },
  {
   "cell_type": "code",
   "execution_count": null,
   "metadata": {},
   "outputs": [],
   "source": [
    "'''\n",
    "\n",
    "This is aiida analysie file which give me the information from binding site workchains and isotherms workchains, \n",
    "I wish use them as the same format\n",
    "\n",
    "'''\n",
    "\n",
    "'''\n",
    "This is a plot function, which only receive one kind format and give two way to plot it\n",
    "\n",
    "1. put all of them in the same figure\n",
    "\n",
    "'''"
   ]
  }
 ],
 "metadata": {
  "kernelspec": {
   "display_name": "aiida",
   "language": "python",
   "name": "python3"
  },
  "language_info": {
   "codemirror_mode": {
    "name": "ipython",
    "version": 3
   },
   "file_extension": ".py",
   "mimetype": "text/x-python",
   "name": "python",
   "nbconvert_exporter": "python",
   "pygments_lexer": "ipython3",
   "version": "3.9.18"
  }
 },
 "nbformat": 4,
 "nbformat_minor": 2
}
