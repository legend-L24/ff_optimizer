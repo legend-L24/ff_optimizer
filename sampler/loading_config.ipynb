{
 "cells": [
  {
   "cell_type": "markdown",
   "metadata": {},
   "source": [
    "# this is to write function extra loading data from aiidamofs object"
   ]
  },
  {
   "cell_type": "code",
   "execution_count": 2,
   "metadata": {},
   "outputs": [],
   "source": [
    "from aiida.orm import load_node, StructureData, CifData, QueryBuilder\n",
    "from aiida import load_profile\n",
    "from ase.io import write\n",
    "import os\n",
    "\n",
    "load_profile()\n",
    "# Output structures from FF workchain is stored as cif files\n",
    "# like Work chain competed! Molecule CifData<1118842>, loaded structure CifData<1118844>, output parameters Dict<1118846>\n",
    "def write_structure(aiidakind,aiida_mofs, dest_path,molecule,suffix, name_way='mofname'):\n",
    "    '''\n",
    "    mofname is the name of directory where the original cif file is stored\n",
    "    cifname is the original cif file name and I will delete .cif\n",
    "    '''\n",
    "    for aiidamof in aiida_mofs:\n",
    "        pk = aiidamof.binding_pk\n",
    "        # Load the process node\n",
    "        process_node = load_node(pk)\n",
    "        # Initialize a query builder\n",
    "        qb = QueryBuilder()\n",
    "        # Append the process node to the query\n",
    "        qb.append(type(process_node), filters={'id': process_node.id}, tag='process')\n",
    "        # Append StructureData nodes that are output of the process node\n",
    "        qb.append(aiidakind, with_incoming='process')\n",
    "        # Get the results\n",
    "        results = qb.all()\n",
    "        # Extract the PKs\n",
    "        pks = [result[0].pk for result in results]\n",
    "        structures = [result[0].get_ase() for result in results]\n",
    "        # I assume that the number of atoms in structures is less than 10\n",
    "        for pk, structure in zip(pks, structures):\n",
    "            if len(structure) < 10:\n",
    "                print(f\"Loading Gas pk: {pk}\")\n",
    "            if len(structure) > 10:\n",
    "                print(f\"Structure with loading gas pk: {pk}\")\n",
    "                if name_way == 'mofname':\n",
    "                    write(os.path.join(dest_path, f'{aiidamof.forcefield}_{aiidamof.mofname}_{molecule}_loaded_{suffix}.cif'), structure, format='cif')\n",
    "                elif name_way == 'cifname':\n",
    "                    name, extension = os.path.splitext(aiidamof.cifname)\n",
    "                    write(os.path.join(dest_path, f'{aiidamof.forcefield}_{name}_{molecule}_loaded_{suffix}.cif'), structure, format='cif')\n",
    "                else:\n",
    "                    raise ValueError('name_way should be either mofname or cifname')"
   ]
  },
  {
   "cell_type": "code",
   "execution_count": 64,
   "metadata": {},
   "outputs": [
    {
     "name": "stdout",
     "output_type": "stream",
     "text": [
      "Without DFT-Binding energy, num: 1, in binding site workchain 782452, mil121\n",
      "Without DFT-Binding energy, num: 1, in binding site workchain 996810, Al-NDC-OH\n",
      "Loading Gas pk: 785119\n",
      "Structure with loading gas pk: 785121\n",
      "Loading Gas pk: 1054778\n",
      "Structure with loading gas pk: 1054780\n",
      "Loading Gas pk: 785752\n",
      "Structure with loading gas pk: 785756\n",
      "Loading Gas pk: 785092\n",
      "Structure with loading gas pk: 785094\n",
      "Loading Gas pk: 784998\n",
      "Structure with loading gas pk: 785003\n",
      "Loading Gas pk: 924873\n",
      "Structure with loading gas pk: 924875\n",
      "Loading Gas pk: 997129\n",
      "Structure with loading gas pk: 997131\n",
      "Loading Gas pk: 786328\n",
      "Structure with loading gas pk: 785853\n",
      "Loading Gas pk: 1056178\n",
      "Structure with loading gas pk: 1055980\n",
      "Loading Gas pk: 786518\n",
      "Structure with loading gas pk: 786371\n",
      "Loading Gas pk: 786367\n",
      "Structure with loading gas pk: 785847\n",
      "Loading Gas pk: 925639\n",
      "Structure with loading gas pk: 925250\n"
     ]
    }
   ],
   "source": [
    "from aiidamof import AiidaMofs\n",
    "\n",
    "log_name = 'UFF_Al_paper.log'\n",
    "aiida_mofs = AiidaMofs(log_name,'mol/kg')\n",
    "molecule = 'CO2'\n",
    "\n",
    "dest_path = \"/home/yutao/project/github/ff_optimizer/dataset/loading_structures/FF\"\n",
    "# Check if the directory exists\n",
    "if not os.path.exists(dest_path):\n",
    "    # If not, create it\n",
    "    os.makedirs(dest_path)\n",
    "    print(f\"Create {dest_path}\")\n",
    "\n",
    "# Write loading structures from aiida_mofs\n",
    "write_structure(CifData, aiida_mofs, dest_path, molecule, 'fromFF', name_way='mofname')\n",
    "\n",
    "dest_path = \"/home/yutao/project/github/ff_optimizer/dataset/loading_structures/DFT\"\n",
    "\n",
    "# Check if the directory exists\n",
    "if not os.path.exists(dest_path):\n",
    "    # If not, create it\n",
    "    os.makedirs(dest_path)\n",
    "    print(f\"Create {dest_path}\")\n",
    "\n",
    "write_structure(StructureData, aiida_mofs, dest_path, molecule, 'fromDFT', name_way='mofname')"
   ]
  },
  {
   "cell_type": "code",
   "execution_count": 65,
   "metadata": {},
   "outputs": [
    {
     "name": "stdout",
     "output_type": "stream",
     "text": [
      "Without DFT-Binding energy, num: 1, in binding site workchain 767246, mil121\n",
      "Loading Gas pk: 769883\n",
      "Structure with loading gas pk: 769885\n",
      "Loading Gas pk: 1054751\n",
      "Structure with loading gas pk: 1054753\n",
      "Loading Gas pk: 770511\n",
      "Structure with loading gas pk: 770513\n",
      "Loading Gas pk: 769942\n",
      "Structure with loading gas pk: 769944\n",
      "Loading Gas pk: 769798\n",
      "Structure with loading gas pk: 769800\n",
      "Loading Gas pk: 924837\n",
      "Structure with loading gas pk: 924839\n",
      "Loading Gas pk: 995633\n",
      "Structure with loading gas pk: 995635\n",
      "Loading Gas pk: 770335\n",
      "Structure with loading gas pk: 770201\n",
      "Loading Gas pk: 1055743\n",
      "Structure with loading gas pk: 1055463\n",
      "Loading Gas pk: 770788\n",
      "Structure with loading gas pk: 770672\n",
      "Loading Gas pk: 770750\n",
      "Structure with loading gas pk: 770494\n",
      "Loading Gas pk: 925645\n",
      "Structure with loading gas pk: 925296\n",
      "Loading Gas pk: 995813\n",
      "Structure with loading gas pk: 995713\n"
     ]
    }
   ],
   "source": [
    "from aiidamof import AiidaMofs\n",
    "\n",
    "log_name = 'Al_graphite_Al_paper.log'\n",
    "aiida_mofs = AiidaMofs(log_name,'mol/kg')\n",
    "molecule = 'CO2'\n",
    "\n",
    "dest_path = \"/home/yutao/project/github/ff_optimizer/dataset/loading_structures/FF\"\n",
    "# Check if the directory exists\n",
    "if not os.path.exists(dest_path):\n",
    "    # If not, create it\n",
    "    os.makedirs(dest_path)\n",
    "    print(f\"Create {dest_path}\")\n",
    "\n",
    "write_structure(CifData, aiida_mofs, dest_path, molecule, 'fromFF', name_way='mofname')\n",
    "\n",
    "dest_path = \"/home/yutao/project/github/ff_optimizer/dataset/loading_structures/DFT\"\n",
    "\n",
    "# Check if the directory exists\n",
    "if not os.path.exists(dest_path):\n",
    "    # If not, create it\n",
    "    os.makedirs(dest_path)\n",
    "    print(f\"Create {dest_path}\")\n",
    "\n",
    "write_structure(StructureData, aiida_mofs, dest_path, molecule, 'fromDFT', name_way='mofname')"
   ]
  },
  {
   "cell_type": "code",
   "execution_count": 66,
   "metadata": {},
   "outputs": [
    {
     "name": "stdout",
     "output_type": "stream",
     "text": [
      "Loading Gas pk: 1119387\n",
      "Structure with loading gas pk: 1119389\n",
      "Loading Gas pk: 1120022\n",
      "Structure with loading gas pk: 1120024\n",
      "Loading Gas pk: 1119039\n",
      "Structure with loading gas pk: 1119041\n",
      "Loading Gas pk: 1118842\n",
      "Structure with loading gas pk: 1118844\n",
      "Loading Gas pk: 1119073\n",
      "Structure with loading gas pk: 1119075\n",
      "Loading Gas pk: 1118447\n",
      "Structure with loading gas pk: 1118451\n",
      "Loading Gas pk: 1119890\n",
      "Structure with loading gas pk: 1119892\n",
      "Loading Gas pk: 1119727\n",
      "Structure with loading gas pk: 1119729\n",
      "Loading Gas pk: 1119132\n",
      "Structure with loading gas pk: 1119134\n",
      "Loading Gas pk: 1119160\n",
      "Structure with loading gas pk: 1119163\n",
      "Loading Gas pk: 1119639\n",
      "Structure with loading gas pk: 1119641\n",
      "Loading Gas pk: 1119312\n",
      "Structure with loading gas pk: 1119314\n",
      "Loading Gas pk: 1120385\n",
      "Structure with loading gas pk: 1120229\n",
      "Loading Gas pk: 1120489\n",
      "Structure with loading gas pk: 1120297\n",
      "Loading Gas pk: 1120348\n",
      "Structure with loading gas pk: 1120180\n",
      "Loading Gas pk: 1120335\n",
      "Structure with loading gas pk: 1120121\n",
      "Loading Gas pk: 1120329\n",
      "Structure with loading gas pk: 1120128\n",
      "Loading Gas pk: 1120540\n",
      "Structure with loading gas pk: 1120530\n",
      "Loading Gas pk: 1120459\n",
      "Structure with loading gas pk: 1120305\n",
      "Loading Gas pk: 1120511\n",
      "Structure with loading gas pk: 1120501\n",
      "Loading Gas pk: 1120354\n",
      "Structure with loading gas pk: 1120194\n",
      "Loading Gas pk: 1120421\n",
      "Structure with loading gas pk: 1120215\n",
      "Loading Gas pk: 1120483\n",
      "Structure with loading gas pk: 1120437\n",
      "Loading Gas pk: 1120397\n",
      "Structure with loading gas pk: 1120236\n"
     ]
    }
   ],
   "source": [
    "from aiidamof import AiidaMofs\n",
    "\n",
    "log_name = 'UFF_Al_n2.log'\n",
    "aiida_mofs = AiidaMofs(log_name,'mol/kg')\n",
    "molecule = 'N2'\n",
    "\n",
    "dest_path = \"/home/yutao/project/github/ff_optimizer/dataset/loading_structures/FF\"\n",
    "# Check if the directory exists\n",
    "if not os.path.exists(dest_path):\n",
    "    # If not, create it\n",
    "    os.makedirs(dest_path)\n",
    "    print(f\"Create {dest_path}\")\n",
    "  \n",
    "# Write loading structures from aiida_mofs\n",
    "write_structure(CifData, aiida_mofs, dest_path, molecule, 'fromFF', name_way='mofname')\n",
    "\n",
    "dest_path = \"/home/yutao/project/github/ff_optimizer/dataset/loading_structures/DFT\"\n",
    "\n",
    "# Check if the directory exists\n",
    "if not os.path.exists(dest_path):\n",
    "    # If not, create it\n",
    "    os.makedirs(dest_path)\n",
    "    print(f\"Create {dest_path}\")\n",
    "\n",
    "write_structure(StructureData, aiida_mofs, dest_path, molecule, 'fromDFT', name_way='mofname')"
   ]
  },
  {
   "cell_type": "code",
   "execution_count": 67,
   "metadata": {},
   "outputs": [
    {
     "name": "stdout",
     "output_type": "stream",
     "text": [
      "Without DFT-Binding energy, num: 1, in binding site workchain 1116467, cau10-OCH3\n",
      "Without DFT-Binding energy, num: 1, in binding site workchain 1116493, MFM-300\n",
      "Loading Gas pk: 1119487\n",
      "Structure with loading gas pk: 1119489\n",
      "Loading Gas pk: 1120050\n",
      "Structure with loading gas pk: 1120052\n",
      "Loading Gas pk: 1119105\n",
      "Structure with loading gas pk: 1119107\n",
      "Loading Gas pk: 1118954\n",
      "Structure with loading gas pk: 1118959\n",
      "Loading Gas pk: 1119252\n",
      "Structure with loading gas pk: 1119254\n",
      "Loading Gas pk: 1118458\n",
      "Structure with loading gas pk: 1118464\n",
      "Loading Gas pk: 1119929\n",
      "Structure with loading gas pk: 1119931\n",
      "Loading Gas pk: 1119777\n",
      "Structure with loading gas pk: 1119779\n",
      "Loading Gas pk: 1119220\n",
      "Structure with loading gas pk: 1119223\n",
      "Loading Gas pk: 1119280\n",
      "Structure with loading gas pk: 1119282\n",
      "Loading Gas pk: 1119612\n",
      "Structure with loading gas pk: 1119614\n",
      "Loading Gas pk: 1119189\n",
      "Structure with loading gas pk: 1119191\n",
      "Loading Gas pk: 1120403\n",
      "Structure with loading gas pk: 1120256\n",
      "Loading Gas pk: 1120527\n",
      "Structure with loading gas pk: 1120516\n",
      "Loading Gas pk: 1120366\n",
      "Structure with loading gas pk: 1120187\n",
      "Loading Gas pk: 1120373\n",
      "Structure with loading gas pk: 1120173\n",
      "Loading Gas pk: 1120391\n",
      "Structure with loading gas pk: 1120222\n",
      "Loading Gas pk: 1120477\n",
      "Structure with loading gas pk: 1120264\n",
      "Loading Gas pk: 1120465\n",
      "Structure with loading gas pk: 1120291\n",
      "Loading Gas pk: 1120446\n",
      "Structure with loading gas pk: 1120243\n",
      "Loading Gas pk: 1120455\n",
      "Structure with loading gas pk: 1120319\n",
      "Loading Gas pk: 1120379\n",
      "Structure with loading gas pk: 1120201\n"
     ]
    }
   ],
   "source": [
    "from aiidamof import AiidaMofs\n",
    "\n",
    "log_name = 'Al_graphite_Al_n2.log'\n",
    "aiida_mofs = AiidaMofs(log_name,'mol/kg')\n",
    "molecule = 'N2'\n",
    "\n",
    "dest_path = \"/home/yutao/project/github/ff_optimizer/dataset/loading_structures/FF\"\n",
    "# Check if the directory exists\n",
    "if not os.path.exists(dest_path):\n",
    "    # If not, create it\n",
    "    os.makedirs(dest_path)\n",
    "    print(f\"Create {dest_path}\")\n",
    "\n",
    "write_structure(CifData, aiida_mofs, dest_path, molecule, 'fromFF', name_way='mofname')\n",
    "\n",
    "dest_path = \"/home/yutao/project/github/ff_optimizer/dataset/loading_structures/DFT\"\n",
    "\n",
    "# Check if the directory exists\n",
    "if not os.path.exists(dest_path):\n",
    "    # If not, create it\n",
    "    os.makedirs(dest_path)\n",
    "    print(f\"Create {dest_path}\")\n",
    "\n",
    "write_structure(StructureData, aiida_mofs, dest_path, molecule, 'fromDFT', name_way='mofname')"
   ]
  },
  {
   "cell_type": "code",
   "execution_count": 68,
   "metadata": {},
   "outputs": [
    {
     "name": "stdout",
     "output_type": "stream",
     "text": [
      "Loading Gas pk: 1133564\n",
      "Structure with loading gas pk: 1133568\n",
      "Loading Gas pk: 1131659\n",
      "Structure with loading gas pk: 1131670\n",
      "Loading Gas pk: 1135918\n",
      "Structure with loading gas pk: 1134908\n",
      "Loading Gas pk: 1134498\n",
      "Structure with loading gas pk: 1133516\n"
     ]
    }
   ],
   "source": [
    "from aiidamof import AiidaMofs\n",
    "\n",
    "log_name = 'Al_graphite_In_n2.log'\n",
    "aiida_mofs = AiidaMofs(log_name,'mol/kg')\n",
    "molecule = 'N2'\n",
    "\n",
    "dest_path = \"/home/yutao/project/github/ff_optimizer/dataset/loading_structures/FF\"\n",
    "# Check if the directory exists\n",
    "if not os.path.exists(dest_path):\n",
    "    # If not, create it\n",
    "    os.makedirs(dest_path)\n",
    "    print(f\"Create {dest_path}\")\n",
    "\n",
    "write_structure(CifData, aiida_mofs, dest_path, molecule, 'fromFF', name_way='mofname')\n",
    "\n",
    "dest_path = \"/home/yutao/project/github/ff_optimizer/dataset/loading_structures/DFT\"\n",
    "\n",
    "# Check if the directory exists\n",
    "if not os.path.exists(dest_path):\n",
    "    # If not, create it\n",
    "    os.makedirs(dest_path)\n",
    "    print(f\"Create {dest_path}\")\n",
    "\n",
    "write_structure(StructureData, aiida_mofs, dest_path, molecule, 'fromDFT', name_way='mofname')"
   ]
  },
  {
   "cell_type": "code",
   "execution_count": 69,
   "metadata": {},
   "outputs": [
    {
     "name": "stdout",
     "output_type": "stream",
     "text": [
      "Loading Gas pk: 947354\n",
      "Structure with loading gas pk: 947356\n",
      "Loading Gas pk: 946976\n",
      "Structure with loading gas pk: 946978\n",
      "Loading Gas pk: 946591\n",
      "Structure with loading gas pk: 946593\n",
      "Loading Gas pk: 947687\n",
      "Structure with loading gas pk: 947689\n",
      "Loading Gas pk: 948040\n",
      "Structure with loading gas pk: 947846\n",
      "Loading Gas pk: 947472\n",
      "Structure with loading gas pk: 947314\n",
      "Loading Gas pk: 947157\n",
      "Structure with loading gas pk: 946808\n",
      "Loading Gas pk: 948216\n",
      "Structure with loading gas pk: 947971\n"
     ]
    }
   ],
   "source": [
    "from aiidamof import AiidaMofs\n",
    "\n",
    "log_name = 'Al_graphite_In_paper.log'\n",
    "aiida_mofs = AiidaMofs(log_name,'mol/kg')\n",
    "molecule = 'CO2'\n",
    "\n",
    "dest_path = \"/home/yutao/project/github/ff_optimizer/dataset/loading_structures/FF\"\n",
    "# Check if the directory exists\n",
    "if not os.path.exists(dest_path):\n",
    "    # If not, create it\n",
    "    os.makedirs(dest_path)\n",
    "    print(f\"Create {dest_path}\")\n",
    "\n",
    "write_structure(CifData, aiida_mofs, dest_path, molecule, 'fromFF', name_way='mofname')\n",
    "\n",
    "dest_path = \"/home/yutao/project/github/ff_optimizer/dataset/loading_structures/DFT\"\n",
    "\n",
    "# Check if the directory exists\n",
    "if not os.path.exists(dest_path):\n",
    "    # If not, create it\n",
    "    os.makedirs(dest_path)\n",
    "    print(f\"Create {dest_path}\")\n",
    "\n",
    "write_structure(StructureData, aiida_mofs, dest_path, molecule, 'fromDFT', name_way='mofname')"
   ]
  },
  {
   "cell_type": "code",
   "execution_count": 3,
   "metadata": {},
   "outputs": [
    {
     "name": "stdout",
     "output_type": "stream",
     "text": [
      "Loading Gas pk: 1133701\n",
      "Structure with loading gas pk: 1133709\n",
      "Loading Gas pk: 1131773\n",
      "Structure with loading gas pk: 1131775\n",
      "Loading Gas pk: 1135737\n",
      "Structure with loading gas pk: 1134882\n",
      "Loading Gas pk: 1134061\n",
      "Structure with loading gas pk: 1133066\n"
     ]
    }
   ],
   "source": [
    "from aiidamof import AiidaMofs\n",
    "\n",
    "log_name = 'UFF_In_n2.log'\n",
    "aiida_mofs = AiidaMofs(log_name,'mol/kg')\n",
    "molecule = 'N2'\n",
    "\n",
    "dest_path = \"/home/yutao/project/github/ff_optimizer/dataset/loading_structures/FF\"\n",
    "# Check if the directory exists\n",
    "if not os.path.exists(dest_path):\n",
    "    # If not, create it\n",
    "    os.makedirs(dest_path)\n",
    "    print(f\"Create {dest_path}\")\n",
    "\n",
    "write_structure(CifData, aiida_mofs, dest_path, molecule, 'fromFF', name_way='mofname')\n",
    "\n",
    "dest_path = \"/home/yutao/project/github/ff_optimizer/dataset/loading_structures/DFT\"\n",
    "\n",
    "# Check if the directory exists\n",
    "if not os.path.exists(dest_path):\n",
    "    # If not, create it\n",
    "    os.makedirs(dest_path)\n",
    "    print(f\"Create {dest_path}\")\n",
    "\n",
    "write_structure(StructureData, aiida_mofs, dest_path, molecule, 'fromDFT', name_way='mofname')"
   ]
  },
  {
   "cell_type": "code",
   "execution_count": null,
   "metadata": {},
   "outputs": [],
   "source": [
    "for aiida_mof in aiida_mofs:\n",
    "    print(aiida_mof.cifname)\n",
    "    print(aiida_mof.mofname)"
   ]
  },
  {
   "cell_type": "code",
   "execution_count": 1,
   "metadata": {},
   "outputs": [
    {
     "ename": "TypeError",
     "evalue": "__init__() got an unexpected keyword argument 'structure'",
     "output_type": "error",
     "traceback": [
      "\u001b[0;31m---------------------------------------------------------------------------\u001b[0m",
      "\u001b[0;31mTypeError\u001b[0m                                 Traceback (most recent call last)",
      "Cell \u001b[0;32mIn[1], line 17\u001b[0m\n\u001b[1;32m     15\u001b[0m \u001b[38;5;66;03m# Convert the StructureData node to a CifData node\u001b[39;00m\n\u001b[1;32m     16\u001b[0m CifData \u001b[38;5;241m=\u001b[39m DataFactory(\u001b[38;5;124m'\u001b[39m\u001b[38;5;124mcif\u001b[39m\u001b[38;5;124m'\u001b[39m)\n\u001b[0;32m---> 17\u001b[0m cif \u001b[38;5;241m=\u001b[39m \u001b[43mCifData\u001b[49m\u001b[43m(\u001b[49m\u001b[43mstructure\u001b[49m\u001b[38;5;241;43m=\u001b[39;49m\u001b[43mnode\u001b[49m\u001b[43m)\u001b[49m\n\u001b[1;32m     19\u001b[0m \u001b[38;5;66;03m# Export the CifData node to a CIF file\u001b[39;00m\n\u001b[1;32m     20\u001b[0m cif_filename \u001b[38;5;241m=\u001b[39m \u001b[38;5;124mf\u001b[39m\u001b[38;5;124m'\u001b[39m\u001b[38;5;132;01m{\u001b[39;00mnode\u001b[38;5;241m.\u001b[39mpk\u001b[38;5;132;01m}\u001b[39;00m\u001b[38;5;124m.cif\u001b[39m\u001b[38;5;124m'\u001b[39m\n",
      "File \u001b[0;32m~/.aiida_venvs/aiida/lib/python3.9/site-packages/aiida/orm/nodes/data/cif.py:286\u001b[0m, in \u001b[0;36mCifData.__init__\u001b[0;34m(self, ase, file, filename, values, scan_type, parse_policy, **kwargs)\u001b[0m\n\u001b[1;32m    283\u001b[0m     \u001b[38;5;28;01mif\u001b[39;00m args[left] \u001b[38;5;129;01mis\u001b[39;00m \u001b[38;5;129;01mnot\u001b[39;00m \u001b[38;5;28;01mNone\u001b[39;00m \u001b[38;5;129;01mand\u001b[39;00m args[right] \u001b[38;5;129;01mis\u001b[39;00m \u001b[38;5;129;01mnot\u001b[39;00m \u001b[38;5;28;01mNone\u001b[39;00m:\n\u001b[1;32m    284\u001b[0m         \u001b[38;5;28;01mraise\u001b[39;00m \u001b[38;5;167;01mValueError\u001b[39;00m(\u001b[38;5;124mf\u001b[39m\u001b[38;5;124m'\u001b[39m\u001b[38;5;124mcannot pass \u001b[39m\u001b[38;5;132;01m{\u001b[39;00mleft\u001b[38;5;132;01m}\u001b[39;00m\u001b[38;5;124m and \u001b[39m\u001b[38;5;132;01m{\u001b[39;00mright\u001b[38;5;132;01m}\u001b[39;00m\u001b[38;5;124m at the same time\u001b[39m\u001b[38;5;124m'\u001b[39m)\n\u001b[0;32m--> 286\u001b[0m \u001b[38;5;28;43msuper\u001b[39;49m\u001b[43m(\u001b[49m\u001b[43m)\u001b[49m\u001b[38;5;241;43m.\u001b[39;49m\u001b[38;5;21;43m__init__\u001b[39;49m\u001b[43m(\u001b[49m\u001b[43mfile\u001b[49m\u001b[43m,\u001b[49m\u001b[43m \u001b[49m\u001b[43mfilename\u001b[49m\u001b[38;5;241;43m=\u001b[39;49m\u001b[43mfilename\u001b[49m\u001b[43m,\u001b[49m\u001b[43m \u001b[49m\u001b[38;5;241;43m*\u001b[39;49m\u001b[38;5;241;43m*\u001b[39;49m\u001b[43mkwargs\u001b[49m\u001b[43m)\u001b[49m\n\u001b[1;32m    287\u001b[0m \u001b[38;5;28mself\u001b[39m\u001b[38;5;241m.\u001b[39mset_scan_type(scan_type \u001b[38;5;129;01mor\u001b[39;00m CifData\u001b[38;5;241m.\u001b[39m_SCAN_TYPE_DEFAULT)\n\u001b[1;32m    288\u001b[0m \u001b[38;5;28mself\u001b[39m\u001b[38;5;241m.\u001b[39mset_parse_policy(parse_policy \u001b[38;5;129;01mor\u001b[39;00m CifData\u001b[38;5;241m.\u001b[39m_PARSE_POLICY_DEFAULT)\n",
      "File \u001b[0;32m~/.aiida_venvs/aiida/lib/python3.9/site-packages/aiida/orm/nodes/data/singlefile.py:47\u001b[0m, in \u001b[0;36mSinglefileData.__init__\u001b[0;34m(self, file, filename, **kwargs)\u001b[0m\n\u001b[1;32m     40\u001b[0m \u001b[38;5;250m\u001b[39m\u001b[38;5;124;03m\"\"\"Construct a new instance and set the contents to that of the file.\u001b[39;00m\n\u001b[1;32m     41\u001b[0m \n\u001b[1;32m     42\u001b[0m \u001b[38;5;124;03m:param file: an absolute filepath or filelike object whose contents to copy.\u001b[39;00m\n\u001b[1;32m     43\u001b[0m \u001b[38;5;124;03m    Hint: Pass io.BytesIO(b\"my string\") to construct the SinglefileData directly from a string.\u001b[39;00m\n\u001b[1;32m     44\u001b[0m \u001b[38;5;124;03m:param filename: specify filename to use (defaults to name of provided file).\u001b[39;00m\n\u001b[1;32m     45\u001b[0m \u001b[38;5;124;03m\"\"\"\u001b[39;00m\n\u001b[1;32m     46\u001b[0m \u001b[38;5;66;03m# pylint: disable=redefined-builtin\u001b[39;00m\n\u001b[0;32m---> 47\u001b[0m \u001b[38;5;28;43msuper\u001b[39;49m\u001b[43m(\u001b[49m\u001b[43m)\u001b[49m\u001b[38;5;241;43m.\u001b[39;49m\u001b[38;5;21;43m__init__\u001b[39;49m\u001b[43m(\u001b[49m\u001b[38;5;241;43m*\u001b[39;49m\u001b[38;5;241;43m*\u001b[39;49m\u001b[43mkwargs\u001b[49m\u001b[43m)\u001b[49m\n\u001b[1;32m     49\u001b[0m \u001b[38;5;28;01mif\u001b[39;00m file \u001b[38;5;129;01mis\u001b[39;00m \u001b[38;5;129;01mnot\u001b[39;00m \u001b[38;5;28;01mNone\u001b[39;00m:\n\u001b[1;32m     50\u001b[0m     \u001b[38;5;28mself\u001b[39m\u001b[38;5;241m.\u001b[39mset_file(file, filename\u001b[38;5;241m=\u001b[39mfilename)\n",
      "File \u001b[0;32m~/.aiida_venvs/aiida/lib/python3.9/site-packages/aiida/orm/nodes/data/data.py:50\u001b[0m, in \u001b[0;36mData.__init__\u001b[0;34m(self, source, *args, **kwargs)\u001b[0m\n\u001b[1;32m     48\u001b[0m \u001b[38;5;28;01mdef\u001b[39;00m \u001b[38;5;21m__init__\u001b[39m(\u001b[38;5;28mself\u001b[39m, \u001b[38;5;241m*\u001b[39margs, source\u001b[38;5;241m=\u001b[39m\u001b[38;5;28;01mNone\u001b[39;00m, \u001b[38;5;241m*\u001b[39m\u001b[38;5;241m*\u001b[39mkwargs):\n\u001b[1;32m     49\u001b[0m \u001b[38;5;250m    \u001b[39m\u001b[38;5;124;03m\"\"\"Construct a new instance, setting the ``source`` attribute if provided as a keyword argument.\"\"\"\u001b[39;00m\n\u001b[0;32m---> 50\u001b[0m     \u001b[38;5;28;43msuper\u001b[39;49m\u001b[43m(\u001b[49m\u001b[43m)\u001b[49m\u001b[38;5;241;43m.\u001b[39;49m\u001b[38;5;21;43m__init__\u001b[39;49m\u001b[43m(\u001b[49m\u001b[38;5;241;43m*\u001b[39;49m\u001b[43margs\u001b[49m\u001b[43m,\u001b[49m\u001b[43m \u001b[49m\u001b[38;5;241;43m*\u001b[39;49m\u001b[38;5;241;43m*\u001b[39;49m\u001b[43mkwargs\u001b[49m\u001b[43m)\u001b[49m\n\u001b[1;32m     51\u001b[0m     \u001b[38;5;28;01mif\u001b[39;00m source \u001b[38;5;129;01mis\u001b[39;00m \u001b[38;5;129;01mnot\u001b[39;00m \u001b[38;5;28;01mNone\u001b[39;00m:\n\u001b[1;32m     52\u001b[0m         \u001b[38;5;28mself\u001b[39m\u001b[38;5;241m.\u001b[39msource \u001b[38;5;241m=\u001b[39m source\n",
      "File \u001b[0;32m~/.aiida_venvs/aiida/lib/python3.9/site-packages/aiida/orm/nodes/node.py:191\u001b[0m, in \u001b[0;36mNode.__init__\u001b[0;34m(self, backend, user, computer, **kwargs)\u001b[0m\n\u001b[1;32m    188\u001b[0m \u001b[38;5;28;01mif\u001b[39;00m user \u001b[38;5;129;01mis\u001b[39;00m \u001b[38;5;28;01mNone\u001b[39;00m:\n\u001b[1;32m    189\u001b[0m     \u001b[38;5;28;01mraise\u001b[39;00m \u001b[38;5;167;01mValueError\u001b[39;00m(\u001b[38;5;124m'\u001b[39m\u001b[38;5;124mthe user cannot be None\u001b[39m\u001b[38;5;124m'\u001b[39m)\n\u001b[0;32m--> 191\u001b[0m backend_entity \u001b[38;5;241m=\u001b[39m \u001b[43mbackend\u001b[49m\u001b[38;5;241;43m.\u001b[39;49m\u001b[43mnodes\u001b[49m\u001b[38;5;241;43m.\u001b[39;49m\u001b[43mcreate\u001b[49m\u001b[43m(\u001b[49m\n\u001b[1;32m    192\u001b[0m \u001b[43m    \u001b[49m\u001b[43mnode_type\u001b[49m\u001b[38;5;241;43m=\u001b[39;49m\u001b[38;5;28;43mself\u001b[39;49m\u001b[38;5;241;43m.\u001b[39;49m\u001b[43mclass_node_type\u001b[49m\u001b[43m,\u001b[49m\u001b[43m \u001b[49m\u001b[43muser\u001b[49m\u001b[38;5;241;43m=\u001b[39;49m\u001b[43muser\u001b[49m\u001b[38;5;241;43m.\u001b[39;49m\u001b[43mbackend_entity\u001b[49m\u001b[43m,\u001b[49m\u001b[43m \u001b[49m\u001b[43mcomputer\u001b[49m\u001b[38;5;241;43m=\u001b[39;49m\u001b[43mbackend_computer\u001b[49m\u001b[43m,\u001b[49m\u001b[43m \u001b[49m\u001b[38;5;241;43m*\u001b[39;49m\u001b[38;5;241;43m*\u001b[39;49m\u001b[43mkwargs\u001b[49m\n\u001b[1;32m    193\u001b[0m \u001b[43m\u001b[49m\u001b[43m)\u001b[49m\n\u001b[1;32m    194\u001b[0m \u001b[38;5;28msuper\u001b[39m()\u001b[38;5;241m.\u001b[39m\u001b[38;5;21m__init__\u001b[39m(backend_entity)\n",
      "File \u001b[0;32m~/.aiida_venvs/aiida/lib/python3.9/site-packages/aiida/orm/implementation/entities.py:95\u001b[0m, in \u001b[0;36mBackendCollection.create\u001b[0;34m(self, **kwargs)\u001b[0m\n\u001b[1;32m     89\u001b[0m \u001b[38;5;28;01mdef\u001b[39;00m \u001b[38;5;21mcreate\u001b[39m(\u001b[38;5;28mself\u001b[39m, \u001b[38;5;241m*\u001b[39m\u001b[38;5;241m*\u001b[39mkwargs: Any) \u001b[38;5;241m-\u001b[39m\u001b[38;5;241m>\u001b[39m EntityType:\n\u001b[1;32m     90\u001b[0m \u001b[38;5;250m    \u001b[39m\u001b[38;5;124;03m\"\"\"\u001b[39;00m\n\u001b[1;32m     91\u001b[0m \u001b[38;5;124;03m    Create new a entry and set the attributes to those specified in the keyword arguments\u001b[39;00m\n\u001b[1;32m     92\u001b[0m \n\u001b[1;32m     93\u001b[0m \u001b[38;5;124;03m    :return: the newly created entry of type ENTITY_CLASS\u001b[39;00m\n\u001b[1;32m     94\u001b[0m \u001b[38;5;124;03m    \"\"\"\u001b[39;00m\n\u001b[0;32m---> 95\u001b[0m     \u001b[38;5;28;01mreturn\u001b[39;00m \u001b[38;5;28;43mself\u001b[39;49m\u001b[38;5;241;43m.\u001b[39;49m\u001b[43mENTITY_CLASS\u001b[49m\u001b[43m(\u001b[49m\u001b[43mbackend\u001b[49m\u001b[38;5;241;43m=\u001b[39;49m\u001b[38;5;28;43mself\u001b[39;49m\u001b[38;5;241;43m.\u001b[39;49m\u001b[43m_backend\u001b[49m\u001b[43m,\u001b[49m\u001b[43m \u001b[49m\u001b[38;5;241;43m*\u001b[39;49m\u001b[38;5;241;43m*\u001b[39;49m\u001b[43mkwargs\u001b[49m\u001b[43m)\u001b[49m\n",
      "\u001b[0;31mTypeError\u001b[0m: __init__() got an unexpected keyword argument 'structure'"
     ]
    }
   ],
   "source": [
    "from aiida.orm import load_node \n",
    "from aiida import load_profile\n",
    "from aiida.plugins import DataFactory\n",
    "from aiida.orm import load_node, QueryBuilder, StructureData, CifData\n",
    "load_profile()\n",
    "pk = 1120335\n",
    "\n",
    "# Load the node using its PK\n",
    "node = load_node(pk)\n",
    "\n",
    "# Make sure the node is a StructureData node\n",
    "if node.node_type != 'data.core.structure.StructureData.':\n",
    "    raise ValueError('Node is not a StructureData node')\n",
    "\n",
    "# Convert the StructureData node to a CifData node\n",
    "CifData = DataFactory('cif')\n",
    "cif = CifData(structure=node)\n",
    "\n",
    "# Export the CifData node to a CIF file\n",
    "cif_filename = f'{node.pk}.cif'\n",
    "cif.export(cif_filename)"
   ]
  },
  {
   "cell_type": "code",
   "execution_count": 9,
   "metadata": {},
   "outputs": [],
   "source": [
    "pk = 1118844\n",
    "\n",
    "\n",
    "# Load the node using its PK\n",
    "node = load_node(pk)\n",
    "\n",
    "ase = node.get_ase()\n"
   ]
  },
  {
   "cell_type": "code",
   "execution_count": 11,
   "metadata": {},
   "outputs": [],
   "source": [
    "pk = 1120121\n",
    "\n",
    "\n",
    "# Load the node using its PK\n",
    "node = load_node(pk)\n",
    "\n",
    "ase = node.get_ase()"
   ]
  },
  {
   "cell_type": "code",
   "execution_count": 31,
   "metadata": {},
   "outputs": [
    {
     "name": "stdout",
     "output_type": "stream",
     "text": [
      "[1120335, 1120121]\n"
     ]
    }
   ],
   "source": [
    "from aiida.orm import load_node, QueryBuilder, StructureData\n",
    "\n",
    "# Load the process node\n",
    "process_node = load_node(1115912)\n",
    "\n",
    "# Initialize a query builder\n",
    "qb = QueryBuilder()\n",
    "# Append the process node to the query\n",
    "qb.append(type(process_node), filters={'id': process_node.id}, tag='process')\n",
    "# Append StructureData nodes that are output of the process node\n",
    "qb.append(StructureData, with_incoming='process')\n",
    "\n",
    "# Get the results\n",
    "results = qb.all()\n",
    "\n",
    "# Extract the PKs\n",
    "pks = [result[0].pk for result in results]\n",
    "\n",
    "print(pks)"
   ]
  },
  {
   "cell_type": "code",
   "execution_count": 35,
   "metadata": {},
   "outputs": [
    {
     "data": {
      "text/plain": [
       "Atoms(symbols='N2', pbc=True, cell=[[21.227690218308, 0.0, -0.028979987261474], [-0.005942158971043, 21.228556683897, -0.010270488773248], [0.0, 0.0, 10.66746]], masses=...)"
      ]
     },
     "execution_count": 35,
     "metadata": {},
     "output_type": "execute_result"
    }
   ],
   "source": [
    "results[0][0].get_ase()"
   ]
  },
  {
   "cell_type": "code",
   "execution_count": 15,
   "metadata": {},
   "outputs": [
    {
     "name": "stdout",
     "output_type": "stream",
     "text": [
      "[1118842, 1118844]\n"
     ]
    }
   ],
   "source": [
    "from aiida.orm import load_node, QueryBuilder, CifData\n",
    "\n",
    "# Load the process node\n",
    "process_node = load_node(1115912)\n",
    "\n",
    "# Initialize a query builder\n",
    "qb = QueryBuilder()\n",
    "\n",
    "# Append the process node to the query\n",
    "qb.append(type(process_node), filters={'id': process_node.id}, tag='process')\n",
    "\n",
    "# Append StructureData nodes that are output of the process node\n",
    "qb.append(CifData, with_incoming='process')\n",
    "\n",
    "# Get the results\n",
    "results = qb.all()\n",
    "\n",
    "# Extract the PKs\n",
    "pks = [result[0].pk for result in results]\n",
    "\n",
    "print(pks)\n",
    "print(pks.describe())"
   ]
  },
  {
   "cell_type": "code",
   "execution_count": 20,
   "metadata": {},
   "outputs": [
    {
     "ename": "AttributeError",
     "evalue": "'list' object has no attribute 'description'",
     "output_type": "error",
     "traceback": [
      "\u001b[0;31m---------------------------------------------------------------------------\u001b[0m",
      "\u001b[0;31mAttributeError\u001b[0m                            Traceback (most recent call last)",
      "Cell \u001b[0;32mIn[20], line 1\u001b[0m\n\u001b[0;32m----> 1\u001b[0m \u001b[43mresults\u001b[49m\u001b[43m[\u001b[49m\u001b[38;5;241;43m0\u001b[39;49m\u001b[43m]\u001b[49m\u001b[38;5;241;43m.\u001b[39;49m\u001b[43mdescription\u001b[49m\n",
      "\u001b[0;31mAttributeError\u001b[0m: 'list' object has no attribute 'description'"
     ]
    }
   ],
   "source": [
    "results[0].description"
   ]
  },
  {
   "cell_type": "code",
   "execution_count": 24,
   "metadata": {},
   "outputs": [
    {
     "data": {
      "text/plain": [
       "1118842"
      ]
     },
     "execution_count": 24,
     "metadata": {},
     "output_type": "execute_result"
    }
   ],
   "source": [
    "results[0][0].pk"
   ]
  },
  {
   "cell_type": "code",
   "execution_count": 25,
   "metadata": {},
   "outputs": [
    {
     "data": {
      "text/plain": [
       "''"
      ]
     },
     "execution_count": 25,
     "metadata": {},
     "output_type": "execute_result"
    }
   ],
   "source": [
    "results[0][0].description"
   ]
  },
  {
   "cell_type": "code",
   "execution_count": 26,
   "metadata": {},
   "outputs": [
    {
     "name": "stdout",
     "output_type": "stream",
     "text": [
      "uuid: 20168be0-639b-4173-872f-cbc55311fd95 (pk: 1118842)\n"
     ]
    }
   ],
   "source": [
    "print(results[0][0])"
   ]
  },
  {
   "cell_type": "code",
   "execution_count": 12,
   "metadata": {},
   "outputs": [
    {
     "data": {
      "text/plain": [
       "Atoms(symbols='C96H48Al16N2O96', pbc=True, cell=[[21.227690218308, 0.0, -0.028979987261474], [-0.005942158971043, 21.228556683897, -0.010270488773248], [0.0, 0.0, 10.66746]], masses=...)"
      ]
     },
     "execution_count": 12,
     "metadata": {},
     "output_type": "execute_result"
    }
   ],
   "source": [
    "ase"
   ]
  },
  {
   "cell_type": "code",
   "execution_count": 5,
   "metadata": {},
   "outputs": [
    {
     "data": {
      "text/plain": [
       "'data.core.structure.StructureData.'"
      ]
     },
     "execution_count": 5,
     "metadata": {},
     "output_type": "execute_result"
    }
   ],
   "source": [
    "node.node_type"
   ]
  },
  {
   "cell_type": "code",
   "execution_count": 10,
   "metadata": {},
   "outputs": [
    {
     "data": {
      "text/plain": [
       "Atoms(symbols='C96H48Al16N2O96', pbc=True, cell=[[21.22771, 0.0, 0.0], [-0.005928132202268788, 21.228559172276594, 0.0], [-0.014563174968580336, -0.005165040156788472, 10.667448808777802]], spacegroup_kinds=..., tags=...)"
      ]
     },
     "execution_count": 10,
     "metadata": {},
     "output_type": "execute_result"
    }
   ],
   "source": [
    "ase"
   ]
  }
 ],
 "metadata": {
  "kernelspec": {
   "display_name": "aiida",
   "language": "python",
   "name": "python3"
  },
  "language_info": {
   "codemirror_mode": {
    "name": "ipython",
    "version": 3
   },
   "file_extension": ".py",
   "mimetype": "text/x-python",
   "name": "python",
   "nbconvert_exporter": "python",
   "pygments_lexer": "ipython3",
   "version": "3.9.18"
  }
 },
 "nbformat": 4,
 "nbformat_minor": 2
}
