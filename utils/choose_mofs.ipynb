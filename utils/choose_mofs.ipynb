{
 "cells": [
  {
   "cell_type": "code",
   "execution_count": null,
   "metadata": {},
   "outputs": [],
   "source": [
    "'''\n",
    "1. This is a basic counter for acconting how many MOFs with a certain chemical symbols exist in my database.\n",
    "2. This is a effective way to construct a csv file which contain all MOFs I choose\n",
    "3. This is a workchain to collect experimental isotherms for my database\n",
    "'''"
   ]
  },
  {
   "cell_type": "code",
   "execution_count": 5,
   "metadata": {},
   "outputs": [],
   "source": [
    "import numpy as np\n",
    "# generate isotherms with pressure in bar and loading in cm^3/g, rank the isotherm from low pressures to high.\n",
    "def transfer_isotherms_unit(inputfile, outputfile, pressure, loading):\n",
    "    data = np.loadtxt(inputfile, delimiter=',')\n",
    "    data = np.atleast_2d(data)\n",
    "    if pressure == \"torr\":\n",
    "        Transfer_unit1 = 1/760\n",
    "    elif pressure == \"bar\":\n",
    "        Transfer_unit1 = 1\n",
    "    elif pressure == \"mbar\":\n",
    "        Transfer_unit1 = 1/1000\n",
    "    elif pressure == \"Pa\":\n",
    "        Transfer_unit1 = 1/1e5\n",
    "    elif pressure == \"atm\":\n",
    "        Transfer_unit1 = 1.01325\n",
    "    elif pressure == \"saturation toluene\":\n",
    "        Transfer_unit1 = 28.6/760 # saturation pressure of toluene is 28.6 torr \n",
    "    else:\n",
    "        raise ValueError(\"The pressure unit is not supported\")\n",
    "    if loading == \"wt%\":# only work for CO2\n",
    "        Transfer_unit2 = 1000*22.4/44.01/100\n",
    "    elif loading == \"cm^3/g\":\n",
    "        Transfer_unit2 = 1\n",
    "    elif loading == \"mol/kg\":\n",
    "        Transfer_unit2 = 22.4\n",
    "    elif loading == \"mg/g\":# only work for CO2\n",
    "        Transfer_unit2 = 22.4/44.01\n",
    "    else:\n",
    "        raise ValueError(\"The loading unit is not supported\")\n",
    "    data[:,0] = data[:,0]*Transfer_unit1\n",
    "    data[:,1] = data[:,1]*Transfer_unit2\n",
    "    indices = np.argsort(data[:, 0])\n",
    "    data = data[indices]\n",
    "    np.savetxt(outputfile, data, delimiter=',')\n",
    "\n",
    "path0 = \"/home/yutao/project/toluene_adsobent/MIL-53-muc/mil53_muc_298K.csv\"\n",
    "path1 = \"/home/yutao/project/toluene_adsobent/MIL-53-muc/298K.csv\"\n",
    "#transfer_isotherms_unit(path0, path1, \"torr\", \"wt%\")\n",
    "transfer_isotherms_unit(path0, path1, \"saturation toluene\", \"mol/kg\")\n"
   ]
  },
  {
   "cell_type": "code",
   "execution_count": 3,
   "metadata": {},
   "outputs": [
    {
     "data": {
      "text/plain": [
       "0.019801736842105264"
      ]
     },
     "execution_count": 3,
     "metadata": {},
     "output_type": "execute_result"
    }
   ],
   "source": [
    "28.6/760*0.5262"
   ]
  },
  {
   "cell_type": "code",
   "execution_count": 6,
   "metadata": {},
   "outputs": [],
   "source": [
    "path0 = \"/home/yutao/project/github/ff_optimizer/dataset/Al-MOF/MFM-300/298_origin.csv\"\n",
    "path1 = \"/home/yutao/project/github/ff_optimizer/dataset/Al-MOF/Al-NDC-OH/298K.csv\"\n",
    "#transfer_isotherms_unit(path0, path1, \"torr\", \"wt%\")\n",
    "transfer_isotherms_unit(path0, path1, \"torr\", \"cm^3/g\")"
   ]
  },
  {
   "cell_type": "code",
   "execution_count": 2,
   "metadata": {},
   "outputs": [],
   "source": [
    "import pandas as pd\n",
    "path = \"/home/yutao/dataset/RSM_MCHO.csv\"\n",
    "data = pd.read_csv(path)\n",
    "data['Formula'] = data['Formula'].str.replace(' ', '')"
   ]
  },
  {
   "cell_type": "code",
   "execution_count": 3,
   "metadata": {},
   "outputs": [
    {
     "data": {
      "text/plain": [
       "0        C96H56O56Zn16\n",
       "1        C72H24O52Zn12\n",
       "2       C132H180K12O28\n",
       "3          C36H12O24Y4\n",
       "4      C198H144Cd12O72\n",
       "            ...       \n",
       "829      C120H80Ca4O16\n",
       "830      C80H16O64Zn16\n",
       "831    C320H176Gd12O64\n",
       "832      C24H24Mn12O48\n",
       "833       C68H24Cd6O36\n",
       "Name: Formula, Length: 834, dtype: object"
      ]
     },
     "execution_count": 3,
     "metadata": {},
     "output_type": "execute_result"
    }
   ],
   "source": [
    "data['Formula'] "
   ]
  },
  {
   "cell_type": "code",
   "execution_count": 2,
   "metadata": {},
   "outputs": [
    {
     "name": "stdout",
     "output_type": "stream",
     "text": [
      "Create /home/yutao/project/Y-MOF/NJU-Bai11\n"
     ]
    }
   ],
   "source": [
    "# this part is in order to generate the RSM list for the selected element\n",
    "import os\n",
    "import subprocess\n",
    "import pandas as pd\n",
    "picked_element = 'Y'\n",
    "outputpath = f\"/home/yutao/dataset/RSM_{picked_element}.csv\"\n",
    "outputdir = f\"/home/yutao/project/{picked_element}-MOF\"\n",
    "path = \"/home/yutao/dataset/RSM_database/RSM_database/cifs\"\n",
    "data = pd.read_csv(outputpath)\n",
    "\n",
    "# Check if the directory exists\n",
    "if not os.path.exists(outputdir):\n",
    "    # If not, create it\n",
    "    os.makedirs(outputdir)\n",
    "    print(f\"Create {outputdir}\")\n",
    "\n",
    "for index, choice in enumerate(data['Usage']):\n",
    "    if isinstance(choice, str)  and 'yes' in choice.lower():\n",
    "        synonyms = data['Synonyms'][index]\n",
    "        if isinstance(synonyms, str)  and 'no' not in synonyms.lower():\n",
    "            dirname = synonyms\n",
    "        else:\n",
    "            dirname = data['CSD_label'][index]\n",
    "        structure_dir = os.path.join(outputdir, dirname)\n",
    "        if not os.path.exists(structure_dir):\n",
    "            print(f\"Create {structure_dir}\")\n",
    "            os.makedirs(structure_dir)\n",
    "            cif_file = os.path.join(path,data['cif.label'][index]+\".cif\")\n",
    "            subprocess.run([\"cp\", cif_file, structure_dir])"
   ]
  },
  {
   "cell_type": "code",
   "execution_count": 1,
   "metadata": {},
   "outputs": [
    {
     "name": "stdout",
     "output_type": "stream",
     "text": [
      "Create /home/yutao/project/Y-MOF/Y-BTC\n"
     ]
    }
   ],
   "source": [
    "# this part is in order to generate the RSM list for the selected element\n",
    "import os\n",
    "import subprocess\n",
    "import pandas as pd\n",
    "picked_element = 'Y'\n",
    "outputpath = f\"/home/yutao/dataset/extra_{picked_element}.csv\"\n",
    "outputdir = f\"/home/yutao/project/{picked_element}-MOF\"\n",
    "path = \"/home/yutao/dataset/CoRE/structures/\"\n",
    "data = pd.read_csv(outputpath)\n",
    "\n",
    "# Check if the directory exists\n",
    "if not os.path.exists(outputdir):\n",
    "    # If not, create it\n",
    "    os.makedirs(outputdir)\n",
    "    print(f\"Create {outputdir}\")\n",
    "\n",
    "for index, choice in enumerate(data['Usage']):\n",
    "    if isinstance(choice, str)  and 'yes' in choice.lower():\n",
    "        synonyms = data['Synonyms'][index]\n",
    "        if isinstance(synonyms, str)  and 'no' not in synonyms.lower():\n",
    "            dirname = synonyms\n",
    "        else:\n",
    "            dirname = data['CSD_label'][index]\n",
    "        structure_dir = os.path.join(outputdir, dirname)\n",
    "        if not os.path.exists(structure_dir):\n",
    "            print(f\"Create {structure_dir}\")\n",
    "            os.makedirs(structure_dir)\n",
    "            cif_file = os.path.join(path,data['MOFname'][index]+\".cif\")\n",
    "            subprocess.run([\"cp\", cif_file, structure_dir])"
   ]
  },
  {
   "cell_type": "code",
   "execution_count": 9,
   "metadata": {},
   "outputs": [
    {
     "name": "stdout",
     "output_type": "stream",
     "text": [
      "Create /home/yutao/project/binding_energy/Ca-MOF/KIXXOG\n",
      "Create /home/yutao/project/binding_energy/Ca-MOF/POMSOB\n",
      "Create /home/yutao/project/binding_energy/Ca-MOF/YOQYEK\n"
     ]
    }
   ],
   "source": [
    "# this part is in order to generate the RSM list for the selected element\n",
    "import os\n",
    "import subprocess\n",
    "import pandas as pd\n",
    "picked_element = 'Ca'\n",
    "outputpath = f\"/home/yutao/project/binding_energy/extra_{picked_element}_extend.csv\"\n",
    "outputdir = f\"/home/yutao/project/binding_energy/{picked_element}-MOF\"\n",
    "path = \"/home/yutao/dataset/CoRE/structures/\"\n",
    "data = pd.read_csv(outputpath)\n",
    "\n",
    "# Check if the directory exists\n",
    "if not os.path.exists(outputdir):\n",
    "    # If not, create it\n",
    "    os.makedirs(outputdir)\n",
    "    print(f\"Create {outputdir}\")\n",
    "\n",
    "for index, choice in enumerate(data['Usage']):\n",
    "    if isinstance(choice, str)  and 'yes' in choice.lower():\n",
    "        synonyms = data['Synonyms'][index]\n",
    "        if isinstance(synonyms, str)  and 'no' not in synonyms.lower():\n",
    "            dirname = synonyms\n",
    "        else:\n",
    "            dirname = data['CSD_label'][index]\n",
    "        structure_dir = os.path.join(outputdir, dirname)\n",
    "        if not os.path.exists(structure_dir):\n",
    "            print(f\"Create {structure_dir}\")\n",
    "            os.makedirs(structure_dir)\n",
    "            cif_file = os.path.join(path,data['MOFname'][index]+\".cif\")\n",
    "            subprocess.run([\"cp\", cif_file, structure_dir])"
   ]
  },
  {
   "cell_type": "code",
   "execution_count": 13,
   "metadata": {},
   "outputs": [
    {
     "name": "stdout",
     "output_type": "stream",
     "text": [
      "Create /home/yutao/project/binding_energy/Sr-MOF/KIYMAI01\n",
      "Create /home/yutao/project/binding_energy/Sr-MOF/Sc-BTC\n",
      "Create /home/yutao/project/binding_energy/Sr-MOF/NOCLOH01\n",
      "Create /home/yutao/project/binding_energy/Sr-MOF/NOCLUN\n",
      "Create /home/yutao/project/binding_energy/Sr-MOF/ECEDAU\n"
     ]
    }
   ],
   "source": [
    "# this part is in order to generate the RSM list for the selected element\n",
    "import os\n",
    "import subprocess\n",
    "import pandas as pd\n",
    "picked_element = 'Sr'\n",
    "outputpath = f\"/home/yutao/project/binding_energy/RSM_{picked_element}_extend.csv\"\n",
    "outputdir = f\"/home/yutao/project/binding_energy/{picked_element}-MOF\"\n",
    "path = \"/home/yutao/dataset/RSM_database/RSM_database/cifs\"\n",
    "data = pd.read_csv(outputpath)\n",
    "\n",
    "# Check if the directory exists\n",
    "if not os.path.exists(outputdir):\n",
    "    # If not, create it\n",
    "    os.makedirs(outputdir)\n",
    "    print(f\"Create {outputdir}\")\n",
    "\n",
    "for index, choice in enumerate(data['Usage']):\n",
    "    if isinstance(choice, str)  and 'yes' in choice.lower():\n",
    "        synonyms = data['Synonyms'][index]\n",
    "        if isinstance(synonyms, str)  and 'no' not in synonyms.lower():\n",
    "            dirname = synonyms\n",
    "        else:\n",
    "            dirname = data['CSD_label'][index]\n",
    "        structure_dir = os.path.join(outputdir, dirname)\n",
    "        if not os.path.exists(structure_dir):\n",
    "            print(f\"Create {structure_dir}\")\n",
    "            os.makedirs(structure_dir)\n",
    "            cif_file = os.path.join(path,data['cif.label'][index]+\".cif\")\n",
    "            subprocess.run([\"cp\", cif_file, structure_dir])"
   ]
  },
  {
   "cell_type": "code",
   "execution_count": 6,
   "metadata": {},
   "outputs": [
    {
     "data": {
      "text/html": [
       "<div>\n",
       "<style scoped>\n",
       "    .dataframe tbody tr th:only-of-type {\n",
       "        vertical-align: middle;\n",
       "    }\n",
       "\n",
       "    .dataframe tbody tr th {\n",
       "        vertical-align: top;\n",
       "    }\n",
       "\n",
       "    .dataframe thead th {\n",
       "        text-align: right;\n",
       "    }\n",
       "</style>\n",
       "<table border=\"1\" class=\"dataframe\">\n",
       "  <thead>\n",
       "    <tr style=\"text-align: right;\">\n",
       "      <th></th>\n",
       "      <th>MOFname</th>\n",
       "      <th>CSD_label</th>\n",
       "      <th>Formula</th>\n",
       "    </tr>\n",
       "  </thead>\n",
       "  <tbody>\n",
       "    <tr>\n",
       "      <th>0</th>\n",
       "      <td>NADZID_clean</td>\n",
       "      <td>NADZID</td>\n",
       "      <td>C36H12O24Y4</td>\n",
       "    </tr>\n",
       "    <tr>\n",
       "      <th>1</th>\n",
       "      <td>LAGNEO_clean</td>\n",
       "      <td>LAGNEO</td>\n",
       "      <td>C24H12O12Y2</td>\n",
       "    </tr>\n",
       "    <tr>\n",
       "      <th>2</th>\n",
       "      <td>ZAFXAI_clean</td>\n",
       "      <td>ZAFXAI</td>\n",
       "      <td>C96H48O128Y24</td>\n",
       "    </tr>\n",
       "    <tr>\n",
       "      <th>3</th>\n",
       "      <td>LAGNAK_clean</td>\n",
       "      <td>LAGNAK</td>\n",
       "      <td>C24H12O12Y2</td>\n",
       "    </tr>\n",
       "    <tr>\n",
       "      <th>4</th>\n",
       "      <td>LAVSUY_clean</td>\n",
       "      <td>LAVSUY</td>\n",
       "      <td>C36H12O24Y4</td>\n",
       "    </tr>\n",
       "  </tbody>\n",
       "</table>\n",
       "</div>"
      ],
      "text/plain": [
       "        MOFname CSD_label        Formula\n",
       "0  NADZID_clean    NADZID    C36H12O24Y4\n",
       "1  LAGNEO_clean    LAGNEO    C24H12O12Y2\n",
       "2  ZAFXAI_clean    ZAFXAI  C96H48O128Y24\n",
       "3  LAGNAK_clean    LAGNAK    C24H12O12Y2\n",
       "4  LAVSUY_clean    LAVSUY    C36H12O24Y4"
      ]
     },
     "execution_count": 6,
     "metadata": {},
     "output_type": "execute_result"
    }
   ],
   "source": [
    "data"
   ]
  },
  {
   "cell_type": "code",
   "execution_count": null,
   "metadata": {},
   "outputs": [],
   "source": [
    "# this part is in order to generate the RSM list for the selected element\n",
    "import os\n",
    "import subprocess\n",
    "import pandas as pd\n",
    "\n",
    "def createdict(outputcsv, outputdir, datadir, filename):\n",
    "    \n"
   ]
  },
  {
   "cell_type": "code",
   "execution_count": null,
   "metadata": {},
   "outputs": [],
   "source": [
    "# this part is in order to generate the RSM list for the selected element\n",
    "import os\n",
    "import subprocess\n",
    "import pandas as pd\n",
    "picked_element = 'Ga'\n",
    "outputpath = f\"/home/yutao/dataset/RSM_{picked_element}.csv\"\n",
    "outputdir = f\"/home/yutao/project/{picked_element}-MOF\"\n",
    "path = \"/home/yutao/dataset/RSM_database/RSM_database/cifs\"\n",
    "data = pd.read_csv(outputpath)\n",
    "\n",
    "# Check if the directory exists\n",
    "if not os.path.exists(outputdir):\n",
    "    # If not, create it\n",
    "    os.makedirs(outputdir)\n",
    "    print(f\"Create {outputdir}\")\n",
    "\n",
    "for index, choice in enumerate(data['Usage']):\n",
    "    if isinstance(choice, str)  and 'yes' in choice.lower():\n",
    "        synonyms = data['Synonyms'][index]\n",
    "        if isinstance(synonyms, str)  and 'no' not in synonyms.lower():\n",
    "            dirname = synonyms\n",
    "        else:\n",
    "            dirname = data['CSD_label'][index]\n",
    "        structure_dir = os.path.join(outputdir, dirname)\n",
    "        if not os.path.exists(structure_dir):\n",
    "            print(f\"Create {structure_dir}\")\n",
    "            os.makedirs(structure_dir)\n",
    "            cif_file = os.path.join(path,data['cif.label'][index]+\".cif\")\n",
    "            subprocess.run([\"cp\", cif_file, structure_dir])\n"
   ]
  },
  {
   "cell_type": "code",
   "execution_count": null,
   "metadata": {},
   "outputs": [],
   "source": [
    "def read_mof_csv(file_path):\n",
    "    '''\n",
    "    Read the csv file to get the mof information\n",
    "    '''\n",
    "    import pandas as pd\n",
    "    mof_df = pd.read_csv(file_path)\n",
    "    return mof_df"
   ]
  },
  {
   "cell_type": "code",
   "execution_count": 1,
   "metadata": {},
   "outputs": [
    {
     "ename": "KeyboardInterrupt",
     "evalue": "",
     "output_type": "error",
     "traceback": [
      "\u001b[0;31m---------------------------------------------------------------------------\u001b[0m",
      "\u001b[0;31mKeyboardInterrupt\u001b[0m                         Traceback (most recent call last)",
      "Cell \u001b[0;32mIn[1], line 18\u001b[0m\n\u001b[1;32m     16\u001b[0m \u001b[38;5;28;01mif\u001b[39;00m \u001b[38;5;129;01mnot\u001b[39;00m os\u001b[38;5;241m.\u001b[39mpath\u001b[38;5;241m.\u001b[39mexists(cif_file):\n\u001b[1;32m     17\u001b[0m     \u001b[38;5;28;01mcontinue\u001b[39;00m\n\u001b[0;32m---> 18\u001b[0m atoms \u001b[38;5;241m=\u001b[39m \u001b[43mread\u001b[49m\u001b[43m(\u001b[49m\u001b[43mcif_file\u001b[49m\u001b[43m)\u001b[49m\n\u001b[1;32m     19\u001b[0m \u001b[38;5;28;01mif\u001b[39;00m picked_element \u001b[38;5;129;01min\u001b[39;00m atoms\u001b[38;5;241m.\u001b[39msymbols \u001b[38;5;129;01mand\u001b[39;00m \u001b[38;5;28mlen\u001b[39m(\u001b[38;5;28mset\u001b[39m(atoms\u001b[38;5;241m.\u001b[39msymbols)) \u001b[38;5;241m==\u001b[39m \u001b[38;5;241m5\u001b[39m \u001b[38;5;129;01mand\u001b[39;00m \u001b[38;5;124m'\u001b[39m\u001b[38;5;124mN\u001b[39m\u001b[38;5;124m'\u001b[39m \u001b[38;5;129;01mnot\u001b[39;00m \u001b[38;5;129;01min\u001b[39;00m atoms\u001b[38;5;241m.\u001b[39msymbols:\n\u001b[1;32m     20\u001b[0m     formula_string \u001b[38;5;241m=\u001b[39m atoms\u001b[38;5;241m.\u001b[39mget_chemical_formula()\n",
      "File \u001b[0;32m~/.aiida_venvs/aiida/lib/python3.9/site-packages/ase/io/formats.py:736\u001b[0m, in \u001b[0;36mread\u001b[0;34m(filename, index, format, parallel, do_not_split_by_at_sign, **kwargs)\u001b[0m\n\u001b[1;32m    733\u001b[0m     \u001b[38;5;28;01mreturn\u001b[39;00m \u001b[38;5;28mlist\u001b[39m(_iread(filename, index, \u001b[38;5;28mformat\u001b[39m, io, parallel\u001b[38;5;241m=\u001b[39mparallel,\n\u001b[1;32m    734\u001b[0m                        \u001b[38;5;241m*\u001b[39m\u001b[38;5;241m*\u001b[39mkwargs))\n\u001b[1;32m    735\u001b[0m \u001b[38;5;28;01melse\u001b[39;00m:\n\u001b[0;32m--> 736\u001b[0m     \u001b[38;5;28;01mreturn\u001b[39;00m \u001b[38;5;28;43mnext\u001b[39;49m\u001b[43m(\u001b[49m\u001b[43m_iread\u001b[49m\u001b[43m(\u001b[49m\u001b[43mfilename\u001b[49m\u001b[43m,\u001b[49m\u001b[43m \u001b[49m\u001b[38;5;28;43mslice\u001b[39;49m\u001b[43m(\u001b[49m\u001b[43mindex\u001b[49m\u001b[43m,\u001b[49m\u001b[43m \u001b[49m\u001b[38;5;28;43;01mNone\u001b[39;49;00m\u001b[43m)\u001b[49m\u001b[43m,\u001b[49m\u001b[43m \u001b[49m\u001b[38;5;28;43mformat\u001b[39;49m\u001b[43m,\u001b[49m\u001b[43m \u001b[49m\u001b[43mio\u001b[49m\u001b[43m,\u001b[49m\n\u001b[1;32m    737\u001b[0m \u001b[43m                       \u001b[49m\u001b[43mparallel\u001b[49m\u001b[38;5;241;43m=\u001b[39;49m\u001b[43mparallel\u001b[49m\u001b[43m,\u001b[49m\u001b[43m \u001b[49m\u001b[38;5;241;43m*\u001b[39;49m\u001b[38;5;241;43m*\u001b[39;49m\u001b[43mkwargs\u001b[49m\u001b[43m)\u001b[49m\u001b[43m)\u001b[49m\n",
      "File \u001b[0;32m~/.aiida_venvs/aiida/lib/python3.9/site-packages/ase/parallel.py:275\u001b[0m, in \u001b[0;36mparallel_generator.<locals>.new_generator\u001b[0;34m(*args, **kwargs)\u001b[0m\n\u001b[1;32m    269\u001b[0m \u001b[38;5;129m@functools\u001b[39m\u001b[38;5;241m.\u001b[39mwraps(generator)\n\u001b[1;32m    270\u001b[0m \u001b[38;5;28;01mdef\u001b[39;00m \u001b[38;5;21mnew_generator\u001b[39m(\u001b[38;5;241m*\u001b[39margs, \u001b[38;5;241m*\u001b[39m\u001b[38;5;241m*\u001b[39mkwargs):\n\u001b[1;32m    271\u001b[0m     \u001b[38;5;28;01mif\u001b[39;00m (world\u001b[38;5;241m.\u001b[39msize \u001b[38;5;241m==\u001b[39m \u001b[38;5;241m1\u001b[39m \u001b[38;5;129;01mor\u001b[39;00m\n\u001b[1;32m    272\u001b[0m         args \u001b[38;5;129;01mand\u001b[39;00m \u001b[38;5;28mgetattr\u001b[39m(args[\u001b[38;5;241m0\u001b[39m], \u001b[38;5;124m'\u001b[39m\u001b[38;5;124mserial\u001b[39m\u001b[38;5;124m'\u001b[39m, \u001b[38;5;28;01mFalse\u001b[39;00m) \u001b[38;5;129;01mor\u001b[39;00m\n\u001b[1;32m    273\u001b[0m         \u001b[38;5;129;01mnot\u001b[39;00m kwargs\u001b[38;5;241m.\u001b[39mpop(\u001b[38;5;124m'\u001b[39m\u001b[38;5;124mparallel\u001b[39m\u001b[38;5;124m'\u001b[39m, \u001b[38;5;28;01mTrue\u001b[39;00m)):\n\u001b[1;32m    274\u001b[0m         \u001b[38;5;66;03m# Disable:\u001b[39;00m\n\u001b[0;32m--> 275\u001b[0m         \u001b[38;5;28;01mfor\u001b[39;00m result \u001b[38;5;129;01min\u001b[39;00m generator(\u001b[38;5;241m*\u001b[39margs, \u001b[38;5;241m*\u001b[39m\u001b[38;5;241m*\u001b[39mkwargs):\n\u001b[1;32m    276\u001b[0m             \u001b[38;5;28;01myield\u001b[39;00m result\n\u001b[1;32m    277\u001b[0m         \u001b[38;5;28;01mreturn\u001b[39;00m\n",
      "File \u001b[0;32m~/.aiida_venvs/aiida/lib/python3.9/site-packages/ase/io/formats.py:803\u001b[0m, in \u001b[0;36m_iread\u001b[0;34m(filename, index, format, io, parallel, full_output, **kwargs)\u001b[0m\n\u001b[1;32m    801\u001b[0m \u001b[38;5;66;03m# Make sure fd is closed in case loop doesn't finish:\u001b[39;00m\n\u001b[1;32m    802\u001b[0m \u001b[38;5;28;01mtry\u001b[39;00m:\n\u001b[0;32m--> 803\u001b[0m     \u001b[38;5;28;01mfor\u001b[39;00m dct \u001b[38;5;129;01min\u001b[39;00m io\u001b[38;5;241m.\u001b[39mread(fd, \u001b[38;5;241m*\u001b[39margs, \u001b[38;5;241m*\u001b[39m\u001b[38;5;241m*\u001b[39mkwargs):\n\u001b[1;32m    804\u001b[0m         \u001b[38;5;28;01mif\u001b[39;00m \u001b[38;5;129;01mnot\u001b[39;00m \u001b[38;5;28misinstance\u001b[39m(dct, \u001b[38;5;28mdict\u001b[39m):\n\u001b[1;32m    805\u001b[0m             dct \u001b[38;5;241m=\u001b[39m {\u001b[38;5;124m'\u001b[39m\u001b[38;5;124matoms\u001b[39m\u001b[38;5;124m'\u001b[39m: dct}\n",
      "File \u001b[0;32m~/.aiida_venvs/aiida/lib/python3.9/site-packages/ase/io/cif.py:608\u001b[0m, in \u001b[0;36mread_cif\u001b[0;34m(fileobj, index, store_tags, primitive_cell, subtrans_included, fractional_occupancies, reader)\u001b[0m\n\u001b[1;32m    605\u001b[0m     \u001b[38;5;28;01mif\u001b[39;00m \u001b[38;5;129;01mnot\u001b[39;00m block\u001b[38;5;241m.\u001b[39mhas_structure():\n\u001b[1;32m    606\u001b[0m         \u001b[38;5;28;01mcontinue\u001b[39;00m\n\u001b[0;32m--> 608\u001b[0m     atoms \u001b[38;5;241m=\u001b[39m \u001b[43mblock\u001b[49m\u001b[38;5;241;43m.\u001b[39;49m\u001b[43mget_atoms\u001b[49m\u001b[43m(\u001b[49m\n\u001b[1;32m    609\u001b[0m \u001b[43m        \u001b[49m\u001b[43mstore_tags\u001b[49m\u001b[43m,\u001b[49m\u001b[43m \u001b[49m\u001b[43mprimitive_cell\u001b[49m\u001b[43m,\u001b[49m\n\u001b[1;32m    610\u001b[0m \u001b[43m        \u001b[49m\u001b[43msubtrans_included\u001b[49m\u001b[43m,\u001b[49m\n\u001b[1;32m    611\u001b[0m \u001b[43m        \u001b[49m\u001b[43mfractional_occupancies\u001b[49m\u001b[38;5;241;43m=\u001b[39;49m\u001b[43mfractional_occupancies\u001b[49m\u001b[43m)\u001b[49m\n\u001b[1;32m    612\u001b[0m     images\u001b[38;5;241m.\u001b[39mappend(atoms)\n\u001b[1;32m    614\u001b[0m \u001b[38;5;28;01mfor\u001b[39;00m atoms \u001b[38;5;129;01min\u001b[39;00m images[index]:\n",
      "File \u001b[0;32m~/.aiida_venvs/aiida/lib/python3.9/site-packages/ase/io/cif.py:477\u001b[0m, in \u001b[0;36mCIFBlock.get_atoms\u001b[0;34m(self, store_tags, primitive_cell, subtrans_included, fractional_occupancies)\u001b[0m\n\u001b[1;32m    475\u001b[0m \u001b[38;5;28;01mif\u001b[39;00m cell\u001b[38;5;241m.\u001b[39mrank \u001b[38;5;241m==\u001b[39m \u001b[38;5;241m3\u001b[39m:\n\u001b[1;32m    476\u001b[0m     spacegroup \u001b[38;5;241m=\u001b[39m \u001b[38;5;28mself\u001b[39m\u001b[38;5;241m.\u001b[39mget_spacegroup(subtrans_included)\n\u001b[0;32m--> 477\u001b[0m     atoms \u001b[38;5;241m=\u001b[39m \u001b[43mcrystal\u001b[49m\u001b[43m(\u001b[49m\u001b[43munsymmetrized_structure\u001b[49m\u001b[43m,\u001b[49m\n\u001b[1;32m    478\u001b[0m \u001b[43m                    \u001b[49m\u001b[43mspacegroup\u001b[49m\u001b[38;5;241;43m=\u001b[39;49m\u001b[43mspacegroup\u001b[49m\u001b[43m,\u001b[49m\n\u001b[1;32m    479\u001b[0m \u001b[43m                    \u001b[49m\u001b[43msetting\u001b[49m\u001b[38;5;241;43m=\u001b[39;49m\u001b[43mspacegroup\u001b[49m\u001b[38;5;241;43m.\u001b[39;49m\u001b[43msetting\u001b[49m\u001b[43m,\u001b[49m\n\u001b[1;32m    480\u001b[0m \u001b[43m                    \u001b[49m\u001b[43moccupancies\u001b[49m\u001b[38;5;241;43m=\u001b[39;49m\u001b[43moccupancies\u001b[49m\u001b[43m,\u001b[49m\n\u001b[1;32m    481\u001b[0m \u001b[43m                    \u001b[49m\u001b[43mprimitive_cell\u001b[49m\u001b[38;5;241;43m=\u001b[39;49m\u001b[43mprimitive_cell\u001b[49m\u001b[43m,\u001b[49m\n\u001b[1;32m    482\u001b[0m \u001b[43m                    \u001b[49m\u001b[38;5;241;43m*\u001b[39;49m\u001b[38;5;241;43m*\u001b[39;49m\u001b[43mkwargs\u001b[49m\u001b[43m)\u001b[49m\n\u001b[1;32m    483\u001b[0m \u001b[38;5;28;01melse\u001b[39;00m:\n\u001b[1;32m    484\u001b[0m     atoms \u001b[38;5;241m=\u001b[39m unsymmetrized_structure\n",
      "File \u001b[0;32m~/.aiida_venvs/aiida/lib/python3.9/site-packages/ase/spacegroup/xtal.py:146\u001b[0m, in \u001b[0;36mcrystal\u001b[0;34m(symbols, basis, occupancies, spacegroup, setting, cell, cellpar, ab_normal, a_direction, size, onduplicates, symprec, pbc, primitive_cell, **kwargs)\u001b[0m\n\u001b[1;32m    142\u001b[0m                 occ\u001b[38;5;241m.\u001b[39mupdate({symbols[index_dist]: occupancies[index_dist]})\n\u001b[1;32m    144\u001b[0m         occupancies_dict[\u001b[38;5;28mstr\u001b[39m(index)] \u001b[38;5;241m=\u001b[39m occ\u001b[38;5;241m.\u001b[39mcopy()\n\u001b[0;32m--> 146\u001b[0m sites, kinds \u001b[38;5;241m=\u001b[39m \u001b[43msg\u001b[49m\u001b[38;5;241;43m.\u001b[39;49m\u001b[43mequivalent_sites\u001b[49m\u001b[43m(\u001b[49m\u001b[43mbasis_coords\u001b[49m\u001b[43m,\u001b[49m\n\u001b[1;32m    147\u001b[0m \u001b[43m                                   \u001b[49m\u001b[43monduplicates\u001b[49m\u001b[38;5;241;43m=\u001b[39;49m\u001b[43monduplicates\u001b[49m\u001b[43m,\u001b[49m\n\u001b[1;32m    148\u001b[0m \u001b[43m                                   \u001b[49m\u001b[43msymprec\u001b[49m\u001b[38;5;241;43m=\u001b[39;49m\u001b[43msymprec\u001b[49m\u001b[43m)\u001b[49m\n\u001b[1;32m    150\u001b[0m \u001b[38;5;66;03m# this is needed to handle deuterium masses\u001b[39;00m\n\u001b[1;32m    151\u001b[0m masses \u001b[38;5;241m=\u001b[39m \u001b[38;5;28;01mNone\u001b[39;00m\n",
      "File \u001b[0;32m~/.aiida_venvs/aiida/lib/python3.9/site-packages/ase/spacegroup/spacegroup.py:421\u001b[0m, in \u001b[0;36mSpacegroup.equivalent_sites\u001b[0;34m(self, scaled_positions, onduplicates, symprec, occupancies)\u001b[0m\n\u001b[1;32m    418\u001b[0m     \u001b[38;5;28;01mcontinue\u001b[39;00m\n\u001b[1;32m    419\u001b[0m t \u001b[38;5;241m=\u001b[39m site \u001b[38;5;241m-\u001b[39m sites\n\u001b[1;32m    420\u001b[0m mask \u001b[38;5;241m=\u001b[39m np\u001b[38;5;241m.\u001b[39mall(\n\u001b[0;32m--> 421\u001b[0m     (\u001b[38;5;28mabs\u001b[39m(t) \u001b[38;5;241m<\u001b[39m symprec) \u001b[38;5;241m|\u001b[39m (\u001b[38;5;28;43mabs\u001b[39;49m\u001b[43m(\u001b[49m\u001b[38;5;28;43mabs\u001b[39;49m\u001b[43m(\u001b[49m\u001b[43mt\u001b[49m\u001b[43m)\u001b[49m\u001b[43m \u001b[49m\u001b[38;5;241;43m-\u001b[39;49m\u001b[43m \u001b[49m\u001b[38;5;241;43m1.0\u001b[39;49m\u001b[43m)\u001b[49m\u001b[43m \u001b[49m\u001b[38;5;241;43m<\u001b[39;49m\u001b[43m \u001b[49m\u001b[43msymprec\u001b[49m), axis\u001b[38;5;241m=\u001b[39m\u001b[38;5;241m1\u001b[39m)\n\u001b[1;32m    422\u001b[0m \u001b[38;5;28;01mif\u001b[39;00m np\u001b[38;5;241m.\u001b[39many(mask):\n\u001b[1;32m    423\u001b[0m     inds \u001b[38;5;241m=\u001b[39m np\u001b[38;5;241m.\u001b[39margwhere(mask)\u001b[38;5;241m.\u001b[39mflatten()\n",
      "\u001b[0;31mKeyboardInterrupt\u001b[0m: "
     ]
    }
   ],
   "source": [
    "# this part is in order to generate the RSM list for the selected element\n",
    "\n",
    "import pandas as pd\n",
    "from ase.io import read, write\n",
    "import os\n",
    "\n",
    "picked_element = 'Sc'\n",
    "outputpath = f\"/home/yutao/dataset/RSM_{picked_element}.csv\"\n",
    "path = \"/home/yutao/dataset/RSM_database/RSM_database/cifs\"\n",
    "filepath = \"/home/yutao/project/MIL-120/RSM_database/RSM_database/all_mof_features.csv\"\n",
    "data = pd.read_csv(filepath)\n",
    "chemical_formulas = []\n",
    "idx_ls = []\n",
    "for index, rsm_name in enumerate(data['cif.label']):\n",
    "    cif_file = os.path.join(path,rsm_name+\".cif\")\n",
    "    if not os.path.exists(cif_file):\n",
    "        continue\n",
    "    atoms = read(cif_file)\n",
    "    if picked_element in atoms.symbols and len(set(atoms.symbols)) == 5 and 'N' not in atoms.symbols:\n",
    "        formula_string = atoms.get_chemical_formula()\n",
    "        chemical_formulas.append(formula_string)\n",
    "        idx_ls.append(index)\n",
    "\n",
    "selected_data = data.loc[idx_ls, ['cif.label', 'MOFname']]\n",
    "csd_names = [name.split('_')[0] for name in selected_data['MOFname']]\n",
    "selected_data['CSD_label'] = csd_names\n",
    "selected_data['Formula'] = chemical_formulas\n",
    "if os.path.exists(outputpath):\n",
    "    print(f\"{outputpath} exists\")\n",
    "else:\n",
    "    selected_data.to_csv(outputpath, index=False)\n",
    "    print(f\"{outputpath} is created\")\n",
    "\n",
    "# this part is in order to generate the RSM list for the selected element\n"
   ]
  },
  {
   "cell_type": "code",
   "execution_count": null,
   "metadata": {},
   "outputs": [],
   "source": [
    "import pandas as pd\n",
    "for picked_element in ['In']:\n",
    "    finished_path = f\"/home/yutao/dataset/RSM_{picked_element}_functional.csv\"\n",
    "    new_path = f\"/home/yutao/dataset/CoRE_{picked_element}_functional.csv\"\n",
    "    outputpath = f\"/home/yutao/dataset/extra_{picked_element}_functional.csv\"\n",
    "    data0 = pd.read_csv(finished_path)\n",
    "    finish_ls = list(data0['CSD_label'])\n",
    "    data = pd.read_csv(new_path)\n",
    "    idx_ls = []\n",
    "    for index, csd_name in enumerate(data['CSD_label']):\n",
    "        if csd_name not in finish_ls:\n",
    "            idx_ls.append(index)\n",
    "        else:\n",
    "            print(\"delete one structure I have already searched\")\n",
    "\n",
    "    selected_data = data.loc[idx_ls, ['MOFname', 'CSD_label', 'Formula']]\n",
    "    selected_data.to_csv(outputpath, index=False)"
   ]
  }
 ],
 "metadata": {
  "kernelspec": {
   "display_name": "aiida",
   "language": "python",
   "name": "python3"
  },
  "language_info": {
   "codemirror_mode": {
    "name": "ipython",
    "version": 3
   },
   "file_extension": ".py",
   "mimetype": "text/x-python",
   "name": "python",
   "nbconvert_exporter": "python",
   "pygments_lexer": "ipython3",
   "version": "3.9.18"
  }
 },
 "nbformat": 4,
 "nbformat_minor": 2
}
