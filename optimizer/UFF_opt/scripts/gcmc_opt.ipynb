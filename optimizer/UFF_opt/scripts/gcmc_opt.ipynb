{
 "cells": [
  {
   "cell_type": "code",
   "execution_count": 2,
   "metadata": {},
   "outputs": [
    {
     "name": "stderr",
     "output_type": "stream",
     "text": [
      "Warning on use of the timeseries module: If the inherent timescales of the system are long compared to those being analyzed, this statistical inefficiency may be an underestimate.  The estimate presumes the use of many statistically independent samples.  Tests should be performed to assess whether this condition is satisfied.   Be cautious in the interpretation of the data.\n"
     ]
    }
   ],
   "source": [
    "# These package is inherited from Lenard-Jones optimization part of DMFF\n",
    "\n",
    "import openmm.app as app\n",
    "import openmm as mm\n",
    "import openmm.unit as unit\n",
    "import numpy as np\n",
    "import jax\n",
    "import jax.numpy as jnp\n",
    "import dmff\n",
    "from dmff.api.xmlio import XMLIO\n",
    "from dmff.api.paramset import ParamSet\n",
    "from dmff.generators.classical import CoulombGenerator, LennardJonesGenerator\n",
    "from dmff.api.hamiltonian import Hamiltonian\n",
    "from dmff.operators import ParmedLennardJonesOperator\n",
    "from dmff import NeighborListFreud\n",
    "from dmff.mbar import ReweightEstimator\n",
    "import mdtraj as md\n",
    "from tqdm import tqdm, trange\n",
    "import parmed\n",
    "import sys\n",
    "import os\n",
    "from dmff.api.topology import DMFFTopology\n",
    "# this is a package I write to solve some IO problems utils.py\n",
    "from utils import create_supercell, gas_generate,add_loading, simple_merge\n",
    "from utils import cutoff_topology\n",
    "import matplotlib.pyplot as plt\n",
    "import optax\n",
    "from utils import extract_from_raspa\n",
    "from jax import clear_backends, clear_caches"
   ]
  },
  {
   "cell_type": "markdown",
   "metadata": {},
   "source": [
    "Above I test all of my function and now I want to restart to run a successful cycle. Based on this successful cycle, I start to optimize my UFF force field."
   ]
  },
  {
   "cell_type": "code",
   "execution_count": 3,
   "metadata": {},
   "outputs": [],
   "source": [
    "\"\"\"\n",
    "\n",
    "Superparameters for Lenard-Jone Potential optimization\n",
    "\n",
    "\"\"\"\n",
    "Number_points = 3             ## must be smaller than len(picked_ls)\n",
    "Trajectory_length = 250#250          #液体pdb文件的个数\n",
    "target_site1 = -50.60                  #拟合的目标binding energy\n",
    "target_site2 = -46.69           #拟合的目标binding energy\n",
    "SET_temperature=  100           #温度设定\n",
    "time_gap=   2.2                      #分子动力学模拟过程中每一个frame的时间间隔，单位是皮秒picosecond   推荐2-4ps\n",
    "loop_time =   100                  #迭代循环次数    推荐50-100\n",
    "scaling_factors = (3,3,2)\n",
    "cutoff = 0.90 #1.3 # unit is nanometer"
   ]
  },
  {
   "cell_type": "code",
   "execution_count": 4,
   "metadata": {},
   "outputs": [
    {
     "data": {
      "image/png": "[encoded data removed]",
      "text/plain": [
       "<Figure size 640x480 with 1 Axes>"
      ]
     },
     "metadata": {},
     "output_type": "display_data"
    }
   ],
   "source": [
    "Transfer_unit = 2.7719416667/5.6100437023 \n",
    "\n",
    "\n",
    "\n",
    "pressure_list = [\n",
    "            0.021648873072361,\n",
    "            0.038256227758007,\n",
    "            0.059015421115065,\n",
    "            0.077698695136418,\n",
    "            0.09638196915777,\n",
    "            0.14827995255042,\n",
    "            0.20017793594306,\n",
    "            0.24584816132859,\n",
    "            0.29774614472123,\n",
    "            0.34756820877817,\n",
    "            0.39739027283511,\n",
    "            0.44928825622776,\n",
    "            0.49495848161329,\n",
    "            0.60083036773428,\n",
    "            0.69839857651246,\n",
    "            0.80219454329775,\n",
    "            0.90183867141163,\n",
    "            0.99733096085409,\n",
    "            1.1986951364176,\n",
    "            1.3959074733096,\n",
    "            1.5993475682088,\n",
    "            1.7986358244365,\n",
    "            2.0020759193357\n",
    "        ]\n",
    "\n",
    "arr_3 = np.loadtxt(\"/home/yutao/dataset/exp_303.txt\", delimiter=',')\n",
    "plt.scatter(arr_3[:,0], Transfer_unit*arr_3[:,1], label = r\"303K experiments\")\n",
    "\n",
    "picked_ls = [0, 3, 6, 9]#[0, 3, 6, 9, 12, 15, 18]\n",
    "picked_pressure = [pressure_list[i] for i in picked_ls]\n",
    "picked_isotherm = [arr_3[i,1]*Transfer_unit for i in picked_ls]\n",
    "\n",
    "def is_close_to_list(value, value_list):\n",
    "    for list_value in value_list:\n",
    "        relative_error = abs((value - list_value) / list_value)\n",
    "        if relative_error < 0.01:\n",
    "            return 1\n",
    "    return 0"
   ]
  },
  {
   "cell_type": "code",
   "execution_count": 5,
   "metadata": {},
   "outputs": [],
   "source": [
    "import os\n",
    "import numpy as np\n",
    "from utils import scaling_gas, extract_from_raspa, write_scaling_gas\n",
    "bar = 10**5\n",
    "def move_traj(dest_path = \"/home/yutao/project/MIL-120/traj0/\",picked_pressure=picked_pressure):\n",
    "    traj_ls = os.listdir(dest_path)\n",
    "    isotherm_data = [[],[]] # the first list is for pressure, the second is for loading\n",
    "    jdx = 0 \n",
    "    for traj in extract_from_raspa(traj_ls):\n",
    "        pdb_file = traj[1]\n",
    "        if not pdb_file.endswith(\".pdb\") or 'Movie_framework' not in pdb_file:\n",
    "            continue\n",
    "        if not is_close_to_list(float(traj[0])/bar, picked_pressure):\n",
    "            continue\n",
    "        isotherm_data[0].append(float(traj[0])/bar)\n",
    "        pdb_path = os.path.join(dest_path, pdb_file)\n",
    "        with open(pdb_path) as f:\n",
    "            lines = f.readlines()\n",
    "        num_atoms_list = []  # List to store the number of atoms in each structure\n",
    "        index = 0\n",
    "        write_idx = 1\n",
    "        num_atoms = 0  # Variable to store the number of atoms in the current structure\n",
    "        directory = f\"./traj/{jdx+1}\"\n",
    "        jdx += 1\n",
    "        if not os.path.exists(directory):\n",
    "            os.makedirs(directory)\n",
    "            print(\"Directory created:\", directory)\n",
    "        for line in lines:\n",
    "            if line.startswith(\"MODEL\"):\n",
    "                if index>=150:\n",
    "                    write_scaling_gas(block_coords, \"data/gas.pdb\", write_idx, dest_path=directory)\n",
    "                    write_idx += 1\n",
    "                block_coords = []\n",
    "                block_Csym = []\n",
    "                index += 1\n",
    "                num_atoms_list.append(num_atoms)  # Add the number of atoms to the list\n",
    "                num_atoms = 0  # Reset the number of atoms for the next structure\n",
    "            if line.startswith(\"ATOM\"):\n",
    "                parts = line.split()\n",
    "                coords = np.array([float(parts[4]), float(parts[5]), float(parts[6])])\n",
    "                block_coords.append(coords)\n",
    "                block_Csym.append(parts[-1])\n",
    "                num_atoms += 1  # Increment the number of atoms\n",
    "        #num_atoms_list.append(num_atoms)  # Add the number of atoms for the last structure\n",
    "        isotherm_data[1].append(sum(num_atoms_list)/len(num_atoms_list)/3/3/2/3)\n",
    "        #print(\"Number of atoms in each structure for\", pdb_file, \":\", num_atoms_list)\n",
    "    return isotherm_data"
   ]
  },
  {
   "cell_type": "markdown",
   "metadata": {},
   "source": [
    "Some self-defined functions:"
   ]
  },
  {
   "cell_type": "code",
   "execution_count": 6,
   "metadata": {},
   "outputs": [],
   "source": [
    "def update_mask(parameters, mask):\n",
    "    updated_parameters = parameters.copy()\n",
    "    \n",
    "    for force_type, force_params in mask.items():\n",
    "        if force_type in parameters:\n",
    "            for param, mask_array in force_params.items():\n",
    "                if param in parameters[force_type]:\n",
    "                    # Update values based on the mask\n",
    "                    updated_parameters[force_type][param] = jnp.where(mask_array == 1, \n",
    "                                                                      parameters[force_type][param], \n",
    "                                                                      0)\n",
    "    return updated_parameters"
   ]
  },
  {
   "cell_type": "code",
   "execution_count": 7,
   "metadata": {},
   "outputs": [],
   "source": [
    "def compute_binding_energy(paramset,topo, pos, lj_gen, numframe=720,cutoff=cutoff):\n",
    "    topodata = dmff.DMFFTopology(topo)\n",
    "    # Because dmfftopology does not provide a good entry for open.topology object generated by pdb file, I had to suplement something\n",
    "    for atom in topodata.atoms():\n",
    "        if atom.residue.name==\"MOL\":\n",
    "            atom.meta['type']=atom.meta['element']\n",
    "            atom.meta['class']=atom.meta['element']\n",
    "        elif atom.residue.name==\"GAS\":\n",
    "            #print(atom.meta)\n",
    "            atom.meta['type']=atom.meta['element']+\"_co2\"\n",
    "            atom.meta['class']=atom.meta['element']+\"_co2\"\n",
    "        #print(atom.meta['element'])\n",
    "    cov_mat = topodata.buildCovMat()\n",
    "    lj_force = lj_gen.createPotential(\n",
    "    topodata, nonbondedMethod=app.PME, nonbondedCutoff=cutoff, args={})\n",
    "    pos_jnp = jnp.array(pos.value_in_unit(unit.nanometer))\n",
    "    cell_jnp = jnp.array(topo.getPeriodicBoxVectors().value_in_unit(unit.nanometer))\n",
    "    cov_mat=cov_mat.at[:numframe,:numframe].set(1)\n",
    "    nblist = NeighborListFreud(topo.getPeriodicBoxVectors().value_in_unit(unit.nanometer), cutoff, cov_mat)\n",
    "    nblist.allocate(pos_jnp, cell_jnp)\n",
    "    pairs = jnp.array(nblist.pairs)\n",
    "    ener = lj_force(pos_jnp,cell_jnp, pairs, paramset)\n",
    "    return ener"
   ]
  },
  {
   "cell_type": "code",
   "execution_count": 8,
   "metadata": {},
   "outputs": [],
   "source": [
    "def analyse_traj(paramset, lj_gen, dest_path = \"./traj/\", interval=10):\n",
    "    traj_dict = {}\n",
    "    global Number_points, Trajectory_length, cutoff\n",
    "    traj_ls = os.listdir(dest_path)\n",
    "    create_supercell(\"data/MIL-120.pdb\", scaling_factors, \"scaled_frame.pdb\")\n",
    "\n",
    "    # Filter out file names and keep only directory names\n",
    "    dir_names = [name for name in traj_ls if os.path.isdir(os.path.join(dest_path, name)) and name.isdigit()]\n",
    "    dir_names = sorted(map(int, dir_names))\n",
    "    dir_names = [str(i) for i in dir_names]\n",
    "    for directory in dir_names[:Number_points]:\n",
    "        idx = int(directory)\n",
    "        traj_dict[idx] = {'experiment': {'pressure': picked_pressure[idx-1], 'loading': picked_isotherm[idx-1]}, 'structure': [], 'refer_energy':[], 'loading':[]}\n",
    "        gas_dir = os.path.join(dest_path, directory)\n",
    "        for gas_path in os.listdir(gas_dir)[::interval]:\n",
    "            topo, pos, num = simple_merge(\"scaled_frame.pdb\",os.path.join(gas_dir,gas_path))\n",
    "            ener_lj = compute_binding_energy(paramset,topo, pos, lj_gen, numframe=720,cutoff=cutoff)\n",
    "            traj_dict[idx]['structure'].append([topo, pos])\n",
    "            traj_dict[idx]['loading'].append(num/scaling_factors[0]/scaling_factors[1]/scaling_factors[2]/3)\n",
    "            traj_dict[idx]['refer_energy'].append(ener_lj)\n",
    "    clear_backends()    \n",
    "    for key in traj_dict.keys():\n",
    "        traj_dict[key]['refer_energy'] = jnp.array(traj_dict[key]['refer_energy'])\n",
    "        traj_dict[key]['loading'] = jnp.array(traj_dict[key]['loading'])\n",
    "        traj_dict[key]['estimator'] = ReweightEstimator(ref_energies=traj_dict[key]['refer_energy'], temperature=SET_temperature)\n",
    "    return traj_dict"
   ]
  },
  {
   "cell_type": "code",
   "execution_count": 5,
   "metadata": {},
   "outputs": [
    {
     "data": {
      "text/plain": [
       "<function IPython.core.display_functions.display(*objs, include=None, exclude=None, metadata=None, transient=None, display_id=None, raw=False, clear=False, **kwargs)>"
      ]
     },
     "execution_count": 5,
     "metadata": {},
     "output_type": "execute_result"
    }
   ],
   "source": [
    "display"
   ]
  },
  {
   "cell_type": "code",
   "execution_count": 4,
   "metadata": {},
   "outputs": [],
   "source": [
    "import subprocess\n",
    "def sample(cmd=\"/home/yutao/project/aiida/applications/sample.sh\"):\n",
    "    command = [cmd]\n",
    "    # Run the script using subprocess\n",
    "    completed_process = subprocess.run(command, capture_output=True, cwd=\"/home/yutao/project/aiida/applications\",text=True)\n",
    "\n",
    "    # Check the return code\n",
    "    if completed_process.returncode == 0:\n",
    "        # The script finished successfully\n",
    "        print(\"Script finished successfully!\")\n",
    "        # Display the output in the notebook\n",
    "        print(\"Script output:\")\n",
    "        print(completed_process.stdout)\n",
    "        # Continue with your program logic here\n",
    "    else:\n",
    "        # The script encountered an error\n",
    "        print(\"Script encountered an error:\", completed_process.stderr)\n",
    "        print(\"Script encountered an error:\", completed_process.stderr)\n",
    "        # Handle the error or exit the program"
   ]
  },
  {
   "cell_type": "code",
   "execution_count": 10,
   "metadata": {},
   "outputs": [],
   "source": [
    "def detect_parameter_change(paramset_new, paramset_old):\n",
    "    # Get the initial parameters\n",
    "    initial_sigma = paramset_old.parameters['LennardJonesForce']['sigma']\n",
    "    initial_epsilon = paramset_old.parameters['LennardJonesForce']['epsilon']\n",
    "    \n",
    "    # Get the updated parameters\n",
    "    updated_sigma = paramset_new.parameters['LennardJonesForce']['sigma']\n",
    "    updated_epsilon = paramset_new.parameters['LennardJonesForce']['epsilon']\n",
    "    \n",
    "    # Calculate the percentage change for each parameter\n",
    "    sigma_change = np.abs(updated_sigma - initial_sigma) / initial_sigma\n",
    "    epsilon_change = np.abs(updated_epsilon - initial_epsilon) / initial_epsilon\n",
    "\n",
    "    # Find the indices of values that have changed by more than 40%\n",
    "    sigma_indices = np.where(sigma_change > 0.4)[0]\n",
    "    epsilon_indices = np.where(epsilon_change > 0.4)[0]\n",
    "    \n",
    "    return sigma_indices, epsilon_indices\n",
    "\n",
    "def fix_changed_parameters(paramset, sigma_indices, epsilon_indices):\n",
    "    for idx in sigma_indices:\n",
    "        paramset.mask['LennardJonesForce']['sigma'] = paramset.mask['LennardJonesForce']['sigma'].at[idx].set(0)\n",
    "    for idx in epsilon_indices:\n",
    "        paramset.mask['LennardJonesForce']['epsilon'] = paramset.mask['LennardJonesForce']['epsilon'].at[idx].set(0)\n",
    "    return paramset"
   ]
  },
  {
   "cell_type": "code",
   "execution_count": 11,
   "metadata": {},
   "outputs": [
    {
     "data": {
      "text/plain": [
       "'\\nimport optax\\noptimizer = optax.adam(0.005)\\nopt_state = optimizer.init(paramset)\\n'"
      ]
     },
     "execution_count": 11,
     "metadata": {},
     "output_type": "execute_result"
    }
   ],
   "source": [
    "# Initial Optimized parameters\n",
    "xmlio = XMLIO()\n",
    "xmlio.loadXML(\"data/init.xml\")\n",
    "ffinfo = xmlio.parseXML()\n",
    "paramset = ParamSet()\n",
    "lj_gen = LennardJonesGenerator(ffinfo, paramset)\n",
    "paramset_old = ParamSet()\n",
    "lj_gen = LennardJonesGenerator(ffinfo, paramset_old)\n",
    "# Initial Optimized model\n",
    "'''\n",
    "import optax\n",
    "optimizer = optax.adam(0.005)\n",
    "opt_state = optimizer.init(paramset)\n",
    "'''"
   ]
  },
  {
   "cell_type": "code",
   "execution_count": 2,
   "metadata": {},
   "outputs": [],
   "source": [
    "import json\n",
    "Transfer_energy_unit = 254.152/2.11525\n",
    "Transfer_length_unit = 10\n",
    "def update_ff(paramset, dest_path='/home/yutao/project/aiida/applications/ff_1.json'):\n",
    "    global Transfer_energy_unit, Transfer_length_unit\n",
    "    element_list = ['Al_', 'C_', 'H_', 'O_']\n",
    "    params = paramset.parameters\n",
    "    ff_data = {}\n",
    "    if len(element_list) != params['LennardJonesForce']['sigma'].shape[0]-2:\n",
    "        raise ValueError(\"Length of element list and parameter list does not match\")\n",
    "    sigma_list = params['LennardJonesForce']['sigma'].tolist()\n",
    "    epsilon_list = params['LennardJonesForce']['epsilon'].tolist()\n",
    "    for idx in range(len(element_list)):\n",
    "        ff_data[element_list[idx]] = ['lennard-jones', epsilon_list[idx]*Transfer_energy_unit, sigma_list[idx]*Transfer_length_unit]\n",
    "    with open(dest_path, 'w') as f:\n",
    "        json.dump(ff_data, f, indent=4)\n",
    "\n",
    "def show_ff(file_path='/home/yutao/project/aiida/applications/ff_1.json'):\n",
    "    global Transfer_energy_unit, Transfer_length_unit\n",
    "    element_list = ['Al_', 'C_', 'H_', 'O_']\n",
    "    ff_data = json.load(open(file_path))\n",
    "\n",
    "    for idx in range(len(element_list)):\n",
    "        print(ff_data[element_list[idx]][0],ff_data[element_list[idx]][1]/Transfer_energy_unit,ff_data[element_list[idx]][2]/Transfer_length_unit)\n",
    "#update_ff(paramset)"
   ]
  },
  {
   "cell_type": "code",
   "execution_count": 1,
   "metadata": {},
   "outputs": [
    {
     "name": "stdout",
     "output_type": "stream",
     "text": [
      "163.2542359182886\n",
      "15.67487461336485\n",
      "5.730372142867273\n",
      "8.724319349296772\n",
      "79.0085004798487\n",
      "26.99700407989599\n"
     ]
    }
   ],
   "source": [
    "ls = [1.35872833, 0.13045846, 0.0476926,  0.07261055, 0.65757,    0.22469]\n",
    "Transfer_energy_unit = 254.152/2.11525\n",
    "for i in ls:\n",
    "    print(Transfer_energy_unit*i)"
   ]
  },
  {
   "cell_type": "code",
   "execution_count": 4,
   "metadata": {},
   "outputs": [
    {
     "name": "stdout",
     "output_type": "stream",
     "text": [
      "165.5291994022834\n",
      "14.733344934471102\n",
      "5.291919842061222\n",
      "8.742821590866328\n",
      "79.0085004798487\n",
      "26.99700407989599\n"
     ]
    }
   ],
   "source": [
    "ls =  [1.37766234,0.12262232,0.04404346,0.07276454,0.65757,0.22469]\n",
    "Transfer_energy_unit = 254.152/2.11525\n",
    "for i in ls:\n",
    "    print(Transfer_energy_unit*i)"
   ]
  },
  {
   "cell_type": "code",
   "execution_count": null,
   "metadata": {},
   "outputs": [],
   "source": [
    " [1.37766234 0.12262232 0.04404346 0.07276454 0.65757    0.22469   ]"
   ]
  },
  {
   "cell_type": "code",
   "execution_count": null,
   "metadata": {},
   "outputs": [],
   "source": [
    "{\n",
    "    \"Al_\": [\n",
    "        \"lennard-jones\",\n",
    "        165.5291994022834,\n",
    "        4.0082\n",
    "    ],\n",
    "    \"C_\": [\n",
    "        \"lennard-jones\",\n",
    "        14.733344934471102,\n",
    "        3.4309000000000003\n",
    "    ],\n",
    "    \"H_\": [\n",
    "        \"lennard-jones\",\n",
    "        5.291919842061222,\n",
    "        2.5711\n",
    "    ],\n",
    "    \"O_\": [\n",
    "        \"lennard-jones\",\n",
    "        8.742821590866328,\n",
    "        3.1180999999999996\n",
    "    ]\n",
    "}\n"
   ]
  },
  {
   "cell_type": "code",
   "execution_count": 14,
   "metadata": {},
   "outputs": [
    {
     "name": "stdout",
     "output_type": "stream",
     "text": [
      "lennard-jones 1.7929603943128674 0.40082000000000007\n",
      "lennard-jones 0.2566655360373521 0.34309\n",
      "lennard-jones 0.1074632711055779 0.25711\n",
      "lennard-jones 0.1448795107317152 0.31181\n"
     ]
    }
   ],
   "source": [
    "show_ff('/home/yutao/project/aiida/applications/ff_1.json')"
   ]
  },
  {
   "cell_type": "code",
   "execution_count": 3,
   "metadata": {},
   "outputs": [
    {
     "name": "stdout",
     "output_type": "stream",
     "text": [
      "lennard-jones 1.7929603943128674 0.40082000000000007\n",
      "lennard-jones 0.2566655360373521 0.34309\n",
      "lennard-jones 0.1074632711055779 0.25711\n",
      "lennard-jones 0.1448795107317152 0.31181\n"
     ]
    }
   ],
   "source": [
    "show_ff('/home/yutao/project/aiida/applications/ff_1.json')"
   ]
  },
  {
   "cell_type": "markdown",
   "metadata": {},
   "source": [
    "One example: I fit three points and control the change of parameters"
   ]
  },
  {
   "cell_type": "code",
   "execution_count": 15,
   "metadata": {},
   "outputs": [],
   "source": [
    "from jax._src.api import clear_backends"
   ]
  },
  {
   "cell_type": "code",
   "execution_count": 14,
   "metadata": {},
   "outputs": [
    {
     "ename": "KeyboardInterrupt",
     "evalue": "",
     "output_type": "error",
     "traceback": [
      "\u001b[0;31m---------------------------------------------------------------------------\u001b[0m",
      "\u001b[0;31mKeyboardInterrupt\u001b[0m                         Traceback (most recent call last)",
      "Cell \u001b[0;32mIn[14], line 7\u001b[0m\n\u001b[1;32m      5\u001b[0m \u001b[39m#sample()\u001b[39;00m\n\u001b[1;32m      6\u001b[0m move_traj()\n\u001b[0;32m----> 7\u001b[0m traj_dict \u001b[39m=\u001b[39m analyse_traj(paramset, lj_gen)\n\u001b[1;32m      9\u001b[0m \u001b[39mdef\u001b[39;00m \u001b[39mloss\u001b[39m(paramset):\n\u001b[1;32m     10\u001b[0m     errors \u001b[39m=\u001b[39m []\n",
      "Cell \u001b[0;32mIn[7], line 17\u001b[0m, in \u001b[0;36manalyse_traj\u001b[0;34m(paramset, lj_gen, dest_path, interval)\u001b[0m\n\u001b[1;32m     15\u001b[0m \u001b[39mfor\u001b[39;00m gas_path \u001b[39min\u001b[39;00m os\u001b[39m.\u001b[39mlistdir(gas_dir)[::interval]:\n\u001b[1;32m     16\u001b[0m     topo, pos, num \u001b[39m=\u001b[39m simple_merge(\u001b[39m\"\u001b[39m\u001b[39mscaled_frame.pdb\u001b[39m\u001b[39m\"\u001b[39m,os\u001b[39m.\u001b[39mpath\u001b[39m.\u001b[39mjoin(gas_dir,gas_path))\n\u001b[0;32m---> 17\u001b[0m     ener_lj \u001b[39m=\u001b[39m compute_binding_energy(paramset,topo, pos, lj_gen, numframe\u001b[39m=\u001b[39;49m\u001b[39m720\u001b[39;49m,cutoff\u001b[39m=\u001b[39;49mcutoff)\n\u001b[1;32m     18\u001b[0m     traj_dict[idx][\u001b[39m'\u001b[39m\u001b[39mstructure\u001b[39m\u001b[39m'\u001b[39m]\u001b[39m.\u001b[39mappend([topo, pos])\n\u001b[1;32m     19\u001b[0m     traj_dict[idx][\u001b[39m'\u001b[39m\u001b[39mloading\u001b[39m\u001b[39m'\u001b[39m]\u001b[39m.\u001b[39mappend(num\u001b[39m/\u001b[39mscaling_factors[\u001b[39m0\u001b[39m]\u001b[39m/\u001b[39mscaling_factors[\u001b[39m1\u001b[39m]\u001b[39m/\u001b[39mscaling_factors[\u001b[39m2\u001b[39m]\u001b[39m/\u001b[39m\u001b[39m3\u001b[39m)\n",
      "Cell \u001b[0;32mIn[6], line 22\u001b[0m, in \u001b[0;36mcompute_binding_energy\u001b[0;34m(paramset, topo, pos, lj_gen, numframe, cutoff)\u001b[0m\n\u001b[1;32m     20\u001b[0m nblist\u001b[39m.\u001b[39mallocate(pos_jnp, cell_jnp)\n\u001b[1;32m     21\u001b[0m pairs \u001b[39m=\u001b[39m jnp\u001b[39m.\u001b[39marray(nblist\u001b[39m.\u001b[39mpairs)\n\u001b[0;32m---> 22\u001b[0m ener \u001b[39m=\u001b[39m lj_force(pos_jnp,cell_jnp, pairs, paramset)\n\u001b[1;32m     23\u001b[0m \u001b[39mreturn\u001b[39;00m ener\n",
      "File \u001b[0;32m~/project/github/DMFF/dmff/generators/classical.py:1383\u001b[0m, in \u001b[0;36mLennardJonesGenerator.createPotential.<locals>.potential_fn\u001b[0;34m(positions, box, pairs, params, aux)\u001b[0m\n\u001b[1;32m   1376\u001b[0m \u001b[39mdef\u001b[39;00m \u001b[39mpotential_fn\u001b[39m(positions, box, pairs, params, aux\u001b[39m=\u001b[39m\u001b[39mNone\u001b[39;00m):\n\u001b[1;32m   1377\u001b[0m \n\u001b[1;32m   1378\u001b[0m     \u001b[39m# check whether args passed into potential_fn are jnp.array and differentiable\u001b[39;00m\n\u001b[1;32m   1379\u001b[0m     \u001b[39m# note this check will be optimized away by jit\u001b[39;00m\n\u001b[1;32m   1380\u001b[0m     \u001b[39m# it is jit-compatiable\u001b[39;00m\n\u001b[1;32m   1381\u001b[0m     isinstance_jnp(positions, box, params)\n\u001b[0;32m-> 1383\u001b[0m     ljE \u001b[39m=\u001b[39m ljenergy(positions, box, pairs,\n\u001b[1;32m   1384\u001b[0m                    params[\u001b[39mself\u001b[39;49m\u001b[39m.\u001b[39;49mname][\u001b[39m\"\u001b[39;49m\u001b[39mepsilon\u001b[39;49m\u001b[39m\"\u001b[39;49m],\n\u001b[1;32m   1385\u001b[0m                    params[\u001b[39mself\u001b[39;49m\u001b[39m.\u001b[39;49mname][\u001b[39m\"\u001b[39;49m\u001b[39msigma\u001b[39;49m\u001b[39m\"\u001b[39;49m],\n\u001b[1;32m   1386\u001b[0m                    params[\u001b[39mself\u001b[39;49m\u001b[39m.\u001b[39;49mname][\u001b[39m\"\u001b[39;49m\u001b[39mepsilon_nbfix\u001b[39;49m\u001b[39m\"\u001b[39;49m],\n\u001b[1;32m   1387\u001b[0m                    params[\u001b[39mself\u001b[39;49m\u001b[39m.\u001b[39;49mname][\u001b[39m\"\u001b[39;49m\u001b[39msigma_nbfix\u001b[39;49m\u001b[39m\"\u001b[39;49m],\n\u001b[1;32m   1388\u001b[0m                    mscales_lj)\n\u001b[1;32m   1390\u001b[0m     \u001b[39mif\u001b[39;00m has_aux:\n\u001b[1;32m   1391\u001b[0m         \u001b[39mreturn\u001b[39;00m ljE, aux\n",
      "File \u001b[0;32m~/project/github/DMFF/dmff/classical/inter.py:88\u001b[0m, in \u001b[0;36mLennardJonesForce.generate_get_energy.<locals>.get_energy\u001b[0;34m(positions, box, pairs, epsilon, sigma, epsfix, sigfix, mscales, aux)\u001b[0m\n\u001b[1;32m     86\u001b[0m E_inter \u001b[39m=\u001b[39m get_LJ_energy(dr_vec, sig, eps_scale, box)\n\u001b[1;32m     87\u001b[0m \u001b[39mif\u001b[39;00m aux \u001b[39mis\u001b[39;00m \u001b[39mNone\u001b[39;00m:\n\u001b[0;32m---> 88\u001b[0m     \u001b[39mreturn\u001b[39;00m jnp\u001b[39m.\u001b[39msum(E_inter \u001b[39m*\u001b[39;49m mask)\n\u001b[1;32m     89\u001b[0m \u001b[39melse\u001b[39;00m:\n\u001b[1;32m     90\u001b[0m     \u001b[39mreturn\u001b[39;00m jnp\u001b[39m.\u001b[39msum(E_inter \u001b[39m*\u001b[39m mask), aux\n",
      "File \u001b[0;32m~/anaconda3/envs/dmff/lib/python3.11/site-packages/jax/_src/numpy/array_methods.py:271\u001b[0m, in \u001b[0;36m_defer_to_unrecognized_arg.<locals>.deferring_binary_op\u001b[0;34m(self, other)\u001b[0m\n\u001b[1;32m    269\u001b[0m args \u001b[39m=\u001b[39m (other, \u001b[39mself\u001b[39m) \u001b[39mif\u001b[39;00m swap \u001b[39melse\u001b[39;00m (\u001b[39mself\u001b[39m, other)\n\u001b[1;32m    270\u001b[0m \u001b[39mif\u001b[39;00m \u001b[39misinstance\u001b[39m(other, _accepted_binop_types):\n\u001b[0;32m--> 271\u001b[0m   \u001b[39mreturn\u001b[39;00m binary_op(\u001b[39m*\u001b[39;49margs)\n\u001b[1;32m    272\u001b[0m \u001b[39m# Note: don't use isinstance here, because we don't want to raise for\u001b[39;00m\n\u001b[1;32m    273\u001b[0m \u001b[39m# subclasses, e.g. NamedTuple objects that may override operators.\u001b[39;00m\n\u001b[1;32m    274\u001b[0m \u001b[39mif\u001b[39;00m \u001b[39mtype\u001b[39m(other) \u001b[39min\u001b[39;00m _rejected_binop_types:\n",
      "    \u001b[0;31m[... skipping hidden 1 frame]\u001b[0m\n",
      "File \u001b[0;32m~/anaconda3/envs/dmff/lib/python3.11/site-packages/jax/_src/pjit.py:257\u001b[0m, in \u001b[0;36m_cpp_pjit.<locals>.cache_miss\u001b[0;34m(*args, **kwargs)\u001b[0m\n\u001b[1;32m    255\u001b[0m \u001b[39m@api_boundary\u001b[39m\n\u001b[1;32m    256\u001b[0m \u001b[39mdef\u001b[39;00m \u001b[39mcache_miss\u001b[39m(\u001b[39m*\u001b[39margs, \u001b[39m*\u001b[39m\u001b[39m*\u001b[39mkwargs):\n\u001b[0;32m--> 257\u001b[0m   outs, out_flat, out_tree, args_flat, jaxpr \u001b[39m=\u001b[39m _python_pjit_helper(\n\u001b[1;32m    258\u001b[0m       fun, infer_params_fn, \u001b[39m*\u001b[39;49margs, \u001b[39m*\u001b[39;49m\u001b[39m*\u001b[39;49mkwargs)\n\u001b[1;32m    259\u001b[0m   executable \u001b[39m=\u001b[39m _read_most_recent_pjit_call_executable(jaxpr)\n\u001b[1;32m    260\u001b[0m   fastpath_data \u001b[39m=\u001b[39m _get_fastpath_data(executable, out_tree, args_flat, out_flat)\n",
      "File \u001b[0;32m~/anaconda3/envs/dmff/lib/python3.11/site-packages/jax/_src/pjit.py:168\u001b[0m, in \u001b[0;36m_python_pjit_helper\u001b[0;34m(fun, infer_params_fn, *args, **kwargs)\u001b[0m\n\u001b[1;32m    166\u001b[0m   dispatch\u001b[39m.\u001b[39mcheck_arg(arg)\n\u001b[1;32m    167\u001b[0m \u001b[39mtry\u001b[39;00m:\n\u001b[0;32m--> 168\u001b[0m   out_flat \u001b[39m=\u001b[39m pjit_p\u001b[39m.\u001b[39;49mbind(\u001b[39m*\u001b[39;49margs_flat, \u001b[39m*\u001b[39;49m\u001b[39m*\u001b[39;49mparams)\n\u001b[1;32m    169\u001b[0m \u001b[39mexcept\u001b[39;00m pxla\u001b[39m.\u001b[39mDeviceAssignmentMismatchError \u001b[39mas\u001b[39;00m e:\n\u001b[1;32m    170\u001b[0m   fails, \u001b[39m=\u001b[39m e\u001b[39m.\u001b[39margs\n",
      "File \u001b[0;32m~/anaconda3/envs/dmff/lib/python3.11/site-packages/jax/_src/core.py:2740\u001b[0m, in \u001b[0;36mAxisPrimitive.bind\u001b[0;34m(self, *args, **params)\u001b[0m\n\u001b[1;32m   2736\u001b[0m axis_main \u001b[39m=\u001b[39m \u001b[39mmax\u001b[39m((axis_frame(a)\u001b[39m.\u001b[39mmain_trace \u001b[39mfor\u001b[39;00m a \u001b[39min\u001b[39;00m used_axis_names(\u001b[39mself\u001b[39m, params)),\n\u001b[1;32m   2737\u001b[0m                 default\u001b[39m=\u001b[39m\u001b[39mNone\u001b[39;00m, key\u001b[39m=\u001b[39m\u001b[39mlambda\u001b[39;00m t: \u001b[39mgetattr\u001b[39m(t, \u001b[39m'\u001b[39m\u001b[39mlevel\u001b[39m\u001b[39m'\u001b[39m, \u001b[39m-\u001b[39m\u001b[39m1\u001b[39m))\n\u001b[1;32m   2738\u001b[0m top_trace \u001b[39m=\u001b[39m (top_trace \u001b[39mif\u001b[39;00m \u001b[39mnot\u001b[39;00m axis_main \u001b[39mor\u001b[39;00m axis_main\u001b[39m.\u001b[39mlevel \u001b[39m<\u001b[39m top_trace\u001b[39m.\u001b[39mlevel\n\u001b[1;32m   2739\u001b[0m              \u001b[39melse\u001b[39;00m axis_main\u001b[39m.\u001b[39mwith_cur_sublevel())\n\u001b[0;32m-> 2740\u001b[0m \u001b[39mreturn\u001b[39;00m \u001b[39mself\u001b[39;49m\u001b[39m.\u001b[39;49mbind_with_trace(top_trace, args, params)\n",
      "File \u001b[0;32m~/anaconda3/envs/dmff/lib/python3.11/site-packages/jax/_src/core.py:447\u001b[0m, in \u001b[0;36mPrimitive.bind_with_trace\u001b[0;34m(self, trace, args, params)\u001b[0m\n\u001b[1;32m    446\u001b[0m \u001b[39mdef\u001b[39;00m \u001b[39mbind_with_trace\u001b[39m(\u001b[39mself\u001b[39m, trace, args, params):\n\u001b[0;32m--> 447\u001b[0m   out \u001b[39m=\u001b[39m trace\u001b[39m.\u001b[39;49mprocess_primitive(\u001b[39mself\u001b[39;49m, \u001b[39mmap\u001b[39;49m(trace\u001b[39m.\u001b[39;49mfull_raise, args), params)\n\u001b[1;32m    448\u001b[0m   \u001b[39mreturn\u001b[39;00m \u001b[39mmap\u001b[39m(full_lower, out) \u001b[39mif\u001b[39;00m \u001b[39mself\u001b[39m\u001b[39m.\u001b[39mmultiple_results \u001b[39melse\u001b[39;00m full_lower(out)\n",
      "File \u001b[0;32m~/anaconda3/envs/dmff/lib/python3.11/site-packages/jax/_src/core.py:935\u001b[0m, in \u001b[0;36mEvalTrace.process_primitive\u001b[0;34m(self, primitive, tracers, params)\u001b[0m\n\u001b[1;32m    934\u001b[0m \u001b[39mdef\u001b[39;00m \u001b[39mprocess_primitive\u001b[39m(\u001b[39mself\u001b[39m, primitive, tracers, params):\n\u001b[0;32m--> 935\u001b[0m   \u001b[39mreturn\u001b[39;00m primitive\u001b[39m.\u001b[39;49mimpl(\u001b[39m*\u001b[39;49mtracers, \u001b[39m*\u001b[39;49m\u001b[39m*\u001b[39;49mparams)\n",
      "File \u001b[0;32m~/anaconda3/envs/dmff/lib/python3.11/site-packages/jax/_src/pjit.py:1245\u001b[0m, in \u001b[0;36m_pjit_call_impl\u001b[0;34m(jaxpr, in_shardings, out_shardings, resource_env, donated_invars, name, keep_unused, inline, *args)\u001b[0m\n\u001b[1;32m   1242\u001b[0m donated_argnums \u001b[39m=\u001b[39m [i \u001b[39mfor\u001b[39;00m i, d \u001b[39min\u001b[39;00m \u001b[39menumerate\u001b[39m(donated_invars) \u001b[39mif\u001b[39;00m d]\n\u001b[1;32m   1243\u001b[0m has_explicit_sharding \u001b[39m=\u001b[39m _pjit_explicit_sharding(\n\u001b[1;32m   1244\u001b[0m     in_shardings, out_shardings, \u001b[39mNone\u001b[39;00m, \u001b[39mNone\u001b[39;00m)\n\u001b[0;32m-> 1245\u001b[0m \u001b[39mreturn\u001b[39;00m xc\u001b[39m.\u001b[39;49m_xla\u001b[39m.\u001b[39;49mpjit(name, f, call_impl_cache_miss, [], [], donated_argnums,\n\u001b[1;32m   1246\u001b[0m                     tree_util\u001b[39m.\u001b[39;49mdispatch_registry,\n\u001b[1;32m   1247\u001b[0m                     _get_cpp_global_cache(has_explicit_sharding))(\u001b[39m*\u001b[39;49margs)\n",
      "File \u001b[0;32m~/anaconda3/envs/dmff/lib/python3.11/site-packages/jax/_src/pjit.py:1229\u001b[0m, in \u001b[0;36m_pjit_call_impl.<locals>.call_impl_cache_miss\u001b[0;34m(*args_, **kwargs_)\u001b[0m\n\u001b[1;32m   1228\u001b[0m \u001b[39mdef\u001b[39;00m \u001b[39mcall_impl_cache_miss\u001b[39m(\u001b[39m*\u001b[39margs_, \u001b[39m*\u001b[39m\u001b[39m*\u001b[39mkwargs_):\n\u001b[0;32m-> 1229\u001b[0m   out_flat, compiled \u001b[39m=\u001b[39m _pjit_call_impl_python(\n\u001b[1;32m   1230\u001b[0m       \u001b[39m*\u001b[39;49margs, jaxpr\u001b[39m=\u001b[39;49mjaxpr, in_shardings\u001b[39m=\u001b[39;49min_shardings,\n\u001b[1;32m   1231\u001b[0m       out_shardings\u001b[39m=\u001b[39;49mout_shardings, resource_env\u001b[39m=\u001b[39;49mresource_env,\n\u001b[1;32m   1232\u001b[0m       donated_invars\u001b[39m=\u001b[39;49mdonated_invars, name\u001b[39m=\u001b[39;49mname, keep_unused\u001b[39m=\u001b[39;49mkeep_unused,\n\u001b[1;32m   1233\u001b[0m       inline\u001b[39m=\u001b[39;49minline)\n\u001b[1;32m   1234\u001b[0m   fastpath_data \u001b[39m=\u001b[39m _get_fastpath_data(\n\u001b[1;32m   1235\u001b[0m       compiled, tree_structure(out_flat), args, out_flat)\n\u001b[1;32m   1236\u001b[0m   \u001b[39mreturn\u001b[39;00m out_flat, fastpath_data\n",
      "File \u001b[0;32m~/anaconda3/envs/dmff/lib/python3.11/site-packages/jax/_src/pjit.py:1162\u001b[0m, in \u001b[0;36m_pjit_call_impl_python\u001b[0;34m(jaxpr, in_shardings, out_shardings, resource_env, donated_invars, name, keep_unused, inline, *args)\u001b[0m\n\u001b[1;32m   1156\u001b[0m \u001b[39mglobal\u001b[39;00m _most_recent_pjit_call_executable\n\u001b[1;32m   1158\u001b[0m in_shardings \u001b[39m=\u001b[39m _resolve_in_shardings(\n\u001b[1;32m   1159\u001b[0m     args, in_shardings, out_shardings,\n\u001b[1;32m   1160\u001b[0m     resource_env\u001b[39m.\u001b[39mphysical_mesh \u001b[39mif\u001b[39;00m resource_env \u001b[39mis\u001b[39;00m \u001b[39mnot\u001b[39;00m \u001b[39mNone\u001b[39;00m \u001b[39melse\u001b[39;00m \u001b[39mNone\u001b[39;00m)\n\u001b[0;32m-> 1162\u001b[0m compiled \u001b[39m=\u001b[39m _pjit_lower(\n\u001b[1;32m   1163\u001b[0m     jaxpr, in_shardings, out_shardings, resource_env,\n\u001b[1;32m   1164\u001b[0m     donated_invars, name, keep_unused, inline,\n\u001b[1;32m   1165\u001b[0m     lowering_parameters\u001b[39m=\u001b[39;49mmlir\u001b[39m.\u001b[39;49mLoweringParameters())\u001b[39m.\u001b[39mcompile()\n\u001b[1;32m   1166\u001b[0m _most_recent_pjit_call_executable\u001b[39m.\u001b[39mweak_key_dict[jaxpr] \u001b[39m=\u001b[39m compiled\n\u001b[1;32m   1167\u001b[0m \u001b[39m# This check is expensive so only do it if enable_checks is on.\u001b[39;00m\n",
      "File \u001b[0;32m~/anaconda3/envs/dmff/lib/python3.11/site-packages/jax/_src/pjit.py:1293\u001b[0m, in \u001b[0;36m_pjit_lower\u001b[0;34m(jaxpr, in_shardings, out_shardings, *args, **kwargs)\u001b[0m\n\u001b[1;32m   1291\u001b[0m in_shardings \u001b[39m=\u001b[39m SameDeviceAssignmentTuple(\u001b[39mtuple\u001b[39m(in_shardings), da)\n\u001b[1;32m   1292\u001b[0m out_shardings \u001b[39m=\u001b[39m SameDeviceAssignmentTuple(\u001b[39mtuple\u001b[39m(out_shardings), da)\n\u001b[0;32m-> 1293\u001b[0m \u001b[39mreturn\u001b[39;00m _pjit_lower_cached(jaxpr, in_shardings, out_shardings, \u001b[39m*\u001b[39;49margs, \u001b[39m*\u001b[39;49m\u001b[39m*\u001b[39;49mkwargs)\n",
      "File \u001b[0;32m~/anaconda3/envs/dmff/lib/python3.11/site-packages/jax/_src/pjit.py:1341\u001b[0m, in \u001b[0;36m_pjit_lower_cached\u001b[0;34m(jaxpr, sdat_in_shardings, sdat_out_shardings, resource_env, donated_invars, name, keep_unused, inline, lowering_parameters, in_layouts, out_layouts)\u001b[0m\n\u001b[1;32m   1335\u001b[0m   \u001b[39mreturn\u001b[39;00m pxla\u001b[39m.\u001b[39mlower_mesh_computation(\n\u001b[1;32m   1336\u001b[0m     jaxpr, api_name, name, mesh,\n\u001b[1;32m   1337\u001b[0m     in_shardings, out_shardings, donated_invars,\n\u001b[1;32m   1338\u001b[0m     \u001b[39mTrue\u001b[39;00m, jaxpr\u001b[39m.\u001b[39min_avals, tiling_method\u001b[39m=\u001b[39m\u001b[39mNone\u001b[39;00m,\n\u001b[1;32m   1339\u001b[0m     lowering_parameters\u001b[39m=\u001b[39mlowering_parameters)\n\u001b[1;32m   1340\u001b[0m \u001b[39melse\u001b[39;00m:\n\u001b[0;32m-> 1341\u001b[0m   \u001b[39mreturn\u001b[39;00m pxla\u001b[39m.\u001b[39;49mlower_sharding_computation(\n\u001b[1;32m   1342\u001b[0m       jaxpr, api_name, name, in_shardings, out_shardings,\n\u001b[1;32m   1343\u001b[0m       \u001b[39mtuple\u001b[39;49m(donated_invars), \u001b[39mtuple\u001b[39;49m(jaxpr\u001b[39m.\u001b[39;49min_avals),\n\u001b[1;32m   1344\u001b[0m       keep_unused\u001b[39m=\u001b[39;49mkeep_unused, inline\u001b[39m=\u001b[39;49minline,\n\u001b[1;32m   1345\u001b[0m       devices_from_context\u001b[39m=\u001b[39;49m(\n\u001b[1;32m   1346\u001b[0m           \u001b[39mNone\u001b[39;49;00m \u001b[39mif\u001b[39;49;00m mesh \u001b[39mis\u001b[39;49;00m \u001b[39mNone\u001b[39;49;00m \u001b[39mor\u001b[39;49;00m mesh\u001b[39m.\u001b[39;49mempty \u001b[39melse\u001b[39;49;00m \u001b[39mlist\u001b[39;49m(mesh\u001b[39m.\u001b[39;49mdevices\u001b[39m.\u001b[39;49mflat)),\n\u001b[1;32m   1347\u001b[0m       lowering_parameters\u001b[39m=\u001b[39;49mlowering_parameters, in_layouts\u001b[39m=\u001b[39;49min_layouts,\n\u001b[1;32m   1348\u001b[0m       out_layouts\u001b[39m=\u001b[39;49mout_layouts)\n",
      "File \u001b[0;32m~/anaconda3/envs/dmff/lib/python3.11/site-packages/jax/_src/profiler.py:336\u001b[0m, in \u001b[0;36mannotate_function.<locals>.wrapper\u001b[0;34m(*args, **kwargs)\u001b[0m\n\u001b[1;32m    333\u001b[0m \u001b[39m@wraps\u001b[39m(func)\n\u001b[1;32m    334\u001b[0m \u001b[39mdef\u001b[39;00m \u001b[39mwrapper\u001b[39m(\u001b[39m*\u001b[39margs, \u001b[39m*\u001b[39m\u001b[39m*\u001b[39mkwargs):\n\u001b[1;32m    335\u001b[0m   \u001b[39mwith\u001b[39;00m TraceAnnotation(name, \u001b[39m*\u001b[39m\u001b[39m*\u001b[39mdecorator_kwargs):\n\u001b[0;32m--> 336\u001b[0m     \u001b[39mreturn\u001b[39;00m func(\u001b[39m*\u001b[39;49margs, \u001b[39m*\u001b[39;49m\u001b[39m*\u001b[39;49mkwargs)\n\u001b[1;32m    337\u001b[0m   \u001b[39mreturn\u001b[39;00m wrapper\n",
      "File \u001b[0;32m~/anaconda3/envs/dmff/lib/python3.11/site-packages/jax/_src/interpreters/pxla.py:1986\u001b[0m, in \u001b[0;36mlower_sharding_computation\u001b[0;34m(closed_jaxpr, api_name, fun_name, in_shardings, out_shardings, donated_invars, global_in_avals, keep_unused, inline, devices_from_context, lowering_parameters, in_layouts, out_layouts)\u001b[0m\n\u001b[1;32m   1979\u001b[0m prim_requires_devices \u001b[39m=\u001b[39m dispatch\u001b[39m.\u001b[39mjaxpr_has_prim_requiring_devices(jaxpr)\n\u001b[1;32m   1980\u001b[0m materialized_da \u001b[39m=\u001b[39m (\n\u001b[1;32m   1981\u001b[0m     \u001b[39mtuple\u001b[39m(da_object)\n\u001b[1;32m   1982\u001b[0m     \u001b[39mif\u001b[39;00m prim_requires_devices \u001b[39mor\u001b[39;00m _JAX_REQUIRE_DEVICES_DURING_LOWERING\u001b[39m.\u001b[39mvalue\n\u001b[1;32m   1983\u001b[0m     \u001b[39melse\u001b[39;00m \u001b[39mNone\u001b[39;00m)\n\u001b[1;32m   1985\u001b[0m (module, keepalive, host_callbacks, unordered_effects, ordered_effects,\n\u001b[0;32m-> 1986\u001b[0m  nreps, tuple_args, shape_poly_state) \u001b[39m=\u001b[39m _cached_lowering_to_hlo(\n\u001b[1;32m   1987\u001b[0m      closed_jaxpr, api_name, fun_name, backend, semantic_in_shardings,\n\u001b[1;32m   1988\u001b[0m      semantic_out_shardings, in_layouts, out_layouts, \u001b[39mlen\u001b[39;49m(da_object),\n\u001b[1;32m   1989\u001b[0m      materialized_da, donated_invars, name_stack, all_default_mem_kind,\n\u001b[1;32m   1990\u001b[0m      lowering_parameters\u001b[39m=\u001b[39;49mlowering_parameters)\n\u001b[1;32m   1992\u001b[0m \u001b[39m# backend and device_assignment is passed through to MeshExecutable because\u001b[39;00m\n\u001b[1;32m   1993\u001b[0m \u001b[39m# if keep_unused=False and all in_shardings are pruned, then there is no way\u001b[39;00m\n\u001b[1;32m   1994\u001b[0m \u001b[39m# to get the device_assignment and backend. So pass it to MeshExecutable\u001b[39;00m\n\u001b[1;32m   1995\u001b[0m \u001b[39m# because we calculate the device_assignment and backend before in_shardings,\u001b[39;00m\n\u001b[1;32m   1996\u001b[0m \u001b[39m# etc are pruned.\u001b[39;00m\n\u001b[1;32m   1997\u001b[0m \u001b[39mreturn\u001b[39;00m MeshComputation(\n\u001b[1;32m   1998\u001b[0m     \u001b[39mstr\u001b[39m(name_stack),\n\u001b[1;32m   1999\u001b[0m     module,\n\u001b[0;32m   (...)\u001b[0m\n\u001b[1;32m   2020\u001b[0m     all_default_mem_kind\u001b[39m=\u001b[39mall_default_mem_kind,\n\u001b[1;32m   2021\u001b[0m     all_args_info\u001b[39m=\u001b[39mall_args_info)\n",
      "File \u001b[0;32m~/anaconda3/envs/dmff/lib/python3.11/site-packages/jax/_src/interpreters/pxla.py:1820\u001b[0m, in \u001b[0;36m_cached_lowering_to_hlo\u001b[0;34m(closed_jaxpr, api_name, fun_name, backend, semantic_in_shardings, semantic_out_shardings, in_layouts, out_layouts, num_devices, device_assignment, donated_invars, name_stack, all_default_mem_kind, lowering_parameters)\u001b[0m\n\u001b[1;32m   1815\u001b[0m ordered_effects \u001b[39m=\u001b[39m \u001b[39mlist\u001b[39m(effects\u001b[39m.\u001b[39mordered_effects\u001b[39m.\u001b[39mfilter_in(closed_jaxpr\u001b[39m.\u001b[39meffects))\n\u001b[1;32m   1817\u001b[0m \u001b[39mwith\u001b[39;00m dispatch\u001b[39m.\u001b[39mlog_elapsed_time(\n\u001b[1;32m   1818\u001b[0m       \u001b[39m\"\u001b[39m\u001b[39mFinished jaxpr to MLIR module conversion \u001b[39m\u001b[39m{fun_name}\u001b[39;00m\u001b[39m in \u001b[39m\u001b[39m{elapsed_time}\u001b[39;00m\u001b[39m sec\u001b[39m\u001b[39m\"\u001b[39m,\n\u001b[1;32m   1819\u001b[0m       fun_name\u001b[39m=\u001b[39m\u001b[39mstr\u001b[39m(name_stack), event\u001b[39m=\u001b[39mdispatch\u001b[39m.\u001b[39mJAXPR_TO_MLIR_MODULE_EVENT):\n\u001b[0;32m-> 1820\u001b[0m   lowering_result \u001b[39m=\u001b[39m mlir\u001b[39m.\u001b[39;49mlower_jaxpr_to_module(\n\u001b[1;32m   1821\u001b[0m       module_name,\n\u001b[1;32m   1822\u001b[0m       closed_jaxpr,\n\u001b[1;32m   1823\u001b[0m       ordered_effects\u001b[39m=\u001b[39;49mordered_effects,\n\u001b[1;32m   1824\u001b[0m       backend_or_name\u001b[39m=\u001b[39;49mbackend,\n\u001b[1;32m   1825\u001b[0m       \u001b[39m# Optionally, override the lowering platform\u001b[39;49;00m\n\u001b[1;32m   1826\u001b[0m       platforms\u001b[39m=\u001b[39;49mlowering_parameters\u001b[39m.\u001b[39;49mplatforms \u001b[39mor\u001b[39;49;00m (backend\u001b[39m.\u001b[39;49mplatform,),\n\u001b[1;32m   1827\u001b[0m       axis_context\u001b[39m=\u001b[39;49maxis_ctx,\n\u001b[1;32m   1828\u001b[0m       name_stack\u001b[39m=\u001b[39;49mname_stack,\n\u001b[1;32m   1829\u001b[0m       donated_args\u001b[39m=\u001b[39;49mdonated_invars,\n\u001b[1;32m   1830\u001b[0m       replicated_args\u001b[39m=\u001b[39;49mreplicated_args,\n\u001b[1;32m   1831\u001b[0m       arg_shardings\u001b[39m=\u001b[39;49min_mlir_shardings,\n\u001b[1;32m   1832\u001b[0m       result_shardings\u001b[39m=\u001b[39;49mout_mlir_shardings,\n\u001b[1;32m   1833\u001b[0m       in_layouts\u001b[39m=\u001b[39;49min_layouts,\n\u001b[1;32m   1834\u001b[0m       out_layouts\u001b[39m=\u001b[39;49mout_layouts,\n\u001b[1;32m   1835\u001b[0m       arg_names\u001b[39m=\u001b[39;49mjaxpr\u001b[39m.\u001b[39;49mdebug_info \u001b[39mand\u001b[39;49;00m jaxpr\u001b[39m.\u001b[39;49mdebug_info\u001b[39m.\u001b[39;49marg_names,\n\u001b[1;32m   1836\u001b[0m       result_names\u001b[39m=\u001b[39;49mjaxpr\u001b[39m.\u001b[39;49mdebug_info \u001b[39mand\u001b[39;49;00m jaxpr\u001b[39m.\u001b[39;49mdebug_info\u001b[39m.\u001b[39;49mresult_paths,\n\u001b[1;32m   1837\u001b[0m       num_replicas\u001b[39m=\u001b[39;49mnreps,\n\u001b[1;32m   1838\u001b[0m       num_partitions\u001b[39m=\u001b[39;49mnum_partitions,\n\u001b[1;32m   1839\u001b[0m       all_default_mem_kind\u001b[39m=\u001b[39;49mall_default_mem_kind,\n\u001b[1;32m   1840\u001b[0m       lowering_parameters\u001b[39m=\u001b[39;49mlowering_parameters)\n\u001b[1;32m   1841\u001b[0m tuple_args \u001b[39m=\u001b[39m dispatch\u001b[39m.\u001b[39mshould_tuple_args(\u001b[39mlen\u001b[39m(global_in_avals), backend\u001b[39m.\u001b[39mplatform)\n\u001b[1;32m   1842\u001b[0m unordered_effects \u001b[39m=\u001b[39m \u001b[39mlist\u001b[39m(\n\u001b[1;32m   1843\u001b[0m     effects\u001b[39m.\u001b[39mordered_effects\u001b[39m.\u001b[39mfilter_not_in(closed_jaxpr\u001b[39m.\u001b[39meffects))\n",
      "File \u001b[0;32m~/anaconda3/envs/dmff/lib/python3.11/site-packages/jax/_src/interpreters/mlir.py:847\u001b[0m, in \u001b[0;36mlower_jaxpr_to_module\u001b[0;34m(***failed resolving arguments***)\u001b[0m\n\u001b[1;32m    845\u001b[0m   attrs[\u001b[39m\"\u001b[39m\u001b[39mmhlo.num_partitions\u001b[39m\u001b[39m\"\u001b[39m] \u001b[39m=\u001b[39m i32_attr(num_partitions)\n\u001b[1;32m    846\u001b[0m   replace_tokens_with_dummy \u001b[39m=\u001b[39m lowering_parameters\u001b[39m.\u001b[39mreplace_tokens_with_dummy\n\u001b[0;32m--> 847\u001b[0m   lower_jaxpr_to_fun(\n\u001b[1;32m    848\u001b[0m       ctx, \u001b[39m\"\u001b[39;49m\u001b[39mmain\u001b[39;49m\u001b[39m\"\u001b[39;49m, jaxpr, ordered_effects, public\u001b[39m=\u001b[39;49m\u001b[39mTrue\u001b[39;49;00m,\n\u001b[1;32m    849\u001b[0m       create_tokens\u001b[39m=\u001b[39;49mreplace_tokens_with_dummy,\n\u001b[1;32m    850\u001b[0m       replace_tokens_with_dummy\u001b[39m=\u001b[39;49mreplace_tokens_with_dummy,\n\u001b[1;32m    851\u001b[0m       num_output_tokens\u001b[39m=\u001b[39;49m\u001b[39m0\u001b[39;49m,\n\u001b[1;32m    852\u001b[0m       replicated_args\u001b[39m=\u001b[39;49mreplicated_args,\n\u001b[1;32m    853\u001b[0m       arg_shardings\u001b[39m=\u001b[39;49marg_op_shardings,\n\u001b[1;32m    854\u001b[0m       result_shardings\u001b[39m=\u001b[39;49mresult_op_shardings,\n\u001b[1;32m    855\u001b[0m       input_output_aliases\u001b[39m=\u001b[39;49minput_output_aliases,\n\u001b[1;32m    856\u001b[0m       xla_donated_args\u001b[39m=\u001b[39;49mxla_donated_args,\n\u001b[1;32m    857\u001b[0m       arg_names\u001b[39m=\u001b[39;49marg_names,\n\u001b[1;32m    858\u001b[0m       result_names\u001b[39m=\u001b[39;49mresult_names,\n\u001b[1;32m    859\u001b[0m       arg_memory_kinds\u001b[39m=\u001b[39;49marg_memory_kinds,\n\u001b[1;32m    860\u001b[0m       result_memory_kinds\u001b[39m=\u001b[39;49mresult_memory_kinds,\n\u001b[1;32m    861\u001b[0m       arg_layouts\u001b[39m=\u001b[39;49marg_layouts,\n\u001b[1;32m    862\u001b[0m       result_layouts\u001b[39m=\u001b[39;49mresult_layouts)\n\u001b[1;32m    864\u001b[0m \u001b[39mtry\u001b[39;00m:\n\u001b[1;32m    865\u001b[0m   \u001b[39mif\u001b[39;00m \u001b[39mnot\u001b[39;00m ctx\u001b[39m.\u001b[39mmodule\u001b[39m.\u001b[39moperation\u001b[39m.\u001b[39mverify():\n",
      "File \u001b[0;32m~/anaconda3/envs/dmff/lib/python3.11/site-packages/jax/_src/interpreters/mlir.py:1259\u001b[0m, in \u001b[0;36mlower_jaxpr_to_fun\u001b[0;34m(ctx, name, jaxpr, effects, create_tokens, public, replace_tokens_with_dummy, replicated_args, arg_shardings, result_shardings, use_sharding_annotations, input_output_aliases, xla_donated_args, num_output_tokens, api_name, arg_names, result_names, arg_memory_kinds, result_memory_kinds, arg_layouts, result_layouts)\u001b[0m\n\u001b[1;32m   1257\u001b[0m   arg_locs \u001b[39m=\u001b[39m [ir\u001b[39m.\u001b[39mLocation\u001b[39m.\u001b[39munknown()] \u001b[39m*\u001b[39m (num_dim_vars \u001b[39m+\u001b[39m num_tokens)\n\u001b[1;32m   1258\u001b[0m   \u001b[39mfor\u001b[39;00m n \u001b[39min\u001b[39;00m arg_names:\n\u001b[0;32m-> 1259\u001b[0m     arg_locs\u001b[39m.\u001b[39mappend(ir\u001b[39m.\u001b[39;49mLocation\u001b[39m.\u001b[39;49mname(n) \u001b[39mif\u001b[39;00m n \u001b[39melse\u001b[39;00m ir\u001b[39m.\u001b[39mLocation\u001b[39m.\u001b[39munknown())\n\u001b[1;32m   1260\u001b[0m   entry_block \u001b[39m=\u001b[39m func_op\u001b[39m.\u001b[39madd_entry_block(arg_locs)\n\u001b[1;32m   1261\u001b[0m \u001b[39melse\u001b[39;00m:\n",
      "\u001b[0;31mKeyboardInterrupt\u001b[0m: "
     ]
    }
   ],
   "source": [
    "for nloop in range(10):\n",
    "\n",
    "    if nloop % 5 == 0:\n",
    "        clear_backends()\n",
    "    #sample()\n",
    "    move_traj()\n",
    "    traj_dict = analyse_traj(paramset, lj_gen)\n",
    "\n",
    "    def loss(paramset):\n",
    "        errors = []\n",
    "        for idx in [6]:#range(1, Number_points+1):\n",
    "            energies = []\n",
    "            for jdx in range(int(Trajectory_length/10)):\n",
    "                ener = compute_binding_energy(paramset, traj_dict[idx]['structure'][jdx][0], traj_dict[idx]['structure'][jdx][1], lj_gen, numframe=720,cutoff=cutoff)\n",
    "                energies.append(ener.reshape((1,)))\n",
    "            energies = jnp.concatenate(energies)\n",
    "            weight = traj_dict[idx]['estimator'].estimate_weight(energies)\n",
    "            reweight_loading = traj_dict[idx]['loading'] * weight\n",
    "            error = jnp.power(jnp.average(reweight_loading)-traj_dict[idx]['experiment']['loading'],2)\n",
    "            errors.append(error.reshape((1,)))\n",
    "            #print(error)\n",
    "        errors = jnp.concatenate(errors)\n",
    "        return jnp.sum(errors)\n",
    "\n",
    "    v_and_g = jax.value_and_grad(loss, 0)\n",
    "    v, g = v_and_g(paramset)\n",
    "    \n",
    "    paramset_old = paramset\n",
    "    lj_gen_old = lj_gen\n",
    "    \n",
    "    updates, opt_state = optimizer.update(g, opt_state)\n",
    "    paramset = optax.apply_updates(paramset, updates)\n",
    "    paramset = jax.tree_map(lambda x: jnp.clip(x, 0.0, 1e8), paramset)\n",
    "    update_ff(paramset)\n",
    "    lj_gen.overwrite(paramset)\n",
    "    "
   ]
  },
  {
   "cell_type": "code",
   "execution_count": 11,
   "metadata": {},
   "outputs": [
    {
     "data": {
      "text/plain": [
       "'Script finished successfully!'"
      ]
     },
     "metadata": {},
     "output_type": "display_data"
    },
    {
     "data": {
      "text/plain": [
       "'Script output:'"
      ]
     },
     "metadata": {},
     "output_type": "display_data"
    },
    {
     "data": {
      "text/plain": [
       "'This is the final pk values:  252510\\n'"
      ]
     },
     "metadata": {},
     "output_type": "display_data"
    },
    {
     "data": {
      "text/plain": [
       "'Script finished successfully!'"
      ]
     },
     "metadata": {},
     "output_type": "display_data"
    },
    {
     "data": {
      "text/plain": [
       "'Script output:'"
      ]
     },
     "metadata": {},
     "output_type": "display_data"
    },
    {
     "data": {
      "text/plain": [
       "'This is the final pk values:  252587\\n'"
      ]
     },
     "metadata": {},
     "output_type": "display_data"
    },
    {
     "data": {
      "text/plain": [
       "'Script finished successfully!'"
      ]
     },
     "metadata": {},
     "output_type": "display_data"
    },
    {
     "data": {
      "text/plain": [
       "'Script output:'"
      ]
     },
     "metadata": {},
     "output_type": "display_data"
    },
    {
     "data": {
      "text/plain": [
       "'This is the final pk values:  252639\\n'"
      ]
     },
     "metadata": {},
     "output_type": "display_data"
    },
    {
     "data": {
      "text/plain": [
       "'Script finished successfully!'"
      ]
     },
     "metadata": {},
     "output_type": "display_data"
    },
    {
     "data": {
      "text/plain": [
       "'Script output:'"
      ]
     },
     "metadata": {},
     "output_type": "display_data"
    },
    {
     "data": {
      "text/plain": [
       "'This is the final pk values:  252691\\n'"
      ]
     },
     "metadata": {},
     "output_type": "display_data"
    },
    {
     "data": {
      "text/plain": [
       "'Script finished successfully!'"
      ]
     },
     "metadata": {},
     "output_type": "display_data"
    },
    {
     "data": {
      "text/plain": [
       "'Script output:'"
      ]
     },
     "metadata": {},
     "output_type": "display_data"
    },
    {
     "data": {
      "text/plain": [
       "'This is the final pk values:  252758\\n'"
      ]
     },
     "metadata": {},
     "output_type": "display_data"
    },
    {
     "ename": "KeyboardInterrupt",
     "evalue": "",
     "output_type": "error",
     "traceback": [
      "\u001b[0;31m---------------------------------------------------------------------------\u001b[0m",
      "\u001b[0;31mKeyboardInterrupt\u001b[0m                         Traceback (most recent call last)",
      "Cell \u001b[0;32mIn[11], line 4\u001b[0m\n\u001b[1;32m      2\u001b[0m lj_gen_old \u001b[39m=\u001b[39m lj_gen\n\u001b[1;32m      3\u001b[0m \u001b[39mfor\u001b[39;00m nloop \u001b[39min\u001b[39;00m \u001b[39mrange\u001b[39m(\u001b[39m10\u001b[39m):\n\u001b[0;32m----> 4\u001b[0m     sample()\n\u001b[1;32m      5\u001b[0m     move_traj()\n\u001b[1;32m      6\u001b[0m     traj_dict \u001b[39m=\u001b[39m analyse_traj(paramset_old, lj_gen_old)\n",
      "Cell \u001b[0;32mIn[8], line 5\u001b[0m, in \u001b[0;36msample\u001b[0;34m()\u001b[0m\n\u001b[1;32m      3\u001b[0m command \u001b[39m=\u001b[39m [\u001b[39m\"\u001b[39m\u001b[39m/home/yutao/project/aiida/applications/sample.sh\u001b[39m\u001b[39m\"\u001b[39m]\n\u001b[1;32m      4\u001b[0m \u001b[39m# Run the script using subprocess\u001b[39;00m\n\u001b[0;32m----> 5\u001b[0m completed_process \u001b[39m=\u001b[39m subprocess\u001b[39m.\u001b[39;49mrun(command, capture_output\u001b[39m=\u001b[39;49m\u001b[39mTrue\u001b[39;49;00m, cwd\u001b[39m=\u001b[39;49m\u001b[39m\"\u001b[39;49m\u001b[39m/home/yutao/project/aiida/applications\u001b[39;49m\u001b[39m\"\u001b[39;49m,text\u001b[39m=\u001b[39;49m\u001b[39mTrue\u001b[39;49;00m)\n\u001b[1;32m      7\u001b[0m \u001b[39m# Check the return code\u001b[39;00m\n\u001b[1;32m      8\u001b[0m \u001b[39mif\u001b[39;00m completed_process\u001b[39m.\u001b[39mreturncode \u001b[39m==\u001b[39m \u001b[39m0\u001b[39m:\n\u001b[1;32m      9\u001b[0m     \u001b[39m# The script finished successfully\u001b[39;00m\n",
      "File \u001b[0;32m~/anaconda3/envs/dmff/lib/python3.11/subprocess.py:550\u001b[0m, in \u001b[0;36mrun\u001b[0;34m(input, capture_output, timeout, check, *popenargs, **kwargs)\u001b[0m\n\u001b[1;32m    548\u001b[0m \u001b[39mwith\u001b[39;00m Popen(\u001b[39m*\u001b[39mpopenargs, \u001b[39m*\u001b[39m\u001b[39m*\u001b[39mkwargs) \u001b[39mas\u001b[39;00m process:\n\u001b[1;32m    549\u001b[0m     \u001b[39mtry\u001b[39;00m:\n\u001b[0;32m--> 550\u001b[0m         stdout, stderr \u001b[39m=\u001b[39m process\u001b[39m.\u001b[39;49mcommunicate(\u001b[39minput\u001b[39;49m, timeout\u001b[39m=\u001b[39;49mtimeout)\n\u001b[1;32m    551\u001b[0m     \u001b[39mexcept\u001b[39;00m TimeoutExpired \u001b[39mas\u001b[39;00m exc:\n\u001b[1;32m    552\u001b[0m         process\u001b[39m.\u001b[39mkill()\n",
      "File \u001b[0;32m~/anaconda3/envs/dmff/lib/python3.11/subprocess.py:1209\u001b[0m, in \u001b[0;36mPopen.communicate\u001b[0;34m(self, input, timeout)\u001b[0m\n\u001b[1;32m   1206\u001b[0m     endtime \u001b[39m=\u001b[39m \u001b[39mNone\u001b[39;00m\n\u001b[1;32m   1208\u001b[0m \u001b[39mtry\u001b[39;00m:\n\u001b[0;32m-> 1209\u001b[0m     stdout, stderr \u001b[39m=\u001b[39m \u001b[39mself\u001b[39;49m\u001b[39m.\u001b[39;49m_communicate(\u001b[39minput\u001b[39;49m, endtime, timeout)\n\u001b[1;32m   1210\u001b[0m \u001b[39mexcept\u001b[39;00m \u001b[39mKeyboardInterrupt\u001b[39;00m:\n\u001b[1;32m   1211\u001b[0m     \u001b[39m# https://bugs.python.org/issue25942\u001b[39;00m\n\u001b[1;32m   1212\u001b[0m     \u001b[39m# See the detailed comment in .wait().\u001b[39;00m\n\u001b[1;32m   1213\u001b[0m     \u001b[39mif\u001b[39;00m timeout \u001b[39mis\u001b[39;00m \u001b[39mnot\u001b[39;00m \u001b[39mNone\u001b[39;00m:\n",
      "File \u001b[0;32m~/anaconda3/envs/dmff/lib/python3.11/subprocess.py:2108\u001b[0m, in \u001b[0;36mPopen._communicate\u001b[0;34m(self, input, endtime, orig_timeout)\u001b[0m\n\u001b[1;32m   2101\u001b[0m     \u001b[39mself\u001b[39m\u001b[39m.\u001b[39m_check_timeout(endtime, orig_timeout,\n\u001b[1;32m   2102\u001b[0m                         stdout, stderr,\n\u001b[1;32m   2103\u001b[0m                         skip_check_and_raise\u001b[39m=\u001b[39m\u001b[39mTrue\u001b[39;00m)\n\u001b[1;32m   2104\u001b[0m     \u001b[39mraise\u001b[39;00m \u001b[39mRuntimeError\u001b[39;00m(  \u001b[39m# Impossible :)\u001b[39;00m\n\u001b[1;32m   2105\u001b[0m         \u001b[39m'\u001b[39m\u001b[39m_check_timeout(..., skip_check_and_raise=True) \u001b[39m\u001b[39m'\u001b[39m\n\u001b[1;32m   2106\u001b[0m         \u001b[39m'\u001b[39m\u001b[39mfailed to raise TimeoutExpired.\u001b[39m\u001b[39m'\u001b[39m)\n\u001b[0;32m-> 2108\u001b[0m ready \u001b[39m=\u001b[39m selector\u001b[39m.\u001b[39;49mselect(timeout)\n\u001b[1;32m   2109\u001b[0m \u001b[39mself\u001b[39m\u001b[39m.\u001b[39m_check_timeout(endtime, orig_timeout, stdout, stderr)\n\u001b[1;32m   2111\u001b[0m \u001b[39m# XXX Rewrite these to use non-blocking I/O on the file\u001b[39;00m\n\u001b[1;32m   2112\u001b[0m \u001b[39m# objects; they are no longer using C stdio!\u001b[39;00m\n",
      "File \u001b[0;32m~/anaconda3/envs/dmff/lib/python3.11/selectors.py:415\u001b[0m, in \u001b[0;36m_PollLikeSelector.select\u001b[0;34m(self, timeout)\u001b[0m\n\u001b[1;32m    413\u001b[0m ready \u001b[39m=\u001b[39m []\n\u001b[1;32m    414\u001b[0m \u001b[39mtry\u001b[39;00m:\n\u001b[0;32m--> 415\u001b[0m     fd_event_list \u001b[39m=\u001b[39m \u001b[39mself\u001b[39m\u001b[39m.\u001b[39m_selector\u001b[39m.\u001b[39mpoll(timeout)\n\u001b[1;32m    416\u001b[0m \u001b[39mexcept\u001b[39;00m \u001b[39mInterruptedError\u001b[39;00m:\n\u001b[1;32m    417\u001b[0m     \u001b[39mreturn\u001b[39;00m ready\n",
      "\u001b[0;31mKeyboardInterrupt\u001b[0m: "
     ]
    }
   ],
   "source": [
    "paramset_old = paramset\n",
    "lj_gen_old = lj_gen\n",
    "for nloop in range(10):\n",
    "\n",
    "    if nloop % 5 == 0:\n",
    "        clear_backends()\n",
    "    sample()\n",
    "    move_traj()\n",
    "    traj_dict = analyse_traj(paramset_old, lj_gen_old)\n",
    "\n",
    "    def loss(paramset):\n",
    "        errors = []\n",
    "        for idx in [6]:#range(1, Number_points+1):\n",
    "            energies = []\n",
    "            for jdx in range(int(Trajectory_length/10)):\n",
    "                ener = compute_binding_energy(paramset, traj_dict[idx]['structure'][jdx][0], traj_dict[idx]['structure'][jdx][1], lj_gen, numframe=720,cutoff=cutoff)\n",
    "                energies.append(ener.reshape((1,)))\n",
    "            energies = jnp.concatenate(energies)\n",
    "            weight = traj_dict[idx]['estimator'].estimate_weight(energies)\n",
    "            reweight_loading = traj_dict[idx]['loading'] * weight\n",
    "            error = jnp.power(jnp.average(reweight_loading)-traj_dict[idx]['experiment']['loading'],2)\n",
    "            errors.append(error.reshape((1,)))\n",
    "            #print(error)\n",
    "        errors = jnp.concatenate(errors)\n",
    "        return jnp.sum(errors)\n",
    "\n",
    "    v_and_g = jax.value_and_grad(loss, 0)\n",
    "    v, g = v_and_g(paramset)\n",
    "    \n",
    "    paramset_old = paramset\n",
    "    lj_gen_old = lj_gen\n",
    "    \n",
    "    updates, opt_state = optimizer.update(g, opt_state)\n",
    "    paramset = optax.apply_updates(paramset, updates)\n",
    "    paramset = jax.tree_map(lambda x: jnp.clip(x, 0.0, 1e8), paramset)\n",
    "    update_ff(paramset)\n",
    "    lj_gen.overwrite(paramset)"
   ]
  },
  {
   "cell_type": "code",
   "execution_count": 15,
   "metadata": {},
   "outputs": [],
   "source": [
    "# Initial Optimized parameters\n",
    "xmlio = XMLIO()\n",
    "xmlio.loadXML(\"data/init.xml\")\n",
    "ffinfo = xmlio.parseXML()\n",
    "paramset = ParamSet()\n",
    "lj_gen = LennardJonesGenerator(ffinfo, paramset)\n",
    "\n",
    "xmlio = XMLIO()\n",
    "xmlio.loadXML(\"data/init.xml\")\n",
    "ffinfo = xmlio.parseXML()\n",
    "paramset_old = ParamSet()\n",
    "lj_gen = LennardJonesGenerator(ffinfo, paramset_old)\n",
    "\n",
    "paramset.mask['LennardJonesForce']['sigma'] = paramset.mask['LennardJonesForce']['sigma'].at[0].set(0)\n",
    "paramset.mask['LennardJonesForce']['sigma'] = paramset.mask['LennardJonesForce']['sigma'].at[1].set(0)\n",
    "paramset.mask['LennardJonesForce']['sigma'] = paramset.mask['LennardJonesForce']['sigma'].at[2].set(0)\n",
    "paramset.mask['LennardJonesForce']['sigma'] = paramset.mask['LennardJonesForce']['sigma'].at[3].set(0)\n",
    "\n",
    "\n"
   ]
  },
  {
   "cell_type": "code",
   "execution_count": 18,
   "metadata": {},
   "outputs": [],
   "source": [
    "# Initial Optimized parameters\n",
    "xmlio = XMLIO()\n",
    "xmlio.loadXML(\"data/init.xml\")\n",
    "ffinfo = xmlio.parseXML()\n",
    "paramset_old = ParamSet()\n",
    "lj_gen = LennardJonesGenerator(ffinfo, paramset_old)\n",
    "\n",
    "xmlio = XMLIO()\n",
    "xmlio.loadXML(\"data/transition.xml\")\n",
    "ffinfo = xmlio.parseXML()\n",
    "paramset = ParamSet()\n",
    "lj_gen = LennardJonesGenerator(ffinfo, paramset)\n",
    "\n",
    "\n",
    "paramset.mask['LennardJonesForce']['sigma'] = paramset.mask['LennardJonesForce']['sigma'].at[0].set(0)\n",
    "paramset.mask['LennardJonesForce']['sigma'] = paramset.mask['LennardJonesForce']['sigma'].at[1].set(0)\n",
    "paramset.mask['LennardJonesForce']['sigma'] = paramset.mask['LennardJonesForce']['sigma'].at[2].set(0)\n",
    "paramset.mask['LennardJonesForce']['sigma'] = paramset.mask['LennardJonesForce']['sigma'].at[3].set(0)"
   ]
  },
  {
   "cell_type": "code",
   "execution_count": 17,
   "metadata": {},
   "outputs": [],
   "source": [
    "xmlio.loadXML(\"data/init.xml\")\n",
    "ffinfo_old = xmlio.parseXML()\n",
    "paramset_old = ParamSet()\n",
    "lj_gen = LennardJonesGenerator(ffinfo_old, paramset_old)"
   ]
  },
  {
   "cell_type": "code",
   "execution_count": 57,
   "metadata": {},
   "outputs": [
    {
     "data": {
      "text/plain": [
       "{'LennardJonesForce': {'meta': {'lj14scale': '1.0'},\n",
       "  'node': [{'name': 'Atom',\n",
       "    'attrib': {'epsilon': '1.8905569548195686',\n",
       "     'sigma': '0.40082',\n",
       "     'type': 'Al',\n",
       "     'mask': 'false'}},\n",
       "   {'name': 'Atom',\n",
       "    'attrib': {'epsilon': '0.2616655360346563',\n",
       "     'sigma': '0.34309',\n",
       "     'type': 'C',\n",
       "     'mask': 'false'}},\n",
       "   {'name': 'Atom',\n",
       "    'attrib': {'epsilon': '0.17446061282870007',\n",
       "     'sigma': '0.25711',\n",
       "     'type': 'H',\n",
       "     'mask': 'false'}},\n",
       "   {'name': 'Atom',\n",
       "    'attrib': {'epsilon': '0.149879510726876',\n",
       "     'sigma': '0.31181',\n",
       "     'type': 'O',\n",
       "     'mask': 'false'}},\n",
       "   {'name': 'Atom',\n",
       "    'attrib': {'epsilon': '0.65757',\n",
       "     'sigma': '0.305',\n",
       "     'type': 'O_co2',\n",
       "     'mask': 'true'}},\n",
       "   {'name': 'Atom',\n",
       "    'attrib': {'epsilon': '0.22469',\n",
       "     'sigma': '0.28',\n",
       "     'type': 'C_co2',\n",
       "     'mask': 'true'}},\n",
       "   {'name': 'Atom',\n",
       "    'attrib': {'epsilon': '2.11525',\n",
       "     'sigma': '0.40082',\n",
       "     'type': 'Al',\n",
       "     'mask': 'false'}},\n",
       "   {'name': 'Atom',\n",
       "    'attrib': {'epsilon': '0.43979',\n",
       "     'sigma': '0.34309',\n",
       "     'type': 'C',\n",
       "     'mask': 'false'}},\n",
       "   {'name': 'Atom',\n",
       "    'attrib': {'epsilon': '0.18436',\n",
       "     'sigma': '0.25711',\n",
       "     'type': 'H',\n",
       "     'mask': 'false'}},\n",
       "   {'name': 'Atom',\n",
       "    'attrib': {'epsilon': '0.25079',\n",
       "     'sigma': '0.31181',\n",
       "     'type': 'O',\n",
       "     'mask': 'false'}},\n",
       "   {'name': 'Atom',\n",
       "    'attrib': {'epsilon': '0.65757',\n",
       "     'sigma': '0.305',\n",
       "     'type': 'O_co2',\n",
       "     'mask': 'true'}},\n",
       "   {'name': 'Atom',\n",
       "    'attrib': {'epsilon': '0.22469',\n",
       "     'sigma': '0.28',\n",
       "     'type': 'C_co2',\n",
       "     'mask': 'true'}},\n",
       "   {'name': 'Atom',\n",
       "    'attrib': {'epsilon': '2.11525',\n",
       "     'sigma': '0.40082',\n",
       "     'type': 'Al',\n",
       "     'mask': 'false'}},\n",
       "   {'name': 'Atom',\n",
       "    'attrib': {'epsilon': '0.43979',\n",
       "     'sigma': '0.34309',\n",
       "     'type': 'C',\n",
       "     'mask': 'false'}},\n",
       "   {'name': 'Atom',\n",
       "    'attrib': {'epsilon': '0.18436',\n",
       "     'sigma': '0.25711',\n",
       "     'type': 'H',\n",
       "     'mask': 'false'}},\n",
       "   {'name': 'Atom',\n",
       "    'attrib': {'epsilon': '0.25079',\n",
       "     'sigma': '0.31181',\n",
       "     'type': 'O',\n",
       "     'mask': 'false'}},\n",
       "   {'name': 'Atom',\n",
       "    'attrib': {'epsilon': '0.65757',\n",
       "     'sigma': '0.305',\n",
       "     'type': 'O_co2',\n",
       "     'mask': 'true'}},\n",
       "   {'name': 'Atom',\n",
       "    'attrib': {'epsilon': '0.22469',\n",
       "     'sigma': '0.28',\n",
       "     'type': 'C_co2',\n",
       "     'mask': 'true'}},\n",
       "   {'name': 'Atom',\n",
       "    'attrib': {'epsilon': '2.11525',\n",
       "     'sigma': '0.40082',\n",
       "     'type': 'Al',\n",
       "     'mask': 'false'}},\n",
       "   {'name': 'Atom',\n",
       "    'attrib': {'epsilon': '0.43979',\n",
       "     'sigma': '0.34309',\n",
       "     'type': 'C',\n",
       "     'mask': 'false'}},\n",
       "   {'name': 'Atom',\n",
       "    'attrib': {'epsilon': '0.18436',\n",
       "     'sigma': '0.25711',\n",
       "     'type': 'H',\n",
       "     'mask': 'false'}},\n",
       "   {'name': 'Atom',\n",
       "    'attrib': {'epsilon': '0.25079',\n",
       "     'sigma': '0.31181',\n",
       "     'type': 'O',\n",
       "     'mask': 'false'}},\n",
       "   {'name': 'Atom',\n",
       "    'attrib': {'epsilon': '0.65757',\n",
       "     'sigma': '0.305',\n",
       "     'type': 'O_co2',\n",
       "     'mask': 'true'}},\n",
       "   {'name': 'Atom',\n",
       "    'attrib': {'epsilon': '0.22469',\n",
       "     'sigma': '0.28',\n",
       "     'type': 'C_co2',\n",
       "     'mask': 'true'}},\n",
       "   {'name': 'Atom',\n",
       "    'attrib': {'epsilon': '2.11525',\n",
       "     'sigma': '0.40082',\n",
       "     'type': 'Al',\n",
       "     'mask': 'false'}},\n",
       "   {'name': 'Atom',\n",
       "    'attrib': {'epsilon': '0.43979',\n",
       "     'sigma': '0.34309',\n",
       "     'type': 'C',\n",
       "     'mask': 'false'}},\n",
       "   {'name': 'Atom',\n",
       "    'attrib': {'epsilon': '0.18436',\n",
       "     'sigma': '0.25711',\n",
       "     'type': 'H',\n",
       "     'mask': 'false'}},\n",
       "   {'name': 'Atom',\n",
       "    'attrib': {'epsilon': '0.25079',\n",
       "     'sigma': '0.31181',\n",
       "     'type': 'O',\n",
       "     'mask': 'false'}},\n",
       "   {'name': 'Atom',\n",
       "    'attrib': {'epsilon': '0.65757',\n",
       "     'sigma': '0.305',\n",
       "     'type': 'O_co2',\n",
       "     'mask': 'true'}},\n",
       "   {'name': 'Atom',\n",
       "    'attrib': {'epsilon': '0.22469',\n",
       "     'sigma': '0.28',\n",
       "     'type': 'C_co2',\n",
       "     'mask': 'true'}},\n",
       "   {'name': 'Atom',\n",
       "    'attrib': {'epsilon': '1.8905569548195686',\n",
       "     'sigma': '0.40082',\n",
       "     'type': 'Al',\n",
       "     'mask': 'false'}},\n",
       "   {'name': 'Atom',\n",
       "    'attrib': {'epsilon': '0.2616655360346563',\n",
       "     'sigma': '0.34309',\n",
       "     'type': 'C',\n",
       "     'mask': 'false'}},\n",
       "   {'name': 'Atom',\n",
       "    'attrib': {'epsilon': '0.17446061282870007',\n",
       "     'sigma': '0.25711',\n",
       "     'type': 'H',\n",
       "     'mask': 'false'}},\n",
       "   {'name': 'Atom',\n",
       "    'attrib': {'epsilon': '0.149879510726876',\n",
       "     'sigma': '0.31181',\n",
       "     'type': 'O',\n",
       "     'mask': 'false'}},\n",
       "   {'name': 'Atom',\n",
       "    'attrib': {'epsilon': '0.65757',\n",
       "     'sigma': '0.305',\n",
       "     'type': 'O_co2',\n",
       "     'mask': 'true'}},\n",
       "   {'name': 'Atom',\n",
       "    'attrib': {'epsilon': '0.22469',\n",
       "     'sigma': '0.28',\n",
       "     'type': 'C_co2',\n",
       "     'mask': 'true'}},\n",
       "   {'name': 'Atom',\n",
       "    'attrib': {'epsilon': '2.11525',\n",
       "     'sigma': '0.40082',\n",
       "     'type': 'Al',\n",
       "     'mask': 'false'}},\n",
       "   {'name': 'Atom',\n",
       "    'attrib': {'epsilon': '0.43979',\n",
       "     'sigma': '0.34309',\n",
       "     'type': 'C',\n",
       "     'mask': 'false'}},\n",
       "   {'name': 'Atom',\n",
       "    'attrib': {'epsilon': '0.18436',\n",
       "     'sigma': '0.25711',\n",
       "     'type': 'H',\n",
       "     'mask': 'false'}},\n",
       "   {'name': 'Atom',\n",
       "    'attrib': {'epsilon': '0.25079',\n",
       "     'sigma': '0.31181',\n",
       "     'type': 'O',\n",
       "     'mask': 'false'}},\n",
       "   {'name': 'Atom',\n",
       "    'attrib': {'epsilon': '0.65757',\n",
       "     'sigma': '0.305',\n",
       "     'type': 'O_co2',\n",
       "     'mask': 'true'}},\n",
       "   {'name': 'Atom',\n",
       "    'attrib': {'epsilon': '0.22469',\n",
       "     'sigma': '0.28',\n",
       "     'type': 'C_co2',\n",
       "     'mask': 'true'}}]}}"
      ]
     },
     "execution_count": 57,
     "metadata": {},
     "output_type": "execute_result"
    }
   ],
   "source": [
    "ffinfo_old[\"Forces\"]"
   ]
  },
  {
   "cell_type": "code",
   "execution_count": 58,
   "metadata": {},
   "outputs": [
    {
     "name": "stdout",
     "output_type": "stream",
     "text": [
      "{'name': 'Atom', 'attrib': {'epsilon': '1.8905569548195686', 'sigma': '0.40082', 'type': 'Al', 'mask': 'false'}}\n",
      "{'name': 'Atom', 'attrib': {'epsilon': '0.2616655360346563', 'sigma': '0.34309', 'type': 'C', 'mask': 'false'}}\n",
      "{'name': 'Atom', 'attrib': {'epsilon': '0.17446061282870007', 'sigma': '0.25711', 'type': 'H', 'mask': 'false'}}\n",
      "{'name': 'Atom', 'attrib': {'epsilon': '0.149879510726876', 'sigma': '0.31181', 'type': 'O', 'mask': 'false'}}\n",
      "{'name': 'Atom', 'attrib': {'epsilon': '0.65757', 'sigma': '0.305', 'type': 'O_co2', 'mask': 'true'}}\n",
      "{'name': 'Atom', 'attrib': {'epsilon': '0.22469', 'sigma': '0.28', 'type': 'C_co2', 'mask': 'true'}}\n",
      "{'name': 'Atom', 'attrib': {'epsilon': '2.11525', 'sigma': '0.40082', 'type': 'Al', 'mask': 'false'}}\n",
      "{'name': 'Atom', 'attrib': {'epsilon': '0.43979', 'sigma': '0.34309', 'type': 'C', 'mask': 'false'}}\n",
      "{'name': 'Atom', 'attrib': {'epsilon': '0.18436', 'sigma': '0.25711', 'type': 'H', 'mask': 'false'}}\n",
      "{'name': 'Atom', 'attrib': {'epsilon': '0.25079', 'sigma': '0.31181', 'type': 'O', 'mask': 'false'}}\n",
      "{'name': 'Atom', 'attrib': {'epsilon': '0.65757', 'sigma': '0.305', 'type': 'O_co2', 'mask': 'true'}}\n",
      "{'name': 'Atom', 'attrib': {'epsilon': '0.22469', 'sigma': '0.28', 'type': 'C_co2', 'mask': 'true'}}\n",
      "{'name': 'Atom', 'attrib': {'epsilon': '2.11525', 'sigma': '0.40082', 'type': 'Al', 'mask': 'false'}}\n",
      "{'name': 'Atom', 'attrib': {'epsilon': '0.43979', 'sigma': '0.34309', 'type': 'C', 'mask': 'false'}}\n",
      "{'name': 'Atom', 'attrib': {'epsilon': '0.18436', 'sigma': '0.25711', 'type': 'H', 'mask': 'false'}}\n",
      "{'name': 'Atom', 'attrib': {'epsilon': '0.25079', 'sigma': '0.31181', 'type': 'O', 'mask': 'false'}}\n",
      "{'name': 'Atom', 'attrib': {'epsilon': '0.65757', 'sigma': '0.305', 'type': 'O_co2', 'mask': 'true'}}\n",
      "{'name': 'Atom', 'attrib': {'epsilon': '0.22469', 'sigma': '0.28', 'type': 'C_co2', 'mask': 'true'}}\n",
      "{'name': 'Atom', 'attrib': {'epsilon': '2.11525', 'sigma': '0.40082', 'type': 'Al', 'mask': 'false'}}\n",
      "{'name': 'Atom', 'attrib': {'epsilon': '0.43979', 'sigma': '0.34309', 'type': 'C', 'mask': 'false'}}\n",
      "{'name': 'Atom', 'attrib': {'epsilon': '0.18436', 'sigma': '0.25711', 'type': 'H', 'mask': 'false'}}\n",
      "{'name': 'Atom', 'attrib': {'epsilon': '0.25079', 'sigma': '0.31181', 'type': 'O', 'mask': 'false'}}\n",
      "{'name': 'Atom', 'attrib': {'epsilon': '0.65757', 'sigma': '0.305', 'type': 'O_co2', 'mask': 'true'}}\n",
      "{'name': 'Atom', 'attrib': {'epsilon': '0.22469', 'sigma': '0.28', 'type': 'C_co2', 'mask': 'true'}}\n",
      "{'name': 'Atom', 'attrib': {'epsilon': '2.11525', 'sigma': '0.40082', 'type': 'Al', 'mask': 'false'}}\n",
      "{'name': 'Atom', 'attrib': {'epsilon': '0.43979', 'sigma': '0.34309', 'type': 'C', 'mask': 'false'}}\n",
      "{'name': 'Atom', 'attrib': {'epsilon': '0.18436', 'sigma': '0.25711', 'type': 'H', 'mask': 'false'}}\n",
      "{'name': 'Atom', 'attrib': {'epsilon': '0.25079', 'sigma': '0.31181', 'type': 'O', 'mask': 'false'}}\n",
      "{'name': 'Atom', 'attrib': {'epsilon': '0.65757', 'sigma': '0.305', 'type': 'O_co2', 'mask': 'true'}}\n",
      "{'name': 'Atom', 'attrib': {'epsilon': '0.22469', 'sigma': '0.28', 'type': 'C_co2', 'mask': 'true'}}\n",
      "{'name': 'Atom', 'attrib': {'epsilon': '1.8905569548195686', 'sigma': '0.40082', 'type': 'Al', 'mask': 'false'}}\n",
      "{'name': 'Atom', 'attrib': {'epsilon': '0.2616655360346563', 'sigma': '0.34309', 'type': 'C', 'mask': 'false'}}\n",
      "{'name': 'Atom', 'attrib': {'epsilon': '0.17446061282870007', 'sigma': '0.25711', 'type': 'H', 'mask': 'false'}}\n",
      "{'name': 'Atom', 'attrib': {'epsilon': '0.149879510726876', 'sigma': '0.31181', 'type': 'O', 'mask': 'false'}}\n",
      "{'name': 'Atom', 'attrib': {'epsilon': '0.65757', 'sigma': '0.305', 'type': 'O_co2', 'mask': 'true'}}\n",
      "{'name': 'Atom', 'attrib': {'epsilon': '0.22469', 'sigma': '0.28', 'type': 'C_co2', 'mask': 'true'}}\n",
      "{'name': 'Atom', 'attrib': {'epsilon': '2.11525', 'sigma': '0.40082', 'type': 'Al', 'mask': 'false'}}\n",
      "{'name': 'Atom', 'attrib': {'epsilon': '0.43979', 'sigma': '0.34309', 'type': 'C', 'mask': 'false'}}\n",
      "{'name': 'Atom', 'attrib': {'epsilon': '0.18436', 'sigma': '0.25711', 'type': 'H', 'mask': 'false'}}\n",
      "{'name': 'Atom', 'attrib': {'epsilon': '0.25079', 'sigma': '0.31181', 'type': 'O', 'mask': 'false'}}\n",
      "{'name': 'Atom', 'attrib': {'epsilon': '0.65757', 'sigma': '0.305', 'type': 'O_co2', 'mask': 'true'}}\n",
      "{'name': 'Atom', 'attrib': {'epsilon': '0.22469', 'sigma': '0.28', 'type': 'C_co2', 'mask': 'true'}}\n"
     ]
    }
   ],
   "source": [
    "for node in ffinfo_old[\"Forces\"]['LennardJonesForce'][\"node\"]:\n",
    "    if node[\"name\"] == \"Atom\":\n",
    "        if \"type\" in node[\"attrib\"]:\n",
    "            atype, eps, sig = node[\"attrib\"][\"type\"], node[\"attrib\"][\n",
    "                \"epsilon\"], node[\"attrib\"][\"sigma\"]\n",
    "        elif \"class\" in node[\"attrib\"]:\n",
    "            acls, eps, sig = node[\"attrib\"][\"class\"], node[\"attrib\"][\n",
    "                \"epsilon\"], node[\"attrib\"][\"sigma\"]\n",
    "            atypes = ffinfo[\"ClassToType\"][acls]\n",
    "        print(node)"
   ]
  },
  {
   "cell_type": "code",
   "execution_count": 50,
   "metadata": {},
   "outputs": [
    {
     "data": {
      "text/plain": [
       "{'Operators': {},\n",
       " 'AtomTypes': [],\n",
       " 'Residues': [],\n",
       " 'Forces': {'LennardJonesForce': {'meta': {'lj14scale': '1.0'},\n",
       "   'node': [{'name': 'Atom',\n",
       "     'attrib': {'epsilon': '1.8905569548195686',\n",
       "      'sigma': '0.40082',\n",
       "      'type': 'Al',\n",
       "      'mask': 'false'}},\n",
       "    {'name': 'Atom',\n",
       "     'attrib': {'epsilon': '0.2616655360346563',\n",
       "      'sigma': '0.34309',\n",
       "      'type': 'C',\n",
       "      'mask': 'false'}},\n",
       "    {'name': 'Atom',\n",
       "     'attrib': {'epsilon': '0.17446061282870007',\n",
       "      'sigma': '0.25711',\n",
       "      'type': 'H',\n",
       "      'mask': 'false'}},\n",
       "    {'name': 'Atom',\n",
       "     'attrib': {'epsilon': '0.149879510726876',\n",
       "      'sigma': '0.31181',\n",
       "      'type': 'O',\n",
       "      'mask': 'false'}},\n",
       "    {'name': 'Atom',\n",
       "     'attrib': {'epsilon': '0.65757',\n",
       "      'sigma': '0.305',\n",
       "      'type': 'O_co2',\n",
       "      'mask': 'true'}},\n",
       "    {'name': 'Atom',\n",
       "     'attrib': {'epsilon': '0.22469',\n",
       "      'sigma': '0.28',\n",
       "      'type': 'C_co2',\n",
       "      'mask': 'true'}},\n",
       "    {'name': 'Atom',\n",
       "     'attrib': {'epsilon': '2.11525',\n",
       "      'sigma': '0.40082',\n",
       "      'type': 'Al',\n",
       "      'mask': 'false'}},\n",
       "    {'name': 'Atom',\n",
       "     'attrib': {'epsilon': '0.43979',\n",
       "      'sigma': '0.34309',\n",
       "      'type': 'C',\n",
       "      'mask': 'false'}},\n",
       "    {'name': 'Atom',\n",
       "     'attrib': {'epsilon': '0.18436',\n",
       "      'sigma': '0.25711',\n",
       "      'type': 'H',\n",
       "      'mask': 'false'}},\n",
       "    {'name': 'Atom',\n",
       "     'attrib': {'epsilon': '0.25079',\n",
       "      'sigma': '0.31181',\n",
       "      'type': 'O',\n",
       "      'mask': 'false'}},\n",
       "    {'name': 'Atom',\n",
       "     'attrib': {'epsilon': '0.65757',\n",
       "      'sigma': '0.305',\n",
       "      'type': 'O_co2',\n",
       "      'mask': 'true'}},\n",
       "    {'name': 'Atom',\n",
       "     'attrib': {'epsilon': '0.22469',\n",
       "      'sigma': '0.28',\n",
       "      'type': 'C_co2',\n",
       "      'mask': 'true'}},\n",
       "    {'name': 'Atom',\n",
       "     'attrib': {'epsilon': '2.11525',\n",
       "      'sigma': '0.40082',\n",
       "      'type': 'Al',\n",
       "      'mask': 'false'}},\n",
       "    {'name': 'Atom',\n",
       "     'attrib': {'epsilon': '0.43979',\n",
       "      'sigma': '0.34309',\n",
       "      'type': 'C',\n",
       "      'mask': 'false'}},\n",
       "    {'name': 'Atom',\n",
       "     'attrib': {'epsilon': '0.18436',\n",
       "      'sigma': '0.25711',\n",
       "      'type': 'H',\n",
       "      'mask': 'false'}},\n",
       "    {'name': 'Atom',\n",
       "     'attrib': {'epsilon': '0.25079',\n",
       "      'sigma': '0.31181',\n",
       "      'type': 'O',\n",
       "      'mask': 'false'}},\n",
       "    {'name': 'Atom',\n",
       "     'attrib': {'epsilon': '0.65757',\n",
       "      'sigma': '0.305',\n",
       "      'type': 'O_co2',\n",
       "      'mask': 'true'}},\n",
       "    {'name': 'Atom',\n",
       "     'attrib': {'epsilon': '0.22469',\n",
       "      'sigma': '0.28',\n",
       "      'type': 'C_co2',\n",
       "      'mask': 'true'}},\n",
       "    {'name': 'Atom',\n",
       "     'attrib': {'epsilon': '2.11525',\n",
       "      'sigma': '0.40082',\n",
       "      'type': 'Al',\n",
       "      'mask': 'false'}},\n",
       "    {'name': 'Atom',\n",
       "     'attrib': {'epsilon': '0.43979',\n",
       "      'sigma': '0.34309',\n",
       "      'type': 'C',\n",
       "      'mask': 'false'}},\n",
       "    {'name': 'Atom',\n",
       "     'attrib': {'epsilon': '0.18436',\n",
       "      'sigma': '0.25711',\n",
       "      'type': 'H',\n",
       "      'mask': 'false'}},\n",
       "    {'name': 'Atom',\n",
       "     'attrib': {'epsilon': '0.25079',\n",
       "      'sigma': '0.31181',\n",
       "      'type': 'O',\n",
       "      'mask': 'false'}},\n",
       "    {'name': 'Atom',\n",
       "     'attrib': {'epsilon': '0.65757',\n",
       "      'sigma': '0.305',\n",
       "      'type': 'O_co2',\n",
       "      'mask': 'true'}},\n",
       "    {'name': 'Atom',\n",
       "     'attrib': {'epsilon': '0.22469',\n",
       "      'sigma': '0.28',\n",
       "      'type': 'C_co2',\n",
       "      'mask': 'true'}},\n",
       "    {'name': 'Atom',\n",
       "     'attrib': {'epsilon': '2.11525',\n",
       "      'sigma': '0.40082',\n",
       "      'type': 'Al',\n",
       "      'mask': 'false'}},\n",
       "    {'name': 'Atom',\n",
       "     'attrib': {'epsilon': '0.43979',\n",
       "      'sigma': '0.34309',\n",
       "      'type': 'C',\n",
       "      'mask': 'false'}},\n",
       "    {'name': 'Atom',\n",
       "     'attrib': {'epsilon': '0.18436',\n",
       "      'sigma': '0.25711',\n",
       "      'type': 'H',\n",
       "      'mask': 'false'}},\n",
       "    {'name': 'Atom',\n",
       "     'attrib': {'epsilon': '0.25079',\n",
       "      'sigma': '0.31181',\n",
       "      'type': 'O',\n",
       "      'mask': 'false'}},\n",
       "    {'name': 'Atom',\n",
       "     'attrib': {'epsilon': '0.65757',\n",
       "      'sigma': '0.305',\n",
       "      'type': 'O_co2',\n",
       "      'mask': 'true'}},\n",
       "    {'name': 'Atom',\n",
       "     'attrib': {'epsilon': '0.22469',\n",
       "      'sigma': '0.28',\n",
       "      'type': 'C_co2',\n",
       "      'mask': 'true'}},\n",
       "    {'name': 'Atom',\n",
       "     'attrib': {'epsilon': '1.8905569548195686',\n",
       "      'sigma': '0.40082',\n",
       "      'type': 'Al',\n",
       "      'mask': 'false'}},\n",
       "    {'name': 'Atom',\n",
       "     'attrib': {'epsilon': '0.2616655360346563',\n",
       "      'sigma': '0.34309',\n",
       "      'type': 'C',\n",
       "      'mask': 'false'}},\n",
       "    {'name': 'Atom',\n",
       "     'attrib': {'epsilon': '0.17446061282870007',\n",
       "      'sigma': '0.25711',\n",
       "      'type': 'H',\n",
       "      'mask': 'false'}},\n",
       "    {'name': 'Atom',\n",
       "     'attrib': {'epsilon': '0.149879510726876',\n",
       "      'sigma': '0.31181',\n",
       "      'type': 'O',\n",
       "      'mask': 'false'}},\n",
       "    {'name': 'Atom',\n",
       "     'attrib': {'epsilon': '0.65757',\n",
       "      'sigma': '0.305',\n",
       "      'type': 'O_co2',\n",
       "      'mask': 'true'}},\n",
       "    {'name': 'Atom',\n",
       "     'attrib': {'epsilon': '0.22469',\n",
       "      'sigma': '0.28',\n",
       "      'type': 'C_co2',\n",
       "      'mask': 'true'}}]}},\n",
       " 'ClassToType': {}}"
      ]
     },
     "execution_count": 50,
     "metadata": {},
     "output_type": "execute_result"
    }
   ],
   "source": [
    "ffinfo_old"
   ]
  },
  {
   "cell_type": "code",
   "execution_count": 46,
   "metadata": {},
   "outputs": [],
   "source": [
    "paramset_old = ParamSet()"
   ]
  },
  {
   "cell_type": "code",
   "execution_count": 61,
   "metadata": {},
   "outputs": [
    {
     "data": {
      "text/plain": [
       "{'LennardJonesForce': {'sigma': Array([0.40082, 0.34309, 0.25711, 0.31181, 0.305  , 0.28   ], dtype=float64),\n",
       "  'epsilon': Array([2.11525, 0.43979, 0.18436, 0.25079, 0.65757, 0.22469], dtype=float64),\n",
       "  'sigma_nbfix': Array([], dtype=float64),\n",
       "  'epsilon_nbfix': Array([], dtype=float64)}}"
      ]
     },
     "execution_count": 61,
     "metadata": {},
     "output_type": "execute_result"
    }
   ],
   "source": [
    "paramset_old.parameters"
   ]
  },
  {
   "cell_type": "code",
   "execution_count": 19,
   "metadata": {},
   "outputs": [],
   "source": [
    "# Initial Optimized model\n",
    "import optax\n",
    "optimizer = optax.adam(0.005)\n",
    "opt_state = optimizer.init(paramset)"
   ]
  },
  {
   "cell_type": "code",
   "execution_count": 14,
   "metadata": {},
   "outputs": [
    {
     "ename": "NameError",
     "evalue": "name 'optimizer' is not defined",
     "output_type": "error",
     "traceback": [
      "\u001b[0;31m---------------------------------------------------------------------------\u001b[0m",
      "\u001b[0;31mNameError\u001b[0m                                 Traceback (most recent call last)",
      "Cell \u001b[0;32mIn[14], line 25\u001b[0m\n\u001b[1;32m     22\u001b[0m v, g \u001b[39m=\u001b[39m v_and_g(paramset)\n\u001b[1;32m     23\u001b[0m \u001b[39m#loss_ls.append(v)\u001b[39;00m\n\u001b[0;32m---> 25\u001b[0m updates, opt_state \u001b[39m=\u001b[39m optimizer\u001b[39m.\u001b[39mupdate(g, opt_state)\n\u001b[1;32m     26\u001b[0m updates\u001b[39m.\u001b[39mparameters \u001b[39m=\u001b[39m update_mask(updates\u001b[39m.\u001b[39mparameters,paramset\u001b[39m.\u001b[39mmask)\n\u001b[1;32m     27\u001b[0m paramset \u001b[39m=\u001b[39m optax\u001b[39m.\u001b[39mapply_updates(paramset, updates)\n",
      "\u001b[0;31mNameError\u001b[0m: name 'optimizer' is not defined"
     ]
    }
   ],
   "source": [
    "#sample()\n",
    "#move_traj()\n",
    "traj_dict = analyse_traj(paramset, lj_gen)\n",
    "\n",
    "def loss(paramset):\n",
    "    errors = []\n",
    "    for idx in range(1, Number_points+1):\n",
    "        energies = []\n",
    "        for jdx in range(len(traj_dict[idx]['structure'])):  \n",
    "            ener = compute_binding_energy(paramset, traj_dict[idx]['structure'][jdx][0], traj_dict[idx]['structure'][jdx][1], lj_gen, numframe=720,cutoff=cutoff)\n",
    "            energies.append(ener.reshape((1,)))\n",
    "        energies = jnp.concatenate(energies)\n",
    "        weight = traj_dict[idx]['estimator'].estimate_weight(energies)\n",
    "        reweight_loading = traj_dict[idx]['loading'] * weight\n",
    "        error = jnp.power(jnp.average(reweight_loading)-traj_dict[idx]['experiment']['loading'],2)\n",
    "        errors.append(error.reshape((1,)))\n",
    "        #print(error)\n",
    "    errors = jnp.concatenate(errors)\n",
    "    return jnp.sum(errors)\n",
    "\n",
    "v_and_g = jax.value_and_grad(loss, 0)\n",
    "v, g = v_and_g(paramset)\n",
    "#loss_ls.append(v)\n",
    "\n",
    "updates, opt_state = optimizer.update(g, opt_state)\n",
    "updates.parameters = update_mask(updates.parameters,paramset.mask)\n",
    "paramset = optax.apply_updates(paramset, updates)\n",
    "paramset = jax.tree_map(lambda x: jnp.clip(x, 0.0, 1e8), paramset)\n",
    "update_ff(paramset)\n",
    "lj_gen.overwrite(paramset)\n",
    "sigma_indices, epsilon_indices = detect_parameter_change(paramset, paramset_old)\n",
    "paramset = fix_changed_parameters(paramset, sigma_indices, epsilon_indices)\n",
    "print(f\"This is {nloop}th time\", f\" Loss: {v} and Parameters: \",paramset.parameters['LennardJonesForce']['sigma'], paramset.parameters['LennardJonesForce']['epsilon'])"
   ]
  },
  {
   "cell_type": "code",
   "execution_count": 16,
   "metadata": {},
   "outputs": [
    {
     "ename": "NameError",
     "evalue": "name 'nloop' is not defined",
     "output_type": "error",
     "traceback": [
      "\u001b[0;31m---------------------------------------------------------------------------\u001b[0m",
      "\u001b[0;31mNameError\u001b[0m                                 Traceback (most recent call last)",
      "Cell \u001b[0;32mIn[16], line 9\u001b[0m\n\u001b[1;32m      7\u001b[0m sigma_indices, epsilon_indices \u001b[39m=\u001b[39m detect_parameter_change(paramset, paramset_old)\n\u001b[1;32m      8\u001b[0m paramset \u001b[39m=\u001b[39m fix_changed_parameters(paramset, sigma_indices, epsilon_indices)\n\u001b[0;32m----> 9\u001b[0m \u001b[39mprint\u001b[39m(\u001b[39mf\u001b[39m\u001b[39m\"\u001b[39m\u001b[39mThis is \u001b[39m\u001b[39m{\u001b[39;00mnloop\u001b[39m}\u001b[39;00m\u001b[39mth time\u001b[39m\u001b[39m\"\u001b[39m, \u001b[39mf\u001b[39m\u001b[39m\"\u001b[39m\u001b[39m Loss: \u001b[39m\u001b[39m{\u001b[39;00mv\u001b[39m}\u001b[39;00m\u001b[39m and Parameters: \u001b[39m\u001b[39m\"\u001b[39m,paramset\u001b[39m.\u001b[39mparameters[\u001b[39m'\u001b[39m\u001b[39mLennardJonesForce\u001b[39m\u001b[39m'\u001b[39m][\u001b[39m'\u001b[39m\u001b[39msigma\u001b[39m\u001b[39m'\u001b[39m], paramset\u001b[39m.\u001b[39mparameters[\u001b[39m'\u001b[39m\u001b[39mLennardJonesForce\u001b[39m\u001b[39m'\u001b[39m][\u001b[39m'\u001b[39m\u001b[39mepsilon\u001b[39m\u001b[39m'\u001b[39m])\n",
      "\u001b[0;31mNameError\u001b[0m: name 'nloop' is not defined"
     ]
    }
   ],
   "source": [
    "updates, opt_state = optimizer.update(g, opt_state)\n",
    "updates.parameters = update_mask(updates.parameters,paramset.mask)\n",
    "paramset = optax.apply_updates(paramset, updates)\n",
    "paramset = jax.tree_map(lambda x: jnp.clip(x, 0.0, 1e8), paramset)\n",
    "update_ff(paramset)\n",
    "lj_gen.overwrite(paramset)\n",
    "sigma_indices, epsilon_indices = detect_parameter_change(paramset, paramset_old)\n",
    "paramset = fix_changed_parameters(paramset, sigma_indices, epsilon_indices)\n",
    "#print(f\"This is {nloop}th time\", f\" Loss: {v} and Parameters: \",paramset.parameters['LennardJonesForce']['sigma'], paramset.parameters['LennardJonesForce']['epsilon'])"
   ]
  },
  {
   "cell_type": "code",
   "execution_count": 17,
   "metadata": {},
   "outputs": [],
   "source": [
    "sigma_indices, epsilon_indices = detect_parameter_change(paramset, paramset_old)\n",
    "paramset = fix_changed_parameters(paramset, sigma_indices, epsilon_indices)\n",
    "#print(f\"This is {nloop}th time\", f\" Loss: {v} and Parameters: \",paramset.parameters['LennardJonesForce']['sigma'], paramset.parameters['LennardJonesForce']['epsilon'])"
   ]
  },
  {
   "cell_type": "code",
   "execution_count": 17,
   "metadata": {},
   "outputs": [
    {
     "data": {
      "text/plain": [
       "Array([0.40082, 0.34309, 0.25711, 0.31181, 0.305  , 0.28   ], dtype=float64)"
      ]
     },
     "execution_count": 17,
     "metadata": {},
     "output_type": "execute_result"
    }
   ],
   "source": [
    "paramset.parameters['LennardJonesForce']['sigma']"
   ]
  },
  {
   "cell_type": "code",
   "execution_count": 17,
   "metadata": {},
   "outputs": [
    {
     "data": {
      "text/plain": [
       "'Script finished successfully!'"
      ]
     },
     "metadata": {},
     "output_type": "display_data"
    },
    {
     "data": {
      "text/plain": [
       "'Script output:'"
      ]
     },
     "metadata": {},
     "output_type": "display_data"
    },
    {
     "data": {
      "text/plain": [
       "'This is the final pk values:  261685\\n'"
      ]
     },
     "metadata": {},
     "output_type": "display_data"
    },
    {
     "name": "stdout",
     "output_type": "stream",
     "text": [
      "Successfully update once\n",
      "This is 0th time  Loss: 4.765326610580542 and Parameters:  [0.40082 0.34309 0.25711 0.31181 0.305   0.28   ] [1.88555695 0.25666554 0.16946061 0.14487951 0.65757    0.22469   ]\n"
     ]
    },
    {
     "data": {
      "text/plain": [
       "'Script finished successfully!'"
      ]
     },
     "metadata": {},
     "output_type": "display_data"
    },
    {
     "data": {
      "text/plain": [
       "'Script output:'"
      ]
     },
     "metadata": {},
     "output_type": "display_data"
    },
    {
     "data": {
      "text/plain": [
       "'This is the final pk values:  261807\\n'"
      ]
     },
     "metadata": {},
     "output_type": "display_data"
    },
    {
     "name": "stdout",
     "output_type": "stream",
     "text": [
      "Successfully update once\n",
      "This is 1th time  Loss: 4.798427087062577 and Parameters:  [0.40082 0.34309 0.25711 0.31181 0.305   0.28   ] [1.88059765 0.25666554 0.16445949 0.14487951 0.65757    0.22469   ]\n"
     ]
    },
    {
     "data": {
      "text/plain": [
       "'Script finished successfully!'"
      ]
     },
     "metadata": {},
     "output_type": "display_data"
    },
    {
     "data": {
      "text/plain": [
       "'Script output:'"
      ]
     },
     "metadata": {},
     "output_type": "display_data"
    },
    {
     "data": {
      "text/plain": [
       "'This is the final pk values:  261956\\n'"
      ]
     },
     "metadata": {},
     "output_type": "display_data"
    },
    {
     "name": "stdout",
     "output_type": "stream",
     "text": [
      "Successfully update once\n",
      "This is 2th time  Loss: 4.4773644882226264 and Parameters:  [0.40082 0.34309 0.25711 0.31181 0.305   0.28   ] [1.87561224 0.25666554 0.15969179 0.14487951 0.65757    0.22469   ]\n"
     ]
    },
    {
     "data": {
      "text/plain": [
       "'Script finished successfully!'"
      ]
     },
     "metadata": {},
     "output_type": "display_data"
    },
    {
     "data": {
      "text/plain": [
       "'Script output:'"
      ]
     },
     "metadata": {},
     "output_type": "display_data"
    },
    {
     "data": {
      "text/plain": [
       "'This is the final pk values:  262063\\n'"
      ]
     },
     "metadata": {},
     "output_type": "display_data"
    },
    {
     "name": "stdout",
     "output_type": "stream",
     "text": [
      "Successfully update once\n",
      "This is 3th time  Loss: 4.697900349379563 and Parameters:  [0.40082 0.34309 0.25711 0.31181 0.305   0.28   ] [1.87060465 0.25666554 0.15498187 0.14487951 0.65757    0.22469   ]\n"
     ]
    },
    {
     "data": {
      "text/plain": [
       "'Script finished successfully!'"
      ]
     },
     "metadata": {},
     "output_type": "display_data"
    },
    {
     "data": {
      "text/plain": [
       "'Script output:'"
      ]
     },
     "metadata": {},
     "output_type": "display_data"
    },
    {
     "data": {
      "text/plain": [
       "'This is the final pk values:  262202\\n'"
      ]
     },
     "metadata": {},
     "output_type": "display_data"
    },
    {
     "name": "stdout",
     "output_type": "stream",
     "text": [
      "Successfully update once\n",
      "This is 4th time  Loss: 4.833595395037751 and Parameters:  [0.40082 0.34309 0.25711 0.31181 0.305   0.28   ] [1.8657748  0.25666554 0.15067368 0.14487951 0.65757    0.22469   ]\n"
     ]
    },
    {
     "data": {
      "text/plain": [
       "'Script finished successfully!'"
      ]
     },
     "metadata": {},
     "output_type": "display_data"
    },
    {
     "data": {
      "text/plain": [
       "'Script output:'"
      ]
     },
     "metadata": {},
     "output_type": "display_data"
    },
    {
     "data": {
      "text/plain": [
       "'This is the final pk values:  262314\\n'"
      ]
     },
     "metadata": {},
     "output_type": "display_data"
    },
    {
     "name": "stdout",
     "output_type": "stream",
     "text": [
      "Successfully update once\n",
      "This is 5th time  Loss: 4.774350263895097 and Parameters:  [0.40082 0.34309 0.25711 0.31181 0.305   0.28   ] [1.86086653 0.25666554 0.14614143 0.14487951 0.65757    0.22469   ]\n"
     ]
    },
    {
     "data": {
      "text/plain": [
       "'Script finished successfully!'"
      ]
     },
     "metadata": {},
     "output_type": "display_data"
    },
    {
     "data": {
      "text/plain": [
       "'Script output:'"
      ]
     },
     "metadata": {},
     "output_type": "display_data"
    },
    {
     "data": {
      "text/plain": [
       "'This is the final pk values:  262448\\n'"
      ]
     },
     "metadata": {},
     "output_type": "display_data"
    },
    {
     "name": "stdout",
     "output_type": "stream",
     "text": [
      "Successfully update once\n",
      "This is 6th time  Loss: 4.581418391023963 and Parameters:  [0.40082 0.34309 0.25711 0.31181 0.305   0.28   ] [1.85600955 0.25666554 0.14164075 0.14487951 0.65757    0.22469   ]\n"
     ]
    },
    {
     "data": {
      "text/plain": [
       "'Script finished successfully!'"
      ]
     },
     "metadata": {},
     "output_type": "display_data"
    },
    {
     "data": {
      "text/plain": [
       "'Script output:'"
      ]
     },
     "metadata": {},
     "output_type": "display_data"
    },
    {
     "data": {
      "text/plain": [
       "'This is the final pk values:  262560\\n'"
      ]
     },
     "metadata": {},
     "output_type": "display_data"
    },
    {
     "name": "stdout",
     "output_type": "stream",
     "text": [
      "Successfully update once\n",
      "This is 7th time  Loss: 4.811464641893167 and Parameters:  [0.40082 0.34309 0.25711 0.31181 0.305   0.28   ] [1.85114703 0.25666554 0.13711442 0.14487951 0.65757    0.22469   ]\n"
     ]
    },
    {
     "data": {
      "text/plain": [
       "'Script finished successfully!'"
      ]
     },
     "metadata": {},
     "output_type": "display_data"
    },
    {
     "data": {
      "text/plain": [
       "'Script output:'"
      ]
     },
     "metadata": {},
     "output_type": "display_data"
    },
    {
     "data": {
      "text/plain": [
       "'This is the final pk values:  262694\\n'"
      ]
     },
     "metadata": {},
     "output_type": "display_data"
    },
    {
     "name": "stdout",
     "output_type": "stream",
     "text": [
      "Successfully update once\n",
      "This is 8th time  Loss: 4.775829129651095 and Parameters:  [0.40082 0.34309 0.25711 0.31181 0.305   0.28   ] [1.84624638 0.25666554 0.13248452 0.14487951 0.65757    0.22469   ]\n"
     ]
    },
    {
     "data": {
      "text/plain": [
       "'Script finished successfully!'"
      ]
     },
     "metadata": {},
     "output_type": "display_data"
    },
    {
     "data": {
      "text/plain": [
       "'Script output:'"
      ]
     },
     "metadata": {},
     "output_type": "display_data"
    },
    {
     "data": {
      "text/plain": [
       "'This is the final pk values:  262806\\n'"
      ]
     },
     "metadata": {},
     "output_type": "display_data"
    },
    {
     "name": "stdout",
     "output_type": "stream",
     "text": [
      "Successfully update once\n",
      "This is 9th time  Loss: 4.346088544907435 and Parameters:  [0.40082 0.34309 0.25711 0.31181 0.305   0.28   ] [1.84125415 0.25666554 0.12785496 0.14487951 0.65757    0.22469   ]\n"
     ]
    },
    {
     "data": {
      "text/plain": [
       "'Script finished successfully!'"
      ]
     },
     "metadata": {},
     "output_type": "display_data"
    },
    {
     "data": {
      "text/plain": [
       "'Script output:'"
      ]
     },
     "metadata": {},
     "output_type": "display_data"
    },
    {
     "data": {
      "text/plain": [
       "'This is the final pk values:  262903\\n'"
      ]
     },
     "metadata": {},
     "output_type": "display_data"
    },
    {
     "name": "stdout",
     "output_type": "stream",
     "text": [
      "Successfully update once\n",
      "This is 10th time  Loss: 4.453042808121277 and Parameters:  [0.40082 0.34309 0.25711 0.31181 0.305   0.28   ] [1.83640139 0.25666554 0.12334186 0.14487951 0.65757    0.22469   ]\n"
     ]
    },
    {
     "data": {
      "text/plain": [
       "'Script finished successfully!'"
      ]
     },
     "metadata": {},
     "output_type": "display_data"
    },
    {
     "data": {
      "text/plain": [
       "'Script output:'"
      ]
     },
     "metadata": {},
     "output_type": "display_data"
    },
    {
     "data": {
      "text/plain": [
       "'This is the final pk values:  263052\\n'"
      ]
     },
     "metadata": {},
     "output_type": "display_data"
    },
    {
     "name": "stdout",
     "output_type": "stream",
     "text": [
      "Successfully update once\n",
      "This is 11th time  Loss: 4.499960152772045 and Parameters:  [0.40082 0.34309 0.25711 0.31181 0.305   0.28   ] [1.83157887 0.25666554 0.11945203 0.14487951 0.65757    0.22469   ]\n"
     ]
    },
    {
     "data": {
      "text/plain": [
       "'Script finished successfully!'"
      ]
     },
     "metadata": {},
     "output_type": "display_data"
    },
    {
     "data": {
      "text/plain": [
       "'Script output:'"
      ]
     },
     "metadata": {},
     "output_type": "display_data"
    },
    {
     "data": {
      "text/plain": [
       "'This is the final pk values:  263154\\n'"
      ]
     },
     "metadata": {},
     "output_type": "display_data"
    },
    {
     "name": "stdout",
     "output_type": "stream",
     "text": [
      "Successfully update once\n",
      "This is 12th time  Loss: 4.362013391974314 and Parameters:  [0.40082 0.34309 0.25711 0.31181 0.305   0.28   ] [1.82678427 0.25666554 0.11562754 0.14487951 0.65757    0.22469   ]\n"
     ]
    },
    {
     "data": {
      "text/plain": [
       "'Script finished successfully!'"
      ]
     },
     "metadata": {},
     "output_type": "display_data"
    },
    {
     "data": {
      "text/plain": [
       "'Script output:'"
      ]
     },
     "metadata": {},
     "output_type": "display_data"
    },
    {
     "data": {
      "text/plain": [
       "'This is the final pk values:  263298\\n'"
      ]
     },
     "metadata": {},
     "output_type": "display_data"
    },
    {
     "name": "stdout",
     "output_type": "stream",
     "text": [
      "Successfully update once\n",
      "This is 13th time  Loss: 4.5749209674243145 and Parameters:  [0.40082 0.34309 0.25711 0.31181 0.305   0.28   ] [1.82202554 0.25666554 0.11160381 0.14487951 0.65757    0.22469   ]\n"
     ]
    },
    {
     "data": {
      "text/plain": [
       "'Script finished successfully!'"
      ]
     },
     "metadata": {},
     "output_type": "display_data"
    },
    {
     "data": {
      "text/plain": [
       "'Script output:'"
      ]
     },
     "metadata": {},
     "output_type": "display_data"
    },
    {
     "data": {
      "text/plain": [
       "'This is the final pk values:  263400\\n'"
      ]
     },
     "metadata": {},
     "output_type": "display_data"
    },
    {
     "name": "stdout",
     "output_type": "stream",
     "text": [
      "Successfully update once\n",
      "This is 14th time  Loss: 4.385448464029292 and Parameters:  [0.40082 0.34309 0.25711 0.31181 0.305   0.28   ] [1.81726295 0.25666554 0.10746327 0.14487951 0.65757    0.22469   ]\n"
     ]
    },
    {
     "data": {
      "text/plain": [
       "'Script finished successfully!'"
      ]
     },
     "metadata": {},
     "output_type": "display_data"
    },
    {
     "data": {
      "text/plain": [
       "'Script output:'"
      ]
     },
     "metadata": {},
     "output_type": "display_data"
    },
    {
     "data": {
      "text/plain": [
       "'This is the final pk values:  263544\\n'"
      ]
     },
     "metadata": {},
     "output_type": "display_data"
    },
    {
     "name": "stdout",
     "output_type": "stream",
     "text": [
      "Successfully update once\n",
      "This is 15th time  Loss: 4.3475561063722745 and Parameters:  [0.40082 0.34309 0.25711 0.31181 0.305   0.28   ] [1.81245287 0.25666554 0.10746327 0.14487951 0.65757    0.22469   ]\n"
     ]
    },
    {
     "data": {
      "text/plain": [
       "'Script finished successfully!'"
      ]
     },
     "metadata": {},
     "output_type": "display_data"
    },
    {
     "data": {
      "text/plain": [
       "'Script output:'"
      ]
     },
     "metadata": {},
     "output_type": "display_data"
    },
    {
     "data": {
      "text/plain": [
       "'This is the final pk values:  263656\\n'"
      ]
     },
     "metadata": {},
     "output_type": "display_data"
    },
    {
     "name": "stdout",
     "output_type": "stream",
     "text": [
      "Successfully update once\n",
      "This is 16th time  Loss: 4.498150385713447 and Parameters:  [0.40082 0.34309 0.25711 0.31181 0.305   0.28   ] [1.80759497 0.25666554 0.10746327 0.14487951 0.65757    0.22469   ]\n"
     ]
    },
    {
     "data": {
      "text/plain": [
       "'Script finished successfully!'"
      ]
     },
     "metadata": {},
     "output_type": "display_data"
    },
    {
     "data": {
      "text/plain": [
       "'Script output:'"
      ]
     },
     "metadata": {},
     "output_type": "display_data"
    },
    {
     "data": {
      "text/plain": [
       "'This is the final pk values:  263790\\n'"
      ]
     },
     "metadata": {},
     "output_type": "display_data"
    },
    {
     "name": "stdout",
     "output_type": "stream",
     "text": [
      "Successfully update once\n",
      "This is 17th time  Loss: 4.412065003063876 and Parameters:  [0.40082 0.34309 0.25711 0.31181 0.305   0.28   ] [1.80270938 0.25666554 0.10746327 0.14487951 0.65757    0.22469   ]\n"
     ]
    },
    {
     "data": {
      "text/plain": [
       "'Script finished successfully!'"
      ]
     },
     "metadata": {},
     "output_type": "display_data"
    },
    {
     "data": {
      "text/plain": [
       "'Script output:'"
      ]
     },
     "metadata": {},
     "output_type": "display_data"
    },
    {
     "data": {
      "text/plain": [
       "'This is the final pk values:  263902\\n'"
      ]
     },
     "metadata": {},
     "output_type": "display_data"
    },
    {
     "name": "stdout",
     "output_type": "stream",
     "text": [
      "Successfully update once\n",
      "This is 18th time  Loss: 4.480237078735362 and Parameters:  [0.40082 0.34309 0.25711 0.31181 0.305   0.28   ] [1.79784564 0.25666554 0.10746327 0.14487951 0.65757    0.22469   ]\n"
     ]
    },
    {
     "data": {
      "text/plain": [
       "'Script finished successfully!'"
      ]
     },
     "metadata": {},
     "output_type": "display_data"
    },
    {
     "data": {
      "text/plain": [
       "'Script output:'"
      ]
     },
     "metadata": {},
     "output_type": "display_data"
    },
    {
     "data": {
      "text/plain": [
       "'This is the final pk values:  264015\\n'"
      ]
     },
     "metadata": {},
     "output_type": "display_data"
    },
    {
     "name": "stdout",
     "output_type": "stream",
     "text": [
      "Successfully update once\n",
      "This is 19th time  Loss: 4.323688921494009 and Parameters:  [0.40082 0.34309 0.25711 0.31181 0.305   0.28   ] [1.79296039 0.25666554 0.10746327 0.14487951 0.65757    0.22469   ]\n"
     ]
    },
    {
     "ename": "KeyboardInterrupt",
     "evalue": "",
     "output_type": "error",
     "traceback": [
      "\u001b[0;31m---------------------------------------------------------------------------\u001b[0m",
      "\u001b[0;31mKeyboardInterrupt\u001b[0m                         Traceback (most recent call last)",
      "Cell \u001b[0;32mIn[17], line 6\u001b[0m\n\u001b[1;32m      2\u001b[0m \u001b[39m#os.system(\"cp /home/yutao/project/aiida/applications/UFF.json /home/yutao/project/aiida/applications/ff_1.json\")\u001b[39;00m\n\u001b[1;32m      4\u001b[0m \u001b[39mfor\u001b[39;00m nloop \u001b[39min\u001b[39;00m \u001b[39mrange\u001b[39m(\u001b[39m80\u001b[39m):\n\u001b[0;32m----> 6\u001b[0m     sample()\n\u001b[1;32m      7\u001b[0m     move_traj()\n\u001b[1;32m      8\u001b[0m     traj_dict \u001b[39m=\u001b[39m analyse_traj(paramset, lj_gen)\n",
      "Cell \u001b[0;32mIn[8], line 5\u001b[0m, in \u001b[0;36msample\u001b[0;34m()\u001b[0m\n\u001b[1;32m      3\u001b[0m command \u001b[39m=\u001b[39m [\u001b[39m\"\u001b[39m\u001b[39m/home/yutao/project/aiida/applications/sample.sh\u001b[39m\u001b[39m\"\u001b[39m]\n\u001b[1;32m      4\u001b[0m \u001b[39m# Run the script using subprocess\u001b[39;00m\n\u001b[0;32m----> 5\u001b[0m completed_process \u001b[39m=\u001b[39m subprocess\u001b[39m.\u001b[39;49mrun(command, capture_output\u001b[39m=\u001b[39;49m\u001b[39mTrue\u001b[39;49;00m, cwd\u001b[39m=\u001b[39;49m\u001b[39m\"\u001b[39;49m\u001b[39m/home/yutao/project/aiida/applications\u001b[39;49m\u001b[39m\"\u001b[39;49m,text\u001b[39m=\u001b[39;49m\u001b[39mTrue\u001b[39;49;00m)\n\u001b[1;32m      7\u001b[0m \u001b[39m# Check the return code\u001b[39;00m\n\u001b[1;32m      8\u001b[0m \u001b[39mif\u001b[39;00m completed_process\u001b[39m.\u001b[39mreturncode \u001b[39m==\u001b[39m \u001b[39m0\u001b[39m:\n\u001b[1;32m      9\u001b[0m     \u001b[39m# The script finished successfully\u001b[39;00m\n",
      "File \u001b[0;32m~/anaconda3/envs/dmff/lib/python3.11/subprocess.py:550\u001b[0m, in \u001b[0;36mrun\u001b[0;34m(input, capture_output, timeout, check, *popenargs, **kwargs)\u001b[0m\n\u001b[1;32m    548\u001b[0m \u001b[39mwith\u001b[39;00m Popen(\u001b[39m*\u001b[39mpopenargs, \u001b[39m*\u001b[39m\u001b[39m*\u001b[39mkwargs) \u001b[39mas\u001b[39;00m process:\n\u001b[1;32m    549\u001b[0m     \u001b[39mtry\u001b[39;00m:\n\u001b[0;32m--> 550\u001b[0m         stdout, stderr \u001b[39m=\u001b[39m process\u001b[39m.\u001b[39;49mcommunicate(\u001b[39minput\u001b[39;49m, timeout\u001b[39m=\u001b[39;49mtimeout)\n\u001b[1;32m    551\u001b[0m     \u001b[39mexcept\u001b[39;00m TimeoutExpired \u001b[39mas\u001b[39;00m exc:\n\u001b[1;32m    552\u001b[0m         process\u001b[39m.\u001b[39mkill()\n",
      "File \u001b[0;32m~/anaconda3/envs/dmff/lib/python3.11/subprocess.py:1209\u001b[0m, in \u001b[0;36mPopen.communicate\u001b[0;34m(self, input, timeout)\u001b[0m\n\u001b[1;32m   1206\u001b[0m     endtime \u001b[39m=\u001b[39m \u001b[39mNone\u001b[39;00m\n\u001b[1;32m   1208\u001b[0m \u001b[39mtry\u001b[39;00m:\n\u001b[0;32m-> 1209\u001b[0m     stdout, stderr \u001b[39m=\u001b[39m \u001b[39mself\u001b[39;49m\u001b[39m.\u001b[39;49m_communicate(\u001b[39minput\u001b[39;49m, endtime, timeout)\n\u001b[1;32m   1210\u001b[0m \u001b[39mexcept\u001b[39;00m \u001b[39mKeyboardInterrupt\u001b[39;00m:\n\u001b[1;32m   1211\u001b[0m     \u001b[39m# https://bugs.python.org/issue25942\u001b[39;00m\n\u001b[1;32m   1212\u001b[0m     \u001b[39m# See the detailed comment in .wait().\u001b[39;00m\n\u001b[1;32m   1213\u001b[0m     \u001b[39mif\u001b[39;00m timeout \u001b[39mis\u001b[39;00m \u001b[39mnot\u001b[39;00m \u001b[39mNone\u001b[39;00m:\n",
      "File \u001b[0;32m~/anaconda3/envs/dmff/lib/python3.11/subprocess.py:2108\u001b[0m, in \u001b[0;36mPopen._communicate\u001b[0;34m(self, input, endtime, orig_timeout)\u001b[0m\n\u001b[1;32m   2101\u001b[0m     \u001b[39mself\u001b[39m\u001b[39m.\u001b[39m_check_timeout(endtime, orig_timeout,\n\u001b[1;32m   2102\u001b[0m                         stdout, stderr,\n\u001b[1;32m   2103\u001b[0m                         skip_check_and_raise\u001b[39m=\u001b[39m\u001b[39mTrue\u001b[39;00m)\n\u001b[1;32m   2104\u001b[0m     \u001b[39mraise\u001b[39;00m \u001b[39mRuntimeError\u001b[39;00m(  \u001b[39m# Impossible :)\u001b[39;00m\n\u001b[1;32m   2105\u001b[0m         \u001b[39m'\u001b[39m\u001b[39m_check_timeout(..., skip_check_and_raise=True) \u001b[39m\u001b[39m'\u001b[39m\n\u001b[1;32m   2106\u001b[0m         \u001b[39m'\u001b[39m\u001b[39mfailed to raise TimeoutExpired.\u001b[39m\u001b[39m'\u001b[39m)\n\u001b[0;32m-> 2108\u001b[0m ready \u001b[39m=\u001b[39m selector\u001b[39m.\u001b[39;49mselect(timeout)\n\u001b[1;32m   2109\u001b[0m \u001b[39mself\u001b[39m\u001b[39m.\u001b[39m_check_timeout(endtime, orig_timeout, stdout, stderr)\n\u001b[1;32m   2111\u001b[0m \u001b[39m# XXX Rewrite these to use non-blocking I/O on the file\u001b[39;00m\n\u001b[1;32m   2112\u001b[0m \u001b[39m# objects; they are no longer using C stdio!\u001b[39;00m\n",
      "File \u001b[0;32m~/anaconda3/envs/dmff/lib/python3.11/selectors.py:415\u001b[0m, in \u001b[0;36m_PollLikeSelector.select\u001b[0;34m(self, timeout)\u001b[0m\n\u001b[1;32m    413\u001b[0m ready \u001b[39m=\u001b[39m []\n\u001b[1;32m    414\u001b[0m \u001b[39mtry\u001b[39;00m:\n\u001b[0;32m--> 415\u001b[0m     fd_event_list \u001b[39m=\u001b[39m \u001b[39mself\u001b[39m\u001b[39m.\u001b[39m_selector\u001b[39m.\u001b[39mpoll(timeout)\n\u001b[1;32m    416\u001b[0m \u001b[39mexcept\u001b[39;00m \u001b[39mInterruptedError\u001b[39;00m:\n\u001b[1;32m    417\u001b[0m     \u001b[39mreturn\u001b[39;00m ready\n",
      "\u001b[0;31mKeyboardInterrupt\u001b[0m: "
     ]
    }
   ],
   "source": [
    "\n",
    "loss_ls = []\n",
    "#os.system(\"cp /home/yutao/project/aiida/applications/UFF.json /home/yutao/project/aiida/applications/ff_1.json\")\n",
    "\n",
    "for nloop in range(80):\n",
    "\n",
    "    sample()\n",
    "    move_traj()\n",
    "    traj_dict = analyse_traj(paramset, lj_gen)\n",
    "\n",
    "    def loss(paramset):\n",
    "        errors = []\n",
    "        for idx in range(1, Number_points+1):\n",
    "            energies = []\n",
    "            for jdx in range(len(traj_dict[idx]['structure'])):  \n",
    "                ener = compute_binding_energy(paramset, traj_dict[idx]['structure'][jdx][0], traj_dict[idx]['structure'][jdx][1], lj_gen, numframe=720,cutoff=cutoff)\n",
    "                energies.append(ener.reshape((1,)))\n",
    "            energies = jnp.concatenate(energies)\n",
    "            weight = traj_dict[idx]['estimator'].estimate_weight(energies)\n",
    "            reweight_loading = traj_dict[idx]['loading'] * weight\n",
    "            error = jnp.power(jnp.average(reweight_loading)-traj_dict[idx]['experiment']['loading'],2)\n",
    "            errors.append(error.reshape((1,)))\n",
    "            #print(error)\n",
    "        errors = jnp.concatenate(errors)\n",
    "        return jnp.sum(errors)\n",
    "\n",
    "    v_and_g = jax.value_and_grad(loss, 0)\n",
    "    v, g = v_and_g(paramset)\n",
    "    loss_ls.append(v)\n",
    "    \n",
    "    updates, opt_state = optimizer.update(g, opt_state)\n",
    "    updates.parameters = update_mask(updates.parameters,paramset.mask)\n",
    "    paramset = optax.apply_updates(paramset, updates)\n",
    "    paramset = jax.tree_map(lambda x: jnp.clip(x, 0.0, 1e8), paramset)\n",
    "    update_ff(paramset)\n",
    "    lj_gen.overwrite(paramset)\n",
    "    sigma_indices, epsilon_indices = detect_parameter_change(paramset, paramset_old)\n",
    "    paramset = fix_changed_parameters(paramset, sigma_indices, epsilon_indices)\n",
    "    print(\"Successfully update once\")\n",
    "    print(f\"This is {nloop}th time\", f\" Loss: {v} and Parameters: \",paramset.parameters['LennardJonesForce']['sigma'], paramset.parameters['LennardJonesForce']['epsilon'])\n",
    "    clear_backends()\n",
    "    clear_caches()"
   ]
  },
  {
   "cell_type": "code",
   "execution_count": null,
   "metadata": {},
   "outputs": [],
   "source": []
  },
  {
   "cell_type": "code",
   "execution_count": 20,
   "metadata": {},
   "outputs": [],
   "source": [
    "paramset.mask['LennardJonesForce']['epsilon'] = paramset.mask['LennardJonesForce']['epsilon'].at[0].set(0)\n",
    "paramset.mask['LennardJonesForce']['epsilon'] = paramset.mask['LennardJonesForce']['epsilon'].at[1].set(0)\n",
    "paramset.mask['LennardJonesForce']['epsilon'] = paramset.mask['LennardJonesForce']['epsilon'].at[2].set(0)\n",
    "paramset.mask['LennardJonesForce']['epsilon'] = paramset.mask['LennardJonesForce']['epsilon'].at[3].set(0)"
   ]
  },
  {
   "cell_type": "code",
   "execution_count": 20,
   "metadata": {},
   "outputs": [],
   "source": [
    "def detect_parameter_change(paramset_new, paramset_old):\n",
    "    # Get the initial parameters\n",
    "    initial_sigma = paramset_old.parameters['LennardJonesForce']['sigma']\n",
    "    initial_epsilon = paramset_old.parameters['LennardJonesForce']['epsilon']\n",
    "    \n",
    "    # Get the updated parameters\n",
    "    updated_sigma = paramset_new.parameters['LennardJonesForce']['sigma']\n",
    "    updated_epsilon = paramset_new.parameters['LennardJonesForce']['epsilon']\n",
    "    \n",
    "    # Calculate the percentage change for each parameter\n",
    "    sigma_change = np.abs(updated_sigma - initial_sigma) / initial_sigma\n",
    "    epsilon_change = np.abs(updated_epsilon - initial_epsilon) / initial_epsilon\n",
    "\n",
    "    # Find the indices of values that have changed by more than 40%\n",
    "    sigma_indices = np.where(sigma_change > 0.7)[0]\n",
    "    epsilon_indices = np.where(epsilon_change > 0.7)[0]\n",
    "    \n",
    "    return sigma_indices, epsilon_indices\n",
    "\n",
    "def fix_changed_parameters(paramset, sigma_indices, epsilon_indices):\n",
    "    for idx in sigma_indices:\n",
    "        paramset.mask['LennardJonesForce']['sigma'] = paramset.mask['LennardJonesForce']['sigma'].at[idx].set(0)\n",
    "    for idx in epsilon_indices:\n",
    "        paramset.mask['LennardJonesForce']['epsilon'] = paramset.mask['LennardJonesForce']['epsilon'].at[idx].set(0)\n",
    "    return paramset"
   ]
  },
  {
   "cell_type": "code",
   "execution_count": 22,
   "metadata": {},
   "outputs": [
    {
     "data": {
      "text/plain": [
       "[<matplotlib.lines.Line2D at 0x7f6d71da7f50>]"
      ]
     },
     "execution_count": 22,
     "metadata": {},
     "output_type": "execute_result"
    },
    {
     "data": {
      "image/png": "[encoded data removed]",
      "text/plain": [
       "<Figure size 640x480 with 1 Axes>"
      ]
     },
     "metadata": {},
     "output_type": "display_data"
    }
   ],
   "source": [
    "plt.plot(loss_ls)"
   ]
  },
  {
   "cell_type": "code",
   "execution_count": 21,
   "metadata": {},
   "outputs": [
    {
     "data": {
      "text/plain": [
       "'Script finished successfully!'"
      ]
     },
     "metadata": {},
     "output_type": "display_data"
    },
    {
     "data": {
      "text/plain": [
       "'Script output:'"
      ]
     },
     "metadata": {},
     "output_type": "display_data"
    },
    {
     "data": {
      "text/plain": [
       "'This is the final pk values:  264328\\n'"
      ]
     },
     "metadata": {},
     "output_type": "display_data"
    }
   ],
   "source": [
    "\n",
    "loss_ls = []\n",
    "#os.system(\"cp /home/yutao/project/aiida/applications/UFF.json /home/yutao/project/aiida/applications/ff_1.json\")\n",
    "\n",
    "for nloop in range(80):\n",
    "\n",
    "    sample()\n",
    "    move_traj()\n",
    "    traj_dict = analyse_traj(paramset, lj_gen)\n",
    "\n",
    "    def loss(paramset):\n",
    "        errors = []\n",
    "        for idx in range(1, Number_points+1):\n",
    "            energies = []\n",
    "            for jdx in range(len(traj_dict[idx]['structure'])):  \n",
    "                ener = compute_binding_energy(paramset, traj_dict[idx]['structure'][jdx][0], traj_dict[idx]['structure'][jdx][1], lj_gen, numframe=720,cutoff=cutoff)\n",
    "                energies.append(ener.reshape((1,)))\n",
    "            energies = jnp.concatenate(energies)\n",
    "            weight = traj_dict[idx]['estimator'].estimate_weight(energies)\n",
    "            reweight_loading = traj_dict[idx]['loading'] * weight\n",
    "            error = jnp.power(jnp.average(reweight_loading)-traj_dict[idx]['experiment']['loading'],2)\n",
    "            errors.append(error.reshape((1,)))\n",
    "            #print(error)\n",
    "        errors = jnp.concatenate(errors)\n",
    "        return jnp.sum(errors)\n",
    "\n",
    "    v_and_g = jax.value_and_grad(loss, 0)\n",
    "    v, g = v_and_g(paramset)\n",
    "    loss_ls.append(v)\n",
    "    \n",
    "    updates, opt_state = optimizer.update(g, opt_state)\n",
    "    updates.parameters = update_mask(updates.parameters,paramset.mask)\n",
    "    paramset = optax.apply_updates(paramset, updates)\n",
    "    paramset = jax.tree_map(lambda x: jnp.clip(x, 0.0, 1e8), paramset)\n",
    "    update_ff(paramset)\n",
    "    lj_gen.overwrite(paramset)\n",
    "    sigma_indices, epsilon_indices = detect_parameter_change(paramset, paramset_old)\n",
    "    paramset = fix_changed_parameters(paramset, sigma_indices, epsilon_indices)\n",
    "    print(\"Successfully update once\")\n",
    "    print(f\"This is {nloop}th time\", f\" Loss: {v} and Parameters: \",paramset.parameters['LennardJonesForce']['sigma'], paramset.parameters['LennardJonesForce']['epsilon'])\n",
    "    clear_backends()\n",
    "    clear_caches()"
   ]
  },
  {
   "cell_type": "code",
   "execution_count": 18,
   "metadata": {},
   "outputs": [
    {
     "data": {
      "text/plain": [
       "{'LennardJonesForce': {'sigma': Array([0., 0., 0., 0., 0., 0.], dtype=float64),\n",
       "  'epsilon': Array([1., 0., 0., 0., 0., 0.], dtype=float64),\n",
       "  'sigma_nbfix': Array([], dtype=float64),\n",
       "  'epsilon_nbfix': Array([], dtype=float64)}}"
      ]
     },
     "execution_count": 18,
     "metadata": {},
     "output_type": "execute_result"
    }
   ],
   "source": [
    "paramset.mask"
   ]
  },
  {
   "cell_type": "code",
   "execution_count": 18,
   "metadata": {},
   "outputs": [
    {
     "name": "stdout",
     "output_type": "stream",
     "text": [
      "Out of memory\n"
     ]
    }
   ],
   "source": [
    "\n",
    "loss_ls = []\n",
    "#os.system(\"cp /home/yutao/project/aiida/applications/UFF.json /home/yutao/project/aiida/applications/ff_1.json\")\n",
    "\n",
    "for nloop in range(40):\n",
    "    try:\n",
    "        sample()\n",
    "        move_traj()\n",
    "        traj_dict = analyse_traj(paramset, lj_gen)\n",
    "\n",
    "        def loss(paramset):\n",
    "            errors = []\n",
    "            for idx in range(1, Number_points+1):\n",
    "                energies = []\n",
    "                for jdx in range(len(traj_dict[idx]['structure'])):  \n",
    "                    ener = compute_binding_energy(paramset, traj_dict[idx]['structure'][jdx][0], traj_dict[idx]['structure'][jdx][1], lj_gen, numframe=720,cutoff=cutoff)\n",
    "                    energies.append(ener.reshape((1,)))\n",
    "                energies = jnp.concatenate(energies)\n",
    "                weight = traj_dict[idx]['estimator'].estimate_weight(energies)\n",
    "                reweight_loading = traj_dict[idx]['loading'] * weight\n",
    "                error = jnp.power(jnp.average(reweight_loading)-traj_dict[idx]['experiment']['loading'],2)\n",
    "                errors.append(error.reshape((1,)))\n",
    "                #print(error)\n",
    "            errors = jnp.concatenate(errors)\n",
    "            return jnp.sum(errors)\n",
    "\n",
    "        v_and_g = jax.value_and_grad(loss, 0)\n",
    "        v, g = v_and_g(paramset)\n",
    "        loss_ls.append(v)\n",
    "        \n",
    "        updates, opt_state = optimizer.update(g, opt_state)\n",
    "        updates.parameters = update_mask(updates.parameters,paramset.mask)\n",
    "        paramset = optax.apply_updates(paramset, updates)\n",
    "        paramset = jax.tree_map(lambda x: jnp.clip(x, 0.0, 1e8), paramset)\n",
    "        update_ff(paramset)\n",
    "        lj_gen.overwrite(paramset)\n",
    "        sigma_indices, epsilon_indices = detect_parameter_change(paramset, paramset_old)\n",
    "        paramset = fix_changed_parameters(paramset, sigma_indices, epsilon_indices)\n",
    "        print(\"Successfully update once\")\n",
    "        print(f\"This is {nloop}th time\", f\" Loss: {v} and Parameters: \",paramset.parameters['LennardJonesForce']['sigma'], paramset.parameters['LennardJonesForce']['epsilon'])\n",
    "    except:\n",
    "        print(\"Out of memory\")\n",
    "        clear_backends()\n",
    "        clear_caches()"
   ]
  },
  {
   "cell_type": "code",
   "execution_count": 38,
   "metadata": {},
   "outputs": [],
   "source": [
    "optimizer = optax.adam(0.01)\n",
    "opt_state = optimizer.init(paramset)"
   ]
  },
  {
   "cell_type": "code",
   "execution_count": 39,
   "metadata": {},
   "outputs": [
    {
     "data": {
      "text/plain": [
       "(<dmff.api.paramset.ParamSet at 0x7f66315ef850>,\n",
       " (ScaleByAdamState(count=Array(1, dtype=int32), mu=<dmff.api.paramset.ParamSet object at 0x7f6635e48bd0>, nu=<dmff.api.paramset.ParamSet object at 0x7f663002d610>),\n",
       "  EmptyState()))"
      ]
     },
     "execution_count": 39,
     "metadata": {},
     "output_type": "execute_result"
    }
   ],
   "source": [
    "optimizer.update(g, opt_state)"
   ]
  },
  {
   "cell_type": "code",
   "execution_count": 27,
   "metadata": {},
   "outputs": [],
   "source": [
    "clear_backends()"
   ]
  },
  {
   "cell_type": "code",
   "execution_count": 29,
   "metadata": {},
   "outputs": [
    {
     "data": {
      "text/plain": [
       "'Script finished successfully!'"
      ]
     },
     "metadata": {},
     "output_type": "display_data"
    },
    {
     "data": {
      "text/plain": [
       "'Script output:'"
      ]
     },
     "metadata": {},
     "output_type": "display_data"
    },
    {
     "data": {
      "text/plain": [
       "'This is the final pk values:  256979\\n'"
      ]
     },
     "metadata": {},
     "output_type": "display_data"
    },
    {
     "name": "stdout",
     "output_type": "stream",
     "text": [
      "Script encountered an error: 01/29/2024 07:10:00 PM <1199499> aiida.orm.nodes.process.workflow.workchain.WorkChainNode: [REPORT] [257051|IsothermWorkChain|run_zeopp]: Running zeo++ block and volpo for CO2 Calculation<257060>\n",
      "01/29/2024 07:12:03 PM <1199499> aiida.orm.nodes.process.workflow.workchain.WorkChainNode: [REPORT] [257051|IsothermWorkChain|should_run_widom]: Found accessible pore volume for CO2: continue\n",
      "01/29/2024 07:12:04 PM <1199499> aiida.orm.nodes.process.workflow.workchain.WorkChainNode: [REPORT] [257051|IsothermWorkChain|should_run_widom]: Found 0 blocking spheres\n",
      "01/29/2024 07:12:05 PM <1199499> aiida.orm.nodes.process.workflow.workchain.WorkChainNode: [REPORT] [257051|IsothermWorkChain|run_raspa_widom]: Running Raspa Widom CO2 @ 303K for the Henry coefficient\n",
      "01/29/2024 07:12:05 PM <1199499> aiida.orm.nodes.process.workflow.workchain.WorkChainNode: [REPORT] [257075|RaspaBaseWorkChain|run_process]: launching RaspaCalculation<257079> iteration #1\n",
      "01/29/2024 07:14:09 PM <1199499> aiida.orm.nodes.process.workflow.workchain.WorkChainNode: [REPORT] [257075|RaspaBaseWorkChain|results]: work chain completed after 1 iterations\n",
      "01/29/2024 07:14:09 PM <1199499> aiida.orm.nodes.process.workflow.workchain.WorkChainNode: [REPORT] [257075|RaspaBaseWorkChain|on_terminated]: remote folders will not be cleaned\n",
      "01/29/2024 07:14:09 PM <1199499> aiida.orm.nodes.process.workflow.workchain.WorkChainNode: [REPORT] [257051|IsothermWorkChain|should_run_gcmc]: kH larger than the threshold for CO2: continue\n",
      "01/29/2024 07:14:09 PM <1199499> aiida.orm.nodes.process.workflow.workchain.WorkChainNode: [REPORT] [257051|IsothermWorkChain|init_raspa_gcmc]: CO2: Kh(mol/kg/Pa)=1.18e-01 POAV(cm3/g)=0.325 Qsat(mol/kg)=6.89\n",
      "01/29/2024 07:14:09 PM <1199499> aiida.orm.nodes.process.workflow.workchain.WorkChainNode: [REPORT] [257051|IsothermWorkChain|init_raspa_gcmc]: Now evaluating the isotherm CO2 @ 303K for 3 pressure points\n",
      "01/29/2024 07:14:10 PM <1199499> aiida.orm.nodes.process.workflow.workchain.WorkChainNode: [REPORT] [257051|IsothermWorkChain|run_raspa_gcmc]: Running Raspa GCMC CO2 @ 303K/0.022bar (pressure 1 of 3)\n",
      "01/29/2024 07:14:11 PM <1199499> aiida.orm.nodes.process.workflow.workchain.WorkChainNode: [REPORT] [257087|RaspaBaseWorkChain|run_process]: launching RaspaCalculation<257091> iteration #1\n",
      "01/29/2024 07:22:18 PM <1199499> aiida.orm.nodes.process.workflow.workchain.WorkChainNode: [REPORT] [257087|RaspaBaseWorkChain|results]: work chain completed after 1 iterations\n",
      "01/29/2024 07:22:18 PM <1199499> aiida.orm.nodes.process.workflow.workchain.WorkChainNode: [REPORT] [257087|RaspaBaseWorkChain|on_terminated]: remote folders will not be cleaned\n",
      "01/29/2024 07:22:19 PM <1199499> aiida.orm.nodes.process.workflow.workchain.WorkChainNode: [REPORT] [257051|IsothermWorkChain|run_raspa_gcmc]: Running Raspa GCMC CO2 @ 303K/0.078bar (pressure 2 of 3)\n",
      "01/29/2024 07:22:20 PM <1199499> aiida.orm.nodes.process.workflow.workchain.WorkChainNode: [REPORT] [257097|RaspaBaseWorkChain|run_process]: launching RaspaCalculation<257101> iteration #1\n",
      "01/29/2024 07:31:08 PM <1199499> aiida.orm.nodes.process.workflow.workchain.WorkChainNode: [REPORT] [257097|RaspaBaseWorkChain|results]: work chain completed after 1 iterations\n",
      "01/29/2024 07:31:08 PM <1199499> aiida.orm.nodes.process.workflow.workchain.WorkChainNode: [REPORT] [257097|RaspaBaseWorkChain|on_terminated]: remote folders will not be cleaned\n",
      "01/29/2024 07:31:08 PM <1199499> aiida.orm.nodes.process.workflow.workchain.WorkChainNode: [REPORT] [257051|IsothermWorkChain|run_raspa_gcmc]: Running Raspa GCMC CO2 @ 303K/0.200bar (pressure 3 of 3)\n",
      "01/29/2024 07:31:09 PM <1199499> aiida.orm.nodes.process.workflow.workchain.WorkChainNode: [REPORT] [257107|RaspaBaseWorkChain|run_process]: launching RaspaCalculation<257111> iteration #1\n",
      "01/29/2024 07:39:57 PM <1199499> aiida.orm.nodes.process.workflow.workchain.WorkChainNode: [REPORT] [257107|RaspaBaseWorkChain|results]: work chain completed after 1 iterations\n",
      "01/29/2024 07:39:57 PM <1199499> aiida.orm.nodes.process.workflow.workchain.WorkChainNode: [REPORT] [257107|RaspaBaseWorkChain|on_terminated]: remote folders will not be cleaned\n",
      "01/29/2024 07:39:57 PM <1199499> aiida.orm.nodes.process.workflow.workchain.WorkChainNode: [REPORT] [257051|IsothermWorkChain|return_output_parameters]: Isotherm CO2 @ 303K computed: ouput Dict<257117>\n",
      "/home/yutao/.aiida_venvs/aiida/lib/python3.9/site-packages/aiida/orm/querybuilder.py:1385: AiidaEntryPointWarning: Process type 'aiida_raspa.workchains.base.RaspaBaseWorkChain' does not correspond to a registered entry. This risks queries to fail once the location of the process class changes. Add an entry point for 'aiida_raspa.workchains.base.RaspaBaseWorkChain' to remove this warning.\n",
      "  warnings.warn(\n",
      "Traceback (most recent call last):\n",
      "  File \"/home/yutao/project/aiida/applications/./sample_isotherm.py\", line 100, in <module>\n",
      "    raise ValueError(\"Wrong number of files\")\n",
      "ValueError: Wrong number of files\n",
      "\n"
     ]
    },
    {
     "data": {
      "text/plain": [
       "'Script encountered an error:'"
      ]
     },
     "metadata": {},
     "output_type": "display_data"
    },
    {
     "data": {
      "text/plain": [
       "'01/29/2024 07:10:00 PM <1199499> aiida.orm.nodes.process.workflow.workchain.WorkChainNode: [REPORT] [257051|IsothermWorkChain|run_zeopp]: Running zeo++ block and volpo for CO2 Calculation<257060>\\n01/29/2024 07:12:03 PM <1199499> aiida.orm.nodes.process.workflow.workchain.WorkChainNode: [REPORT] [257051|IsothermWorkChain|should_run_widom]: Found accessible pore volume for CO2: continue\\n01/29/2024 07:12:04 PM <1199499> aiida.orm.nodes.process.workflow.workchain.WorkChainNode: [REPORT] [257051|IsothermWorkChain|should_run_widom]: Found 0 blocking spheres\\n01/29/2024 07:12:05 PM <1199499> aiida.orm.nodes.process.workflow.workchain.WorkChainNode: [REPORT] [257051|IsothermWorkChain|run_raspa_widom]: Running Raspa Widom CO2 @ 303K for the Henry coefficient\\n01/29/2024 07:12:05 PM <1199499> aiida.orm.nodes.process.workflow.workchain.WorkChainNode: [REPORT] [257075|RaspaBaseWorkChain|run_process]: launching RaspaCalculation<257079> iteration #1\\n01/29/2024 07:14:09 PM <1199499> aiida.orm.nodes.process.workflow.workchain.WorkChainNode: [REPORT] [257075|RaspaBaseWorkChain|results]: work chain completed after 1 iterations\\n01/29/2024 07:14:09 PM <1199499> aiida.orm.nodes.process.workflow.workchain.WorkChainNode: [REPORT] [257075|RaspaBaseWorkChain|on_terminated]: remote folders will not be cleaned\\n01/29/2024 07:14:09 PM <1199499> aiida.orm.nodes.process.workflow.workchain.WorkChainNode: [REPORT] [257051|IsothermWorkChain|should_run_gcmc]: kH larger than the threshold for CO2: continue\\n01/29/2024 07:14:09 PM <1199499> aiida.orm.nodes.process.workflow.workchain.WorkChainNode: [REPORT] [257051|IsothermWorkChain|init_raspa_gcmc]: CO2: Kh(mol/kg/Pa)=1.18e-01 POAV(cm3/g)=0.325 Qsat(mol/kg)=6.89\\n01/29/2024 07:14:09 PM <1199499> aiida.orm.nodes.process.workflow.workchain.WorkChainNode: [REPORT] [257051|IsothermWorkChain|init_raspa_gcmc]: Now evaluating the isotherm CO2 @ 303K for 3 pressure points\\n01/29/2024 07:14:10 PM <1199499> aiida.orm.nodes.process.workflow.workchain.WorkChainNode: [REPORT] [257051|IsothermWorkChain|run_raspa_gcmc]: Running Raspa GCMC CO2 @ 303K/0.022bar (pressure 1 of 3)\\n01/29/2024 07:14:11 PM <1199499> aiida.orm.nodes.process.workflow.workchain.WorkChainNode: [REPORT] [257087|RaspaBaseWorkChain|run_process]: launching RaspaCalculation<257091> iteration #1\\n01/29/2024 07:22:18 PM <1199499> aiida.orm.nodes.process.workflow.workchain.WorkChainNode: [REPORT] [257087|RaspaBaseWorkChain|results]: work chain completed after 1 iterations\\n01/29/2024 07:22:18 PM <1199499> aiida.orm.nodes.process.workflow.workchain.WorkChainNode: [REPORT] [257087|RaspaBaseWorkChain|on_terminated]: remote folders will not be cleaned\\n01/29/2024 07:22:19 PM <1199499> aiida.orm.nodes.process.workflow.workchain.WorkChainNode: [REPORT] [257051|IsothermWorkChain|run_raspa_gcmc]: Running Raspa GCMC CO2 @ 303K/0.078bar (pressure 2 of 3)\\n01/29/2024 07:22:20 PM <1199499> aiida.orm.nodes.process.workflow.workchain.WorkChainNode: [REPORT] [257097|RaspaBaseWorkChain|run_process]: launching RaspaCalculation<257101> iteration #1\\n01/29/2024 07:31:08 PM <1199499> aiida.orm.nodes.process.workflow.workchain.WorkChainNode: [REPORT] [257097|RaspaBaseWorkChain|results]: work chain completed after 1 iterations\\n01/29/2024 07:31:08 PM <1199499> aiida.orm.nodes.process.workflow.workchain.WorkChainNode: [REPORT] [257097|RaspaBaseWorkChain|on_terminated]: remote folders will not be cleaned\\n01/29/2024 07:31:08 PM <1199499> aiida.orm.nodes.process.workflow.workchain.WorkChainNode: [REPORT] [257051|IsothermWorkChain|run_raspa_gcmc]: Running Raspa GCMC CO2 @ 303K/0.200bar (pressure 3 of 3)\\n01/29/2024 07:31:09 PM <1199499> aiida.orm.nodes.process.workflow.workchain.WorkChainNode: [REPORT] [257107|RaspaBaseWorkChain|run_process]: launching RaspaCalculation<257111> iteration #1\\n01/29/2024 07:39:57 PM <1199499> aiida.orm.nodes.process.workflow.workchain.WorkChainNode: [REPORT] [257107|RaspaBaseWorkChain|results]: work chain completed after 1 iterations\\n01/29/2024 07:39:57 PM <1199499> aiida.orm.nodes.process.workflow.workchain.WorkChainNode: [REPORT] [257107|RaspaBaseWorkChain|on_terminated]: remote folders will not be cleaned\\n01/29/2024 07:39:57 PM <1199499> aiida.orm.nodes.process.workflow.workchain.WorkChainNode: [REPORT] [257051|IsothermWorkChain|return_output_parameters]: Isotherm CO2 @ 303K computed: ouput Dict<257117>\\n/home/yutao/.aiida_venvs/aiida/lib/python3.9/site-packages/aiida/orm/querybuilder.py:1385: AiidaEntryPointWarning: Process type \\'aiida_raspa.workchains.base.RaspaBaseWorkChain\\' does not correspond to a registered entry. This risks queries to fail once the location of the process class changes. Add an entry point for \\'aiida_raspa.workchains.base.RaspaBaseWorkChain\\' to remove this warning.\\n  warnings.warn(\\nTraceback (most recent call last):\\n  File \"/home/yutao/project/aiida/applications/./sample_isotherm.py\", line 100, in <module>\\n    raise ValueError(\"Wrong number of files\")\\nValueError: Wrong number of files\\n'"
      ]
     },
     "metadata": {},
     "output_type": "display_data"
    },
    {
     "data": {
      "text/plain": [
       "'Script finished successfully!'"
      ]
     },
     "metadata": {},
     "output_type": "display_data"
    },
    {
     "data": {
      "text/plain": [
       "'Script output:'"
      ]
     },
     "metadata": {},
     "output_type": "display_data"
    },
    {
     "data": {
      "text/plain": [
       "'This is the final pk values:  257123\\n'"
      ]
     },
     "metadata": {},
     "output_type": "display_data"
    },
    {
     "data": {
      "text/plain": [
       "'Script finished successfully!'"
      ]
     },
     "metadata": {},
     "output_type": "display_data"
    },
    {
     "data": {
      "text/plain": [
       "'Script output:'"
      ]
     },
     "metadata": {},
     "output_type": "display_data"
    },
    {
     "data": {
      "text/plain": [
       "'This is the final pk values:  257195\\n'"
      ]
     },
     "metadata": {},
     "output_type": "display_data"
    },
    {
     "data": {
      "text/plain": [
       "'Script finished successfully!'"
      ]
     },
     "metadata": {},
     "output_type": "display_data"
    },
    {
     "data": {
      "text/plain": [
       "'Script output:'"
      ]
     },
     "metadata": {},
     "output_type": "display_data"
    },
    {
     "data": {
      "text/plain": [
       "'This is the final pk values:  257267\\n'"
      ]
     },
     "metadata": {},
     "output_type": "display_data"
    },
    {
     "data": {
      "text/plain": [
       "'Script finished successfully!'"
      ]
     },
     "metadata": {},
     "output_type": "display_data"
    },
    {
     "data": {
      "text/plain": [
       "'Script output:'"
      ]
     },
     "metadata": {},
     "output_type": "display_data"
    },
    {
     "data": {
      "text/plain": [
       "'This is the final pk values:  257339\\n'"
      ]
     },
     "metadata": {},
     "output_type": "display_data"
    },
    {
     "data": {
      "text/plain": [
       "'Script finished successfully!'"
      ]
     },
     "metadata": {},
     "output_type": "display_data"
    },
    {
     "data": {
      "text/plain": [
       "'Script output:'"
      ]
     },
     "metadata": {},
     "output_type": "display_data"
    },
    {
     "data": {
      "text/plain": [
       "'This is the final pk values:  257411\\n'"
      ]
     },
     "metadata": {},
     "output_type": "display_data"
    },
    {
     "data": {
      "text/plain": [
       "'Script finished successfully!'"
      ]
     },
     "metadata": {},
     "output_type": "display_data"
    },
    {
     "data": {
      "text/plain": [
       "'Script output:'"
      ]
     },
     "metadata": {},
     "output_type": "display_data"
    },
    {
     "data": {
      "text/plain": [
       "'This is the final pk values:  257483\\n'"
      ]
     },
     "metadata": {},
     "output_type": "display_data"
    },
    {
     "data": {
      "text/plain": [
       "'Script finished successfully!'"
      ]
     },
     "metadata": {},
     "output_type": "display_data"
    },
    {
     "data": {
      "text/plain": [
       "'Script output:'"
      ]
     },
     "metadata": {},
     "output_type": "display_data"
    },
    {
     "data": {
      "text/plain": [
       "'This is the final pk values:  257555\\n'"
      ]
     },
     "metadata": {},
     "output_type": "display_data"
    },
    {
     "data": {
      "text/plain": [
       "'Script finished successfully!'"
      ]
     },
     "metadata": {},
     "output_type": "display_data"
    },
    {
     "data": {
      "text/plain": [
       "'Script output:'"
      ]
     },
     "metadata": {},
     "output_type": "display_data"
    },
    {
     "data": {
      "text/plain": [
       "'This is the final pk values:  257627\\n'"
      ]
     },
     "metadata": {},
     "output_type": "display_data"
    },
    {
     "data": {
      "text/plain": [
       "'Script finished successfully!'"
      ]
     },
     "metadata": {},
     "output_type": "display_data"
    },
    {
     "data": {
      "text/plain": [
       "'Script output:'"
      ]
     },
     "metadata": {},
     "output_type": "display_data"
    },
    {
     "data": {
      "text/plain": [
       "'This is the final pk values:  257699\\n'"
      ]
     },
     "metadata": {},
     "output_type": "display_data"
    },
    {
     "data": {
      "text/plain": [
       "'Script finished successfully!'"
      ]
     },
     "metadata": {},
     "output_type": "display_data"
    },
    {
     "data": {
      "text/plain": [
       "'Script output:'"
      ]
     },
     "metadata": {},
     "output_type": "display_data"
    },
    {
     "data": {
      "text/plain": [
       "'This is the final pk values:  257771\\n'"
      ]
     },
     "metadata": {},
     "output_type": "display_data"
    },
    {
     "data": {
      "text/plain": [
       "'Script finished successfully!'"
      ]
     },
     "metadata": {},
     "output_type": "display_data"
    },
    {
     "data": {
      "text/plain": [
       "'Script output:'"
      ]
     },
     "metadata": {},
     "output_type": "display_data"
    },
    {
     "data": {
      "text/plain": [
       "'This is the final pk values:  257843\\n'"
      ]
     },
     "metadata": {},
     "output_type": "display_data"
    },
    {
     "data": {
      "text/plain": [
       "'Script finished successfully!'"
      ]
     },
     "metadata": {},
     "output_type": "display_data"
    },
    {
     "data": {
      "text/plain": [
       "'Script output:'"
      ]
     },
     "metadata": {},
     "output_type": "display_data"
    },
    {
     "data": {
      "text/plain": [
       "'This is the final pk values:  257915\\n'"
      ]
     },
     "metadata": {},
     "output_type": "display_data"
    },
    {
     "data": {
      "text/plain": [
       "'Script finished successfully!'"
      ]
     },
     "metadata": {},
     "output_type": "display_data"
    },
    {
     "data": {
      "text/plain": [
       "'Script output:'"
      ]
     },
     "metadata": {},
     "output_type": "display_data"
    },
    {
     "data": {
      "text/plain": [
       "'This is the final pk values:  257987\\n'"
      ]
     },
     "metadata": {},
     "output_type": "display_data"
    },
    {
     "data": {
      "text/plain": [
       "'Script finished successfully!'"
      ]
     },
     "metadata": {},
     "output_type": "display_data"
    },
    {
     "data": {
      "text/plain": [
       "'Script output:'"
      ]
     },
     "metadata": {},
     "output_type": "display_data"
    },
    {
     "data": {
      "text/plain": [
       "'This is the final pk values:  258059\\n'"
      ]
     },
     "metadata": {},
     "output_type": "display_data"
    },
    {
     "data": {
      "text/plain": [
       "'Script finished successfully!'"
      ]
     },
     "metadata": {},
     "output_type": "display_data"
    },
    {
     "data": {
      "text/plain": [
       "'Script output:'"
      ]
     },
     "metadata": {},
     "output_type": "display_data"
    },
    {
     "data": {
      "text/plain": [
       "'This is the final pk values:  258131\\n'"
      ]
     },
     "metadata": {},
     "output_type": "display_data"
    },
    {
     "data": {
      "text/plain": [
       "'Script finished successfully!'"
      ]
     },
     "metadata": {},
     "output_type": "display_data"
    },
    {
     "data": {
      "text/plain": [
       "'Script output:'"
      ]
     },
     "metadata": {},
     "output_type": "display_data"
    },
    {
     "data": {
      "text/plain": [
       "'This is the final pk values:  258203\\n'"
      ]
     },
     "metadata": {},
     "output_type": "display_data"
    },
    {
     "data": {
      "text/plain": [
       "'Script finished successfully!'"
      ]
     },
     "metadata": {},
     "output_type": "display_data"
    },
    {
     "data": {
      "text/plain": [
       "'Script output:'"
      ]
     },
     "metadata": {},
     "output_type": "display_data"
    },
    {
     "data": {
      "text/plain": [
       "'This is the final pk values:  258275\\n'"
      ]
     },
     "metadata": {},
     "output_type": "display_data"
    },
    {
     "data": {
      "text/plain": [
       "'Script finished successfully!'"
      ]
     },
     "metadata": {},
     "output_type": "display_data"
    },
    {
     "data": {
      "text/plain": [
       "'Script output:'"
      ]
     },
     "metadata": {},
     "output_type": "display_data"
    },
    {
     "data": {
      "text/plain": [
       "'This is the final pk values:  258347\\n'"
      ]
     },
     "metadata": {},
     "output_type": "display_data"
    },
    {
     "data": {
      "text/plain": [
       "'Script finished successfully!'"
      ]
     },
     "metadata": {},
     "output_type": "display_data"
    },
    {
     "data": {
      "text/plain": [
       "'Script output:'"
      ]
     },
     "metadata": {},
     "output_type": "display_data"
    },
    {
     "data": {
      "text/plain": [
       "'This is the final pk values:  258419\\n'"
      ]
     },
     "metadata": {},
     "output_type": "display_data"
    },
    {
     "data": {
      "text/plain": [
       "'Script finished successfully!'"
      ]
     },
     "metadata": {},
     "output_type": "display_data"
    },
    {
     "data": {
      "text/plain": [
       "'Script output:'"
      ]
     },
     "metadata": {},
     "output_type": "display_data"
    },
    {
     "data": {
      "text/plain": [
       "'This is the final pk values:  258491\\n'"
      ]
     },
     "metadata": {},
     "output_type": "display_data"
    },
    {
     "data": {
      "text/plain": [
       "'Script finished successfully!'"
      ]
     },
     "metadata": {},
     "output_type": "display_data"
    },
    {
     "data": {
      "text/plain": [
       "'Script output:'"
      ]
     },
     "metadata": {},
     "output_type": "display_data"
    },
    {
     "data": {
      "text/plain": [
       "'This is the final pk values:  258563\\n'"
      ]
     },
     "metadata": {},
     "output_type": "display_data"
    },
    {
     "data": {
      "text/plain": [
       "'Script finished successfully!'"
      ]
     },
     "metadata": {},
     "output_type": "display_data"
    },
    {
     "data": {
      "text/plain": [
       "'Script output:'"
      ]
     },
     "metadata": {},
     "output_type": "display_data"
    },
    {
     "data": {
      "text/plain": [
       "'This is the final pk values:  258635\\n'"
      ]
     },
     "metadata": {},
     "output_type": "display_data"
    },
    {
     "data": {
      "text/plain": [
       "'Script finished successfully!'"
      ]
     },
     "metadata": {},
     "output_type": "display_data"
    },
    {
     "data": {
      "text/plain": [
       "'Script output:'"
      ]
     },
     "metadata": {},
     "output_type": "display_data"
    },
    {
     "data": {
      "text/plain": [
       "'This is the final pk values:  258707\\n'"
      ]
     },
     "metadata": {},
     "output_type": "display_data"
    },
    {
     "data": {
      "text/plain": [
       "'Script finished successfully!'"
      ]
     },
     "metadata": {},
     "output_type": "display_data"
    },
    {
     "data": {
      "text/plain": [
       "'Script output:'"
      ]
     },
     "metadata": {},
     "output_type": "display_data"
    },
    {
     "data": {
      "text/plain": [
       "'This is the final pk values:  258779\\n'"
      ]
     },
     "metadata": {},
     "output_type": "display_data"
    },
    {
     "data": {
      "text/plain": [
       "'Script finished successfully!'"
      ]
     },
     "metadata": {},
     "output_type": "display_data"
    },
    {
     "data": {
      "text/plain": [
       "'Script output:'"
      ]
     },
     "metadata": {},
     "output_type": "display_data"
    },
    {
     "data": {
      "text/plain": [
       "'This is the final pk values:  258851\\n'"
      ]
     },
     "metadata": {},
     "output_type": "display_data"
    },
    {
     "data": {
      "text/plain": [
       "'Script finished successfully!'"
      ]
     },
     "metadata": {},
     "output_type": "display_data"
    },
    {
     "data": {
      "text/plain": [
       "'Script output:'"
      ]
     },
     "metadata": {},
     "output_type": "display_data"
    },
    {
     "data": {
      "text/plain": [
       "'This is the final pk values:  258923\\n'"
      ]
     },
     "metadata": {},
     "output_type": "display_data"
    },
    {
     "ename": "KeyboardInterrupt",
     "evalue": "",
     "output_type": "error",
     "traceback": [
      "\u001b[0;31m---------------------------------------------------------------------------\u001b[0m",
      "\u001b[0;31mKeyboardInterrupt\u001b[0m                         Traceback (most recent call last)",
      "Cell \u001b[0;32mIn[29], line 4\u001b[0m\n\u001b[1;32m      2\u001b[0m clear_backends()    \n\u001b[1;32m      3\u001b[0m \u001b[39mif\u001b[39;00m nloop \u001b[39m>\u001b[39m\u001b[39m5\u001b[39m:\n\u001b[0;32m----> 4\u001b[0m     sample()\n\u001b[1;32m      5\u001b[0m move_traj()\n\u001b[1;32m      6\u001b[0m traj_dict \u001b[39m=\u001b[39m analyse_traj(paramset, lj_gen)\n",
      "Cell \u001b[0;32mIn[10], line 5\u001b[0m, in \u001b[0;36msample\u001b[0;34m()\u001b[0m\n\u001b[1;32m      3\u001b[0m command \u001b[39m=\u001b[39m [\u001b[39m\"\u001b[39m\u001b[39m/home/yutao/project/aiida/applications/sample.sh\u001b[39m\u001b[39m\"\u001b[39m]\n\u001b[1;32m      4\u001b[0m \u001b[39m# Run the script using subprocess\u001b[39;00m\n\u001b[0;32m----> 5\u001b[0m completed_process \u001b[39m=\u001b[39m subprocess\u001b[39m.\u001b[39;49mrun(command, capture_output\u001b[39m=\u001b[39;49m\u001b[39mTrue\u001b[39;49;00m, cwd\u001b[39m=\u001b[39;49m\u001b[39m\"\u001b[39;49m\u001b[39m/home/yutao/project/aiida/applications\u001b[39;49m\u001b[39m\"\u001b[39;49m,text\u001b[39m=\u001b[39;49m\u001b[39mTrue\u001b[39;49;00m)\n\u001b[1;32m      7\u001b[0m \u001b[39m# Check the return code\u001b[39;00m\n\u001b[1;32m      8\u001b[0m \u001b[39mif\u001b[39;00m completed_process\u001b[39m.\u001b[39mreturncode \u001b[39m==\u001b[39m \u001b[39m0\u001b[39m:\n\u001b[1;32m      9\u001b[0m     \u001b[39m# The script finished successfully\u001b[39;00m\n",
      "File \u001b[0;32m~/anaconda3/envs/dmff/lib/python3.11/subprocess.py:550\u001b[0m, in \u001b[0;36mrun\u001b[0;34m(input, capture_output, timeout, check, *popenargs, **kwargs)\u001b[0m\n\u001b[1;32m    548\u001b[0m \u001b[39mwith\u001b[39;00m Popen(\u001b[39m*\u001b[39mpopenargs, \u001b[39m*\u001b[39m\u001b[39m*\u001b[39mkwargs) \u001b[39mas\u001b[39;00m process:\n\u001b[1;32m    549\u001b[0m     \u001b[39mtry\u001b[39;00m:\n\u001b[0;32m--> 550\u001b[0m         stdout, stderr \u001b[39m=\u001b[39m process\u001b[39m.\u001b[39;49mcommunicate(\u001b[39minput\u001b[39;49m, timeout\u001b[39m=\u001b[39;49mtimeout)\n\u001b[1;32m    551\u001b[0m     \u001b[39mexcept\u001b[39;00m TimeoutExpired \u001b[39mas\u001b[39;00m exc:\n\u001b[1;32m    552\u001b[0m         process\u001b[39m.\u001b[39mkill()\n",
      "File \u001b[0;32m~/anaconda3/envs/dmff/lib/python3.11/subprocess.py:1209\u001b[0m, in \u001b[0;36mPopen.communicate\u001b[0;34m(self, input, timeout)\u001b[0m\n\u001b[1;32m   1206\u001b[0m     endtime \u001b[39m=\u001b[39m \u001b[39mNone\u001b[39;00m\n\u001b[1;32m   1208\u001b[0m \u001b[39mtry\u001b[39;00m:\n\u001b[0;32m-> 1209\u001b[0m     stdout, stderr \u001b[39m=\u001b[39m \u001b[39mself\u001b[39;49m\u001b[39m.\u001b[39;49m_communicate(\u001b[39minput\u001b[39;49m, endtime, timeout)\n\u001b[1;32m   1210\u001b[0m \u001b[39mexcept\u001b[39;00m \u001b[39mKeyboardInterrupt\u001b[39;00m:\n\u001b[1;32m   1211\u001b[0m     \u001b[39m# https://bugs.python.org/issue25942\u001b[39;00m\n\u001b[1;32m   1212\u001b[0m     \u001b[39m# See the detailed comment in .wait().\u001b[39;00m\n\u001b[1;32m   1213\u001b[0m     \u001b[39mif\u001b[39;00m timeout \u001b[39mis\u001b[39;00m \u001b[39mnot\u001b[39;00m \u001b[39mNone\u001b[39;00m:\n",
      "File \u001b[0;32m~/anaconda3/envs/dmff/lib/python3.11/subprocess.py:2108\u001b[0m, in \u001b[0;36mPopen._communicate\u001b[0;34m(self, input, endtime, orig_timeout)\u001b[0m\n\u001b[1;32m   2101\u001b[0m     \u001b[39mself\u001b[39m\u001b[39m.\u001b[39m_check_timeout(endtime, orig_timeout,\n\u001b[1;32m   2102\u001b[0m                         stdout, stderr,\n\u001b[1;32m   2103\u001b[0m                         skip_check_and_raise\u001b[39m=\u001b[39m\u001b[39mTrue\u001b[39;00m)\n\u001b[1;32m   2104\u001b[0m     \u001b[39mraise\u001b[39;00m \u001b[39mRuntimeError\u001b[39;00m(  \u001b[39m# Impossible :)\u001b[39;00m\n\u001b[1;32m   2105\u001b[0m         \u001b[39m'\u001b[39m\u001b[39m_check_timeout(..., skip_check_and_raise=True) \u001b[39m\u001b[39m'\u001b[39m\n\u001b[1;32m   2106\u001b[0m         \u001b[39m'\u001b[39m\u001b[39mfailed to raise TimeoutExpired.\u001b[39m\u001b[39m'\u001b[39m)\n\u001b[0;32m-> 2108\u001b[0m ready \u001b[39m=\u001b[39m selector\u001b[39m.\u001b[39;49mselect(timeout)\n\u001b[1;32m   2109\u001b[0m \u001b[39mself\u001b[39m\u001b[39m.\u001b[39m_check_timeout(endtime, orig_timeout, stdout, stderr)\n\u001b[1;32m   2111\u001b[0m \u001b[39m# XXX Rewrite these to use non-blocking I/O on the file\u001b[39;00m\n\u001b[1;32m   2112\u001b[0m \u001b[39m# objects; they are no longer using C stdio!\u001b[39;00m\n",
      "File \u001b[0;32m~/anaconda3/envs/dmff/lib/python3.11/selectors.py:415\u001b[0m, in \u001b[0;36m_PollLikeSelector.select\u001b[0;34m(self, timeout)\u001b[0m\n\u001b[1;32m    413\u001b[0m ready \u001b[39m=\u001b[39m []\n\u001b[1;32m    414\u001b[0m \u001b[39mtry\u001b[39;00m:\n\u001b[0;32m--> 415\u001b[0m     fd_event_list \u001b[39m=\u001b[39m \u001b[39mself\u001b[39m\u001b[39m.\u001b[39m_selector\u001b[39m.\u001b[39mpoll(timeout)\n\u001b[1;32m    416\u001b[0m \u001b[39mexcept\u001b[39;00m \u001b[39mInterruptedError\u001b[39;00m:\n\u001b[1;32m    417\u001b[0m     \u001b[39mreturn\u001b[39;00m ready\n",
      "\u001b[0;31mKeyboardInterrupt\u001b[0m: "
     ]
    }
   ],
   "source": [
    "for nloop in range(5, 80):\n",
    "    clear_backends()    \n",
    "    if nloop >=5:\n",
    "        sample()\n",
    "    move_traj()\n",
    "    traj_dict = analyse_traj(paramset, lj_gen)\n",
    "\n",
    "    def loss(paramset):\n",
    "        errors = []\n",
    "        for idx in range(1, Number_points+1):\n",
    "            energies = []\n",
    "            for jdx in range(len(traj_dict[idx]['structure'])):  \n",
    "                ener = compute_binding_energy(paramset, traj_dict[idx]['structure'][jdx][0], traj_dict[idx]['structure'][jdx][1], lj_gen, numframe=720,cutoff=cutoff)\n",
    "                energies.append(ener.reshape((1,)))\n",
    "            energies = jnp.concatenate(energies)\n",
    "            weight = traj_dict[idx]['estimator'].estimate_weight(energies)\n",
    "            reweight_loading = traj_dict[idx]['loading'] * weight\n",
    "            error = jnp.power(jnp.average(reweight_loading)-traj_dict[idx]['experiment']['loading'],2)\n",
    "            errors.append(error.reshape((1,)))\n",
    "            #print(error)\n",
    "        errors = jnp.concatenate(errors)\n",
    "        return jnp.sum(errors)\n",
    "\n",
    "    v_and_g = jax.value_and_grad(loss, 0)\n",
    "    v, g = v_and_g(paramset)\n",
    "    loss_ls.append(v)\n",
    "\n",
    "    updates, opt_state = optimizer.update(g, opt_state)\n",
    "    updates.parameters = update_mask(updates.parameters,paramset.mask)\n",
    "    paramset = optax.apply_updates(paramset, updates)\n",
    "    paramset = jax.tree_map(lambda x: jnp.clip(x, 0.0, 1e8), paramset)\n",
    "    update_ff(paramset)\n",
    "    lj_gen.overwrite(paramset)\n",
    "    sigma_indices, epsilon_indices = detect_parameter_change(paramset, paramset_old)\n",
    "    paramset = fix_changed_parameters(paramset, sigma_indices, epsilon_indices)"
   ]
  },
  {
   "cell_type": "code",
   "execution_count": 3,
   "metadata": {},
   "outputs": [
    {
     "ename": "NameError",
     "evalue": "name 'v_and_g' is not defined",
     "output_type": "error",
     "traceback": [
      "\u001b[0;31m---------------------------------------------------------------------------\u001b[0m",
      "\u001b[0;31mNameError\u001b[0m                                 Traceback (most recent call last)",
      "Cell \u001b[0;32mIn[3], line 1\u001b[0m\n\u001b[0;32m----> 1\u001b[0m v_and_g\u001b[39m.\u001b[39m_cache_size()\n",
      "\u001b[0;31mNameError\u001b[0m: name 'v_and_g' is not defined"
     ]
    }
   ],
   "source": [
    "v_and_g._cache_size()"
   ]
  },
  {
   "cell_type": "code",
   "execution_count": 59,
   "metadata": {},
   "outputs": [
    {
     "name": "stdout",
     "output_type": "stream",
     "text": [
      "\u001b[33mDEPRECATION: Loading egg at /home/yutao/anaconda3/envs/dmff/lib/python3.11/site-packages/grand-1.1.0-py3.11.egg is deprecated. pip 24.3 will enforce this behaviour change. A possible replacement is to use pip for package installation.. Discussion can be found at https://github.com/pypa/pip/issues/12330\u001b[0m\u001b[33m\n",
      "\u001b[0mCollecting pytest\n",
      "  Downloading pytest-8.0.0-py3-none-any.whl.metadata (7.8 kB)\n",
      "Collecting iniconfig (from pytest)\n",
      "  Using cached iniconfig-2.0.0-py3-none-any.whl (5.9 kB)\n",
      "Requirement already satisfied: packaging in /home/yutao/anaconda3/envs/dmff/lib/python3.11/site-packages (from pytest) (23.2)\n",
      "Collecting pluggy<2.0,>=1.3.0 (from pytest)\n",
      "  Downloading pluggy-1.4.0-py3-none-any.whl.metadata (4.3 kB)\n",
      "Downloading pytest-8.0.0-py3-none-any.whl (334 kB)\n",
      "\u001b[2K   \u001b[90m━━━━━━━━━━━━━━━━━━━━━━━━━━━━━━━━━━━━━━━━\u001b[0m \u001b[32m334.0/334.0 kB\u001b[0m \u001b[31m7.2 MB/s\u001b[0m eta \u001b[36m0:00:00\u001b[0m:00:01\u001b[0m\n",
      "\u001b[?25hDownloading pluggy-1.4.0-py3-none-any.whl (20 kB)\n",
      "Installing collected packages: pluggy, iniconfig, pytest\n",
      "Successfully installed iniconfig-2.0.0 pluggy-1.4.0 pytest-8.0.0\n"
     ]
    }
   ],
   "source": [
    "!pip install pytest"
   ]
  },
  {
   "cell_type": "code",
   "execution_count": 61,
   "metadata": {},
   "outputs": [
    {
     "data": {
      "text/plain": [
       "<module 'pytest' from '/home/yutao/anaconda3/envs/dmff/lib/python3.11/site-packages/pytest/__init__.py'>"
      ]
     },
     "execution_count": 61,
     "metadata": {},
     "output_type": "execute_result"
    }
   ],
   "source": [
    "pytest"
   ]
  },
  {
   "cell_type": "code",
   "execution_count": 60,
   "metadata": {},
   "outputs": [
    {
     "ename": "Failed",
     "evalue": "Fixture \"clear_caches\" called directly. Fixtures are not meant to be called directly,\nbut are created automatically when test functions request them as parameters.\nSee https://docs.pytest.org/en/stable/explanation/fixtures.html for more information about fixtures, and\nhttps://docs.pytest.org/en/stable/deprecations.html#calling-fixtures-directly about how to update your code.",
     "output_type": "error",
     "traceback": [
      "\u001b[0;31m---------------------------------------------------------------------------\u001b[0m",
      "\u001b[0;31mFailed\u001b[0m                                    Traceback (most recent call last)",
      "Cell \u001b[0;32mIn[60], line 15\u001b[0m\n\u001b[1;32m     12\u001b[0m         gc\u001b[39m.\u001b[39mcollect()\n\u001b[1;32m     14\u001b[0m \u001b[39m# Call the clear_caches() function whenever you want to clear the caches\u001b[39;00m\n\u001b[0;32m---> 15\u001b[0m clear_caches()\n",
      "File \u001b[0;32m~/anaconda3/envs/dmff/lib/python3.11/site-packages/_pytest/fixtures.py:1177\u001b[0m, in \u001b[0;36mwrap_function_to_error_out_if_called_directly.<locals>.result\u001b[0;34m(*args, **kwargs)\u001b[0m\n\u001b[1;32m   1175\u001b[0m \u001b[39m@functools\u001b[39m\u001b[39m.\u001b[39mwraps(function)\n\u001b[1;32m   1176\u001b[0m \u001b[39mdef\u001b[39;00m \u001b[39mresult\u001b[39m(\u001b[39m*\u001b[39margs, \u001b[39m*\u001b[39m\u001b[39m*\u001b[39mkwargs):\n\u001b[0;32m-> 1177\u001b[0m     fail(message, pytrace\u001b[39m=\u001b[39;49m\u001b[39mFalse\u001b[39;49;00m)\n",
      "File \u001b[0;32m~/anaconda3/envs/dmff/lib/python3.11/site-packages/_pytest/outcomes.py:187\u001b[0m, in \u001b[0;36mfail\u001b[0;34m(reason, pytrace, msg)\u001b[0m\n\u001b[1;32m    185\u001b[0m __tracebackhide__ \u001b[39m=\u001b[39m \u001b[39mTrue\u001b[39;00m\n\u001b[1;32m    186\u001b[0m reason \u001b[39m=\u001b[39m _resolve_msg_to_reason(\u001b[39m\"\u001b[39m\u001b[39mfail\u001b[39m\u001b[39m\"\u001b[39m, reason, msg)\n\u001b[0;32m--> 187\u001b[0m \u001b[39mraise\u001b[39;00m Failed(msg\u001b[39m=\u001b[39mreason, pytrace\u001b[39m=\u001b[39mpytrace)\n",
      "\u001b[0;31mFailed\u001b[0m: Fixture \"clear_caches\" called directly. Fixtures are not meant to be called directly,\nbut are created automatically when test functions request them as parameters.\nSee https://docs.pytest.org/en/stable/explanation/fixtures.html for more information about fixtures, and\nhttps://docs.pytest.org/en/stable/deprecations.html#calling-fixtures-directly about how to update your code."
     ]
    }
   ],
   "source": [
    "import pytest, psutil, gc\n",
    "@pytest.fixture(autouse=True)\n",
    "def clear_caches():\n",
    "    process = psutil.Process()\n",
    "    if process.memory_info().vms > 4 * 2**30:  # >4GB memory usage\n",
    "        for module_name, module in sys.modules.items():\n",
    "            if module_name.startswith(\"jax\"):\n",
    "                for obj_name in dir(module):\n",
    "                    obj = getattr(module, obj_name)\n",
    "                    if hasattr(obj, \"cache_clear\"):\n",
    "                        obj.cache_clear()\n",
    "        gc.collect()\n",
    "\n",
    "# Call the clear_caches() function whenever you want to clear the caches\n",
    "clear_caches()"
   ]
  },
  {
   "cell_type": "code",
   "execution_count": 62,
   "metadata": {},
   "outputs": [],
   "source": [
    "from jax import clear_caches"
   ]
  },
  {
   "cell_type": "code",
   "execution_count": 63,
   "metadata": {},
   "outputs": [],
   "source": [
    "clear_caches()"
   ]
  },
  {
   "cell_type": "code",
   "execution_count": 54,
   "metadata": {},
   "outputs": [],
   "source": [
    "from jax import jit\n",
    "\n",
    "@jit\n",
    "def f(x):\n",
    "  return x + 1\n",
    "\n",
    "f.clear_cache()"
   ]
  },
  {
   "cell_type": "code",
   "execution_count": 55,
   "metadata": {},
   "outputs": [
    {
     "ename": "AttributeError",
     "evalue": "'function' object has no attribute 'clear_cache'",
     "output_type": "error",
     "traceback": [
      "\u001b[0;31m---------------------------------------------------------------------------\u001b[0m",
      "\u001b[0;31mAttributeError\u001b[0m                            Traceback (most recent call last)",
      "Cell \u001b[0;32mIn[55], line 1\u001b[0m\n\u001b[0;32m----> 1\u001b[0m v_and_g\u001b[39m.\u001b[39;49mclear_cache()\n",
      "\u001b[0;31mAttributeError\u001b[0m: 'function' object has no attribute 'clear_cache'"
     ]
    }
   ],
   "source": [
    "v_and_g.clear_cache()"
   ]
  },
  {
   "cell_type": "code",
   "execution_count": 52,
   "metadata": {},
   "outputs": [
    {
     "name": "stdout",
     "output_type": "stream",
     "text": [
      "0\n"
     ]
    },
    {
     "name": "stderr",
     "output_type": "stream",
     "text": [
      "JIT session error: Cannot allocate memory\n"
     ]
    },
    {
     "ename": "XlaRuntimeError",
     "evalue": "INVALID_ARGUMENT: Symbol main.4 not found.",
     "output_type": "error",
     "traceback": [
      "\u001b[0;31m---------------------------------------------------------------------------\u001b[0m",
      "\u001b[0;31mXlaRuntimeError\u001b[0m                           Traceback (most recent call last)",
      "Cell \u001b[0;32mIn[52], line 10\u001b[0m\n\u001b[1;32m      7\u001b[0m \u001b[39mprint\u001b[39m(f\u001b[39m.\u001b[39m_cache_size())\n\u001b[1;32m      8\u001b[0m \u001b[39m# 0\u001b[39;00m\n\u001b[0;32m---> 10\u001b[0m f(\u001b[39m1.0\u001b[39;49m)\n\u001b[1;32m     11\u001b[0m \u001b[39mprint\u001b[39m(f\u001b[39m.\u001b[39m_cache_size())\n\u001b[1;32m     12\u001b[0m \u001b[39m# 1\u001b[39;00m\n",
      "    \u001b[0;31m[... skipping hidden 14 frame]\u001b[0m\n",
      "File \u001b[0;32m~/anaconda3/envs/dmff/lib/python3.11/site-packages/jax/_src/compiler.py:256\u001b[0m, in \u001b[0;36mbackend_compile\u001b[0;34m(backend, module, options, host_callbacks)\u001b[0m\n\u001b[1;32m    251\u001b[0m   \u001b[39mreturn\u001b[39;00m backend\u001b[39m.\u001b[39mcompile(built_c, compile_options\u001b[39m=\u001b[39moptions,\n\u001b[1;32m    252\u001b[0m                          host_callbacks\u001b[39m=\u001b[39mhost_callbacks)\n\u001b[1;32m    253\u001b[0m \u001b[39m# Some backends don't have `host_callbacks` option yet\u001b[39;00m\n\u001b[1;32m    254\u001b[0m \u001b[39m# TODO(sharadmv): remove this fallback when all backends allow `compile`\u001b[39;00m\n\u001b[1;32m    255\u001b[0m \u001b[39m# to take in `host_callbacks`\u001b[39;00m\n\u001b[0;32m--> 256\u001b[0m \u001b[39mreturn\u001b[39;00m backend\u001b[39m.\u001b[39;49mcompile(built_c, compile_options\u001b[39m=\u001b[39;49moptions)\n",
      "\u001b[0;31mXlaRuntimeError\u001b[0m: INVALID_ARGUMENT: Symbol main.4 not found."
     ]
    }
   ],
   "source": [
    "from jax import jit\n",
    "\n",
    "@jit\n",
    "def f(x):\n",
    "  return x + 1\n",
    "\n",
    "print(f._cache_size())\n",
    "# 0\n",
    "\n",
    "f(1.0)\n",
    "print(f._cache_size())\n",
    "# 1\n",
    "\n",
    "f(1)\n",
    "print(f._cache_size())\n",
    "# 2\n",
    "\n",
    "f._clear_cache()\n",
    "print(f._cache_size())\n",
    "# 0"
   ]
  },
  {
   "cell_type": "code",
   "execution_count": 47,
   "metadata": {},
   "outputs": [
    {
     "ename": "AttributeError",
     "evalue": "'function' object has no attribute 'cache_clear'",
     "output_type": "error",
     "traceback": [
      "\u001b[0;31m---------------------------------------------------------------------------\u001b[0m",
      "\u001b[0;31mAttributeError\u001b[0m                            Traceback (most recent call last)",
      "Cell \u001b[0;32mIn[47], line 4\u001b[0m\n\u001b[1;32m      1\u001b[0m \u001b[39mimport\u001b[39;00m \u001b[39mjax\u001b[39;00m\n\u001b[1;32m      3\u001b[0m \u001b[39m# Clear JAX XLA cache\u001b[39;00m\n\u001b[0;32m----> 4\u001b[0m jax\u001b[39m.\u001b[39;49mxla_computation\u001b[39m.\u001b[39;49mcache_clear()\n",
      "\u001b[0;31mAttributeError\u001b[0m: 'function' object has no attribute 'cache_clear'"
     ]
    }
   ],
   "source": [
    "import jax\n",
    "\n",
    "# Clear JAX XLA cache\n",
    "jax.xla_computation.cache_clear()"
   ]
  },
  {
   "cell_type": "code",
   "execution_count": 2,
   "metadata": {},
   "outputs": [],
   "source": [
    "from jax import clear_caches, clear_backends"
   ]
  },
  {
   "cell_type": "code",
   "execution_count": 64,
   "metadata": {},
   "outputs": [],
   "source": [
    "#clear_backends()\n",
    "v_and_g = jax.value_and_grad(loss, 0)\n",
    "v, g = v_and_g(paramset)"
   ]
  },
  {
   "cell_type": "code",
   "execution_count": 49,
   "metadata": {},
   "outputs": [
    {
     "ename": "AttributeError",
     "evalue": "module 'jax.lib' has no attribute 'xla_compilation_cache_clear'",
     "output_type": "error",
     "traceback": [
      "\u001b[0;31m---------------------------------------------------------------------------\u001b[0m",
      "\u001b[0;31mAttributeError\u001b[0m                            Traceback (most recent call last)",
      "Cell \u001b[0;32mIn[49], line 4\u001b[0m\n\u001b[1;32m      1\u001b[0m \u001b[39mimport\u001b[39;00m \u001b[39mjax\u001b[39;00m\n\u001b[1;32m      3\u001b[0m \u001b[39m# Clear JAX XLA compilation cache\u001b[39;00m\n\u001b[0;32m----> 4\u001b[0m jax\u001b[39m.\u001b[39;49mlib\u001b[39m.\u001b[39;49mxla_compilation_cache_clear()\n",
      "\u001b[0;31mAttributeError\u001b[0m: module 'jax.lib' has no attribute 'xla_compilation_cache_clear'"
     ]
    }
   ],
   "source": [
    "import jax\n",
    "\n",
    "# Clear JAX XLA compilation cache\n",
    "jax.lib.xla_compilation_cache_clear()"
   ]
  },
  {
   "cell_type": "code",
   "execution_count": 65,
   "metadata": {},
   "outputs": [
    {
     "data": {
      "text/plain": [
       "'Script finished successfully!'"
      ]
     },
     "metadata": {},
     "output_type": "display_data"
    },
    {
     "data": {
      "text/plain": [
       "'Script output:'"
      ]
     },
     "metadata": {},
     "output_type": "display_data"
    },
    {
     "data": {
      "text/plain": [
       "'This is the final pk values:  259427\\n'"
      ]
     },
     "metadata": {},
     "output_type": "display_data"
    },
    {
     "data": {
      "text/plain": [
       "'Script finished successfully!'"
      ]
     },
     "metadata": {},
     "output_type": "display_data"
    },
    {
     "data": {
      "text/plain": [
       "'Script output:'"
      ]
     },
     "metadata": {},
     "output_type": "display_data"
    },
    {
     "data": {
      "text/plain": [
       "'This is the final pk values:  259576\\n'"
      ]
     },
     "metadata": {},
     "output_type": "display_data"
    }
   ],
   "source": [
    "for nloop in range(35, 80):\n",
    "    clear_caches()\n",
    "    clear_backends()    \n",
    "    if nloop % 2:\n",
    "        sample()\n",
    "    move_traj()\n",
    "    traj_dict = analyse_traj(paramset, lj_gen)\n",
    "\n",
    "    def loss(paramset):\n",
    "        errors = []\n",
    "        for idx in range(1, Number_points+1):\n",
    "            energies = []\n",
    "            for jdx in range(len(traj_dict[idx]['structure'])):  \n",
    "                ener = compute_binding_energy(paramset, traj_dict[idx]['structure'][jdx][0], traj_dict[idx]['structure'][jdx][1], lj_gen, numframe=720,cutoff=cutoff)\n",
    "                energies.append(ener.reshape((1,)))\n",
    "            energies = jnp.concatenate(energies)\n",
    "            weight = traj_dict[idx]['estimator'].estimate_weight(energies)\n",
    "            reweight_loading = traj_dict[idx]['loading'] * weight\n",
    "            error = jnp.power(jnp.average(reweight_loading)-traj_dict[idx]['experiment']['loading'],2)\n",
    "            errors.append(error.reshape((1,)))\n",
    "            #print(error)\n",
    "        errors = jnp.concatenate(errors)\n",
    "        return jnp.sum(errors)\n",
    "\n",
    "    v_and_g = jax.value_and_grad(loss, 0)\n",
    "    v, g = v_and_g(paramset)\n",
    "    loss_ls.append(v)\n",
    "\n",
    "    updates, opt_state = optimizer.update(g, opt_state)\n",
    "    updates.parameters = update_mask(updates.parameters,paramset.mask)\n",
    "    paramset = optax.apply_updates(paramset, updates)\n",
    "    paramset = jax.tree_map(lambda x: jnp.clip(x, 0.0, 1e8), paramset)\n",
    "    update_ff(paramset)\n",
    "    lj_gen.overwrite(paramset)\n",
    "    sigma_indices, epsilon_indices = detect_parameter_change(paramset, paramset_old)\n",
    "    paramset = fix_changed_parameters(paramset, sigma_indices, epsilon_indices)"
   ]
  },
  {
   "cell_type": "code",
   "execution_count": 34,
   "metadata": {},
   "outputs": [
    {
     "data": {
      "text/plain": [
       "Array([1.95061239, 0.27166554, 0.23448218, 0.14987951, 0.65757   ,\n",
       "       0.22469   ], dtype=float64)"
      ]
     },
     "execution_count": 34,
     "metadata": {},
     "output_type": "execute_result"
    }
   ],
   "source": [
    "paramset.parameters['LennardJonesForce']['epsilon']"
   ]
  },
  {
   "cell_type": "code",
   "execution_count": 35,
   "metadata": {},
   "outputs": [
    {
     "data": {
      "text/plain": [
       "[<matplotlib.lines.Line2D at 0x7f6620d14410>]"
      ]
     },
     "execution_count": 35,
     "metadata": {},
     "output_type": "execute_result"
    },
    {
     "data": {
      "image/png": "[encoded data removed]",
      "text/plain": [
       "<Figure size 640x480 with 1 Axes>"
      ]
     },
     "metadata": {},
     "output_type": "display_data"
    }
   ],
   "source": [
    "plt.plot(loss_ls)"
   ]
  },
  {
   "cell_type": "code",
   "execution_count": 33,
   "metadata": {},
   "outputs": [
    {
     "data": {
      "text/plain": [
       "{'LennardJonesForce': {'sigma': Array([0., 0., 0., 0., 0., 0.], dtype=float64),\n",
       "  'epsilon': Array([1., 1., 1., 0., 0., 0.], dtype=float64),\n",
       "  'sigma_nbfix': Array([], dtype=float64),\n",
       "  'epsilon_nbfix': Array([], dtype=float64)}}"
      ]
     },
     "execution_count": 33,
     "metadata": {},
     "output_type": "execute_result"
    }
   ],
   "source": [
    "paramset.mask"
   ]
  },
  {
   "cell_type": "code",
   "execution_count": 25,
   "metadata": {},
   "outputs": [
    {
     "data": {
      "text/plain": [
       "Array(6.65456854, dtype=float64)"
      ]
     },
     "execution_count": 25,
     "metadata": {},
     "output_type": "execute_result"
    }
   ],
   "source": [
    "v"
   ]
  },
  {
   "cell_type": "code",
   "execution_count": 21,
   "metadata": {},
   "outputs": [
    {
     "data": {
      "text/plain": [
       "<function __main__.update_ff(paramset, dest_path='/home/yutao/project/aiida/applications/ff_1.json')>"
      ]
     },
     "execution_count": 21,
     "metadata": {},
     "output_type": "execute_result"
    }
   ],
   "source": [
    "update_ff"
   ]
  },
  {
   "cell_type": "code",
   "execution_count": 20,
   "metadata": {},
   "outputs": [
    {
     "data": {
      "text/plain": [
       "<function __main__.fix_changed_parameters(paramset_new, sigma_indices, epsilon_indices)>"
      ]
     },
     "execution_count": 20,
     "metadata": {},
     "output_type": "execute_result"
    }
   ],
   "source": [
    "fix_changed_parameters"
   ]
  },
  {
   "cell_type": "code",
   "execution_count": 72,
   "metadata": {},
   "outputs": [],
   "source": [
    "def loss(paramset):\n",
    "    errors = []\n",
    "    for idx in range(1, Number_points+1):\n",
    "        energies = []\n",
    "        for jdx in range(len(traj_dict[idx]['structure'])):\n",
    "            ener = compute_binding_energy(paramset, traj_dict[idx]['structure'][jdx][0], traj_dict[idx]['structure'][jdx][1], lj_gen, numframe=720,cutoff=cutoff)\n",
    "            print(ener)\n",
    "            energies.append(ener.reshape((1,)))\n",
    "        energies = jnp.concatenate(energies)\n",
    "        weight = traj_dict[idx]['estimator'].estimate_weight(energies)\n",
    "        reweight_loading = traj_dict[idx]['loading'] * weight\n",
    "        print(weight)\n",
    "        print(traj_dict[idx]['experiment']['loading'])\n",
    "        error = jnp.power(jnp.average(reweight_loading)-traj_dict[idx]['experiment']['loading'],2)\n",
    "        errors.append(error.reshape((1,)))\n",
    "        #print(error)\n",
    "    errors = jnp.concatenate(errors)\n",
    "    return jnp.sum(errors)\n"
   ]
  },
  {
   "cell_type": "code",
   "execution_count": 70,
   "metadata": {},
   "outputs": [
    {
     "data": {
      "text/plain": [
       "<dmff.mbar.ReweightEstimator at 0x7f4f5baa2f90>"
      ]
     },
     "execution_count": 70,
     "metadata": {},
     "output_type": "execute_result"
    }
   ],
   "source": [
    "traj_dict[1]['estimator']"
   ]
  },
  {
   "cell_type": "code",
   "execution_count": 73,
   "metadata": {},
   "outputs": [
    {
     "name": "stdout",
     "output_type": "stream",
     "text": [
      "-134.11803293879728\n",
      "64.14777184630512\n",
      "-109.52924623271738\n",
      "-16.511723408748093\n",
      "-95.05879251136503\n",
      "-23.825326467410022\n",
      "31.8318915067813\n",
      "-52.562460192646164\n",
      "-28.697603830357842\n",
      "-88.95329513421895\n",
      "-26.72122127604402\n",
      "-163.69874901474705\n",
      "-102.52884608246674\n",
      "2.4255780298655765\n",
      "-73.98301560601183\n",
      "-52.491631438813535\n",
      "25.780388773095048\n",
      "-64.59964629247634\n",
      "-69.09080401654649\n",
      "-28.570069745055875\n",
      "172.48198084235577\n",
      "-36.03736692363901\n",
      "203.69957936102674\n",
      "24.028883484712416\n",
      "-86.81482941181775\n",
      "[1. 1. 1. 1. 1. 1. 1. 1. 1. 1. 1. 1. 1. 1. 1. 1. 1. 1. 1. 1. 1. 1. 1. 1.\n",
      " 1.]\n",
      "0.24030165348645946\n",
      "-67.11139067533382\n",
      "-39.10659445003077\n",
      "-28.61076320015686\n",
      "-283.5834651441683\n",
      "-124.42757708692825\n",
      "167.68732397435386\n",
      "-17.84842883008333\n",
      "-304.2968811441422\n",
      "-192.1859401529032\n",
      "76.83195537103975\n",
      "-270.0099895900107\n",
      "-169.96435004351895\n",
      "16.22240389806003\n",
      "-75.21521670578069\n",
      "-275.91183825945313\n",
      "37.6500256023655\n",
      "-175.73463566569524\n",
      "709.3116791473221\n",
      "-70.72745173567893\n",
      "-111.17174526954075\n",
      "473.86575731877133\n",
      "-213.80432873910627\n",
      "-94.03338903463812\n",
      "357.2331982050966\n",
      "-156.87266809084284\n",
      "[1. 1. 1. 1. 1. 1. 1. 1. 1. 1. 1. 1. 1. 1. 1. 1. 1. 1. 1. 1. 1. 1. 1. 1.\n",
      " 1.]\n",
      "0.6912047560958835\n",
      "-314.04127096304444\n",
      "-345.32078241361364\n",
      "-381.25637968006595\n",
      "11.685809546953067\n",
      "-102.67241082005714\n",
      "-416.28173593984855\n",
      "-174.53215353128365\n",
      "-15.902938679332053\n",
      "-321.32679490556836\n",
      "-288.8969476723296\n",
      "-171.1302739186761\n",
      "301.9911876629347\n",
      "-253.77150651326522\n",
      "-324.1312490487889\n",
      "-100.46484313322385\n",
      "-64.99406827034437\n",
      "147.00677115032502\n",
      "-95.94275506074003\n",
      "-256.9628153707389\n",
      "326.10478806385174\n",
      "-273.99978463898464\n",
      "-202.66381304245812\n",
      "-59.812469793652326\n",
      "68.60029003884358\n",
      "-150.88265680368613\n",
      "[1. 1. 1. 1. 1. 1. 1. 1. 1. 1. 1. 1. 1. 1. 1. 1. 1. 1. 1. 1. 1. 1. 1. 1.\n",
      " 1.]\n",
      "1.0260070598298272\n"
     ]
    },
    {
     "data": {
      "text/plain": [
       "Array(0.04240318, dtype=float64)"
      ]
     },
     "execution_count": 73,
     "metadata": {},
     "output_type": "execute_result"
    }
   ],
   "source": [
    "loss(paramset)"
   ]
  },
  {
   "cell_type": "code",
   "execution_count": 58,
   "metadata": {},
   "outputs": [
    {
     "data": {
      "text/plain": [
       "Array(nan, dtype=float64)"
      ]
     },
     "execution_count": 58,
     "metadata": {},
     "output_type": "execute_result"
    }
   ],
   "source": [
    "v"
   ]
  },
  {
   "cell_type": "code",
   "execution_count": 55,
   "metadata": {},
   "outputs": [
    {
     "data": {
      "text/plain": [
       "{'LennardJonesForce': {'sigma': Array([0., 0., 0., 0., 0., 0.], dtype=float64),\n",
       "  'epsilon': Array([1., 1., 1., 1., 0., 0.], dtype=float64),\n",
       "  'sigma_nbfix': Array([], dtype=float64),\n",
       "  'epsilon_nbfix': Array([], dtype=float64)}}"
      ]
     },
     "execution_count": 55,
     "metadata": {},
     "output_type": "execute_result"
    }
   ],
   "source": [
    "paramset.mask"
   ]
  },
  {
   "cell_type": "code",
   "execution_count": null,
   "metadata": {},
   "outputs": [],
   "source": [
    "plt.plot(loss_ls)\n"
   ]
  },
  {
   "cell_type": "code",
   "execution_count": 23,
   "metadata": {},
   "outputs": [
    {
     "ename": "NameError",
     "evalue": "name 'loss_ls' is not defined",
     "output_type": "error",
     "traceback": [
      "\u001b[0;31m---------------------------------------------------------------------------\u001b[0m",
      "\u001b[0;31mNameError\u001b[0m                                 Traceback (most recent call last)",
      "Cell \u001b[0;32mIn[23], line 2\u001b[0m\n\u001b[1;32m      1\u001b[0m \u001b[39mfrom\u001b[39;00m \u001b[39mmatplotlib\u001b[39;00m \u001b[39mimport\u001b[39;00m pyplot \u001b[39mas\u001b[39;00m plt\n\u001b[0;32m----> 2\u001b[0m plt\u001b[39m.\u001b[39mplot(loss_ls)\n",
      "\u001b[0;31mNameError\u001b[0m: name 'loss_ls' is not defined"
     ]
    }
   ],
   "source": [
    "from matplotlib import pyplot as plt\n",
    "plt.plot(loss_ls)"
   ]
  },
  {
   "cell_type": "code",
   "execution_count": 17,
   "metadata": {},
   "outputs": [
    {
     "data": {
      "text/plain": [
       "'Script finished successfully!'"
      ]
     },
     "metadata": {},
     "output_type": "display_data"
    },
    {
     "data": {
      "text/plain": [
       "'Script output:'"
      ]
     },
     "metadata": {},
     "output_type": "display_data"
    },
    {
     "data": {
      "text/plain": [
       "'This is the final pk values:  252982\\n'"
      ]
     },
     "metadata": {},
     "output_type": "display_data"
    },
    {
     "data": {
      "text/plain": [
       "'Script finished successfully!'"
      ]
     },
     "metadata": {},
     "output_type": "display_data"
    },
    {
     "data": {
      "text/plain": [
       "'Script output:'"
      ]
     },
     "metadata": {},
     "output_type": "display_data"
    },
    {
     "data": {
      "text/plain": [
       "'This is the final pk values:  253122\\n'"
      ]
     },
     "metadata": {},
     "output_type": "display_data"
    },
    {
     "data": {
      "text/plain": [
       "'Script finished successfully!'"
      ]
     },
     "metadata": {},
     "output_type": "display_data"
    },
    {
     "data": {
      "text/plain": [
       "'Script output:'"
      ]
     },
     "metadata": {},
     "output_type": "display_data"
    },
    {
     "data": {
      "text/plain": [
       "'This is the final pk values:  253204\\n'"
      ]
     },
     "metadata": {},
     "output_type": "display_data"
    },
    {
     "data": {
      "text/plain": [
       "'Script finished successfully!'"
      ]
     },
     "metadata": {},
     "output_type": "display_data"
    },
    {
     "data": {
      "text/plain": [
       "'Script output:'"
      ]
     },
     "metadata": {},
     "output_type": "display_data"
    },
    {
     "data": {
      "text/plain": [
       "'This is the final pk values:  253286\\n'"
      ]
     },
     "metadata": {},
     "output_type": "display_data"
    },
    {
     "data": {
      "text/plain": [
       "'Script finished successfully!'"
      ]
     },
     "metadata": {},
     "output_type": "display_data"
    },
    {
     "data": {
      "text/plain": [
       "'Script output:'"
      ]
     },
     "metadata": {},
     "output_type": "display_data"
    },
    {
     "data": {
      "text/plain": [
       "'This is the final pk values:  253368\\n'"
      ]
     },
     "metadata": {},
     "output_type": "display_data"
    },
    {
     "data": {
      "text/plain": [
       "'Script finished successfully!'"
      ]
     },
     "metadata": {},
     "output_type": "display_data"
    },
    {
     "data": {
      "text/plain": [
       "'Script output:'"
      ]
     },
     "metadata": {},
     "output_type": "display_data"
    },
    {
     "data": {
      "text/plain": [
       "'This is the final pk values:  253445\\n'"
      ]
     },
     "metadata": {},
     "output_type": "display_data"
    },
    {
     "data": {
      "text/plain": [
       "'Script finished successfully!'"
      ]
     },
     "metadata": {},
     "output_type": "display_data"
    },
    {
     "data": {
      "text/plain": [
       "'Script output:'"
      ]
     },
     "metadata": {},
     "output_type": "display_data"
    },
    {
     "data": {
      "text/plain": [
       "'This is the final pk values:  253502\\n'"
      ]
     },
     "metadata": {},
     "output_type": "display_data"
    },
    {
     "data": {
      "text/plain": [
       "'Script finished successfully!'"
      ]
     },
     "metadata": {},
     "output_type": "display_data"
    },
    {
     "data": {
      "text/plain": [
       "'Script output:'"
      ]
     },
     "metadata": {},
     "output_type": "display_data"
    },
    {
     "data": {
      "text/plain": [
       "'This is the final pk values:  253554\\n'"
      ]
     },
     "metadata": {},
     "output_type": "display_data"
    },
    {
     "data": {
      "text/plain": [
       "'Script finished successfully!'"
      ]
     },
     "metadata": {},
     "output_type": "display_data"
    },
    {
     "data": {
      "text/plain": [
       "'Script output:'"
      ]
     },
     "metadata": {},
     "output_type": "display_data"
    },
    {
     "data": {
      "text/plain": [
       "'This is the final pk values:  253606\\n'"
      ]
     },
     "metadata": {},
     "output_type": "display_data"
    },
    {
     "data": {
      "text/plain": [
       "'Script finished successfully!'"
      ]
     },
     "metadata": {},
     "output_type": "display_data"
    },
    {
     "data": {
      "text/plain": [
       "'Script output:'"
      ]
     },
     "metadata": {},
     "output_type": "display_data"
    },
    {
     "data": {
      "text/plain": [
       "'This is the final pk values:  253658\\n'"
      ]
     },
     "metadata": {},
     "output_type": "display_data"
    }
   ],
   "source": [
    "paramset_old = paramset\n",
    "lj_gen_old = lj_gen\n",
    "loss_ls = []\n",
    "os.system(\"cp /home/yutao/project/aiida/applications/UFF.json /home/yutao/project/aiida/applications/ff_1.json\")\n",
    "\n",
    "for nloop in range(10):\n",
    "    sample()\n",
    "    move_traj()\n",
    "    traj_dict = analyse_traj(paramset, lj_gen)\n",
    "\n",
    "    def loss(paramset):\n",
    "        errors = []\n",
    "        for idx in [6]:#range(1, Number_points+1):\n",
    "            energies = []\n",
    "            for jdx in range(int(Trajectory_length/10)):\n",
    "                ener = compute_binding_energy(paramset, traj_dict[idx]['structure'][jdx][0], traj_dict[idx]['structure'][jdx][1], lj_gen, numframe=720,cutoff=cutoff)\n",
    "                energies.append(ener.reshape((1,)))\n",
    "            energies = jnp.concatenate(energies)\n",
    "            weight = traj_dict[idx]['estimator'].estimate_weight(energies)\n",
    "            reweight_loading = traj_dict[idx]['loading'] * weight\n",
    "            error = jnp.power(jnp.average(reweight_loading)-traj_dict[idx]['experiment']['loading'],2)\n",
    "            errors.append(error.reshape((1,)))\n",
    "            #print(error)\n",
    "        errors = jnp.concatenate(errors)\n",
    "        return jnp.sum(errors)\n",
    "\n",
    "    v_and_g = jax.value_and_grad(loss, 0)\n",
    "    v, g = v_and_g(paramset)\n",
    "    loss_ls.append(v)\n",
    "    \n",
    "    updates, opt_state = optimizer.update(g, opt_state)\n",
    "    updates.parameters = update_mask(updates.parameters,paramset.mask)\n",
    "    paramset = optax.apply_updates(paramset, updates)\n",
    "    paramset = jax.tree_map(lambda x: jnp.clip(x, 0.0, 1e8), paramset)\n",
    "    update_ff(paramset)\n",
    "    lj_gen.overwrite(paramset)\n",
    "    sigma_indices, epsilon_indices = detect_parameter_change(paramset, paramset_old)\n",
    "    paramset = fix_changed_parameters(paramset, sigma_indices, epsilon_indices)"
   ]
  },
  {
   "cell_type": "code",
   "execution_count": 24,
   "metadata": {},
   "outputs": [
    {
     "data": {
      "text/plain": [
       "[<matplotlib.lines.Line2D at 0x7f667ab86bd0>]"
      ]
     },
     "execution_count": 24,
     "metadata": {},
     "output_type": "execute_result"
    },
    {
     "data": {
      "image/png": "[encoded data removed]",
      "text/plain": [
       "<Figure size 640x480 with 1 Axes>"
      ]
     },
     "metadata": {},
     "output_type": "display_data"
    }
   ],
   "source": [
    "plt.plot(loss_ls)"
   ]
  },
  {
   "cell_type": "code",
   "execution_count": 19,
   "metadata": {},
   "outputs": [
    {
     "data": {
      "text/plain": [
       "'Script finished successfully!'"
      ]
     },
     "metadata": {},
     "output_type": "display_data"
    },
    {
     "data": {
      "text/plain": [
       "'Script output:'"
      ]
     },
     "metadata": {},
     "output_type": "display_data"
    },
    {
     "data": {
      "text/plain": [
       "'This is the final pk values:  253726\\n'"
      ]
     },
     "metadata": {},
     "output_type": "display_data"
    },
    {
     "data": {
      "text/plain": [
       "'Script finished successfully!'"
      ]
     },
     "metadata": {},
     "output_type": "display_data"
    },
    {
     "data": {
      "text/plain": [
       "'Script output:'"
      ]
     },
     "metadata": {},
     "output_type": "display_data"
    },
    {
     "data": {
      "text/plain": [
       "'This is the final pk values:  253861\\n'"
      ]
     },
     "metadata": {},
     "output_type": "display_data"
    },
    {
     "data": {
      "text/plain": [
       "'Script finished successfully!'"
      ]
     },
     "metadata": {},
     "output_type": "display_data"
    },
    {
     "data": {
      "text/plain": [
       "'Script output:'"
      ]
     },
     "metadata": {},
     "output_type": "display_data"
    },
    {
     "data": {
      "text/plain": [
       "'This is the final pk values:  253918\\n'"
      ]
     },
     "metadata": {},
     "output_type": "display_data"
    },
    {
     "data": {
      "text/plain": [
       "'Script finished successfully!'"
      ]
     },
     "metadata": {},
     "output_type": "display_data"
    },
    {
     "data": {
      "text/plain": [
       "'Script output:'"
      ]
     },
     "metadata": {},
     "output_type": "display_data"
    },
    {
     "data": {
      "text/plain": [
       "'This is the final pk values:  253970\\n'"
      ]
     },
     "metadata": {},
     "output_type": "display_data"
    },
    {
     "data": {
      "text/plain": [
       "'Script finished successfully!'"
      ]
     },
     "metadata": {},
     "output_type": "display_data"
    },
    {
     "data": {
      "text/plain": [
       "'Script output:'"
      ]
     },
     "metadata": {},
     "output_type": "display_data"
    },
    {
     "data": {
      "text/plain": [
       "'This is the final pk values:  254022\\n'"
      ]
     },
     "metadata": {},
     "output_type": "display_data"
    },
    {
     "data": {
      "text/plain": [
       "'Script finished successfully!'"
      ]
     },
     "metadata": {},
     "output_type": "display_data"
    },
    {
     "data": {
      "text/plain": [
       "'Script output:'"
      ]
     },
     "metadata": {},
     "output_type": "display_data"
    },
    {
     "data": {
      "text/plain": [
       "'This is the final pk values:  254074\\n'"
      ]
     },
     "metadata": {},
     "output_type": "display_data"
    },
    {
     "data": {
      "text/plain": [
       "'Script finished successfully!'"
      ]
     },
     "metadata": {},
     "output_type": "display_data"
    },
    {
     "data": {
      "text/plain": [
       "'Script output:'"
      ]
     },
     "metadata": {},
     "output_type": "display_data"
    },
    {
     "data": {
      "text/plain": [
       "'This is the final pk values:  254126\\n'"
      ]
     },
     "metadata": {},
     "output_type": "display_data"
    },
    {
     "data": {
      "text/plain": [
       "'Script finished successfully!'"
      ]
     },
     "metadata": {},
     "output_type": "display_data"
    },
    {
     "data": {
      "text/plain": [
       "'Script output:'"
      ]
     },
     "metadata": {},
     "output_type": "display_data"
    },
    {
     "data": {
      "text/plain": [
       "'This is the final pk values:  254178\\n'"
      ]
     },
     "metadata": {},
     "output_type": "display_data"
    },
    {
     "data": {
      "text/plain": [
       "'Script finished successfully!'"
      ]
     },
     "metadata": {},
     "output_type": "display_data"
    },
    {
     "data": {
      "text/plain": [
       "'Script output:'"
      ]
     },
     "metadata": {},
     "output_type": "display_data"
    },
    {
     "data": {
      "text/plain": [
       "'This is the final pk values:  254230\\n'"
      ]
     },
     "metadata": {},
     "output_type": "display_data"
    },
    {
     "data": {
      "text/plain": [
       "'Script finished successfully!'"
      ]
     },
     "metadata": {},
     "output_type": "display_data"
    },
    {
     "data": {
      "text/plain": [
       "'Script output:'"
      ]
     },
     "metadata": {},
     "output_type": "display_data"
    },
    {
     "data": {
      "text/plain": [
       "'This is the final pk values:  254282\\n'"
      ]
     },
     "metadata": {},
     "output_type": "display_data"
    },
    {
     "data": {
      "text/plain": [
       "'Script finished successfully!'"
      ]
     },
     "metadata": {},
     "output_type": "display_data"
    },
    {
     "data": {
      "text/plain": [
       "'Script output:'"
      ]
     },
     "metadata": {},
     "output_type": "display_data"
    },
    {
     "data": {
      "text/plain": [
       "'This is the final pk values:  254334\\n'"
      ]
     },
     "metadata": {},
     "output_type": "display_data"
    },
    {
     "data": {
      "text/plain": [
       "'Script finished successfully!'"
      ]
     },
     "metadata": {},
     "output_type": "display_data"
    },
    {
     "data": {
      "text/plain": [
       "'Script output:'"
      ]
     },
     "metadata": {},
     "output_type": "display_data"
    },
    {
     "data": {
      "text/plain": [
       "'This is the final pk values:  254386\\n'"
      ]
     },
     "metadata": {},
     "output_type": "display_data"
    },
    {
     "data": {
      "text/plain": [
       "'Script finished successfully!'"
      ]
     },
     "metadata": {},
     "output_type": "display_data"
    },
    {
     "data": {
      "text/plain": [
       "'Script output:'"
      ]
     },
     "metadata": {},
     "output_type": "display_data"
    },
    {
     "data": {
      "text/plain": [
       "'This is the final pk values:  254438\\n'"
      ]
     },
     "metadata": {},
     "output_type": "display_data"
    },
    {
     "data": {
      "text/plain": [
       "'Script finished successfully!'"
      ]
     },
     "metadata": {},
     "output_type": "display_data"
    },
    {
     "data": {
      "text/plain": [
       "'Script output:'"
      ]
     },
     "metadata": {},
     "output_type": "display_data"
    },
    {
     "data": {
      "text/plain": [
       "'This is the final pk values:  254490\\n'"
      ]
     },
     "metadata": {},
     "output_type": "display_data"
    },
    {
     "data": {
      "text/plain": [
       "'Script finished successfully!'"
      ]
     },
     "metadata": {},
     "output_type": "display_data"
    },
    {
     "data": {
      "text/plain": [
       "'Script output:'"
      ]
     },
     "metadata": {},
     "output_type": "display_data"
    },
    {
     "data": {
      "text/plain": [
       "'This is the final pk values:  254542\\n'"
      ]
     },
     "metadata": {},
     "output_type": "display_data"
    },
    {
     "data": {
      "text/plain": [
       "'Script finished successfully!'"
      ]
     },
     "metadata": {},
     "output_type": "display_data"
    },
    {
     "data": {
      "text/plain": [
       "'Script output:'"
      ]
     },
     "metadata": {},
     "output_type": "display_data"
    },
    {
     "data": {
      "text/plain": [
       "'This is the final pk values:  254594\\n'"
      ]
     },
     "metadata": {},
     "output_type": "display_data"
    },
    {
     "data": {
      "text/plain": [
       "'Script finished successfully!'"
      ]
     },
     "metadata": {},
     "output_type": "display_data"
    },
    {
     "data": {
      "text/plain": [
       "'Script output:'"
      ]
     },
     "metadata": {},
     "output_type": "display_data"
    },
    {
     "data": {
      "text/plain": [
       "'This is the final pk values:  254646\\n'"
      ]
     },
     "metadata": {},
     "output_type": "display_data"
    },
    {
     "data": {
      "text/plain": [
       "'Script finished successfully!'"
      ]
     },
     "metadata": {},
     "output_type": "display_data"
    },
    {
     "data": {
      "text/plain": [
       "'Script output:'"
      ]
     },
     "metadata": {},
     "output_type": "display_data"
    },
    {
     "data": {
      "text/plain": [
       "'This is the final pk values:  254698\\n'"
      ]
     },
     "metadata": {},
     "output_type": "display_data"
    },
    {
     "data": {
      "text/plain": [
       "'Script finished successfully!'"
      ]
     },
     "metadata": {},
     "output_type": "display_data"
    },
    {
     "data": {
      "text/plain": [
       "'Script output:'"
      ]
     },
     "metadata": {},
     "output_type": "display_data"
    },
    {
     "data": {
      "text/plain": [
       "'This is the final pk values:  254750\\n'"
      ]
     },
     "metadata": {},
     "output_type": "display_data"
    },
    {
     "data": {
      "text/plain": [
       "'Script finished successfully!'"
      ]
     },
     "metadata": {},
     "output_type": "display_data"
    },
    {
     "data": {
      "text/plain": [
       "'Script output:'"
      ]
     },
     "metadata": {},
     "output_type": "display_data"
    },
    {
     "data": {
      "text/plain": [
       "'This is the final pk values:  254802\\n'"
      ]
     },
     "metadata": {},
     "output_type": "display_data"
    },
    {
     "data": {
      "text/plain": [
       "'Script finished successfully!'"
      ]
     },
     "metadata": {},
     "output_type": "display_data"
    },
    {
     "data": {
      "text/plain": [
       "'Script output:'"
      ]
     },
     "metadata": {},
     "output_type": "display_data"
    },
    {
     "data": {
      "text/plain": [
       "'This is the final pk values:  254854\\n'"
      ]
     },
     "metadata": {},
     "output_type": "display_data"
    },
    {
     "data": {
      "text/plain": [
       "'Script finished successfully!'"
      ]
     },
     "metadata": {},
     "output_type": "display_data"
    },
    {
     "data": {
      "text/plain": [
       "'Script output:'"
      ]
     },
     "metadata": {},
     "output_type": "display_data"
    },
    {
     "data": {
      "text/plain": [
       "'This is the final pk values:  254906\\n'"
      ]
     },
     "metadata": {},
     "output_type": "display_data"
    },
    {
     "data": {
      "text/plain": [
       "'Script finished successfully!'"
      ]
     },
     "metadata": {},
     "output_type": "display_data"
    },
    {
     "data": {
      "text/plain": [
       "'Script output:'"
      ]
     },
     "metadata": {},
     "output_type": "display_data"
    },
    {
     "data": {
      "text/plain": [
       "'This is the final pk values:  254958\\n'"
      ]
     },
     "metadata": {},
     "output_type": "display_data"
    },
    {
     "data": {
      "text/plain": [
       "'Script finished successfully!'"
      ]
     },
     "metadata": {},
     "output_type": "display_data"
    },
    {
     "data": {
      "text/plain": [
       "'Script output:'"
      ]
     },
     "metadata": {},
     "output_type": "display_data"
    },
    {
     "data": {
      "text/plain": [
       "'This is the final pk values:  255010\\n'"
      ]
     },
     "metadata": {},
     "output_type": "display_data"
    },
    {
     "data": {
      "text/plain": [
       "'Script finished successfully!'"
      ]
     },
     "metadata": {},
     "output_type": "display_data"
    },
    {
     "data": {
      "text/plain": [
       "'Script output:'"
      ]
     },
     "metadata": {},
     "output_type": "display_data"
    },
    {
     "data": {
      "text/plain": [
       "'This is the final pk values:  255062\\n'"
      ]
     },
     "metadata": {},
     "output_type": "display_data"
    },
    {
     "data": {
      "text/plain": [
       "'Script finished successfully!'"
      ]
     },
     "metadata": {},
     "output_type": "display_data"
    },
    {
     "data": {
      "text/plain": [
       "'Script output:'"
      ]
     },
     "metadata": {},
     "output_type": "display_data"
    },
    {
     "data": {
      "text/plain": [
       "'This is the final pk values:  255114\\n'"
      ]
     },
     "metadata": {},
     "output_type": "display_data"
    },
    {
     "data": {
      "text/plain": [
       "'Script finished successfully!'"
      ]
     },
     "metadata": {},
     "output_type": "display_data"
    },
    {
     "data": {
      "text/plain": [
       "'Script output:'"
      ]
     },
     "metadata": {},
     "output_type": "display_data"
    },
    {
     "data": {
      "text/plain": [
       "'This is the final pk values:  255166\\n'"
      ]
     },
     "metadata": {},
     "output_type": "display_data"
    },
    {
     "data": {
      "text/plain": [
       "'Script finished successfully!'"
      ]
     },
     "metadata": {},
     "output_type": "display_data"
    },
    {
     "data": {
      "text/plain": [
       "'Script output:'"
      ]
     },
     "metadata": {},
     "output_type": "display_data"
    },
    {
     "data": {
      "text/plain": [
       "'This is the final pk values:  255218\\n'"
      ]
     },
     "metadata": {},
     "output_type": "display_data"
    },
    {
     "data": {
      "text/plain": [
       "'Script finished successfully!'"
      ]
     },
     "metadata": {},
     "output_type": "display_data"
    },
    {
     "data": {
      "text/plain": [
       "'Script output:'"
      ]
     },
     "metadata": {},
     "output_type": "display_data"
    },
    {
     "data": {
      "text/plain": [
       "'This is the final pk values:  255270\\n'"
      ]
     },
     "metadata": {},
     "output_type": "display_data"
    },
    {
     "data": {
      "text/plain": [
       "'Script finished successfully!'"
      ]
     },
     "metadata": {},
     "output_type": "display_data"
    },
    {
     "data": {
      "text/plain": [
       "'Script output:'"
      ]
     },
     "metadata": {},
     "output_type": "display_data"
    },
    {
     "data": {
      "text/plain": [
       "'This is the final pk values:  255322\\n'"
      ]
     },
     "metadata": {},
     "output_type": "display_data"
    }
   ],
   "source": [
    "for nloop in range(30):\n",
    "    sample()\n",
    "    move_traj()\n",
    "    traj_dict = analyse_traj(paramset, lj_gen)\n",
    "\n",
    "    def loss(paramset):\n",
    "        errors = []\n",
    "        for idx in [6]:#range(1, Number_points+1):\n",
    "            energies = []\n",
    "            for jdx in range(int(Trajectory_length/10)):\n",
    "                ener = compute_binding_energy(paramset, traj_dict[idx]['structure'][jdx][0], traj_dict[idx]['structure'][jdx][1], lj_gen, numframe=720,cutoff=cutoff)\n",
    "                energies.append(ener.reshape((1,)))\n",
    "            energies = jnp.concatenate(energies)\n",
    "            weight = traj_dict[idx]['estimator'].estimate_weight(energies)\n",
    "            reweight_loading = traj_dict[idx]['loading'] * weight\n",
    "            error = jnp.power(jnp.average(reweight_loading)-traj_dict[idx]['experiment']['loading'],2)\n",
    "            errors.append(error.reshape((1,)))\n",
    "            #print(error)\n",
    "        errors = jnp.concatenate(errors)\n",
    "        return jnp.sum(errors)\n",
    "\n",
    "    v_and_g = jax.value_and_grad(loss, 0)\n",
    "    v, g = v_and_g(paramset)\n",
    "    loss_ls.append(v)\n",
    "    \n",
    "    updates, opt_state = optimizer.update(g, opt_state)\n",
    "    updates.parameters = update_mask(updates.parameters,paramset.mask)\n",
    "    paramset = optax.apply_updates(paramset, updates)\n",
    "    paramset = jax.tree_map(lambda x: jnp.clip(x, 0.0, 1e8), paramset)\n",
    "    update_ff(paramset)\n",
    "    lj_gen.overwrite(paramset)"
   ]
  },
  {
   "cell_type": "code",
   "execution_count": 20,
   "metadata": {},
   "outputs": [
    {
     "name": "stdout",
     "output_type": "stream",
     "text": [
      "0.7674936853960864\n"
     ]
    }
   ],
   "source": [
    "print(v)"
   ]
  },
  {
   "cell_type": "code",
   "execution_count": null,
   "metadata": {},
   "outputs": [],
   "source": [
    "for nloop in range(20):\n",
    "    sample()\n",
    "    move_traj()\n",
    "    traj_dict = analyse_traj(paramset, lj_gen)\n",
    "\n",
    "    def loss(paramset):\n",
    "        errors = []\n",
    "        for idx in [6]:#range(1, Number_points+1):\n",
    "            energies = []\n",
    "            for jdx in range(int(Trajectory_length/10)):\n",
    "                ener = compute_binding_energy(paramset, traj_dict[idx]['structure'][jdx][0], traj_dict[idx]['structure'][jdx][1], lj_gen, numframe=720,cutoff=cutoff)\n",
    "                energies.append(ener.reshape((1,)))\n",
    "            energies = jnp.concatenate(energies)\n",
    "            weight = traj_dict[idx]['estimator'].estimate_weight(energies)\n",
    "            reweight_loading = traj_dict[idx]['loading'] * weight\n",
    "            error = jnp.power(jnp.average(reweight_loading)-traj_dict[idx]['experiment']['loading'],2)\n",
    "            errors.append(error.reshape((1,)))\n",
    "            #print(error)\n",
    "        errors = jnp.concatenate(errors)\n",
    "        return jnp.sum(errors)\n",
    "\n",
    "    v_and_g = jax.value_and_grad(loss, 0)\n",
    "    v, g = v_and_g(paramset)\n",
    "    \n",
    "    \n",
    "    updates, opt_state = optimizer.update(g, opt_state)\n",
    "    updates.parameters = update_mask(updates.parameters,paramset.mask)\n",
    "    paramset = optax.apply_updates(paramset, updates)\n",
    "    paramset = jax.tree_map(lambda x: jnp.clip(x, 0.0, 1e8), paramset)\n",
    "    update_ff(paramset)\n",
    "    lj_gen.overwrite(paramset)"
   ]
  },
  {
   "cell_type": "code",
   "execution_count": 53,
   "metadata": {},
   "outputs": [
    {
     "data": {
      "text/plain": [
       "{'LennardJonesForce': {'epsilon': Array([2.07177802, 0.3934429 , 0.12235369, 0.20189922, 0.61298042,\n",
       "         0.18180163], dtype=float64),\n",
       "  'epsilon_nbfix': Array([], dtype=float64),\n",
       "  'sigma': Array([0.35621847, 0.29001147, 0.27962272, 0.35027955, 0.34223068,\n",
       "         0.24036733], dtype=float64),\n",
       "  'sigma_nbfix': Array([], dtype=float64)}}"
      ]
     },
     "execution_count": 53,
     "metadata": {},
     "output_type": "execute_result"
    }
   ],
   "source": [
    "paramset.parameters"
   ]
  },
  {
   "cell_type": "code",
   "execution_count": null,
   "metadata": {},
   "outputs": [],
   "source": [
    "\n",
    "def compute_energy(topo, pos, ff, cutoff=cutoff, removeLJ=False):\n",
    "    global SET_temperature, time_gap\n",
    "    system = ff.createSystem(topo, nonbondedMethod=app.PME, nonbondedCutoff=cutoff*unit.nanometer, constraints=None, removeCMMotion=False)\n",
    "    for force in system.getForces():\n",
    "        #print(force)\n",
    "        if isinstance(force, mm.NonbondedForce):\n",
    "            force.setUseDispersionCorrection(False)\n",
    "            if removeLJ:\n",
    "                for npart in range(force.getNumParticles()):\n",
    "                    chrg, sig, eps = force.getParticleParameters(npart)\n",
    "                    force.setParticleParameters(npart, chrg, 1.0, 0.0)\n",
    "                for nex in range(force.getNumExceptions()):\n",
    "                    p1, p2, chrg, sig, eps = force.getExceptionParameters(nex)\n",
    "                    force.setExceptionParameters(nex, p1, p2, chrg, 1.0, 0.0)\n",
    "                    #print(nex, p1, p2, chrg, 1.0, 0.0)\n",
    "    integ = mm.LangevinIntegrator(SET_temperature*unit.kelvin, 1/unit.picosecond, time_gap*unit.femtosecond)\n",
    "    simulation = app.Simulation(topo, system, integ)\n",
    "    simulation.context.setPositions(pos)\n",
    "    state=simulation.context.getState(getEnergy=True)\n",
    "    potential_energy = state.getPotentialEnergy().in_units_of(unit.kilojoules_per_mole)\n",
    "    return potential_energy.value_in_unit(unit.kilojoules_per_mole)\n",
    "    \n",
    "def binding_energy(topo, positions, ff, cutoff=cutoff, removeLJ=False):\n",
    "    gas_topo, frame_topo = cutoff_topology(topo)\n",
    "    num = gas_topo.getNumAtoms()\n",
    "    total_ener = compute_energy(topo,positions,ff,cutoff=cutoff,removeLJ=removeLJ)\n",
    "    #print(frame_topo, gas_topo,len(positions[:-3]))\n",
    "    #print(frame_topo, gas_topo)\n",
    "    frame_ener = compute_energy(frame_topo,positions[:-num],ff,cutoff=cutoff, removeLJ=removeLJ)\n",
    "    gas_ener = compute_energy(gas_topo,positions[-num:],ff,cutoff=cutoff, removeLJ=removeLJ)\n",
    "    #print(gas_ener)\n",
    "    return total_ener-frame_ener-gas_ener\n",
    "\n",
    "\n",
    "def energy_estimator(topo, positions, ff, cutoff=cutoff, removeLJ=False):\n",
    "    gas_topo, frame_topo = cutoff_topology(topo)\n",
    "    num = gas_topo.getNumAtoms()\n",
    "    total_ener = compute_energy(topo,positions,ff,cutoff=cutoff,removeLJ=removeLJ)\n",
    "    #print(frame_topo, gas_topo,len(positions[:-3]))\n",
    "    #print(frame_topo, gas_topo)\n",
    "    frame_ener = compute_energy(frame_topo,positions[:-num],ff,cutoff=cutoff, removeLJ=removeLJ)\n",
    "    #gas_ener = compute_energy(gas_topo,positions[-num:],ff,cutoff=cutoff, removeLJ=removeLJ)\n",
    "    #print(gas_ener)\n",
    "    return total_ener-frame_ener"
   ]
  },
  {
   "cell_type": "code",
   "execution_count": 171,
   "metadata": {},
   "outputs": [],
   "source": [
    "gas_topo, frame_topo = cutoff_topology(topo)"
   ]
  },
  {
   "cell_type": "code",
   "execution_count": 5,
   "metadata": {},
   "outputs": [],
   "source": [
    "\n",
    "def compute_energy_dmff(paramset,topo, pos, lj_gen, cutoff=cutoff):\n",
    "    topodata = dmff.DMFFTopology(topo)\n",
    "    # Because dmfftopology does not provide a good entry for open.topology object generated by pdb file, I had to suplement something\n",
    "    for atom in topodata.atoms():\n",
    "        if atom.residue.name==\"MOL\":\n",
    "            atom.meta['type']=atom.meta['element']\n",
    "            atom.meta['class']=atom.meta['element']\n",
    "        elif atom.residue.name==\"GAS\":\n",
    "            #print(atom.meta)\n",
    "            atom.meta['type']=atom.meta['element']+\"_co2\"\n",
    "            atom.meta['class']=atom.meta['element']+\"_co2\"\n",
    "        #print(atom.meta['element'])\n",
    "    cov_mat = topodata.buildCovMat()\n",
    "    lj_force = lj_gen.createPotential(\n",
    "    topodata, nonbondedMethod=app.CutoffPeriodic, nonbondedCutoff=cutoff, args={})\n",
    "    pos_jnp = jnp.array(pos.value_in_unit(unit.nanometer))\n",
    "    cell_jnp = jnp.array(topo.getPeriodicBoxVectors().value_in_unit(unit.nanometer))\n",
    "    #cov_mat = jnp.array(np.zeros((1923,1923)))\n",
    "    nblist = NeighborListFreud(pdb.topology.getPeriodicBoxVectors().value_in_unit(unit.nanometer), cutoff, cov_mat)\n",
    "    nblist.allocate(pos_jnp, cell_jnp)\n",
    "    pairs = jnp.array(nblist.pairs)\n",
    "    ener = lj_force(pos_jnp,cell_jnp, pairs, paramset)\n",
    "    return ener\n",
    "\n",
    "def compute_binding_energy(paramset,topo, pos, lj_gen, numframe=1920,cutoff=cutoff):\n",
    "    topodata = dmff.DMFFTopology(topo)\n",
    "    # Because dmfftopology does not provide a good entry for open.topology object generated by pdb file, I had to suplement something\n",
    "    for atom in topodata.atoms():\n",
    "        if atom.residue.name==\"MOL\":\n",
    "            atom.meta['type']=atom.meta['element']\n",
    "            atom.meta['class']=atom.meta['element']\n",
    "        elif atom.residue.name==\"GAS\":\n",
    "            #print(atom.meta)\n",
    "            atom.meta['type']=atom.meta['element']+\"_co2\"\n",
    "            atom.meta['class']=atom.meta['element']+\"_co2\"\n",
    "        #print(atom.meta['element'])\n",
    "    cov_mat = topodata.buildCovMat()\n",
    "    lj_force = lj_gen.createPotential(\n",
    "    topodata, nonbondedMethod=app.PME, nonbondedCutoff=cutoff, args={})\n",
    "    pos_jnp = jnp.array(pos.value_in_unit(unit.nanometer))\n",
    "    cell_jnp = jnp.array(topo.getPeriodicBoxVectors().value_in_unit(unit.nanometer))\n",
    "    cov_mat=cov_mat.at[:numframe,:numframe].set(1)\n",
    "    nblist = NeighborListFreud(pdb.topology.getPeriodicBoxVectors().value_in_unit(unit.nanometer), cutoff, cov_mat)\n",
    "    nblist.allocate(pos_jnp, cell_jnp)\n",
    "    pairs = jnp.array(nblist.pairs)\n",
    "    ener = lj_force(pos_jnp,cell_jnp, pairs, paramset)\n",
    "    return ener\n",
    "\n",
    "def rerun_dmff(paramset, topo, pos, ffinfo, numframe=1920,cutoff=cutoff):\n",
    "    lj_gen = LennardJonesGenerator(ffinfo, paramset)\n",
    "    topodata = dmff.DMFFTopology(topo)\n",
    "    # Because dmfftopology does not provide a good entry for open.topology object generated by pdb file, I had to suplement something\n",
    "    for atom in topodata.atoms():\n",
    "        if atom.residue.name==\"MOL\":\n",
    "            atom.meta['type']=atom.meta['element']\n",
    "            atom.meta['class']=atom.meta['element']\n",
    "        elif atom.residue.name==\"GAS\":\n",
    "            #print(atom.meta)\n",
    "            atom.meta['type']=atom.meta['element']+\"_co2\"\n",
    "            atom.meta['class']=atom.meta['element']+\"_co2\"\n",
    "        #print(atom.meta['element'])\n",
    "    cov_mat = topodata.buildCovMat()\n",
    "    lj_force = lj_gen.createPotential(\n",
    "    topodata, nonbondedMethod=app.CutoffPeriodic, nonbondedCutoff=cutoff, args={})\n",
    "    pos_jnp = jnp.array(pos.value_in_unit(unit.nanometer))\n",
    "    cell_jnp = jnp.array(topo.getPeriodicBoxVectors().value_in_unit(unit.nanometer))\n",
    "    cov_mat=cov_mat.at[:numframe,:numframe].set(1)\n",
    "    nblist = NeighborListFreud(pdb.topology.getPeriodicBoxVectors().value_in_unit(unit.nanometer), cutoff, cov_mat)\n",
    "    nblist.allocate(pos_jnp, cell_jnp)\n",
    "    pairs = jnp.array(nblist.pairs)\n",
    "    ener = lj_force(pos_jnp,cell_jnp, pairs, paramset)\n",
    "    return ener\n"
   ]
  },
  {
   "cell_type": "code",
   "execution_count": 81,
   "metadata": {},
   "outputs": [],
   "source": [
    "app.PDBFile.writeFile(topo, pos, open(\"data/test.pdb\", 'w'))"
   ]
  },
  {
   "cell_type": "code",
   "execution_count": 6,
   "metadata": {},
   "outputs": [],
   "source": [
    "# Initial Optimized parameters\n",
    "xmlio = XMLIO()\n",
    "xmlio.loadXML(\"data/init.xml\")\n",
    "ffinfo = xmlio.parseXML()\n",
    "paramset = ParamSet()\n",
    "lj_gen = LennardJonesGenerator(ffinfo, paramset)\n",
    "paramset.mask['LennardJonesForce']['sigma'] = paramset.mask['LennardJonesForce']['sigma'].at[0].set(0)\n",
    "# Initial optimization tool\n",
    "\n",
    "\n",
    "optimizer = optax.adam(0.008)\n",
    "opt_state = optimizer.init(paramset)\n",
    "#print(paramset.parameters)"
   ]
  },
  {
   "cell_type": "code",
   "execution_count": 31,
   "metadata": {},
   "outputs": [
    {
     "name": "stdout",
     "output_type": "stream",
     "text": [
      "83545136.13557208 83547257.51422033 -45.292477092708204\n",
      "Average binding energy is:  -17.300718092988223\n",
      "83545167.19784716 83547257.51420507 -62.41456093991052\n",
      "Average binding energy is:  -16.89918164142269\n",
      "83545049.16097215 83547257.5142127 -73.21828649396227\n",
      "Average binding energy is:  -16.945515508377795\n",
      "83545315.49596043 83547257.51420507 -28.42245318363272\n",
      "Average binding energy is:  -17.23960172482348\n",
      "83545245.9815987 83547257.51422033 -41.64203081952017\n",
      "Average binding energy is:  -17.279742024583907\n",
      "83545102.91732734 83547257.51420507 -81.33314004484502\n",
      "Average binding energy is:  -17.277197813992395\n",
      "83545247.35043575 83547257.5142127 -48.13045777198034\n",
      "Average binding energy is:  -17.67597584844205\n",
      "83545172.84013279 83547257.5142127 -58.514729800529416\n",
      "Average binding energy is:  -17.31760128298625\n",
      "83545218.25804898 83547257.5142127 -48.19432054077415\n",
      "Average binding energy is:  -17.465454764697736\n",
      "83545223.1523207 83547257.5142127 -51.10378625466288\n",
      "Average binding energy is:  -16.950923980728014\n",
      "83545143.18011476 83547257.5142127 -45.93100328575363\n",
      "Average binding energy is:  -17.236692455424965\n",
      "83545212.99393052 83547257.51422033 -31.389006452339054\n",
      "Average binding energy is:  -17.659046345229584\n",
      "83545140.4267128 83547257.5142127 -82.14434221635665\n",
      "Average binding energy is:  -16.5442533145146\n",
      "83545285.76683503 83547257.51422033 -46.79455091284605\n",
      "Average binding energy is:  -16.885551178775433\n",
      "83545055.62930003 83547257.5142127 -59.28709762327803\n",
      "Average binding energy is:  -17.004744563860164\n",
      "83545188.32312158 83547257.51422796 -49.40263713610492\n",
      "Average binding energy is:  -17.263149309768608\n",
      "83545140.38433824 83547257.5142127 -54.201432805215504\n",
      "Average binding energy is:  -17.191070347064443\n",
      "83545180.01899827 83547257.51420507 -37.30804629687602\n",
      "Average binding energy is:  -17.437497098343652\n",
      "83545079.07608382 83547257.51420507 -69.61971608434814\n",
      "Average binding energy is:  -17.144865082601328\n",
      "83545156.86233634 83547257.51420507 -82.21362199724643\n",
      "Average binding energy is:  -16.41006704661412\n",
      "83545119.31178512 83547257.5142127 -59.705195846199864\n",
      "Average binding energy is:  -16.898351477518315\n",
      "83545186.89992447 83547257.51420507 -50.821961339462185\n",
      "Average binding energy is:  -16.831602660474278\n",
      "83545164.08175218 83547257.5142127 -58.45011527121802\n",
      "Average binding energy is:  -17.393011497824556\n",
      "83545077.12270693 83547257.5142127 -47.35693887024822\n",
      "Average binding energy is:  -16.928845768989575\n",
      "83545169.78348222 83547257.51420507 -54.957111522896724\n",
      "Average binding energy is:  -17.374133430100034\n",
      "83545034.34138094 83547257.51419744 -89.5915785065003\n",
      "Average binding energy is:  -17.34618892677697\n",
      "83545068.64601901 83547257.5142127 -77.01760510488891\n",
      "Average binding energy is:  -16.760718956993014\n",
      "83545146.9655915 83547257.51419744 -46.46670056267644\n",
      "Average binding energy is:  -16.781153702204136\n",
      "83545003.56019479 83547257.51422033 -78.93356824585223\n",
      "Average binding energy is:  -16.86062369992964\n",
      "83545182.8979258 83547257.5142127 -36.356378752347865\n",
      "Average binding energy is:  -17.421024855993778\n",
      "83545181.44471844 83547257.51422033 -53.79791570249172\n",
      "Average binding energy is:  -17.284372531531968\n",
      "83545061.13208835 83547257.5142127 -48.0693670883424\n",
      "Average binding energy is:  -16.653587265590176\n",
      "83545193.22418785 83547257.5142127 -47.52153302071409\n",
      "Average binding energy is:  -17.237337536975026\n",
      "83545090.2962733 83547257.5142127 -67.73494793834558\n",
      "Average binding energy is:  -17.068967410190137\n",
      "83545182.82249269 83547257.51422033 -41.40996504486659\n",
      "Average binding energy is:  -16.944014688278152\n",
      "83545100.5050688 83547257.51420507 -78.0019218462745\n",
      "Average binding energy is:  -16.902497678277907\n",
      "83545155.0799503 83547257.51422033 -52.93996154663501\n",
      "Average binding energy is:  -17.079119237313872\n",
      "83545087.68804848 83547257.5142127 -83.52391622055059\n",
      "Average binding energy is:  -16.961806894270346\n",
      "83545254.75212622 83547257.5142127 -57.601899169986005\n",
      "Average binding energy is:  -17.062808660621666\n",
      "83545141.58217156 83547257.51420507 -59.50418143795835\n",
      "Average binding energy is:  -17.136898767258813\n",
      "83545129.98146968 83547257.5142127 -56.67272203198778\n",
      "Average binding energy is:  -16.83626033325088\n",
      "83545259.82548942 83547257.51422033 -46.455421878181895\n",
      "Average binding energy is:  -17.5786784597499\n",
      "83544996.81709553 83547257.51422033 -81.58280665062522\n",
      "Average binding energy is:  -16.892359055375973\n",
      "83545045.06607558 83547257.51422033 -63.00710571818837\n",
      "Average binding energy is:  -17.475130398622913\n",
      "83545050.07436587 83547257.51420507 -78.35660178347243\n",
      "Average binding energy is:  -16.897486011235817\n",
      "83545173.41128673 83547257.5142127 -66.76167435166478\n",
      "Average binding energy is:  -16.811177096829045\n",
      "83545196.7675736 83547257.51422033 -64.4196208474642\n",
      "Average binding energy is:  -16.636058549038566\n",
      "83545194.2119175 83547257.51422033 -45.47678718873111\n",
      "Average binding energy is:  -17.2463719284935\n",
      "83545135.28778218 83547257.51422033 -50.65728630599078\n",
      "Average binding energy is:  -17.263076265365157\n",
      "83545130.50009885 83547257.5142127 -62.71402046625157\n",
      "Average binding energy is:  -17.202500778143246\n",
      "83545020.40671167 83547257.51420507 -63.315823788924334\n",
      "Average binding energy is:  -16.851098214043795\n",
      "83545068.48379956 83547257.5142127 -49.11701581428256\n",
      "Average binding energy is:  -16.983439661282567\n",
      "83545044.2856791 83547257.51422033 -65.56848784754571\n",
      "Average binding energy is:  -16.648527545563173\n",
      "83545095.29081611 83547257.5142127 -88.71190284107387\n",
      "Average binding energy is:  -16.857817022303397\n",
      "83545144.11632282 83547257.51422033 -58.15136746049888\n",
      "Average binding energy is:  -17.127054417093515\n",
      "83545209.8982887 83547257.51420507 -42.052630645030554\n",
      "Average binding energy is:  -17.14156654466936\n",
      "83545052.7906603 83547257.51420507 -66.46316461717244\n",
      "Average binding energy is:  -16.970320477336237\n",
      "83545142.6722922 83547257.5142127 -57.111541878656254\n",
      "Average binding energy is:  -17.147753155136474\n",
      "83545232.8380014 83547257.51420507 -38.2164691158482\n",
      "Average binding energy is:  -16.55383112126891\n",
      "83545027.8205882 83547257.51420507 -72.34977358646069\n",
      "Average binding energy is:  -17.121776533973055\n",
      "83545161.1589669 83547257.51420507 -42.158220972612995\n",
      "Average binding energy is:  -17.118308476640156\n",
      "83545049.31081413 83547257.5142127 -64.67425778973617\n",
      "Average binding energy is:  -16.61650496729211\n",
      "83545025.56731337 83547257.5142127 -63.801446039517174\n",
      "Average binding energy is:  -16.80732909523363\n",
      "83545078.26775943 83547257.5142127 -40.174367289862495\n",
      "Average binding energy is:  -16.976762587146457\n",
      "83545091.02338639 83547257.5142127 -71.93187767419086\n",
      "Average binding energy is:  -17.0289345417442\n",
      "83545003.55953948 83547257.5142127 -86.28172936633254\n",
      "Average binding energy is:  -16.80366623139081\n",
      "83545039.89835939 83547257.5142127 -61.724667203176296\n",
      "Average binding energy is:  -16.332508985654965\n",
      "83545039.0392747 83547257.51422033 -73.30112225973456\n",
      "Average binding energy is:  -16.62925444465091\n",
      "83545141.2929939 83547257.5142127 -39.38146189845584\n",
      "Average binding energy is:  -17.750767152958364\n",
      "83545063.11851397 83547257.51422033 -49.07332888769035\n",
      "Average binding energy is:  -17.026368075141914\n",
      "83545077.23515242 83547257.5142127 -61.79463880682712\n",
      "Average binding energy is:  -16.81336842434552\n",
      "83545046.95808335 83547257.5142127 -59.99402129668993\n",
      "Average binding energy is:  -17.06795323852832\n",
      "83545131.7591214 83547257.51422033 -66.60201020489117\n",
      "Average binding energy is:  -16.74108202210691\n",
      "83545147.42412713 83547257.51422033 -51.76053800925105\n",
      "Average binding energy is:  -17.15274629321823\n",
      "83545024.18162437 83547257.5142127 -46.70269306699402\n",
      "Average binding energy is:  -16.56537799441604\n",
      "83545071.77688813 83547257.51422033 -53.107730084617366\n",
      "Average binding energy is:  -16.925631762781162\n",
      "83545161.46282077 83547257.5142127 -52.3086777596494\n",
      "Average binding energy is:  -17.467886445895203\n",
      "83545000.47801688 83547257.51420507 -77.67686641426917\n",
      "Average binding energy is:  -16.894258308301907\n",
      "83545099.37796599 83547257.51420507 -23.964424248178396\n",
      "Average binding energy is:  -16.937871546297163\n",
      "83545023.85637261 83547257.51420507 -75.35730416156434\n",
      "Average binding energy is:  -17.129369272198815\n",
      "83545050.2917264 83547257.5142127 -78.26900414179511\n",
      "Average binding energy is:  -16.896456207622712\n",
      "83545170.8460772 83547257.51420507 -62.863379037797344\n",
      "Average binding energy is:  -16.865039573556682\n",
      "83545099.89883213 83547257.5142127 -65.9442239214439\n",
      "Average binding energy is:  -17.00545655812072\n",
      "83545121.7412938 83547257.51422033 -58.565857963447165\n",
      "Average binding energy is:  -17.310058904673618\n",
      "83545047.80790797 83547257.5142127 -68.57156281347216\n",
      "Average binding energy is:  -16.597943735779168\n",
      "83545007.16087122 83547257.5142127 -59.54334902408259\n",
      "Average binding energy is:  -16.983023197294933\n",
      "83545231.45018458 83547257.51420507 -44.0605495565651\n",
      "Average binding energy is:  -17.855887125478567\n",
      "83545095.24083835 83547257.51422033 -76.00564440642552\n",
      "Average binding energy is:  -16.96152632172234\n",
      "83545068.91137186 83547257.51419744 -57.4556532882462\n",
      "Average binding energy is:  -17.32639977474619\n",
      "83545066.4763216 83547257.5142127 -68.95736486522223\n",
      "Average binding energy is:  -17.252687205199962\n",
      "83545038.0837105 83547257.51422033 -71.61439836412607\n",
      "Average binding energy is:  -17.046159614733767\n",
      "83545159.20745042 83547257.5142127 -73.98288183127573\n",
      "Average binding energy is:  -17.301913508092344\n",
      "83545094.34490235 83547257.5142127 -89.47518261425883\n",
      "Average binding energy is:  -16.859301851479568\n",
      "83545177.74189985 83547257.51420507 -69.85803528984921\n",
      "Average binding energy is:  -17.17875444385057\n",
      "83544991.12783569 83547257.51420507 -47.22459360520784\n",
      "Average binding energy is:  -16.811831634637628\n",
      "83545126.1515892 83547257.5142127 -48.07093183546522\n",
      "Average binding energy is:  -16.937330826523404\n",
      "83545100.27670746 83547257.51420507 -63.40801184059483\n",
      "Average binding energy is:  -17.023003949367798\n",
      "83545089.85913289 83547257.51422033 -61.907039456294406\n",
      "Average binding energy is:  -17.11990282914562\n",
      "83544918.88825792 83547257.51420507 -92.75398758312717\n",
      "Average binding energy is:  -16.636088589366523\n",
      "83544926.00454302 83547257.51420507 -83.6021372199005\n",
      "Average binding energy is:  -16.651166850571318\n",
      "83544972.6524655 83547257.5142127 -55.780408311011534\n",
      "Average binding energy is:  -16.886979839995035\n",
      "83545010.08285907 83547257.5142127 -74.87909099891738\n",
      "Average binding energy is:  -16.84149040798231\n",
      "83544961.0644576 83547257.51422033 -89.2756429033827\n",
      "Average binding energy is:  -16.721016059306123\n",
      "83544979.9199238 83547257.5142127 -41.093416513941165\n",
      "Average binding energy is:  -16.566673128789287\n",
      "83544972.21364366 83547257.51420507 -84.17173933035497\n",
      "Average binding energy is:  -16.675218349112225\n",
      "83544968.85068257 83547257.5142127 -76.79709245503284\n",
      "Average binding energy is:  -16.756563921751372\n",
      "83545044.00357333 83547257.5142127 -94.44244020072304\n",
      "Average binding energy is:  -16.818001580704482\n",
      "83544965.60788782 83547257.51420507 -96.52498412612981\n",
      "Average binding energy is:  -16.262083949057857\n",
      "83544964.17188844 83547257.5142127 -92.56769204218557\n",
      "Average binding energy is:  -16.672535092535693\n",
      "83545022.32076752 83547257.5142127 -89.08895107164594\n",
      "Average binding energy is:  -16.636468946544497\n",
      "83544961.13148944 83547257.5142127 -84.12544505782728\n",
      "Average binding energy is:  -16.759524834841805\n",
      "83544971.42879556 83547257.51422033 -62.923170903971766\n",
      "Average binding energy is:  -17.233815921410642\n",
      "83544940.683424 83547257.5142127 -74.84086618447667\n",
      "Average binding energy is:  -16.60733275938738\n",
      "83545017.63087012 83547257.51422033 -65.21560079533117\n",
      "Average binding energy is:  -16.85788953033388\n",
      "83544889.91529712 83547257.51422033 -69.2446479800966\n",
      "Average binding energy is:  -16.654741124827773\n",
      "83545044.03481857 83547257.5142127 -49.102632674285566\n",
      "Average binding energy is:  -17.177593344830736\n",
      "83544985.18989944 83547257.5142127 -78.44203861521406\n",
      "Average binding energy is:  -16.62032026240871\n",
      "83544973.77196643 83547257.5142127 -67.0692189959931\n",
      "Average binding energy is:  -16.792977479349897\n",
      "83545012.5182459 83547257.51420507 -86.58983813760624\n",
      "Average binding energy is:  -16.731830395543454\n",
      "83544977.37018591 83547257.51420507 -85.2927046089553\n",
      "Average binding energy is:  -17.014351275563868\n",
      "83544946.58344364 83547257.51420507 -95.58429994804538\n",
      "Average binding energy is:  -16.78292773847456\n",
      "83544947.07393597 83547257.5142127 -80.01102588991833\n",
      "Average binding energy is:  -16.897191294220924\n",
      "83544909.10863416 83547257.51420507 -98.61143199319885\n",
      "Average binding energy is:  -16.665141769749496\n",
      "83544929.9633306 83547257.51422033 -74.72706269771496\n",
      "Average binding energy is:  -16.68758390394621\n",
      "83545071.74913372 83547257.51422033 -59.68224501503517\n",
      "Average binding energy is:  -16.873673345961187\n",
      "83544961.42977409 83547257.5142127 -87.3500698000289\n",
      "Average binding energy is:  -16.73283612732627\n",
      "83545063.88035154 83547257.5142127 -45.36548861192294\n",
      "Average binding energy is:  -17.049748988431705\n",
      "83545003.7314888 83547257.51422033 -74.4203200323223\n",
      "Average binding energy is:  -16.51032129924794\n",
      "83544954.58946277 83547257.51422033 -73.44029291510321\n",
      "Average binding energy is:  -16.51469973807425\n",
      "83544967.52984524 83547257.5142127 -79.483974543997\n",
      "Average binding energy is:  -16.374076984563075\n",
      "83544954.79541358 83547257.51422033 -103.80959795878573\n",
      "Average binding energy is:  -16.65840309685482\n",
      "83545072.4347198 83547257.51420507 -73.11898978549257\n",
      "Average binding energy is:  -16.37178678668146\n",
      "83544948.4935673 83547257.51422033 -91.07576942787014\n",
      "Average binding energy is:  -16.802612754518528\n",
      "83544974.08195303 83547257.5142127 -90.08511625370186\n",
      "Average binding energy is:  -16.616266237956346\n",
      "83544879.3318666 83547257.51420507 -79.99582168919082\n",
      "Average binding energy is:  -16.653525483855717\n",
      "83544974.62010582 83547257.5142127 -92.29478962481974\n",
      "Average binding energy is:  -16.59544937314402\n",
      "83544976.73451999 83547257.5142127 -66.13042229791841\n",
      "Average binding energy is:  -16.777645987966118\n",
      "83544904.61898792 83547257.51422033 -105.06138488754263\n",
      "Average binding energy is:  -16.650621092753305\n",
      "83544946.32764998 83547257.51420507 -97.20682257680764\n",
      "Average binding energy is:  -16.772573731142113\n",
      "83544969.17604323 83547257.5142127 -86.43687249152481\n",
      "Average binding energy is:  -16.68107043165837\n",
      "83544981.43611665 83547257.51422033 -43.95831694531555\n",
      "Average binding energy is:  -16.909998384326688\n",
      "83545055.3301181 83547257.51420507 -59.85168431354096\n",
      "Average binding energy is:  -17.417336606910517\n",
      "83545037.23849611 83547257.51420507 -72.70051112998077\n",
      "Average binding energy is:  -16.647869750608727\n",
      "83545026.99920025 83547257.51420507 -85.41809646822311\n",
      "Average binding energy is:  -16.628658204228277\n",
      "83544930.50072058 83547257.5142127 -101.90142513496232\n",
      "Average binding energy is:  -16.48231160731356\n",
      "83544996.72528471 83547257.5142127 -95.83161385117177\n",
      "Average binding energy is:  -16.782614838263925\n",
      "83544986.66669752 83547257.51420507 -67.23994571144394\n",
      "Average binding energy is:  -16.693996680605064\n",
      "83545308.90303436 83547257.51420507 -37.465732884390924\n",
      "Average binding energy is:  -17.695791090969834\n",
      "83545241.5182344 83547257.5142127 -51.70111340874152\n",
      "Average binding energy is:  -17.696350134117672\n",
      "83545278.03229308 83547257.5142127 -7.871016468474714\n",
      "Average binding energy is:  -17.762260388720595\n",
      "83545238.98022923 83547257.5142127 -47.84600388699312\n",
      "Average binding energy is:  -17.286736663000145\n",
      "83545275.2239208 83547257.51422033 -59.48200641485688\n",
      "Average binding energy is:  -17.322597235180538\n",
      "83545267.61372028 83547257.51420507 -39.340904568667725\n",
      "Average binding energy is:  -17.57260883078171\n",
      "83545274.2032538 83547257.51422033 -42.17005803723074\n",
      "Average binding energy is:  -17.973526930409914\n",
      "83545238.639648 83547257.5142127 -32.03636579291395\n",
      "Average binding energy is:  -18.396649989809852\n",
      "83545304.43193497 83547257.5142127 -48.399346012549856\n",
      "Average binding energy is:  -17.635953071458864\n",
      "83545204.26572879 83547257.51420507 -41.027302740817845\n",
      "Average binding energy is:  -17.198471568726017\n",
      "83545293.8113364 83547257.51419744 -10.926330365235078\n",
      "Average binding energy is:  -18.08126417292218\n",
      "83545223.51232964 83547257.51420507 -48.80265780336349\n",
      "Average binding energy is:  -17.414028224798088\n",
      "83545256.2225088 83547257.51420507 -26.055194304050353\n",
      "Average binding energy is:  -17.326635982116574\n",
      "83545262.79646468 83547257.5142127 -50.30793312245491\n",
      "Average binding energy is:  -17.51720553958256\n",
      "83545269.16928768 83547257.51420507 -33.29632296644871\n",
      "Average binding energy is:  -17.613050400183077\n",
      "83545356.66970186 83547257.51422033 -30.762224230718772\n",
      "Average binding energy is:  -17.810307564162525\n",
      "83545213.82811646 83547257.51422033 -55.1823053725448\n",
      "Average binding energy is:  -17.44301577625403\n",
      "83545309.87716675 83547257.51420507 -33.443916044264995\n",
      "Average binding energy is:  -17.724010391444796\n",
      "83545211.82704714 83547257.51420507 -53.58757542289108\n",
      "Average binding energy is:  -17.474557741281163\n",
      "83545247.22836326 83547257.51420507 -39.1555951724198\n",
      "Average binding energy is:  -17.757930149867597\n",
      "83545242.40961033 83547257.5142127 -53.086773421313076\n",
      "Average binding energy is:  -17.67583629680516\n",
      "83545221.54713082 83547257.5142127 -64.8678248826528\n",
      "Average binding energy is:  -17.290344359578565\n",
      "83545172.34333396 83547257.51422033 -56.48328675277177\n",
      "Average binding energy is:  -17.33921025311784\n",
      "83545314.76260927 83547257.5142127 -31.232275771783787\n",
      "Average binding energy is:  -17.6992530338219\n",
      "83545327.75077282 83547257.5142127 -37.90560100573373\n",
      "Average binding energy is:  -17.517202211787847\n",
      "83545290.23822396 83547257.51422033 -23.41986982251852\n",
      "Average binding energy is:  -17.998667838422087\n",
      "83545252.81400198 83547257.51422033 -56.894721716458896\n",
      "Average binding energy is:  -17.547797266966093\n",
      "83545332.04789193 83547257.5142127 -55.94380736789738\n",
      "Average binding energy is:  -17.31039364259353\n",
      "83545234.49231584 83547257.51422033 -43.726802115541545\n",
      "Average binding energy is:  -17.831487408719784\n",
      "83545311.02317335 83547257.5142127 -35.711200429233294\n",
      "Average binding energy is:  -17.69240591593885\n",
      "83545310.53777732 83547257.5142127 -30.96438611226026\n",
      "Average binding energy is:  -17.740852308017903\n",
      "83545281.47132885 83547257.51420507 -47.842063157424114\n",
      "Average binding energy is:  -17.37117849600329\n",
      "83545278.65796664 83547257.5142127 -26.852315221576266\n",
      "Average binding energy is:  -17.58562099849186\n",
      "83545179.13906302 83547257.5142127 -61.10001773866758\n",
      "Average binding energy is:  -17.695395894241198\n",
      "83545209.0176007 83547257.51420507 -53.80271236604001\n",
      "Average binding energy is:  -17.970215243261716\n",
      "83545258.68988371 83547257.5142127 -43.97134002467203\n",
      "Average binding energy is:  -17.611288188865935\n",
      "83545273.02657379 83547257.5142127 -30.507490355927796\n",
      "Average binding energy is:  -18.092408782867746\n",
      "83545287.10072078 83547257.5142127 -41.31391402050149\n",
      "Average binding energy is:  -17.862033128695696\n",
      "83545276.05670518 83547257.5142127 -42.022761136398735\n",
      "Average binding energy is:  -17.4723851025632\n",
      "83545206.58376342 83547257.51420507 -45.00342945040628\n",
      "Average binding energy is:  -17.595850984187383\n",
      "83545216.31700133 83547257.51420507 -66.25265001363515\n",
      "Average binding energy is:  -17.792293276818402\n",
      "83545367.30024922 83547257.51422796 -34.41255759867782\n",
      "Average binding energy is:  -17.67429924894205\n",
      "83545093.0387796 83547257.5142127 -76.24793480339298\n",
      "Average binding energy is:  -17.401895819107473\n",
      "83545229.95180953 83547257.51420507 -48.91609760604639\n",
      "Average binding energy is:  -17.825642323755076\n",
      "83545230.39544374 83547257.5142127 -52.658622128445586\n",
      "Average binding energy is:  -17.319825849401685\n",
      "83545213.70321022 83547257.51420507 -43.058995549794226\n",
      "Average binding energy is:  -17.55045613420013\n",
      "83545329.06958312 83547257.5142127 -29.31512012456358\n",
      "Average binding energy is:  -17.58453249495573\n",
      "83545255.5893049 83547257.51422033 -39.136673092778345\n",
      "Average binding energy is:  -17.68277695801938\n",
      "83545255.75999954 83547257.5142127 -49.03071575181841\n",
      "Average binding energy is:  -17.59210358020268\n",
      "83545047.60059388 83547257.5142127 -70.7427688925155\n",
      "Average binding energy is:  -16.977546427979444\n",
      "83545090.93467301 83547257.51420507 -71.1638738151309\n",
      "Average binding energy is:  -16.630283001919967\n",
      "83544998.73042543 83547257.5142127 -55.435392641858385\n",
      "Average binding energy is:  -16.692033292602737\n",
      "83545014.50001642 83547257.5142127 -67.3989043788084\n",
      "Average binding energy is:  -16.481934029529214\n",
      "83545167.09146884 83547257.51422033 -43.588704720007634\n",
      "Average binding energy is:  -17.056950389719116\n",
      "83545028.08999649 83547257.51422033 -81.37775414175175\n",
      "Average binding energy is:  -17.04798785474988\n",
      "83545025.2168217 83547257.51422033 -98.57390556358456\n",
      "Average binding energy is:  -16.540492194288525\n",
      "83545158.2692729 83547257.5142127 -85.40105771187903\n",
      "Average binding energy is:  -16.372714488554458\n",
      "83544979.26782203 83547257.51420507 -96.91801367189954\n",
      "Average binding energy is:  -16.525214919463966\n",
      "83545088.54283582 83547257.5142127 -60.68072796589584\n",
      "Average binding energy is:  -16.732465467580216\n",
      "83544995.5374393 83547257.5142127 -87.7477746155981\n",
      "Average binding energy is:  -16.854488362639813\n",
      "83545086.48297735 83547257.5142127 -45.77761436130039\n",
      "Average binding energy is:  -16.867092230086175\n",
      "83545041.21264645 83547257.5142127 -62.93456053021533\n",
      "Average binding energy is:  -17.090214331055208\n",
      "83545099.64931871 83547257.5142127 -46.98447246854742\n",
      "Average binding energy is:  -17.161629443245754\n",
      "83545165.69784142 83547257.51420507 -21.29412426685036\n",
      "Average binding energy is:  -17.254351994839414\n",
      "83544914.9673487 83547257.5142127 -79.35071977598591\n",
      "Average binding energy is:  -16.39997205961563\n",
      "83544933.25234744 83547257.51422033 -84.83186561099616\n",
      "Average binding energy is:  -16.965378843004657\n",
      "83545013.36340418 83547257.51422796 -59.70342962822743\n",
      "Average binding energy is:  -16.93370072979633\n",
      "83545016.57271592 83547257.51422033 -77.66071442419792\n",
      "Average binding energy is:  -16.769618526974813\n",
      "83545034.80602191 83547257.51420507 -98.02792728786929\n",
      "Average binding energy is:  -16.86254171322694\n",
      "83545069.94416639 83547257.5142127 -54.79587607072359\n",
      "Average binding energy is:  -17.339627400284005\n",
      "83545021.41298333 83547257.5142127 -89.88150200427137\n",
      "Average binding energy is:  -16.63736222763852\n",
      "83545032.30606256 83547257.51420507 -59.79103921219377\n",
      "Average binding energy is:  -16.786179095286062\n",
      "83545009.73305286 83547257.5142127 -72.78991490778756\n",
      "Average binding energy is:  -16.860397247482837\n",
      "83545138.84355327 83547257.5142127 -58.89151239370928\n",
      "Average binding energy is:  -17.16482622524304\n",
      "83545117.94500525 83547257.51419744 -48.87382156427524\n",
      "Average binding energy is:  -16.99752333838799\n",
      "83545055.16338785 83547257.51420507 -70.53262592355165\n",
      "Average binding energy is:  -16.525722413138535\n",
      "83545044.87087649 83547257.5142127 -65.29953375351467\n",
      "Average binding energy is:  -17.042411130580632\n",
      "83545025.71817571 83547257.5142127 -52.021590798593266\n",
      "Average binding energy is:  -16.513442774165934\n",
      "83545165.05818035 83547257.5142127 -48.36181311910573\n",
      "Average binding energy is:  -17.034118493596278\n",
      "83545086.64582935 83547257.5142127 -82.63078228953707\n",
      "Average binding energy is:  -16.57331429411469\n",
      "83545203.04119503 83547257.5142127 -38.20726509486978\n",
      "Average binding energy is:  -17.23304062023841\n",
      "83545082.35459755 83547257.5142127 -75.63154159871144\n",
      "Average binding energy is:  -17.069333931263593\n",
      "83545028.40874636 83547257.51420507 -52.36377141018361\n",
      "Average binding energy is:  -16.490467328003284\n",
      "83545085.1006602 83547257.51422033 -59.113409122883695\n",
      "Average binding energy is:  -16.772223420629903\n",
      "83545039.46407032 83547257.51422033 -69.40022092885154\n",
      "Average binding energy is:  -17.052777214906016\n",
      "83545173.75099754 83547257.51419744 -36.25224723311134\n",
      "Average binding energy is:  -17.062591272187575\n",
      "83545118.31775306 83547257.5142127 -51.156390321784855\n",
      "Average binding energy is:  -17.40033391095256\n",
      "83545005.07674725 83547257.5142127 -73.11156105929227\n",
      "Average binding energy is:  -16.893999258797788\n",
      "83545182.90770502 83547257.51422033 -62.95141249941522\n",
      "Average binding energy is:  -16.763792523365325\n",
      "83545074.15390685 83547257.51419744 -61.16446367383891\n",
      "Average binding energy is:  -16.451130441186898\n",
      "83545071.2875721 83547257.51422033 -71.33795263151859\n",
      "Average binding energy is:  -16.78483091741954\n",
      "83545037.26010178 83547257.51422033 -49.37843284458062\n",
      "Average binding energy is:  -16.828493687614444\n",
      "83545033.92281318 83547257.51420507 -56.35252914312248\n",
      "Average binding energy is:  -16.418476232940293\n",
      "83545068.01433195 83547257.51420507 -76.68297034890946\n",
      "Average binding energy is:  -16.768388117203994\n",
      "83545079.02014272 83547257.51420507 -75.0770193190508\n",
      "Average binding energy is:  -17.100951569350805\n",
      "83544956.5360359 83547257.51420507 -85.78998131388794\n",
      "Average binding energy is:  -17.172001456272206\n",
      "83545113.21977122 83547257.5142127 -51.25171858917623\n",
      "Average binding energy is:  -17.016607503148684\n",
      "83545045.67529759 83547257.51420507 -68.69428001011984\n",
      "Average binding energy is:  -16.61352424395442\n",
      "83544953.68047813 83547257.5142127 -72.617285432293\n",
      "Average binding energy is:  -16.52752925288623\n",
      "83544980.17124419 83547257.5142127 -59.88535956747694\n",
      "Average binding energy is:  -16.798921279857\n",
      "83544943.10280688 83547257.51422033 -63.40770150387039\n",
      "Average binding energy is:  -17.053058423804533\n",
      "83544975.79255915 83547257.5142127 -27.750427336800374\n",
      "Average binding energy is:  -17.07553959253078\n",
      "83545026.3915313 83547257.5142127 -72.60731853487418\n",
      "Average binding energy is:  -16.352389112570798\n",
      "83544985.1954683 83547257.51422033 -79.85248897367597\n",
      "Average binding energy is:  -16.609592901870617\n",
      "83544952.15092185 83547257.51420507 -81.10147434693462\n",
      "Average binding energy is:  -16.850468249015293\n",
      "83545068.07458222 83547257.5142127 -91.08911671143578\n",
      "Average binding energy is:  -16.266283052458796\n",
      "83544931.70311329 83547257.51422796 -93.54699552237761\n",
      "Average binding energy is:  -16.175826950336727\n",
      "83544862.51923361 83547257.51422033 -85.45680111524771\n",
      "Average binding energy is:  -16.37970344395521\n",
      "83544938.26775783 83547257.5142127 -75.78587633133695\n",
      "Average binding energy is:  -16.61822650765484\n",
      "83544968.09252037 83547257.5142127 -58.63852507738008\n",
      "Average binding energy is:  -16.89987247916125\n",
      "83544924.36411521 83547257.5142127 -95.12677937889187\n",
      "Average binding energy is:  -16.21756027616279\n",
      "83544968.40005444 83547257.5142127 -102.0731838789132\n",
      "Average binding energy is:  -16.5684922301434\n",
      "83545053.95249121 83547257.51420507 -73.11867443216556\n",
      "Average binding energy is:  -16.515062321141652\n",
      "83544984.91581544 83547257.51420507 -64.22086882335596\n",
      "Average binding energy is:  -16.358352005942173\n",
      "83544967.31485955 83547257.5142127 -92.98646412453093\n",
      "Average binding energy is:  -16.275651029770682\n",
      "83544993.06053859 83547257.51422033 -83.04847607129483\n",
      "Average binding energy is:  -16.525797012620377\n",
      "83544936.87629725 83547257.5142127 -77.31099576525953\n",
      "Average binding energy is:  -16.61723644208959\n",
      "83544947.90573117 83547257.51419744 -70.73158679788061\n",
      "Average binding energy is:  -16.584273181257075\n",
      "83544867.9303938 83547257.51422033 -117.88386724076244\n",
      "Average binding energy is:  -16.111347228980406\n",
      "83544903.54493132 83547257.51419744 -102.78404610403899\n",
      "Average binding energy is:  -15.965852624202695\n",
      "83544881.94964677 83547257.51420507 -83.19818856714916\n",
      "Average binding energy is:  -16.25791751581735\n",
      "83544992.1797691 83547257.51420507 -92.63714579725459\n",
      "Average binding energy is:  -16.84261465249873\n",
      "83544842.253621 83547257.5142127 -103.94944828655966\n",
      "Average binding energy is:  -16.392277612866053\n",
      "83544951.73201612 83547257.51422033 -73.91217176154642\n",
      "Average binding energy is:  -16.17297124963197\n",
      "83544989.0913245 83547257.5142127 -92.55917458377563\n",
      "Average binding energy is:  -16.483816012277877\n",
      "83544935.03226058 83547257.51420507 -72.56243530437737\n",
      "Average binding energy is:  -16.666070438386086\n",
      "83544986.77792439 83547257.5142127 -87.2098443507226\n",
      "Average binding energy is:  -16.541866999684657\n",
      "83545017.49242665 83547257.5142127 -91.0139864128687\n",
      "Average binding energy is:  -16.658975190977827\n",
      "83544968.96813892 83547257.51420507 -90.54111431582591\n",
      "Average binding energy is:  -16.651552665410936\n",
      "83544983.35913502 83547257.51420507 -79.93402216879035\n",
      "Average binding energy is:  -16.62288672638455\n",
      "83544981.45498215 83547257.51422033 -72.52027051122651\n",
      "Average binding energy is:  -16.693477027797663\n",
      "83545031.61476207 83547257.5142127 -82.53950054998673\n",
      "Average binding energy is:  -16.61519341147258\n",
      "83545020.22383802 83547257.51422033 -76.94714442244175\n",
      "Average binding energy is:  -16.746846805335707\n",
      "83544932.49507067 83547257.51420507 -101.16384040680941\n",
      "Average binding energy is:  -16.114893434749753\n",
      "83545050.58883138 83547257.51420507 -62.61953294813489\n",
      "Average binding energy is:  -16.622525897210895\n",
      "83544941.463156 83547257.5142127 -90.2832217947522\n",
      "Average binding energy is:  -16.86187753714555\n",
      "83545025.779265 83547257.5142127 -92.82297618020394\n",
      "Average binding energy is:  -16.580712957489336\n",
      "83544906.18329906 83547257.51420507 -82.52726564188276\n",
      "Average binding energy is:  -16.440606089578484\n",
      "83544954.37820318 83547257.5142127 -67.85588102671883\n",
      "Average binding energy is:  -16.933940367330404\n",
      "83544897.77179736 83547257.5142127 -97.27857449016282\n",
      "Average binding energy is:  -16.39466551339559\n",
      "83545005.3807456 83547257.5142127 -59.760714533588875\n",
      "Average binding energy is:  -16.995137616740475\n",
      "83544962.34575538 83547257.51420507 -108.57016208968389\n",
      "Average binding energy is:  -16.19702435255773\n",
      "83545014.16482474 83547257.5142127 -81.9068961873201\n",
      "Average binding energy is:  -16.75536815326609\n",
      "83545046.08865723 83547257.5142127 -62.73165486071639\n",
      "Average binding energy is:  -16.656541865169682\n",
      "83544981.60580495 83547257.5142127 -88.3085081527232\n",
      "Average binding energy is:  -16.20444370070387\n",
      "83544857.5344275 83547257.51422033 -98.88571976951899\n",
      "Average binding energy is:  -16.319816121019926\n",
      "83544910.93187243 83547257.5142127 -80.63744809987112\n",
      "Average binding energy is:  -17.166249183109166\n",
      "83545078.67447114 83547257.5142127 -69.17050727520729\n",
      "Average binding energy is:  -17.1517823925417\n",
      "83545020.64438628 83547257.51419744 -75.49914489571569\n",
      "Average binding energy is:  -16.374020198989673\n",
      "83545031.14448652 83547257.5142127 -79.81860755529019\n",
      "Average binding energy is:  -16.639931152137518\n",
      "83545031.0833271 83547257.51420507 -74.49264363401875\n",
      "Average binding energy is:  -16.681691739028295\n",
      "83545052.79982166 83547257.5142127 -63.367806466493235\n",
      "Average binding energy is:  -16.99481416326451\n",
      "83544978.91266987 83547257.5142127 -61.419682381200296\n",
      "Average binding energy is:  -16.79683227613081\n",
      "83545009.92579268 83547257.5142127 -71.76278278238904\n",
      "Average binding energy is:  -16.86686540493151\n",
      "83545078.8420704 83547257.51422033 -49.348503371516486\n",
      "Average binding energy is:  -16.899394020277043\n",
      "83545089.76819466 83547257.5142127 -42.22680840624642\n",
      "Average binding energy is:  -16.869200076436137\n",
      "83545031.00048177 83547257.51420507 -77.2119008574425\n",
      "Average binding energy is:  -16.661254437530737\n",
      "83545038.71875112 83547257.51420507 -68.92752900781781\n",
      "Average binding energy is:  -17.06244384875353\n",
      "83545051.68161964 83547257.51422033 -54.72128758046678\n",
      "Average binding energy is:  -17.072312008750057\n",
      "83544985.31090161 83547257.51420507 -94.01338898924095\n",
      "Average binding energy is:  -16.501438745962616\n",
      "83545059.55944465 83547257.51422796 -68.23053335207442\n",
      "Average binding energy is:  -16.90257341232898\n",
      "83545148.43227139 83547257.51420507 -70.15320891144852\n",
      "Average binding energy is:  -16.991072706381235\n",
      "83545028.12296097 83547257.51422033 -60.33360643078149\n",
      "Average binding energy is:  -16.814400410283348\n",
      "83545058.66807696 83547257.51420507 -66.06582037100837\n",
      "Average binding energy is:  -17.339677298659424\n",
      "83545039.50829965 83547257.5142127 -62.939844590465306\n",
      "Average binding energy is:  -17.10369895601998\n",
      "83545052.81247146 83547257.51420507 -66.03630013099878\n",
      "Average binding energy is:  -16.973535186294242\n",
      "83545136.85681921 83547257.51419744 -54.936190866357386\n",
      "Average binding energy is:  -17.214343228001344\n",
      "83544953.69261648 83547257.51422033 -56.91219683558303\n",
      "Average binding energy is:  -16.643773385288497\n",
      "83545018.18968444 83547257.51422033 -59.82896772691921\n",
      "Average binding energy is:  -17.297583874321386\n",
      "83545015.55102775 83547257.5142127 -89.34647692440093\n",
      "Average binding energy is:  -17.084259587526468\n",
      "83545021.04238495 83547257.51422033 -50.67737464501408\n",
      "Average binding energy is:  -16.944143106432698\n",
      "83544975.43573108 83547257.51420507 -74.68017213575473\n",
      "Average binding energy is:  -17.11161474301892\n",
      "83545034.41600414 83547257.5142127 -88.38224379588696\n",
      "Average binding energy is:  -16.548185773377153\n",
      "83544989.37602644 83547257.51422033 -88.92423537605143\n",
      "Average binding energy is:  -16.893131461351945\n",
      "83545094.00322564 83547257.51420507 -77.51574731918197\n",
      "Average binding energy is:  -16.959310830160206\n",
      "83545072.82074015 83547257.51422033 -67.38750605632077\n",
      "Average binding energy is:  -16.804015667638037\n",
      "83545040.5492184 83547257.51422033 -77.00314420893568\n",
      "Average binding energy is:  -16.58885161020845\n",
      "83545083.55872683 83547257.51422033 -64.82298522145341\n",
      "Average binding energy is:  -17.147418766450524\n",
      "83545076.75003771 83547257.5142127 -66.96313760698618\n",
      "Average binding energy is:  -16.776198709332693\n",
      "83545026.58434582 83547257.51422033 -66.92737968894706\n",
      "Average binding energy is:  -17.174622974766873\n",
      "83545069.72988538 83547257.51422033 -77.2812169484133\n",
      "Average binding energy is:  -17.15856193491289\n",
      "83545057.06556688 83547257.5142127 -67.88714334954227\n",
      "Average binding energy is:  -16.53148451523807\n",
      "83544998.28201248 83547257.51422033 -76.85149133940773\n",
      "Average binding energy is:  -16.917679972947393\n",
      "83545084.58747976 83547257.5142127 -69.45410016758015\n",
      "Average binding energy is:  -17.101403518494973\n",
      "83545067.25314923 83547257.51422033 -56.217287186194234\n",
      "Average binding energy is:  -16.936855427893942\n",
      "83545072.02401261 83547257.51420507 -78.5367603668376\n",
      "Average binding energy is:  -17.129702699928423\n",
      "83545062.40923052 83547257.51420507 -65.33424495788002\n",
      "Average binding energy is:  -16.90294229837388\n",
      "83544958.93885922 83547257.5142127 -92.70338568208254\n",
      "Average binding energy is:  -16.711151271146534\n",
      "83545017.11583641 83547257.5142127 -87.53759602551146\n",
      "Average binding energy is:  -16.688843257833476\n",
      "83544963.99560413 83547257.51422033 -74.71077346548537\n",
      "Average binding energy is:  -16.809150323742482\n",
      "83544975.47780864 83547257.5142127 -89.23838845718855\n",
      "Average binding energy is:  -16.61210617879658\n",
      "83545056.3822 83547257.5142127 -70.53975684649484\n",
      "Average binding energy is:  -16.909462348004595\n",
      "83545099.4041681 83547257.5142127 -62.514840513530736\n",
      "Average binding energy is:  -16.63170796892896\n",
      "83545064.77509402 83547257.5142127 -38.03315364007641\n",
      "Average binding energy is:  -17.100840992383187\n",
      "83545042.86861949 83547257.51420507 -58.28702227959415\n",
      "Average binding energy is:  -17.1139568516037\n",
      "83545103.88131161 83547257.5142127 -52.46412909689952\n",
      "Average binding energy is:  -17.082672943012227\n",
      "83545030.38990025 83547257.5142127 -85.49049413556773\n",
      "Average binding energy is:  -16.997093796110743\n",
      "83544932.60359335 83547257.51422033 -109.84579000113068\n",
      "Average binding energy is:  -16.407887681307788\n",
      "83544965.53084004 83547257.5142127 -100.28815177292147\n",
      "Average binding energy is:  -16.603751673375527\n",
      "83545031.46145986 83547257.5142127 -67.33094277277182\n",
      "Average binding energy is:  -16.734277597401295\n",
      "83544942.0664273 83547257.51420507 -99.13050961947515\n",
      "Average binding energy is:  -16.41716494921136\n",
      "83545161.55668406 83547257.5142127 -90.30528906850797\n",
      "Average binding energy is:  -16.306115768840257\n",
      "83544987.51100743 83547257.51420507 -74.67058628991707\n",
      "Average binding energy is:  -16.63130766174442\n",
      "83544978.6390587 83547257.51420507 -92.41244065043314\n",
      "Average binding energy is:  -16.564111406997526\n",
      "83545080.4240325 83547257.5142127 -72.54878076825851\n",
      "Average binding energy is:  -16.702709519325875\n",
      "83545022.66494003 83547257.5142127 -55.621855440416546\n",
      "Average binding energy is:  -17.295455692285277\n",
      "83544926.3489467 83547257.51420507 -76.03648156461844\n",
      "Average binding energy is:  -17.084308915138415\n",
      "83545018.67728478 83547257.51422033 -63.07307133371103\n",
      "Average binding energy is:  -16.483059577395935\n",
      "83545119.02313223 83547257.5142127 -41.49717526626576\n",
      "Average binding energy is:  -16.642808771402116\n",
      "83544947.71406011 83547257.51422033 -97.37839495330755\n",
      "Average binding energy is:  -16.76077094894695\n",
      "83545084.15763001 83547257.51420507 -77.2233508070512\n",
      "Average binding energy is:  -16.249094761626814\n",
      "83544945.7243674 83547257.5142127 -74.71202164980849\n",
      "Average binding energy is:  -16.57094684187328\n",
      "83545058.10198069 83547257.51422033 -72.12982256620072\n",
      "Average binding energy is:  -16.883193786307544\n",
      "83544955.0351814 83547257.5142127 -100.00776978869659\n",
      "Average binding energy is:  -16.31460193708065\n",
      "83545013.45821469 83547257.5142127 -68.25320246432862\n",
      "Average binding energy is:  -16.86668833758213\n",
      "83544986.17742401 83547257.5142127 -64.78473213808455\n",
      "Average binding energy is:  -16.344830048489225\n",
      "83545047.47197765 83547257.5142127 -75.73658700989414\n",
      "Average binding energy is:  -16.938933714577228\n",
      "83545036.04583973 83547257.51420507 -73.78874447641212\n",
      "Average binding energy is:  -16.64867923151173\n",
      "83545073.56736992 83547257.5142127 -52.96100233885127\n",
      "Average binding energy is:  -16.912586035205535\n",
      "83544953.08286895 83547257.5142127 -91.71513018391448\n",
      "Average binding energy is:  -16.390490470853713\n",
      "83544966.52722447 83547257.5142127 -94.3195511514772\n",
      "Average binding energy is:  -16.271610645037498\n",
      "83544919.74932659 83547257.5142127 -88.58850928781929\n",
      "Average binding energy is:  -16.66056575424594\n",
      "83544946.43119939 83547257.5142127 -79.56695725772512\n",
      "Average binding energy is:  -16.905424667070477\n",
      "83544983.18108484 83547257.5142127 -82.9092101360548\n",
      "Average binding energy is:  -16.23276976089037\n",
      "83544992.12688062 83547257.51420507 -79.80900394052743\n",
      "Average binding energy is:  -16.942467600867232\n",
      "83545021.15455076 83547257.51419744 -86.9297622564534\n",
      "Average binding energy is:  -16.283559730466038\n",
      "83544989.42555334 83547257.5142127 -83.9043611363867\n",
      "Average binding energy is:  -16.546850744125894\n",
      "83545038.37074076 83547257.5142127 -59.58171285843889\n",
      "Average binding energy is:  -16.7407888301001\n",
      "83544958.95882326 83547257.5142127 -56.93734065254217\n",
      "Average binding energy is:  -16.604578139122644\n",
      "83544988.8670787 83547257.5142127 -77.27591648921802\n",
      "Average binding energy is:  -16.98737377908453\n",
      "83544965.74179207 83547257.5142127 -65.70456002503337\n",
      "Average binding energy is:  -16.489391560035745\n",
      "83544994.36041248 83547257.5142127 -48.94400050354594\n",
      "Average binding energy is:  -16.40155407196853\n",
      "83544985.65535168 83547257.5142127 -91.4390988723284\n",
      "Average binding energy is:  -16.51833153137817\n",
      "83544895.4432071 83547257.51422033 -83.24027414023463\n",
      "Average binding energy is:  -16.513266225267177\n",
      "83544938.8690113 83547257.51422033 -90.79271184288642\n",
      "Average binding energy is:  -16.877670433230534\n",
      "83545021.04905738 83547257.5142127 -78.55513996578294\n",
      "Average binding energy is:  -17.126269963115845\n",
      "83544918.81335144 83547257.51422033 -90.79846791253256\n",
      "Average binding energy is:  -16.289147833167803\n",
      "83544950.91903278 83547257.51422033 -96.64542865286218\n",
      "Average binding energy is:  -16.369998214014522\n",
      "83544904.86783518 83547257.5142127 -91.0217929541749\n",
      "Average binding energy is:  -16.388583946120274\n",
      "83544992.33630888 83547257.5142127 -75.88203072871976\n",
      "Average binding energy is:  -16.9712858378867\n",
      "83544903.19564088 83547257.5142127 -73.88908971338512\n",
      "Average binding energy is:  -16.89207023783311\n",
      "83544972.02100322 83547257.51420507 -95.87668335319819\n",
      "Average binding energy is:  -16.58800392802005\n",
      "83545004.63396084 83547257.51422033 -64.89644475334526\n",
      "Average binding energy is:  -16.9611148428737\n",
      "83545072.90120085 83547257.5142127 -71.83129373723261\n",
      "Average binding energy is:  -16.768108873925986\n",
      "83544954.67502318 83547257.5142127 -95.27912137532384\n",
      "Average binding energy is:  -16.352296801031066\n",
      "83545219.64831531 83547257.51422033 -37.1515745673432\n",
      "Average binding energy is:  -17.1001224824728\n",
      "83545168.20263125 83547257.51420507 -58.55897314016468\n",
      "Average binding energy is:  -17.35685983485608\n",
      "83545237.84603819 83547257.5142127 -72.43522693964768\n",
      "Average binding energy is:  -17.080990768119175\n",
      "83545230.9453467 83547257.5142127 -55.15443143111429\n",
      "Average binding energy is:  -17.293109075161976\n",
      "83545234.29381214 83547257.51422796 -35.478021125476864\n",
      "Average binding energy is:  -17.90758914135346\n",
      "83545272.40303187 83547257.51419744 -33.390956682497894\n",
      "Average binding energy is:  -17.58306494491653\n",
      "83545235.04246178 83547257.51422033 -41.83030207928819\n",
      "Average binding energy is:  -17.374047863729444\n",
      "83545332.2401183 83547257.51420507 -42.2636376081291\n",
      "Average binding energy is:  -17.43528193671543\n",
      "83545251.0729432 83547257.51422033 -40.542020461488306\n",
      "Average binding energy is:  -18.20277089509213\n",
      "83545072.73410553 83547257.51422033 -56.781256512759775\n",
      "Average binding energy is:  -16.88887982767443\n",
      "83545254.28457236 83547257.5142127 -43.26308225991418\n",
      "Average binding energy is:  -17.65735637905343\n",
      "83545254.9315799 83547257.51420507 -35.18737063406837\n",
      "Average binding energy is:  -17.257853109925556\n",
      "83545136.24270636 83547257.5142127 -61.62030747259762\n",
      "Average binding energy is:  -17.16375999055595\n",
      "83545167.74971403 83547257.51420507 -45.181785763037034\n",
      "Average binding energy is:  -17.475065857038437\n",
      "83545212.32153656 83547257.51422033 -56.580554327284446\n",
      "Average binding energy is:  -17.443966047754106\n",
      "83545236.86161983 83547257.51422033 -44.476329411314914\n",
      "Average binding energy is:  -17.80338982960083\n",
      "83545166.94188584 83547257.5142127 -36.31750463481546\n",
      "Average binding energy is:  -17.557733523239794\n",
      "83545299.98362495 83547257.51422033 -51.33113471650831\n",
      "Average binding energy is:  -17.649995006116473\n",
      "83545189.88385582 83547257.5142127 -53.47238548528909\n",
      "Average binding energy is:  -17.21502539651926\n",
      "83545194.49354716 83547257.51422033 -39.95276064333835\n",
      "Average binding energy is:  -17.291178739549977\n",
      "83545186.13553189 83547257.5142127 -54.144305557307014\n",
      "Average binding energy is:  -17.241319446607054\n",
      "83545251.6067903 83547257.5142127 -41.57925492157819\n",
      "Average binding energy is:  -17.696650157405244\n",
      "83545215.09712778 83547257.5142127 -39.13162062333703\n",
      "Average binding energy is:  -17.57267951135166\n",
      "83545276.8583529 83547257.5142127 -46.48152978911376\n",
      "Average binding energy is:  -17.42499396404576\n",
      "83545256.94680163 83547257.5142127 -58.66256451516476\n",
      "Average binding energy is:  -17.034253039911725\n",
      "83545149.0134599 83547257.5142127 -65.53134491631685\n",
      "Average binding energy is:  -17.461276990388424\n",
      "83545208.02817804 83547257.5142127 -50.441663886521994\n",
      "Average binding energy is:  -17.53547693662289\n",
      "83545147.93676358 83547257.5142127 -57.595084282482006\n",
      "Average binding energy is:  -17.099853040255407\n",
      "83545240.85343893 83547257.51422033 -24.664500964034286\n",
      "Average binding energy is:  -17.94591243634578\n",
      "83545252.32830834 83547257.51422033 -48.30750934138316\n",
      "Average binding energy is:  -17.629535158935752\n",
      "83545300.84847005 83547257.51422033 -36.758046392098834\n",
      "Average binding energy is:  -17.296465800792106\n",
      "83545211.77931222 83547257.51420507 -42.49420641335067\n",
      "Average binding energy is:  -17.57228672308599\n",
      "83545034.04868022 83547257.51422796 -71.45206909255437\n",
      "Average binding energy is:  -16.682275028278337\n",
      "83545245.78891034 83547257.5142127 -47.78292668916953\n",
      "Average binding energy is:  -17.693174555534522\n",
      "83545142.50684561 83547257.51422033 -46.06101651547657\n",
      "Average binding energy is:  -17.241219651694237\n",
      "83545066.11129548 83547257.51420507 -59.12452906375501\n",
      "Average binding energy is:  -16.922844289905072\n",
      "83545179.84149899 83547257.51422033 -44.79071247516069\n",
      "Average binding energy is:  -17.37505990483839\n",
      "83545174.48697586 83547257.5142127 -49.46251845596292\n",
      "Average binding energy is:  -17.38089502887355\n",
      "83545253.3370817 83547257.5142127 -48.08578246525198\n",
      "Average binding energy is:  -17.62244458136873\n",
      "83545135.53165825 83547257.5142127 -54.34514930297277\n",
      "Average binding energy is:  -17.230311709563818\n",
      "83545315.31315076 83547257.5142127 -29.40065232102053\n",
      "Average binding energy is:  -17.71111490382604\n",
      "83545264.7597354 83547257.5142127 -50.344518937608726\n",
      "Average binding energy is:  -17.49918881400622\n",
      "83545276.21215358 83547257.5142127 -34.30529993302379\n",
      "Average binding energy is:  -17.54051134397257\n",
      "83545220.10284741 83547257.5142127 -50.50127412101496\n",
      "Average binding energy is:  -17.9000909113919\n",
      "83545207.68939538 83547257.5142127 -39.4686088079933\n",
      "Average binding energy is:  -18.11131719375451\n",
      "83545291.23073736 83547257.51420507 -55.51110395858332\n",
      "Average binding energy is:  -17.214165439202116\n",
      "83545188.50147274 83547257.51422033 -41.22739463010015\n",
      "Average binding energy is:  -17.331498743210883\n",
      "83545164.31345104 83547257.51422033 -40.29900869956573\n",
      "Average binding energy is:  -17.54616889393814\n",
      "83545264.83161093 83547257.5142127 -44.115346437073754\n",
      "Average binding energy is:  -17.55465995790743\n",
      "83545000.60376607 83547257.51422796 -91.43796824220189\n",
      "Average binding energy is:  -16.405094648829664\n",
      "83544959.7395251 83547257.5142127 -82.46528585021224\n",
      "Average binding energy is:  -16.40969927224373\n",
      "83544896.04803641 83547257.51420507 -92.76219118617858\n",
      "Average binding energy is:  -16.439883894715702\n",
      "83544954.757062 83547257.51422033 -97.51406148212561\n",
      "Average binding energy is:  -15.980022440884033\n",
      "83545015.31192654 83547257.5142127 -60.24769034529284\n",
      "Average binding energy is:  -16.91437671169565\n",
      "83544970.95426093 83547257.5142127 -54.951518408579325\n",
      "Average binding energy is:  -16.530432839694413\n",
      "83544838.12310275 83547257.5142127 -93.0388181050366\n",
      "Average binding energy is:  -16.498952424385486\n",
      "83545018.64388847 83547257.51422033 -61.07334622123107\n",
      "Average binding energy is:  -16.88214717544494\n",
      "83544967.72463737 83547257.5142127 -65.84432123268829\n",
      "Average binding energy is:  -16.473668548820548\n",
      "83545059.89949404 83547257.51419744 -67.28596027852798\n",
      "Average binding energy is:  -16.514176303282134\n",
      "83544909.88497074 83547257.5142127 -78.34867765471819\n",
      "Average binding energy is:  -16.444062060170594\n",
      "83544888.18661264 83547257.51422033 -78.61990743103003\n",
      "Average binding energy is:  -16.599331161306214\n",
      "83544944.20989624 83547257.5142127 -95.03503565890964\n",
      "Average binding energy is:  -16.8050703091074\n",
      "83544952.09813274 83547257.5142127 -80.68134505426703\n",
      "Average binding energy is:  -16.479516554807745\n",
      "83545063.93215857 83547257.51422033 -56.26492843511799\n",
      "Average binding energy is:  -16.9628343914092\n",
      "83544922.81521794 83547257.51422033 -92.10460554423781\n",
      "Average binding energy is:  -16.250684035078997\n",
      "83544958.8697506 83547257.51422033 -90.15788953267793\n",
      "Average binding energy is:  -16.730958940836572\n",
      "83544874.13440982 83547257.5142127 -95.92517226090395\n",
      "Average binding energy is:  -16.57575819291136\n",
      "83544972.00912203 83547257.5142127 -83.64241786604208\n",
      "Average binding energy is:  -16.310093872613002\n",
      "83544952.53117345 83547257.51422033 -86.84074150749684\n",
      "Average binding energy is:  -16.80410837399172\n",
      "83544975.39830671 83547257.51420507 -67.19545172638048\n",
      "Average binding energy is:  -16.779700353253496\n",
      "83544942.82120325 83547257.5142127 -87.19190796189963\n",
      "Average binding energy is:  -16.875008344614635\n",
      "83544986.92380841 83547257.51419744 -69.81468416650316\n",
      "Average binding energy is:  -17.060276781873554\n",
      "83544860.1539845 83547257.5142127 -83.76341331686989\n",
      "Average binding energy is:  -16.40848804878664\n",
      "83544886.71750689 83547257.5142127 -80.63012226645571\n",
      "Average binding energy is:  -16.24231619536\n",
      "83544850.53630331 83547257.51420507 -105.91293698471317\n",
      "Average binding energy is:  -16.3196096792344\n",
      "83544901.66783611 83547257.51422033 -84.93079105603383\n",
      "Average binding energy is:  -16.105784348626532\n",
      "83544928.68534178 83547257.51422033 -77.9802985419725\n",
      "Average binding energy is:  -16.310496956592385\n",
      "83544924.93420348 83547257.5142127 -93.93690169030982\n",
      "Average binding energy is:  -15.876901471856177\n",
      "83545040.15631126 83547257.5142127 -48.839816154714306\n",
      "Average binding energy is:  -16.810217715382606\n",
      "83544879.63240989 83547257.51420507 -56.46134186597397\n",
      "Average binding energy is:  -16.821887342875723\n",
      "83545118.9498669 83547257.5142127 -59.101175851416606\n",
      "Average binding energy is:  -16.90620463366276\n",
      "83544937.94592781 83547257.5142127 -78.1286639200036\n",
      "Average binding energy is:  -16.603256451585864\n",
      "83544841.03626643 83547257.51420507 -103.04528281426587\n",
      "Average binding energy is:  -16.407323800162207\n",
      "83544990.23464493 83547257.51420507 -74.00158206696905\n",
      "Average binding energy is:  -17.00215486873524\n",
      "83544998.31941873 83547257.5142127 -90.76089779136936\n",
      "Average binding energy is:  -16.062473305022397\n",
      "83545094.06931193 83547257.51420507 -65.61491930008545\n",
      "Average binding energy is:  -16.262247859197945\n",
      "83545020.56120977 83547257.51420507 -52.95294378792511\n",
      "Average binding energy is:  -16.930232957460216\n",
      "83544930.75154272 83547257.51422033 -100.8298162815959\n",
      "Average binding energy is:  -16.488391565395\n",
      "83545053.60757986 83547257.5142127 -63.342015267210165\n",
      "Average binding energy is:  -16.593524167235838\n",
      "83545056.97173533 83547257.5142127 -46.03860387308116\n",
      "Average binding energy is:  -17.0992370912399\n",
      "83544870.76019913 83547257.5142127 -85.51452578392784\n",
      "Average binding energy is:  -16.320847431093867\n",
      "83544972.39199965 83547257.5142127 -95.79467491398671\n",
      "Average binding energy is:  -16.217241023235083\n",
      "83544992.12550709 83547257.5142127 -64.27406269323457\n",
      "Average binding energy is:  -16.675110931196926\n",
      "83544980.46214727 83547257.51422033 -96.53670734045703\n",
      "Average binding energy is:  -16.51905580091674\n",
      "83545002.80296396 83547257.5142127 -65.76087877837966\n",
      "Average binding energy is:  -16.96860751908662\n",
      "83544825.45954543 83547257.5142127 -124.24076035127011\n",
      "Average binding energy is:  -16.36747451711314\n",
      "83544989.13721542 83547257.5142127 -74.54950528109977\n",
      "Average binding energy is:  -16.61990524239425\n",
      "83545022.09377496 83547257.5142127 -76.7946153613224\n",
      "Average binding energy is:  -16.73353350679827\n",
      "83544914.76903927 83547257.51422033 -85.98888720913021\n",
      "Average binding energy is:  -16.716713287738866\n",
      "83544905.719786 83547257.51420507 -81.98227548599516\n",
      "Average binding energy is:  -16.447914083906685\n",
      "83544928.4684349 83547257.51420507 -84.65860128510441\n",
      "Average binding energy is:  -16.625090139875557\n",
      "83544937.11020379 83547257.5142127 -74.74673108334909\n",
      "Average binding energy is:  -16.634498354271933\n",
      "83544961.50506884 83547257.51420507 -84.00604712883609\n",
      "Average binding energy is:  -16.757599159855435\n",
      "83545063.52898918 83547257.5142127 -72.59457729652914\n",
      "Average binding energy is:  -16.836433700161052\n",
      "83544945.04518412 83547257.5142127 -91.24431326898183\n",
      "Average binding energy is:  -16.827459964456263\n",
      "83545023.2321818 83547257.51420507 -82.78132155897504\n",
      "Average binding energy is:  -16.678300013232427\n",
      "83545042.8909391 83547257.5142127 -80.31022355625693\n",
      "Average binding energy is:  -16.54506240341016\n",
      "83544957.7623574 83547257.5142127 -54.31120864496247\n",
      "Average binding energy is:  -16.632893678917885\n",
      "83544988.76798646 83547257.5142127 -66.64605099835798\n",
      "Average binding energy is:  -17.070543994091985\n",
      "83544977.15971605 83547257.51420507 -83.30730501953138\n",
      "Average binding energy is:  -16.274423585140898\n",
      "83544938.3220786 83547257.51422033 -84.2698151020491\n",
      "Average binding energy is:  -16.554980197218992\n",
      "83544969.42828435 83547257.5142127 -87.3641962145386\n",
      "Average binding energy is:  -16.672134334364763\n",
      "83545024.59893645 83547257.5142127 -73.08266944769665\n",
      "Average binding energy is:  -16.742888424779736\n",
      "83545023.1836267 83547257.5142127 -58.95803961648025\n",
      "Average binding energy is:  -16.863353072750364\n",
      "83544997.6657563 83547257.51420507 -74.20976530784198\n",
      "Average binding energy is:  -16.942935530700897\n",
      "83545033.22816868 83547257.5142127 -71.3385905015801\n",
      "Average binding energy is:  -16.689515143526357\n",
      "83545019.93001059 83547257.5142127 -63.025812812050766\n",
      "Average binding energy is:  -16.473927191656944\n",
      "83545068.29494983 83547257.5142127 -55.15054218100717\n",
      "Average binding energy is:  -16.937053338786974\n",
      "83544979.71983081 83547257.51422033 -53.8251033103307\n",
      "Average binding energy is:  -16.848252168225642\n",
      "83545036.9449237 83547257.51422033 -59.9466121472724\n",
      "Average binding energy is:  -17.147799083182257\n",
      "83544923.34446032 83547257.51422033 -96.41939914577063\n",
      "Average binding energy is:  -16.57592859894752\n",
      "83544965.81803425 83547257.5142127 -93.61527452926619\n",
      "Average binding energy is:  -16.282080769791957\n",
      "83544935.39983642 83547257.5142127 -88.61596688561794\n",
      "Average binding energy is:  -16.920442495387224\n",
      "83544983.83178784 83547257.5142127 -74.72262938213372\n",
      "Average binding energy is:  -17.046199964930842\n",
      "83545056.42971084 83547257.5142127 -62.619938185013424\n",
      "Average binding energy is:  -16.577244679670642\n",
      "83544999.09875679 83547257.51422033 -59.68326863385308\n",
      "Average binding energy is:  -16.65706208259943\n",
      "83544994.25946265 83547257.5142127 -73.31718250523241\n",
      "Average binding energy is:  -16.97626021347226\n",
      "83545081.71982484 83547257.51420507 -52.376698060622346\n",
      "Average binding energy is:  -16.852521287079917\n",
      "83545007.63081919 83547257.51422033 -45.45345017804036\n",
      "Average binding energy is:  -17.088604271027368\n",
      "83545022.75614718 83547257.5142127 -59.153690153181934\n",
      "Average binding energy is:  -16.865150196655314\n",
      "83545036.4101297 83547257.5142127 -80.87192397665017\n",
      "Average binding energy is:  -16.21387999261336\n",
      "83544968.12949188 83547257.51422033 -83.05345226729396\n",
      "Average binding energy is:  -16.71463088014628\n",
      "83544970.59289087 83547257.51420507 -59.135238125875816\n",
      "Average binding energy is:  -16.877167242946385\n",
      "83545062.3008598 83547257.51422033 -60.797972852958324\n",
      "Average binding energy is:  -17.352970631546015\n",
      "83545028.33029614 83547257.5142127 -54.81430717855233\n",
      "Average binding energy is:  -16.855578367250406\n",
      "83545050.41743861 83547257.5142127 -57.45309804286664\n",
      "Average binding energy is:  -17.06066409558325\n",
      "83544965.40194808 83547257.51420507 -66.05373462946952\n",
      "Average binding energy is:  -16.864079714844042\n",
      "83544974.49999577 83547257.51420507 -68.82490685344754\n",
      "Average binding energy is:  -16.401402240346904\n",
      "83545006.14881237 83547257.51422796 -80.65125080560993\n",
      "Average binding energy is:  -16.444804278654633\n",
      "83544965.139164 83547257.51422033 -84.04571789188063\n",
      "Average binding energy is:  -16.729767715412947\n",
      "83545102.17672943 83547257.51420507 -66.98078734330701\n",
      "Average binding energy is:  -16.57425943094647\n",
      "83545028.17989098 83547257.51420507 -72.04712096884097\n",
      "Average binding energy is:  -16.723156535846147\n",
      "83545027.57445714 83547257.51422033 -80.1804273943246\n",
      "Average binding energy is:  -17.06158203011141\n",
      "83545007.8049946 83547257.5142127 -74.80740218964742\n",
      "Average binding energy is:  -16.47652890840959\n",
      "83544940.56272303 83547257.5142127 -73.32389970171651\n",
      "Average binding energy is:  -16.61946362940999\n",
      "83544951.63690755 83547257.5142127 -78.13990509549946\n",
      "Average binding energy is:  -16.87679848526161\n",
      "83545095.43593107 83547257.51422033 -54.205898016855784\n",
      "Average binding energy is:  -16.72914596221146\n",
      "83544966.24622753 83547257.5142127 -82.91046315363909\n",
      "Average binding energy is:  -16.3582038667517\n",
      "83544978.53154291 83547257.5142127 -90.80522341157746\n",
      "Average binding energy is:  -16.57710186647001\n",
      "83544951.81893562 83547257.51420507 -59.560538152785995\n",
      "Average binding energy is:  -16.638035046650067\n",
      "83544979.97379279 83547257.51420507 -63.23804196861648\n",
      "Average binding energy is:  -16.775017956881566\n",
      "83545035.20751108 83547257.5142127 -67.04604775466612\n",
      "Average binding energy is:  -17.10524328460942\n",
      "83544983.17558564 83547257.51422033 -76.23475045886286\n",
      "Average binding energy is:  -16.6523021532259\n",
      "83545098.33936058 83547257.51422033 -49.50899956169233\n",
      "Average binding energy is:  -16.743379842742844\n",
      "83545119.17001924 83547257.5142127 -40.42414721469963\n",
      "Average binding energy is:  -17.056260538567948\n",
      "83544990.73854044 83547257.5142127 -75.67237931198447\n",
      "Average binding energy is:  -16.599267370795168\n",
      "83545097.82906432 83547257.51420507 -60.913629101118815\n",
      "Average binding energy is:  -17.063183021485635\n",
      "83545085.90531069 83547257.51420507 -65.84761789349272\n",
      "Average binding energy is:  -17.120010377922394\n",
      "83544920.49074765 83547257.5142127 -103.23178709434048\n",
      "Average binding energy is:  -16.18689621708628\n",
      "83545025.09364375 83547257.5142127 -70.69092782392985\n",
      "Average binding energy is:  -17.15658445332614\n",
      "83545038.0340519 83547257.51422033 -86.24257357711157\n",
      "Average binding energy is:  -16.53672554151074\n",
      "83545157.47227037 83547257.5142127 -45.07364013569033\n",
      "Average binding energy is:  -17.12473585160437\n",
      "83545075.46602331 83547257.51422033 -60.063768839406286\n",
      "Average binding energy is:  -16.84114625537074\n",
      "83545039.2296355 83547257.5142127 -42.629792250779566\n",
      "Average binding energy is:  -16.865540968527878\n",
      "83544976.3862134 83547257.5142127 -81.27185389724703\n",
      "Average binding energy is:  -17.053148413903696\n",
      "83545079.60485339 83547257.51422796 -77.88101156547194\n",
      "Average binding energy is:  -17.07340132519849\n",
      "83545036.51319383 83547257.5142127 -73.59601214723915\n",
      "Average binding energy is:  -17.04289687872744\n",
      "83545044.16009772 83547257.51422033 -71.92065782612478\n",
      "Average binding energy is:  -16.60025941692074\n",
      "83545007.9992542 83547257.51420507 -90.82636916264327\n",
      "Average binding energy is:  -16.7340200132467\n",
      "83545049.70438126 83547257.51423559 -74.81287173705448\n",
      "Average binding energy is:  -16.53486033016727\n",
      "83545017.673584 83547257.51420507 -79.11544043687994\n",
      "Average binding energy is:  -17.14861254469995\n",
      "83545072.97263892 83547257.51420507 -78.45333816404475\n",
      "Average binding energy is:  -17.122668520198012\n",
      "83544998.00920011 83547257.51419744 -102.28299755654731\n",
      "Average binding energy is:  -16.722651161018423\n",
      "83544935.97746462 83547257.5142127 -108.30487613254806\n",
      "Average binding energy is:  -16.766908120824983\n",
      "83545023.4243985 83547257.51420507 -72.27770424771091\n",
      "Average binding energy is:  -16.758233351348\n",
      "83545022.71094525 83547257.5142127 -47.35886842912862\n",
      "Average binding energy is:  -16.95693332573653\n",
      "83544954.74677493 83547257.5142127 -52.95793851024773\n",
      "Average binding energy is:  -17.044011358035718\n",
      "83544965.31637353 83547257.5142127 -70.29401006913864\n",
      "Average binding energy is:  -16.832604765920877\n",
      "83545122.12047485 83547257.51422033 -58.89699655927321\n",
      "Average binding energy is:  -17.30413957435579\n",
      "83544975.67220555 83547257.5142127 -61.299873332068636\n",
      "Average binding energy is:  -17.21350491328075\n",
      "83545004.70148477 83547257.51420507 -77.32927237722149\n",
      "Average binding energy is:  -16.864212774585624\n",
      "83545032.8866575 83547257.51420507 -59.38542180553993\n",
      "Average binding energy is:  -16.784822680283586\n",
      "83545033.70219074 83547257.51419744 -66.1088063435534\n",
      "Average binding energy is:  -17.124628574234166\n",
      "83545078.73037152 83547257.5142127 -70.05146347202094\n",
      "Average binding energy is:  -17.144165672404878\n",
      "83545030.8787254 83547257.5142127 -59.66501495561799\n",
      "Average binding energy is:  -17.198178351964444\n",
      "83545090.21879871 83547257.5142127 -58.97477806399195\n",
      "Average binding energy is:  -17.140818178226475\n",
      "83544953.67658778 83547257.51420507 -97.90765323425948\n",
      "Average binding energy is:  -16.34022195599067\n",
      "83545081.66275299 83547257.5142127 -52.15435376825148\n",
      "Average binding energy is:  -17.265830129622266\n",
      "83545058.10478672 83547257.5142127 -78.33956825826378\n",
      "Average binding energy is:  -16.833887759647848\n",
      "83545146.56016153 83547257.5142127 -52.99259415709209\n",
      "Average binding energy is:  -17.149678808414006\n",
      "83545064.1636538 83547257.51422033 -56.769754065484946\n",
      "Average binding energy is:  -16.95699057504605\n",
      "83545062.54019591 83547257.51420507 -52.07912742445743\n",
      "Average binding energy is:  -17.007102235966425\n",
      "83545017.63536945 83547257.51420507 -59.86042778532214\n",
      "Average binding energy is:  -16.899367502582745\n",
      "83545024.15302676 83547257.51422033 -61.2284176540182\n",
      "Average binding energy is:  -17.239149015186477\n",
      "83544960.33206849 83547257.51422033 -68.55021314083533\n",
      "Average binding energy is:  -16.883575293168953\n",
      "83545055.44678727 83547257.5142127 -65.23750107827588\n",
      "Average binding energy is:  -17.372601010988173\n",
      "83545169.99014586 83547257.5142127 -62.01938130785556\n",
      "Average binding energy is:  -17.312005859211848\n",
      "83545179.87385178 83547257.5142127 -39.588655253966834\n",
      "Average binding energy is:  -17.41924534758679\n",
      "83545241.73380843 83547257.51420507 -56.56871007655321\n",
      "Average binding energy is:  -17.186067425997784\n",
      "83545037.54351275 83547257.5142127 -63.91720763436519\n",
      "Average binding energy is:  -17.528890181436484\n",
      "83545103.42468911 83547257.5142127 -69.17398301150229\n",
      "Average binding energy is:  -16.950532850180068\n",
      "83545078.55080254 83547257.5142127 -59.51115327761649\n",
      "Average binding energy is:  -16.821049657748958\n",
      "83545157.07425193 83547257.51422033 -49.48103484994909\n",
      "Average binding energy is:  -17.529563534549606\n",
      "83545153.32884423 83547257.5142127 -53.43392291884478\n",
      "Average binding energy is:  -17.52779013285942\n",
      "83545179.58180991 83547257.51420507 -65.30752139739488\n",
      "Average binding energy is:  -17.20192199797268\n",
      "83545190.70855488 83547257.51420507 -52.530020530994854\n",
      "Average binding energy is:  -17.21603102272243\n",
      "83545145.05194655 83547257.5142127 -53.683949921537284\n",
      "Average binding energy is:  -17.156485968546665\n",
      "83545133.0882784 83547257.5142127 -44.948015139405975\n",
      "Average binding energy is:  -17.32898265967017\n",
      "83545107.00781824 83547257.51419744 -49.594037609208414\n",
      "Average binding energy is:  -17.507602846606666\n",
      "83545197.10379578 83547257.51420507 -44.22298533056603\n",
      "Average binding energy is:  -17.232371144923523\n",
      "83545256.32169586 83547257.51420507 -57.294976146464975\n",
      "Average binding energy is:  -17.512590387907064\n",
      "83545114.20384695 83547257.5142127 -64.53015608982128\n",
      "Average binding energy is:  -16.90065211106963\n",
      "83545264.14473052 83547257.5142127 -63.72970932296747\n",
      "Average binding energy is:  -16.92666467413639\n",
      "83545082.09166837 83547257.5142127 -93.34466961758984\n",
      "Average binding energy is:  -16.524427577085465\n",
      "83545147.78074224 83547257.5142127 -79.67544080262464\n",
      "Average binding energy is:  -16.91715024710156\n",
      "83545084.2101024 83547257.51420507 -57.03552128232858\n",
      "Average binding energy is:  -17.205435621071526\n",
      "83545063.39644237 83547257.51420507 -67.41337811511723\n",
      "Average binding energy is:  -16.87860622686195\n",
      "83545166.01042008 83547257.5142127 -57.143638702034266\n",
      "Average binding energy is:  -16.953001282597587\n",
      "83545105.65000609 83547257.5142127 -48.41960901124848\n",
      "Average binding energy is:  -17.101175590250907\n",
      "83545097.7726539 83547257.5142127 -80.12647105614535\n",
      "Average binding energy is:  -16.50488164880129\n",
      "83545108.61668764 83547257.51422033 -40.93551288686747\n",
      "Average binding energy is:  -17.137902599997755\n",
      "83545187.09420756 83547257.51420507 -40.40638439976008\n",
      "Average binding energy is:  -17.350543701825078\n",
      "83545125.7377361 83547257.51419744 -55.271831002530845\n",
      "Average binding energy is:  -17.304205252754215\n",
      "83545091.6200626 83547257.5142127 -56.77287238633794\n",
      "Average binding energy is:  -16.73905775957825\n",
      "83545205.73598544 83547257.51422033 -51.04719564678352\n",
      "Average binding energy is:  -17.100265292627004\n",
      "83545154.6670911 83547257.51420507 -41.85983925962924\n",
      "Average binding energy is:  -16.755994103311487\n",
      "83545043.60214266 83547257.51420507 -62.23587988558018\n",
      "Average binding energy is:  -16.679660329619843\n",
      "83545178.15094359 83547257.51420507 -78.22990125833326\n",
      "Average binding energy is:  -17.10370393348569\n",
      "83545057.70107435 83547257.51419744 -62.70191534962815\n",
      "Average binding energy is:  -16.961200061447837\n",
      "83545180.74377617 83547257.51420507 -50.52744035299216\n",
      "Average binding energy is:  -17.318316141392803\n",
      "83545119.1217167 83547257.51420507 -32.79078050342339\n",
      "Average binding energy is:  -17.546680898932358\n",
      "83545190.24262139 83547257.51420507 -47.387998387457856\n",
      "Average binding energy is:  -17.26396226742633\n",
      "83545217.5605849 83547257.5142127 -49.68354805495644\n",
      "Average binding energy is:  -17.458509471403726\n",
      "83545117.87926218 83547257.5142127 -55.698408497048405\n",
      "Average binding energy is:  -17.366137850179662\n",
      "83545149.68951878 83547257.51420507 -56.51742511633002\n",
      "Average binding energy is:  -17.09422717643753\n",
      "83545092.13547018 83547257.51420507 -79.32161125847898\n",
      "Average binding energy is:  -16.959814013237132\n",
      "83545133.41386335 83547257.5142127 -55.87487128071843\n",
      "Average binding energy is:  -17.677140838214065\n",
      "83545140.42173165 83547257.51420507 -47.61447509677994\n",
      "Average binding energy is:  -17.24564998600617\n",
      "83545165.04718289 83547257.5142127 -41.50276915643739\n",
      "Average binding energy is:  -17.529609065414654\n",
      "83545122.3292771 83547257.5142127 -60.65936710004877\n",
      "Average binding energy is:  -16.866061532516397\n",
      "83545136.61185737 83547257.51420507 -55.76681044154031\n",
      "Average binding energy is:  -17.20946281047723\n",
      "83545184.75262503 83547257.5142127 -52.83007584814666\n",
      "Average binding energy is:  -17.26437189586614\n",
      "83545124.91174848 83547257.51420507 -72.56963205595454\n",
      "Average binding energy is:  -17.16694020440515\n",
      "83545041.94239396 83547257.5142127 -59.71100022761389\n",
      "Average binding energy is:  -16.71209936830668\n",
      "83545295.75721338 83547257.51420507 -39.77568393525371\n",
      "Average binding energy is:  -17.31514691665931\n",
      "83545163.54301879 83547257.5142127 -50.01974189939283\n",
      "Average binding energy is:  -17.469670530002155\n",
      "83545306.76290768 83547257.51420507 -28.978133886411186\n",
      "Average binding energy is:  -17.313271743226032\n",
      "83545252.52435796 83547257.51420507 -81.06058732609903\n",
      "Average binding energy is:  -16.876572454233532\n",
      "83545432.83254668 83547257.51419744 -39.68275447219519\n",
      "Average binding energy is:  -17.499989179270532\n",
      "83545189.44433495 83547257.5142127 -48.65992580450366\n",
      "Average binding energy is:  -17.25991411913861\n",
      "83545368.65623756 83547257.5142127 -37.67591209981407\n",
      "Average binding energy is:  -17.14057465778148\n",
      "83545288.00633915 83547257.5142127 -36.70966841118163\n",
      "Average binding energy is:  -17.896279677211812\n",
      "83545380.07530545 83547257.5142127 -31.869043196432138\n",
      "Average binding energy is:  -18.093822196611075\n",
      "83545215.71076733 83547257.51420507 -37.12755478610971\n",
      "Average binding energy is:  -17.58487616625878\n",
      "83545309.91287301 83547257.5142127 -42.91931961787883\n",
      "Average binding energy is:  -17.635944630232018\n",
      "83545263.98309918 83547257.51422033 -61.67854108183451\n",
      "Average binding energy is:  -17.40407729790833\n",
      "83545261.63370113 83547257.51422033 -58.36177008890535\n",
      "Average binding energy is:  -17.455123865833205\n",
      "83545309.44178379 83547257.5142127 -34.864459474832394\n",
      "Average binding energy is:  -17.236107832766596\n",
      "83545299.08147393 83547257.51420507 -41.06442260012089\n",
      "Average binding energy is:  -17.753410264227394\n",
      "83545288.92522852 83547257.5142127 -37.34194158917893\n",
      "Average binding energy is:  -17.39862200529133\n",
      "83545214.86878416 83547257.5142127 -46.43651462028643\n",
      "Average binding energy is:  -17.510604508052946\n",
      "83545289.585991 83547257.5142127 -33.87237012291543\n",
      "Average binding energy is:  -17.90792455166352\n",
      "83545252.92003393 83547257.51420507 -41.032706848305715\n",
      "Average binding energy is:  -17.224223370950106\n",
      "83545312.97762328 83547257.51420507 -51.74718967542492\n",
      "Average binding energy is:  -17.525827704713535\n",
      "83545315.66091777 83547257.51422033 -39.45470793261677\n",
      "Average binding energy is:  -17.614801802043328\n",
      "83545284.82839052 83547257.51422033 -16.093108810922505\n",
      "Average binding energy is:  -17.626961450382208\n",
      "83545247.64733876 83547257.5142127 -34.077084486339054\n",
      "Average binding energy is:  -17.799908013049784\n",
      "83545194.08058485 83547257.5142127 -46.96827411022593\n",
      "Average binding energy is:  -17.6882925766108\n",
      "83545281.44249724 83547257.51422033 -53.72768016642973\n",
      "Average binding energy is:  -17.318414801100833\n",
      "83545364.4352354 83547257.51422033 -41.10640937500597\n",
      "Average binding energy is:  -17.637834052915288\n",
      "83545256.5600225 83547257.51422033 -55.43641662098056\n",
      "Average binding energy is:  -17.52718721804523\n",
      "83545091.59317055 83547257.5142127 -51.610281164233676\n",
      "Average binding energy is:  -17.189518381951746\n",
      "83545193.90437095 83547257.5142127 -45.59661904877602\n",
      "Average binding energy is:  -17.701870374564\n",
      "83545241.71960711 83547257.51422033 -25.094373504497078\n",
      "Average binding energy is:  -17.462282804454823\n",
      "83545243.04370776 83547257.5142127 -49.282323889927056\n",
      "Average binding energy is:  -17.704398027474134\n",
      "83545261.92539085 83547257.5142127 -48.621918191257755\n",
      "Average binding energy is:  -17.540242375243324\n",
      "83545384.32788254 83547257.51420507 -41.847280083207444\n",
      "Average binding energy is:  -17.441324213732727\n",
      "83545285.79227602 83547257.5142127 -12.932937766762805\n",
      "Average binding energy is:  -17.646747737893364\n",
      "83545349.48944737 83547257.5142127 -41.423915106797295\n",
      "Average binding energy is:  -17.777150954483577\n",
      "83545258.32459848 83547257.5142127 -33.73509214583331\n",
      "Average binding energy is:  -17.706797496176762\n",
      "83545273.83870503 83547257.51422033 -35.50656747800395\n",
      "Average binding energy is:  -18.038601368667326\n",
      "83545401.90871784 83547257.5142127 -31.81778919824938\n",
      "Average binding energy is:  -17.880271624103774\n",
      "83545339.07102035 83547257.5142127 -42.1078859281105\n",
      "Average binding energy is:  -17.869860061140702\n",
      "83545247.8851971 83547257.5142127 -45.300850684523446\n",
      "Average binding energy is:  -17.696650134326102\n",
      "83545248.58354673 83547257.5142127 -54.85204751048039\n",
      "Average binding energy is:  -17.604311878012325\n",
      "83545260.60434474 83547257.51422033 -48.640882442430836\n",
      "Average binding energy is:  -17.551972911208992\n",
      "83545240.94195947 83547257.5142127 -46.055009956029934\n",
      "Average binding energy is:  -16.842027720266703\n",
      "83545325.34205668 83547257.51420507 -32.77340202911387\n",
      "Average binding energy is:  -17.111700417680094\n",
      "83545142.70649548 83547257.5142127 -51.31322028568792\n",
      "Average binding energy is:  -17.195787474444227\n",
      "83545282.69659439 83547257.5142127 -44.80212681426684\n",
      "Average binding energy is:  -17.387526950416078\n",
      "83545238.27348213 83547257.51420507 -38.885091820359975\n",
      "Average binding energy is:  -17.371540623850983\n",
      "83545262.1995729 83547257.51420507 -23.878721346595814\n",
      "Average binding energy is:  -17.76068388122393\n",
      "83545249.28618439 83547257.5142127 -41.17560309232633\n",
      "Average binding energy is:  -17.25484583526315\n",
      "83545198.17108239 83547257.5142127 -72.73153978902783\n",
      "Average binding energy is:  -17.426417460670013\n",
      "83545012.58769326 83547257.5142127 -80.1451576114195\n",
      "Average binding energy is:  -16.781250866877556\n",
      "83545075.67859043 83547257.5142127 -65.52946818247611\n",
      "Average binding energy is:  -17.20574109010942\n",
      "83544991.37656051 83547257.51419744 -72.617527501746\n",
      "Average binding energy is:  -17.004031856031045\n",
      "83545078.04352537 83547257.5142127 -63.29961179795578\n",
      "Average binding energy is:  -16.795008535966776\n",
      "83545052.03650206 83547257.51419744 -71.29595178994066\n",
      "Average binding energy is:  -17.351071086062927\n",
      "83545017.66653559 83547257.5142127 -84.76819741807245\n",
      "Average binding energy is:  -17.10380539439328\n",
      "83545038.97419722 83547257.51422796 -52.25107623354413\n",
      "Average binding energy is:  -16.792937631776795\n",
      "83545089.39773208 83547257.5142127 -72.49060097099283\n",
      "Average binding energy is:  -16.631951425775572\n",
      "83545046.01508091 83547257.51422033 -69.51277589191217\n",
      "Average binding energy is:  -16.227169420616104\n",
      "83544982.31962965 83547257.51422796 -89.66543852113772\n",
      "Average binding energy is:  -16.557039089250814\n",
      "83544887.54112667 83547257.5142127 -111.08544936324672\n",
      "Average binding energy is:  -16.368750990333655\n",
      "83545217.64242838 83547257.5142127 -47.238225431913854\n",
      "Average binding energy is:  -17.479241744584204\n",
      "83544951.6705147 83547257.5142127 -74.95966652365345\n",
      "Average binding energy is:  -16.52506689978736\n",
      "83545200.6461767 83547257.51422033 -33.09068855332534\n",
      "Average binding energy is:  -17.29724235109393\n",
      "83544974.21586943 83547257.51422033 -66.65152045635966\n",
      "Average binding energy is:  -16.792779018515546\n",
      "83545063.72112271 83547257.5142127 -87.42296027687927\n",
      "Average binding energy is:  -16.717223251658478\n",
      "83544924.54829806 83547257.5142127 -90.4839452789455\n",
      "Average binding energy is:  -16.610977550799294\n",
      "83545102.14291006 83547257.51422033 -73.07889089599894\n",
      "Average binding energy is:  -16.52613031244344\n",
      "83544938.18892196 83547257.5142127 -77.23117093977197\n",
      "Average binding energy is:  -16.608104591109367\n",
      "83545049.60780782 83547257.51420507 -86.13720274741893\n",
      "Average binding energy is:  -16.44782321322369\n",
      "83545124.19755282 83547257.51420507 -64.06565320718626\n",
      "Average binding energy is:  -16.422626976556224\n",
      "83544977.95536877 83547257.5142127 -91.93081648859258\n",
      "Average binding energy is:  -16.572939601795476\n",
      "83545094.81489955 83547257.5142127 -56.00597552942344\n",
      "Average binding energy is:  -16.719788393805022\n",
      "83545054.10218461 83547257.5142127 -84.99865722896232\n",
      "Average binding energy is:  -16.421809076435686\n",
      "83544993.8319407 83547257.51420507 -85.05471758791158\n",
      "Average binding energy is:  -16.504754142309054\n",
      "83544948.63074227 83547257.51419744 -97.86516774779157\n",
      "Average binding energy is:  -16.75013854109386\n",
      "83545097.42176877 83547257.51420507 -65.76793210477815\n",
      "Average binding energy is:  -17.027028489381706\n",
      "83545088.6603833 83547257.5142127 -72.13668083273772\n",
      "Average binding energy is:  -17.046480882650517\n",
      "83545156.2851099 83547257.5142127 -68.42062777632397\n",
      "Average binding energy is:  -16.94007062511693\n",
      "83545150.04489051 83547257.51422033 -63.5129896452118\n",
      "Average binding energy is:  -16.617531220925784\n",
      "83545068.033029 83547257.51422033 -59.58180721721789\n",
      "Average binding energy is:  -17.31625515532512\n",
      "83544945.84382257 83547257.51420507 -85.5360248570722\n",
      "Average binding energy is:  -16.489884130686093\n",
      "83545179.83702739 83547257.5142127 -43.90925218933837\n",
      "Average binding energy is:  -16.948066109354794\n",
      "83545077.05693434 83547257.5142127 -62.89104615012474\n",
      "Average binding energy is:  -17.215985627689687\n",
      "83545047.76144917 83547257.5142127 -74.05187581586537\n",
      "Average binding energy is:  -16.55582083495183\n",
      "83544929.38457432 83547257.51420507 -89.18406713036494\n",
      "Average binding energy is:  -16.584781952696982\n",
      "83544888.76232223 83547257.5142127 -105.61907820312076\n",
      "Average binding energy is:  -16.39951313233693\n",
      "83545014.9997392 83547257.5142127 -50.12394843379541\n",
      "Average binding energy is:  -16.995275388093585\n",
      "83545120.5612846 83547257.51420507 -49.769730243576326\n",
      "Average binding energy is:  -16.968969026203943\n",
      "83544999.30691016 83547257.51420507 -79.31256624086639\n",
      "Average binding energy is:  -16.50677824750212\n",
      "83545044.34061302 83547257.5142127 -50.52071816026904\n",
      "Average binding energy is:  -16.764751019496344\n",
      "83545022.81953968 83547257.51422033 -67.7535037416464\n",
      "Average binding energy is:  -16.797993619414072\n",
      "83545016.58613385 83547257.51420507 -73.09996933652758\n",
      "Average binding energy is:  -16.804869006815668\n",
      "83545087.95578724 83547257.5142127 -64.56978038092542\n",
      "Average binding energy is:  -17.113728821750897\n",
      "83545072.85443509 83547257.51422033 -54.07110804169356\n",
      "Average binding energy is:  -16.909433946025356\n",
      "83545123.82974881 83547257.5142127 -61.698083551843894\n",
      "Average binding energy is:  -16.84541772631352\n",
      "83545237.12472418 83547257.51422033 -71.14309577379497\n",
      "Average binding energy is:  -16.660225644220834\n",
      "83545078.48917958 83547257.51420507 -57.865753538533916\n",
      "Average binding energy is:  -16.83459739641597\n",
      "83544998.66992888 83547257.5142127 -83.95134734189924\n",
      "Average binding energy is:  -16.859635166490694\n",
      "83544958.71030653 83547257.51422033 -74.36319659127876\n",
      "Average binding energy is:  -16.851823615232043\n",
      "83545001.39517744 83547257.51422033 -91.59704280924953\n",
      "Average binding energy is:  -16.397893939992684\n",
      "83544993.06130643 83547257.51422033 -71.57114482348346\n",
      "Average binding energy is:  -16.99908348117648\n",
      "83544926.79023744 83547257.5142127 -74.93730445105\n",
      "Average binding energy is:  -16.709530894852115\n",
      "83544875.90966691 83547257.5142127 -98.77226252204021\n",
      "Average binding energy is:  -16.542262922209684\n",
      "83544859.22736198 83547257.5142127 -124.19428469734478\n",
      "Average binding energy is:  -16.478931637849996\n",
      "83545006.99964564 83547257.5142127 -68.74317902641523\n",
      "Average binding energy is:  -16.912956496401886\n",
      "83544909.69650416 83547257.5142127 -99.21545050510612\n",
      "Average binding energy is:  -16.294219261100555\n",
      "83544973.64399302 83547257.5142127 -67.65797993721073\n",
      "Average binding energy is:  -16.789486664700576\n",
      "83545066.66765381 83547257.51420507 -55.14032019238089\n",
      "Average binding energy is:  -16.950049452873102\n",
      "83544956.46361926 83547257.5142127 -65.71287713067451\n",
      "Average binding energy is:  -16.934376638674923\n",
      "83544897.55209182 83547257.5142127 -77.46330366172123\n",
      "Average binding energy is:  -16.907398646029595\n",
      "83545068.47503594 83547257.51420507 -60.20049361389374\n",
      "Average binding energy is:  -16.502625391618725\n",
      "83544980.03115886 83547257.51422033 -63.912365167506024\n",
      "Average binding energy is:  -16.396819972556553\n",
      "83544971.56087366 83547257.5142127 -96.57572562083392\n",
      "Average binding energy is:  -16.21761195125515\n",
      "83544973.3896199 83547257.5142127 -71.69930155973469\n",
      "Average binding energy is:  -16.760797660880556\n",
      "83545057.401832 83547257.51420507 -49.15906881097799\n",
      "Average binding energy is:  -17.071057970301194\n",
      "83545018.16116832 83547257.5142127 -66.88228607509556\n",
      "Average binding energy is:  -16.840858591478153\n",
      "83545093.81137839 83547257.51420507 -50.44686405051992\n",
      "Average binding energy is:  -16.77187271927169\n",
      "83544925.23506536 83547257.51422033 -59.3276592006218\n",
      "Average binding energy is:  -16.836677746449038\n",
      "83544946.60212678 83547257.5142127 -83.43308438709755\n",
      "Average binding energy is:  -16.499844455803515\n",
      "83544921.6855698 83547257.51422033 -87.76360946056523\n",
      "Average binding energy is:  -16.65233363758213\n",
      "83544973.20696606 83547257.51420507 -43.75677271556502\n",
      "Average binding energy is:  -16.97386716890428\n",
      "83544952.43763341 83547257.51422033 -78.69470281719653\n",
      "Average binding energy is:  -16.866529424998834\n",
      "83545020.51866806 83547257.51420507 -64.86397345885561\n",
      "Average binding energy is:  -16.838229174836897\n",
      "83545080.73157232 83547257.5142127 -46.06847682961368\n",
      "Average binding energy is:  -16.910429869468523\n",
      "83544978.12809785 83547257.5142127 -50.29080413541287\n",
      "Average binding energy is:  -16.88708568723657\n",
      "83544883.11508977 83547257.51420507 -78.72746224177081\n",
      "Average binding energy is:  -16.281359241506717\n",
      "83545007.28345558 83547257.51422033 -98.18113839813326\n",
      "Average binding energy is:  -16.303406260216157\n",
      "83544922.69845805 83547257.5142127 -80.45037626007705\n",
      "Average binding energy is:  -16.33598100284019\n",
      "83544864.59569389 83547257.5142127 -94.06156840676502\n",
      "Average binding energy is:  -16.658383698584775\n",
      "83544986.28383657 83547257.51419744 -73.46038712151605\n",
      "Average binding energy is:  -16.64977252836422\n",
      "83544927.04333669 83547257.5142127 -92.35054685499438\n",
      "Average binding energy is:  -15.873193823782113\n",
      "83544958.14672099 83547257.5142127 -78.17565105250176\n",
      "Average binding energy is:  -16.827210914050788\n",
      "83544900.02825734 83547257.5142127 -95.63070845417785\n",
      "Average binding energy is:  -16.39025541234329\n",
      "83545011.56980263 83547257.5142127 -65.05015853936004\n",
      "Average binding energy is:  -16.906156988615635\n",
      "83545080.28686778 83547257.5142127 -79.59839264582227\n",
      "Average binding energy is:  -16.647848827535306\n",
      "83545067.24426413 83547257.51422033 -68.50281509546325\n",
      "Average binding energy is:  -16.83942175480835\n",
      "83544902.11774664 83547257.51422033 -83.1876111333809\n",
      "Average binding energy is:  -16.46528161273541\n",
      "83544936.62589885 83547257.51422796 -86.98708231911193\n",
      "Average binding energy is:  -16.54741664284798\n",
      "83544906.36097327 83547257.51420507 -84.10311835495851\n",
      "Average binding energy is:  -16.427899372787277\n",
      "83545103.88156326 83547257.5142127 -43.79849000971868\n",
      "Average binding energy is:  -16.74471555100694\n",
      "83544986.13528135 83547257.5142127 -103.46352964512978\n",
      "Average binding energy is:  -16.058632605173525\n",
      "83544968.93656254 83547257.51420507 -80.3978073362752\n",
      "Average binding energy is:  -16.728635115105515\n",
      "83544970.26775065 83547257.5142127 -77.73740309282778\n",
      "Average binding energy is:  -16.366733770031647\n",
      "83544900.63013092 83547257.51422033 -100.84543507756067\n",
      "Average binding energy is:  -16.34810619081699\n",
      "83544840.19353591 83547257.51420507 -85.16385946345655\n",
      "Average binding energy is:  -16.54011921770097\n",
      "83544958.97736223 83547257.51422033 -74.86910678521919\n",
      "Average binding energy is:  -16.845967812965906\n",
      "83545002.98831753 83547257.5142127 -53.45940247821662\n",
      "Average binding energy is:  -16.67474615670606\n",
      "83545186.16539818 83547257.51422033 -62.640039863073326\n",
      "Average binding energy is:  -17.168451130628895\n",
      "83545271.40637161 83547257.5142127 -43.13544114372748\n",
      "Average binding energy is:  -17.990485184681855\n",
      "83545243.38504326 83547257.5142127 -56.97139689802724\n",
      "Average binding energy is:  -17.63205200483137\n",
      "83545313.05602337 83547257.5142127 -32.97705131901825\n",
      "Average binding energy is:  -17.698899425967834\n",
      "83545224.53923985 83547257.5142127 -49.21936980194485\n",
      "Average binding energy is:  -17.401364938966484\n",
      "83545253.39556634 83547257.51420507 -27.053328489841334\n",
      "Average binding energy is:  -17.811399191299525\n",
      "83545283.83239843 83547257.51420507 -37.75018293237645\n",
      "Average binding energy is:  -17.925292812096856\n",
      "83545302.11454093 83547257.51422033 -39.487464428129016\n",
      "Average binding energy is:  -17.260470405085112\n",
      "83545237.8227703 83547257.5142127 -52.758698482193424\n",
      "Average binding energy is:  -17.253795999280907\n",
      "83545269.19002065 83547257.51420507 -38.09463405278115\n",
      "Average binding energy is:  -17.569635588873364\n",
      "83545213.93615201 83547257.5142127 -70.93166379809749\n",
      "Average binding energy is:  -17.30391576217974\n",
      "83545297.21224317 83547257.51420507 -45.961720460588\n",
      "Average binding energy is:  -17.725372605909406\n",
      "83545352.41055308 83547257.5142127 -41.81333991972083\n",
      "Average binding energy is:  -17.745622092335235\n",
      "83545289.21907127 83547257.51422796 -59.277260573974225\n",
      "Average binding energy is:  -17.19835942444616\n",
      "83545083.3687929 83547257.51422033 -73.65287448314434\n",
      "Average binding energy is:  -17.077175227134887\n",
      "83545255.44824274 83547257.51422033 -39.529285156505395\n",
      "Average binding energy is:  -17.680510742628744\n",
      "83545225.35217845 83547257.5142127 -70.2087527072174\n",
      "Average binding energy is:  -17.210116504702874\n",
      "83545319.48891081 83547257.5142127 -25.19766529583056\n",
      "Average binding energy is:  -17.71136700548847\n",
      "83545385.42828514 83547257.51422033 -15.55955689526912\n",
      "Average binding energy is:  -17.681203602810008\n",
      "83545311.06883684 83547257.51422033 -34.90757793262405\n",
      "Average binding energy is:  -17.699424125523223\n",
      "83545243.24499412 83547257.5142127 -51.64248599564654\n",
      "Average binding energy is:  -17.216023970028843\n",
      "83545103.45609978 83547257.5142127 -44.753754257079784\n",
      "Average binding energy is:  -17.14881592408334\n",
      "83545237.31889944 83547257.5142127 -44.3187430267367\n",
      "Average binding energy is:  -17.800689821920923\n",
      "83545193.5140587 83547257.51420507 -42.43649814494991\n",
      "Average binding energy is:  -17.733014458150496\n",
      "83545305.1179053 83547257.5142127 -29.708554149793247\n",
      "Average binding energy is:  -17.321511290487525\n",
      "83545212.74505533 83547257.5142127 -62.22010945347595\n",
      "Average binding energy is:  -17.3907811220306\n",
      "83545358.46207777 83547257.51420507 -26.83252039910342\n",
      "Average binding energy is:  -17.335366730579533\n",
      "83545227.10133034 83547257.51422796 -38.08983471431407\n",
      "Average binding energy is:  -17.94885642254334\n",
      "83545352.20777716 83547257.5142127 -51.34297749235216\n",
      "Average binding energy is:  -17.166328315258948\n",
      "83545264.84208001 83547257.5142127 -43.928908415265994\n",
      "Average binding energy is:  -17.55624526369833\n",
      "83545240.41411714 83547257.5142127 -40.40708546480428\n",
      "Average binding energy is:  -17.808045135949385\n",
      "83545150.1203706 83547257.5142127 -42.49556266372226\n",
      "Average binding energy is:  -17.648703243054484\n",
      "83545088.844626 83547257.51419744 -69.02580259254353\n",
      "Average binding energy is:  -17.49703140709874\n",
      "83545329.98841056 83547257.5142127 -43.54822708078902\n",
      "Average binding energy is:  -17.444236806061838\n",
      "83545160.12068598 83547257.51420507 -64.19216934946027\n",
      "Average binding energy is:  -17.377789314009963\n",
      "83545159.85363689 83547257.5142127 -59.68744331315731\n",
      "Average binding energy is:  -17.418573781999463\n",
      "83545237.5827279 83547257.51420507 -51.52358091269703\n",
      "Average binding energy is:  -17.26673593211812\n",
      "83545284.14437096 83547257.5142127 -28.077960066950876\n",
      "Average binding energy is:  -18.011961867338744\n",
      "83545211.35218458 83547257.51420507 -52.15511651652501\n",
      "Average binding energy is:  -17.49128863134253\n",
      "83545323.98713353 83547257.5142127 -51.52597636256675\n",
      "Average binding energy is:  -17.4259361370594\n",
      "83545150.05962214 83547257.5142127 -46.179371064101\n",
      "Average binding energy is:  -17.177293495790874\n",
      "83545279.00632295 83547257.51422033 -54.474116577016446\n",
      "Average binding energy is:  -17.81512759999998\n",
      "83545255.33748303 83547257.5142127 -51.53773365753215\n",
      "Average binding energy is:  -17.57332428834842\n",
      "83545205.10495967 83547257.5142127 -57.874224756768506\n",
      "Average binding energy is:  -17.04730793396792\n",
      "83545211.62603103 83547257.5142127 -38.84748813738538\n",
      "Average binding energy is:  -17.605620118720307\n",
      "83545194.13107996 83547257.5142127 -39.43888048945564\n",
      "Average binding energy is:  -17.75389694957368\n",
      "83545128.37830624 83547257.51420507 -46.39336847407445\n",
      "Average binding energy is:  -17.3561877529536\n",
      "83545323.98859541 83547257.5142127 -49.243699471813265\n",
      "Average binding energy is:  -17.447054794581017\n",
      "83545163.03249708 83547257.5142127 -42.47699915710857\n",
      "Average binding energy is:  -17.53850185010646\n",
      "83545276.86354844 83547257.5142127 -37.34054414339252\n",
      "Average binding energy is:  -17.50729837938406\n",
      "83545145.25029719 83547257.51422033 -63.674219630250036\n",
      "Average binding energy is:  -17.07158086256775\n",
      "83545219.57474296 83547257.5142127 -30.033321743658405\n",
      "Average binding energy is:  -17.161591008513984\n",
      "83545142.7464099 83547257.51422033 -30.433326163263036\n",
      "Average binding energy is:  -17.36945403559033\n",
      "83545126.17478211 83547257.51420507 -53.378638068493\n",
      "Average binding energy is:  -17.31633987406347\n",
      "83545301.53353147 83547257.51420507 -26.43744317985249\n",
      "Average binding energy is:  -17.38327234609379\n",
      "83545127.76100473 83547257.5142127 -57.46555630631899\n",
      "Average binding energy is:  -17.26906376383639\n",
      "83545197.2278644 83547257.51420507 -61.5446049747139\n",
      "Average binding energy is:  -17.532822242930557\n",
      "83545245.16414692 83547257.5142127 -44.94681627710234\n",
      "Average binding energy is:  -17.724353599149225\n",
      "83545096.49836585 83547257.5142127 -47.06777250473486\n",
      "Average binding energy is:  -17.616233952864608\n",
      "83545225.70780538 83547257.51420507 -43.828791741946574\n",
      "Average binding energy is:  -16.99126160637759\n",
      "83545161.55361733 83547257.5142127 -45.655856364605754\n",
      "Average binding energy is:  -17.523972128245582\n",
      "83545144.00083359 83547257.5142127 -65.53300179454865\n",
      "Average binding energy is:  -17.066503144311145\n",
      "83545145.712493 83547257.51420507 -43.946606355889614\n",
      "Average binding energy is:  -17.232125880917046\n",
      "83545177.28781258 83547257.51422033 -78.73228597018814\n",
      "Average binding energy is:  -16.67911768151044\n",
      "83545267.13614665 83547257.5142127 -64.08389947415965\n",
      "Average binding energy is:  -16.89731725064795\n",
      "83545176.50508904 83547257.51419744 -49.05824738969821\n",
      "Average binding energy is:  -17.36710137610843\n",
      "83545271.5636252 83547257.5142127 -45.80651925363979\n",
      "Average binding energy is:  -17.478775389572267\n",
      "83545245.36201183 83547257.51422033 -31.579620578817007\n",
      "Average binding energy is:  -17.373443753625814\n",
      "83545199.91586171 83547257.5142127 -64.7219245188752\n",
      "Average binding energy is:  -17.03313185015353\n",
      "83545168.54027234 83547257.51420507 -42.78453750129733\n",
      "Average binding energy is:  -17.051578293557284\n",
      "83545085.93937537 83547257.5142127 -76.90208929822842\n",
      "Average binding energy is:  -17.455606233573125\n",
      "83545140.08946604 83547257.5142127 -40.40405639039965\n",
      "Average binding energy is:  -17.752313592068194\n",
      "83545203.07278219 83547257.51422796 -53.45576291678604\n",
      "Average binding energy is:  -17.552505989921872\n",
      "83545198.92477289 83547257.51420507 -66.776580448331\n",
      "Average binding energy is:  -17.024041467791424\n",
      "83545233.07286717 83547257.5142127 -43.14344078445164\n",
      "Average binding energy is:  -16.934170126011253\n",
      "83545363.33405115 83547257.51420507 -34.36496092060848\n",
      "Average binding energy is:  -17.712525647625124\n",
      "83545119.5381274 83547257.51420507 -51.965869712440714\n",
      "Average binding energy is:  -17.383418399570647\n",
      "83545232.09707265 83547257.5142127 -60.820980345812\n",
      "Average binding energy is:  -17.233299646543074\n",
      "83545295.86176376 83547257.5142127 -25.315532135708708\n",
      "Average binding energy is:  -17.92904552594063\n",
      "83545165.93831454 83547257.51420507 -57.74719690828982\n",
      "Average binding energy is:  -16.948572446815714\n",
      "83545169.01242156 83547257.5142127 -41.493380666966395\n",
      "Average binding energy is:  -17.49579838006419\n",
      "83545180.09677143 83547257.51420507 -47.53808629589575\n",
      "Average binding energy is:  -17.34939613109833\n",
      "83545151.12984446 83547257.5142127 -62.59098491350634\n",
      "Average binding energy is:  -17.468319515618177\n",
      "83545197.83146419 83547257.5142127 -45.76244027779985\n",
      "Average binding energy is:  -17.665967616084504\n",
      "83545225.91593826 83547257.5142127 -44.12323316922993\n",
      "Average binding energy is:  -17.43399159009073\n",
      "83545116.0261955 83547257.5142127 -75.68492317022177\n",
      "Average binding energy is:  -17.21502578359335\n",
      "83545225.54037526 83547257.51420507 -49.080388603602756\n",
      "Average binding energy is:  -17.393802115809194\n",
      "83545200.36356947 83547257.51422796 -48.587855200295564\n",
      "Average binding energy is:  -17.167203446905795\n",
      "83545176.45981595 83547257.51419744 -46.213489103348806\n",
      "Average binding energy is:  -17.3918024990291\n",
      "83545253.02534221 83547257.51420507 -23.866158077258582\n",
      "Average binding energy is:  -17.373883375262842\n",
      "83545139.0303842 83547257.51420507 -66.43073983100484\n",
      "Average binding energy is:  -17.10044234199595\n",
      "83545257.9827706 83547257.5142127 -14.931828653837508\n",
      "Average binding energy is:  -17.40876853892133\n",
      "83545227.57120812 83547257.5142127 -30.189961388367944\n",
      "Average binding energy is:  -17.541693361315648\n",
      "83545243.03871438 83547257.5142127 -39.5066461508603\n",
      "Average binding energy is:  -17.792512181692\n",
      "83545287.91429393 83547257.51420507 -47.14067689597764\n",
      "Average binding energy is:  -17.319452560742683\n",
      "83545228.36513776 83547257.51420507 -30.941502245030218\n",
      "Average binding energy is:  -17.528136535679376\n",
      "83545176.91741176 83547257.5142127 -43.27165998417048\n",
      "Average binding energy is:  -17.4130353927699\n",
      "83545230.998054 83547257.51420507 -45.7094521953479\n",
      "Average binding energy is:  -17.375497358554796\n",
      "83544903.9408095 83547257.51420507 -116.88366110539364\n",
      "Average binding energy is:  -16.568072107109323\n",
      "83544868.13700318 83547257.5142127 -65.13988907655529\n",
      "Average binding energy is:  -16.48395262721861\n",
      "83544923.04186203 83547257.51419744 -90.17503476892665\n",
      "Average binding energy is:  -16.26302391771139\n",
      "83544898.63232613 83547257.51422033 -50.17303892868244\n",
      "Average binding energy is:  -16.729774313567813\n",
      "83544946.25980693 83547257.51422796 -86.57641831364842\n",
      "Average binding energy is:  -16.120855092114972\n",
      "83544997.9179802 83547257.51420507 -73.29326577728918\n",
      "Average binding energy is:  -16.56290120528007\n",
      "83544942.7933557 83547257.5142127 -55.14204416118498\n",
      "Average binding energy is:  -16.737620835801522\n",
      "83544934.2917218 83547257.51422033 -86.04343746387003\n",
      "Average binding energy is:  -16.948326220131356\n",
      "83545025.46078512 83547257.5142127 -82.78772102650967\n",
      "Average binding energy is:  -16.660974469383792\n",
      "83544980.12863788 83547257.5142127 -68.08757877542442\n",
      "Average binding energy is:  -16.73710603062298\n",
      "83544965.49368185 83547257.5142127 -83.58496274868658\n",
      "Average binding energy is:  -16.730572485613703\n",
      "83544973.9646249 83547257.5142127 -65.1450817032578\n",
      "Average binding energy is:  -16.806094743165463\n",
      "83544990.06109998 83547257.5142127 -71.51071571698508\n",
      "Average binding energy is:  -16.635927250033774\n",
      "83544900.84219252 83547257.5142127 -76.04462908175911\n",
      "Average binding energy is:  -16.526285442755466\n",
      "83544943.40435252 83547257.51422033 -94.17227006204926\n",
      "Average binding energy is:  -16.443982205549286\n",
      "83544964.0469205 83547257.5142127 -107.2228580752811\n",
      "Average binding energy is:  -16.194403215771985\n",
      "83544991.49274309 83547257.51420507 -78.5597577041602\n",
      "Average binding energy is:  -16.957067474995306\n",
      "83544868.90269932 83547257.5142127 -59.58570884889089\n",
      "Average binding energy is:  -16.517913507286135\n",
      "83544945.21969871 83547257.5142127 -84.60628490055521\n",
      "Average binding energy is:  -16.501394289518217\n",
      "83545003.87745333 83547257.5142127 -74.55161047094377\n",
      "Average binding energy is:  -16.508220824997135\n",
      "83545020.07077575 83547257.5142127 -63.34346696212737\n",
      "Average binding energy is:  -16.853488139444323\n",
      "83545052.83370456 83547257.5142127 -72.82322524863729\n",
      "Average binding energy is:  -16.919502245143747\n",
      "83544880.22689629 83547257.5142127 -106.37545761345628\n",
      "Average binding energy is:  -16.455883034770128\n",
      "83544890.13142344 83547257.5142127 -71.33692466634416\n",
      "Average binding energy is:  -16.63801351150612\n",
      "83544942.70954178 83547257.5142127 -71.20545205942649\n",
      "Average binding energy is:  -16.619253473004303\n",
      "83544968.96780403 83547257.51420507 -67.3439319250552\n",
      "Average binding energy is:  -16.827291432679626\n",
      "83544983.61909992 83547257.5142127 -71.88272622936493\n",
      "Average binding energy is:  -16.681912019343574\n",
      "83544990.35888217 83547257.51419744 -88.35313259648143\n",
      "Average binding energy is:  -16.506077141428623\n",
      "83544984.75111875 83547257.5142127 -73.54003454011307\n",
      "Average binding energy is:  -16.660780753092812\n",
      "83545046.32999742 83547257.5142127 -64.06403919520108\n",
      "Average binding energy is:  -16.644342450249862\n",
      "83544981.257885 83547257.51420507 -52.80436260478096\n",
      "Average binding energy is:  -17.236061685809453\n",
      "83544993.88780951 83547257.51420507 -52.80000480503053\n",
      "Average binding energy is:  -16.748684778396363\n",
      "83544942.3161962 83547257.5142127 -88.90750018062441\n",
      "Average binding energy is:  -16.491040861584356\n",
      "83544909.65361324 83547257.51419744 -79.5901376537795\n",
      "Average binding energy is:  -16.43674236627282\n",
      "83544933.9984064 83547257.51422033 -86.96642301074596\n",
      "Average binding energy is:  -16.56703252534131\n",
      "83544871.51858433 83547257.51422033 -78.8301219990701\n",
      "Average binding energy is:  -16.71859068117507\n",
      "83544986.03592162 83547257.5142127 -79.30112161159956\n",
      "Average binding energy is:  -16.607402798998503\n",
      "83544987.52688847 83547257.5142127 -77.00403915890136\n",
      "Average binding energy is:  -16.61350973533349\n",
      "83544917.12941374 83547257.51419744 -80.22884721445173\n",
      "Average binding energy is:  -16.74189582581968\n",
      "83544923.11226445 83547257.5142127 -80.57668260284187\n",
      "Average binding energy is:  -16.695001967707686\n",
      "83545036.72526829 83547257.5142127 -64.67214433641496\n",
      "Average binding energy is:  -17.112038095808593\n",
      "83544981.5763052 83547257.51422033 -72.22369996890417\n",
      "Average binding energy is:  -16.32380900120404\n",
      "83545082.5823794 83547257.51420507 -66.37913938981578\n",
      "Average binding energy is:  -17.142704766486208\n",
      "83544963.37239538 83547257.51420507 -91.67676064126486\n",
      "Average binding energy is:  -17.073372473222893\n",
      "83545036.6729017 83547257.51422033 -61.46415269386372\n",
      "Average binding energy is:  -16.739357875413706\n",
      "83544931.19391029 83547257.51420507 -93.18081389618342\n",
      "Average binding energy is:  -16.541773932491378\n",
      "83544996.73757859 83547257.51420507 -86.31324269444137\n",
      "Average binding energy is:  -16.473207452940642\n",
      "83545012.27526549 83547257.51422033 -60.098888337836485\n",
      "Average binding energy is:  -16.554091412911017\n",
      "83545119.14281781 83547257.51420507 -59.39841557275194\n",
      "Average binding energy is:  -16.902219281995283\n",
      "83544914.4429428 83547257.51420507 -111.58202591200494\n",
      "Average binding energy is:  -16.529549898949682\n",
      "83545050.51939102 83547257.51422033 -50.124747822949786\n",
      "Average binding energy is:  -16.71992311231796\n",
      "83545056.76520187 83547257.5142127 -66.60159733289304\n",
      "Average binding energy is:  -17.35079197966036\n",
      "83544937.32254992 83547257.51420507 -84.23195325806806\n",
      "Average binding energy is:  -16.562664458415018\n",
      "83545115.22473107 83547257.51422033 -63.41619942497226\n",
      "Average binding energy is:  -16.901408860401492\n",
      "83544945.51476046 83547257.5142127 -65.98354244080095\n",
      "Average binding energy is:  -17.01527204388268\n",
      "83544973.03684516 83547257.5142127 -81.76589621127617\n",
      "Average binding energy is:  -17.075282723441532\n",
      "83545039.10761496 83547257.5142127 -73.28940299945427\n",
      "Average binding energy is:  -16.6288154630546\n",
      "83545064.26042742 83547257.51422033 -59.71147110221103\n",
      "Average binding energy is:  -16.93287556991712\n",
      "83544999.84945011 83547257.51422033 -82.03637584030103\n",
      "Average binding energy is:  -16.4820332907231\n",
      "83544979.59127527 83547257.5142127 -73.92252674959998\n",
      "Average binding energy is:  -16.69697280813175\n",
      "83544979.11774561 83547257.5142127 -65.02197517369011\n",
      "Average binding energy is:  -16.76798857512093\n",
      "83545018.13698079 83547257.5142127 -58.19701322047556\n",
      "Average binding energy is:  -16.1568905088174\n",
      "83544894.57528381 83547257.51420507 -104.99401072469985\n",
      "Average binding energy is:  -16.361919641544592\n",
      "83545059.9866297 83547257.5142127 -72.97832985220656\n",
      "Average binding energy is:  -16.86150200913363\n",
      "83545077.80125822 83547257.51422033 -69.18622870827019\n",
      "Average binding energy is:  -17.15875393006179\n",
      "83545041.59386498 83547257.51420507 -51.45822312931432\n",
      "Average binding energy is:  -17.17827076953711\n",
      "83544958.59696297 83547257.51420507 -61.3727914337803\n",
      "Average binding energy is:  -16.95109432319011\n",
      "83545099.70460404 83547257.5142127 -31.919812165011084\n",
      "Average binding energy is:  -17.283656882017695\n",
      "83545111.22949824 83547257.5142127 -59.663479080583215\n",
      "Average binding energy is:  -17.38851029483158\n",
      "83544927.62847115 83547257.51420507 -81.33685422993997\n",
      "Average binding energy is:  -16.293832461503012\n",
      "83545008.38000375 83547257.51420507 -54.75779404540991\n",
      "Average binding energy is:  -16.62406369145921\n",
      "83545054.83329211 83547257.5142127 -75.75053009373768\n",
      "Average binding energy is:  -16.487832484436062\n",
      "83545014.67983222 83547257.5142127 -83.97935936075172\n",
      "Average binding energy is:  -16.735310241216396\n",
      "83545063.45604667 83547257.5142127 -88.50080810936281\n",
      "Average binding energy is:  -16.710772681886557\n",
      "83545054.15592869 83547257.5142127 -90.75590971594214\n",
      "Average binding energy is:  -16.376762591438304\n",
      "83545059.50933503 83547257.51422033 -77.53563151099047\n",
      "Average binding energy is:  -16.43774615341088\n",
      "83544969.69590537 83547257.51420507 -77.15359034992316\n",
      "Average binding energy is:  -17.13693573136377\n",
      "83545117.9031275 83547257.51420507 -42.25532913012912\n",
      "Average binding energy is:  -17.051672751478417\n",
      "83545025.50577393 83547257.51420507 -66.8721286616016\n",
      "Average binding energy is:  -17.18362144821434\n",
      "83544968.59723635 83547257.51419744 -90.54338051430287\n",
      "Average binding energy is:  -16.654345307382375\n",
      "83544986.92402193 83547257.5142127 -74.34117710257081\n",
      "Average binding energy is:  -16.63825010352781\n",
      "83545051.74641009 83547257.5142127 -72.4251138016933\n",
      "Average binding energy is:  -16.93129118102619\n",
      "83545073.83213694 83547257.5142127 -72.72348786385236\n",
      "Average binding energy is:  -16.753639586428218\n",
      "83545082.83400606 83547257.5142127 -40.89021000928202\n",
      "Average binding energy is:  -16.934841243113276\n",
      "83545006.50654146 83547257.5142127 -80.5491350960585\n",
      "Average binding energy is:  -16.442867698037375\n",
      "83545030.07594687 83547257.51420507 -77.4010295491726\n",
      "Average binding energy is:  -16.66695526086598\n",
      "83545010.25290044 83547257.5142127 -74.6055772396542\n",
      "Average binding energy is:  -17.24329948429817\n",
      "83545093.24912606 83547257.5142127 -62.224121261412\n",
      "Average binding energy is:  -17.089763946134433\n",
      "83544943.2768064 83547257.51422033 -85.36202578808776\n",
      "Average binding energy is:  -16.510188060294997\n",
      "83545084.03785594 83547257.5142127 -81.84352254875351\n",
      "Average binding energy is:  -16.60026058897551\n",
      "83545087.43555534 83547257.5142127 -83.09779339453391\n",
      "Average binding energy is:  -16.967324097271145\n",
      "83545039.09674494 83547257.5142127 -62.13945213650391\n",
      "Average binding energy is:  -17.11331758429806\n",
      "83544998.66727778 83547257.51422033 -54.73955881608311\n",
      "Average binding energy is:  -16.697783210059853\n",
      "83545016.6669299 83547257.51422033 -84.3715408898304\n",
      "Average binding energy is:  -17.11488690108462\n",
      "83544980.83879207 83547257.5142127 -91.45928488652778\n",
      "Average binding energy is:  -16.18678619067015\n",
      "83545052.91367133 83547257.5142127 -47.5653421890172\n",
      "Average binding energy is:  -17.11932697761198\n",
      "83544982.54670243 83547257.51420507 -79.12606298704533\n",
      "Average binding energy is:  -16.635162421603425\n",
      "83544993.18626396 83547257.51420507 -75.50675408578543\n",
      "Average binding energy is:  -16.58197868953776\n",
      "83545086.15292156 83547257.51422033 -62.0001223616949\n",
      "Average binding energy is:  -16.74096171752395\n",
      "83545221.86384664 83547257.5142127 -39.36985896149776\n",
      "Average binding energy is:  -17.0622265563375\n",
      "83545105.95040716 83547257.5142127 -47.81297628194869\n",
      "Average binding energy is:  -17.103665278483636\n",
      "83545132.98615128 83547257.51420507 -52.471738380351496\n",
      "Average binding energy is:  -17.26713596174983\n",
      "83545129.02298312 83547257.5142127 -58.66938927998098\n",
      "Average binding energy is:  -16.427157462689458\n",
      "83545105.26040742 83547257.51422033 -56.2084462637273\n",
      "Average binding energy is:  -17.467044722044992\n",
      "83545033.30085786 83547257.51420507 -56.068929685610236\n",
      "Average binding energy is:  -17.207495377189442\n",
      "83545145.58768028 83547257.51422033 -49.91419362759507\n",
      "Average binding energy is:  -16.764328019669392\n",
      "83545055.40601942 83547257.51420507 -62.31094661207545\n",
      "Average binding energy is:  -16.982517770133672\n",
      "83545058.49626194 83547257.51422033 -49.93025670129243\n",
      "Average binding energy is:  -17.056251600686032\n",
      "83545127.1154722 83547257.51420507 -74.22884917972463\n",
      "Average binding energy is:  -16.71682832269181\n",
      "83545169.04213493 83547257.5142127 -49.3890079736868\n",
      "Average binding energy is:  -16.99235891498612\n",
      "83545008.35120164 83547257.5142127 -75.24486350403933\n",
      "Average binding energy is:  -16.46907687541762\n",
      "83545166.38575335 83547257.51422033 -35.81986928716533\n",
      "Average binding energy is:  -17.1275716474292\n",
      "83545160.27880104 83547257.5142127 -50.52275843449634\n",
      "Average binding energy is:  -17.493270540379374\n",
      "83545147.07651111 83547257.51422033 -47.75761770723184\n",
      "Average binding energy is:  -17.18900076254226\n",
      "83545124.54128048 83547257.51420507 -56.42940566057274\n",
      "Average binding energy is:  -17.30452932441282\n",
      "83545096.49215172 83547257.5142127 -58.94384466336938\n",
      "Average binding energy is:  -17.090066799285065\n",
      "83545157.0014442 83547257.5142127 -51.89265012238684\n",
      "Average binding energy is:  -17.07183431974763\n",
      "83545064.63698937 83547257.5142127 -77.38630332533656\n",
      "Average binding energy is:  -17.199113170751378\n",
      "83545147.430548 83547257.5142127 -66.80819266082595\n",
      "Average binding energy is:  -17.02729560032969\n",
      "83545106.77920659 83547257.5142127 -53.67535806807013\n",
      "Average binding energy is:  -17.049265431226097\n",
      "83545042.09060006 83547257.51420507 -74.51746418773259\n",
      "Average binding energy is:  -16.596171634280473\n",
      "83545105.25591315 83547257.51422033 -45.69458575756157\n",
      "Average binding energy is:  -17.554697678469054\n",
      "83545115.27301827 83547257.51422033 -66.03859429547536\n",
      "Average binding energy is:  -16.879695998056363\n",
      "83545067.45250565 83547257.5142127 -68.96993847934446\n",
      "Average binding energy is:  -16.834061655319555\n",
      "83545149.08157666 83547257.51420507 -61.55103638051625\n",
      "Average binding energy is:  -17.05734660022965\n",
      "83545082.36642557 83547257.5142127 -66.73623004592623\n",
      "Average binding energy is:  -17.141557374617822\n",
      "83545179.54548685 83547257.51420507 -29.65276328667991\n",
      "Average binding energy is:  -17.50697397375336\n",
      "83545185.16321093 83547257.51422033 -61.2473563175356\n",
      "Average binding energy is:  -17.188920111804812\n",
      "83545063.57796103 83547257.51422033 -94.91122175905689\n",
      "Average binding energy is:  -16.65892886936873\n",
      "83545194.16787703 83547257.51420507 -35.35178662978093\n",
      "Average binding energy is:  -17.789425801800142\n",
      "83545105.61408837 83547257.51422796 -60.079201946349066\n",
      "Average binding energy is:  -17.006674289746243\n",
      "83545081.64178802 83547257.51420507 -57.42802153129287\n",
      "Average binding energy is:  -17.223125166799406\n",
      "83545041.54279897 83547257.5142127 -73.17118536315519\n",
      "Average binding energy is:  -17.006351018796984\n",
      "83545082.39383082 83547257.51422033 -82.96351165804263\n",
      "Average binding energy is:  -17.0094055109608\n",
      "83545075.69344763 83547257.5142127 -87.11478013547864\n",
      "Average binding energy is:  -16.62465067402927\n",
      "83545078.46582143 83547257.5142127 -65.87857548285702\n",
      "Average binding energy is:  -16.77118901416508\n",
      "83545017.27412418 83547257.51422033 -74.3380759842411\n",
      "Average binding energy is:  -16.78993814083401\n",
      "83545072.3932038 83547257.51420507 -84.30014159471182\n",
      "Average binding energy is:  -17.07984438763156\n",
      "83545156.84021728 83547257.5142127 -54.30913524081947\n",
      "Average binding energy is:  -17.05304050149598\n",
      "83545059.28183907 83547257.51422033 -61.913548246980014\n",
      "Average binding energy is:  -16.954911373075035\n",
      "83545111.92469294 83547257.5142127 -53.26604903940305\n",
      "Average binding energy is:  -17.01075992450934\n",
      "83545135.98569985 83547257.5142127 -42.50933952186438\n",
      "Average binding energy is:  -17.325159777737827\n",
      "83545142.89070515 83547257.5142127 -62.12269358532977\n",
      "Average binding energy is:  -16.686998487472103\n",
      "83545224.73736343 83547257.51420507 -46.26643990134843\n",
      "Average binding energy is:  -16.978721382385675\n",
      "83544989.99062881 83547257.51420507 -84.08192392215568\n",
      "Average binding energy is:  -17.328902002678234\n",
      "83545100.03804246 83547257.51422796 -60.79060404252282\n",
      "Average binding energy is:  -17.04622423949674\n",
      "83545164.07582149 83547257.51422033 -46.501356792377535\n",
      "Average binding energy is:  -17.05780868371388\n",
      "83545063.26216651 83547257.51419744 -48.83827240155389\n",
      "Average binding energy is:  -16.631114407150456\n",
      "83544989.91488059 83547257.5142127 -72.66210070040081\n",
      "Average binding energy is:  -16.628312359156762\n",
      "83544992.85897884 83547257.5142127 -85.95694593348433\n",
      "Average binding energy is:  -16.889134014934353\n",
      "83544973.8240159 83547257.51420507 -91.19080905590317\n",
      "Average binding energy is:  -16.609843788726923\n",
      "83545023.72023356 83547257.5142127 -82.28767987831154\n",
      "Average binding energy is:  -16.67834340511492\n",
      "83545083.83305396 83547257.51420507 -58.79360205161922\n",
      "Average binding energy is:  -16.78482181789948\n",
      "83545103.05602247 83547257.5142127 -55.19206061408974\n",
      "Average binding energy is:  -17.067204305840857\n",
      "83545031.27469134 83547257.51420507 -54.363481685271985\n",
      "Average binding energy is:  -17.237111365395005\n",
      "83545091.48425174 83547257.51422033 -54.50346201352153\n",
      "Average binding energy is:  -16.758146877587482\n",
      "83545072.59302132 83547257.51420507 -58.95257035001888\n",
      "Average binding energy is:  -16.872766773015986\n",
      "83545054.78805397 83547257.51422033 -61.54395006499309\n",
      "Average binding energy is:  -16.598311754167725\n",
      "83544969.30555539 83547257.51420507 -83.00857727001403\n",
      "Average binding energy is:  -16.706061154621246\n",
      "83545119.44508615 83547257.5142127 -51.195170212343804\n",
      "Average binding energy is:  -16.966454929545034\n",
      "83545045.43295182 83547257.51422033 -56.94129140527631\n",
      "Average binding energy is:  -16.706511450379733\n",
      "83545043.99199426 83547257.5142127 -60.89722671328137\n",
      "Average binding energy is:  -17.08432533113271\n",
      "83545013.0431269 83547257.51422033 -76.58468782361855\n",
      "Average binding energy is:  -16.805320973701527\n",
      "83545135.90098543 83547257.51420507 -28.507898601763674\n",
      "Average binding energy is:  -17.01711643115394\n",
      "83545049.97458751 83547257.51420507 -69.57004166768542\n",
      "Average binding energy is:  -16.96801250702911\n",
      "83545059.7552649 83547257.5142127 -35.838770568722246\n",
      "Average binding energy is:  -17.15809664472895\n",
      "83544910.14746125 83547257.5142127 -90.04004957417268\n",
      "Average binding energy is:  -16.72093853239368\n",
      "83545094.37026459 83547257.5142127 -57.10117068051318\n",
      "Average binding energy is:  -16.714625217678133\n",
      "83545042.01540624 83547257.51422033 -66.1870521684457\n",
      "Average binding energy is:  -16.661331487772408\n",
      "83545081.55854382 83547257.51420507 -57.43307054793761\n",
      "Average binding energy is:  -17.223760900034176\n",
      "83545020.36047947 83547257.51422796 -81.43027622483207\n",
      "Average binding energy is:  -16.711034668663828\n",
      "83545081.75994292 83547257.51420507 -60.290671701404904\n",
      "Average binding energy is:  -17.198890979251455\n",
      "83545158.04146175 83547257.5142127 -28.85845044565994\n",
      "Average binding energy is:  -17.69755812394205\n",
      "83545108.96382648 83547257.5142127 -45.93944862844818\n",
      "Average binding energy is:  -16.687388393585465\n",
      "83544962.73317248 83547257.5142127 -107.70023230039754\n",
      "Average binding energy is:  -16.568793999401933\n",
      "83545115.97867084 83547257.51420507 -53.8139828670143\n",
      "Average binding energy is:  -16.973345946063745\n",
      "83545098.23199296 83547257.5142127 -55.369423052789934\n",
      "Average binding energy is:  -17.104982086869743\n",
      "83545018.80023168 83547257.5142127 -69.87680945929327\n",
      "Average binding energy is:  -16.81269125238897\n",
      "83545063.93507917 83547257.5142127 -93.38094284126751\n",
      "Average binding energy is:  -16.668239608604946\n",
      "83544978.56424901 83547257.5142127 -93.59712132770532\n",
      "Average binding energy is:  -16.555703351220796\n",
      "83545040.63034686 83547257.5142127 -49.96410953991153\n",
      "Average binding energy is:  -17.617233791003017\n",
      "83545109.67990491 83547257.5142127 -59.87402808027866\n",
      "Average binding energy is:  -16.9752868269067\n",
      "83545088.35103025 83547257.5142127 -75.54729266213\n",
      "Average binding energy is:  -17.021267396668218\n",
      "83545018.59342301 83547257.51420507 -71.66486593910965\n",
      "Average binding energy is:  -17.20044377873271\n",
      "83544936.01702823 83547257.51422033 -78.42816157445121\n",
      "Average binding energy is:  -16.615326152038808\n",
      "83545018.77517243 83547257.5142127 -78.34620667454122\n",
      "Average binding energy is:  -16.747231268185324\n",
      "83545076.08205226 83547257.51420507 -61.62434886785534\n",
      "Average binding energy is:  -16.432618635192693\n",
      "83545029.05761212 83547257.5142127 -59.86827929535883\n",
      "Average binding energy is:  -16.81076218047504\n",
      "83545096.49863032 83547257.51422033 -55.19916861020651\n",
      "Average binding energy is:  -17.120458710584284\n",
      "83544973.63743095 83547257.5142127 -90.61709468277428\n",
      "Average binding energy is:  -16.61560368987857\n",
      "83545076.22862409 83547257.5142127 -78.24544165828092\n",
      "Average binding energy is:  -17.097887373568383\n",
      "83544936.67454362 83547257.51420507 -81.84427341764746\n",
      "Average binding energy is:  -16.5851510224559\n",
      "83545097.01582438 83547257.51419744 -62.30845877676629\n",
      "Average binding energy is:  -17.484915952372102\n",
      "83544998.35149947 83547257.5142127 -80.68960719808376\n",
      "Average binding energy is:  -16.8873884188494\n",
      "83545161.504424 83547257.5142127 -61.74011516245358\n",
      "Average binding energy is:  -16.952247279412866\n",
      "83545051.18520886 83547257.51420507 -75.17509439788046\n",
      "Average binding energy is:  -16.913919855661984\n",
      "83545051.47445545 83547257.51422033 -66.31480740801769\n",
      "Average binding energy is:  -16.981944106929493\n",
      "83545188.91494255 83547257.51420507 -52.069990192398464\n",
      "Average binding energy is:  -17.235292925882668\n",
      "83545277.85721774 83547257.5142127 -35.70040490029045\n",
      "Average binding energy is:  -17.513122432914063\n",
      "83545043.78358105 83547257.51422033 -68.1950099957318\n",
      "Average binding energy is:  -17.443379099863066\n",
      "83545182.02444904 83547257.5142127 -59.491696278675455\n",
      "Average binding energy is:  -17.23075271267986\n",
      "83545159.4510425 83547257.5142127 -38.933779953603405\n",
      "Average binding energy is:  -17.159411585341854\n",
      "83545121.54486796 83547257.51422033 -61.40801703704549\n",
      "Average binding energy is:  -16.86635231973573\n",
      "83545098.90686269 83547257.5142127 -71.46619154079661\n",
      "Average binding energy is:  -16.968627304600837\n",
      "83545059.29109041 83547257.5142127 -79.60552053585745\n",
      "Average binding energy is:  -17.22453334754438\n",
      "83545031.0816925 83547257.51422033 -72.40277211301128\n",
      "Average binding energy is:  -17.095474251684326\n",
      "83545150.40420192 83547257.5142127 -50.998396480061125\n",
      "Average binding energy is:  -17.134263452440685\n",
      "83545048.07047476 83547257.51420507 -54.822803677505554\n",
      "Average binding energy is:  -17.100166084381748\n",
      "83545090.70389464 83547257.51422033 -53.665067664400695\n",
      "Average binding energy is:  -17.18004274811189\n",
      "83545083.39539239 83547257.5142127 -64.84057660969711\n",
      "Average binding energy is:  -17.148603607316602\n",
      "83545107.03109735 83547257.51420507 -60.74235763420365\n",
      "Average binding energy is:  -16.989762195785705\n",
      "83545032.30313297 83547257.51422033 -64.21631694564135\n",
      "Average binding energy is:  -17.15075214615347\n",
      "83545137.23042369 83547257.5142127 -62.39888593287052\n",
      "Average binding energy is:  -17.149040858966544\n",
      "83545012.96829633 83547257.5142127 -71.25146940578703\n",
      "Average binding energy is:  -16.84724377486674\n",
      "83545028.97483708 83547257.51422033 -50.1180534933762\n",
      "Average binding energy is:  -16.886987052357508\n",
      "83545111.40269126 83547257.5142127 -43.42747546195654\n",
      "Average binding energy is:  -17.094992243705754\n",
      "83545155.96284105 83547257.5142127 -52.68937499566974\n",
      "Average binding energy is:  -17.51164099703622\n",
      "83545171.4747428 83547257.5142127 -55.506018333642565\n",
      "Average binding energy is:  -16.921112096367537\n",
      "83545072.2919406 83547257.5142127 -65.06575781054632\n",
      "Average binding energy is:  -17.237044831605836\n",
      "83545152.2790494 83547257.5142127 -54.15172037672903\n",
      "Average binding energy is:  -17.09236202437084\n",
      "83545058.01979484 83547257.51420507 -83.81107015154706\n",
      "Average binding energy is:  -16.79113761968383\n",
      "83545109.34519233 83547257.5142127 -59.61634416966087\n",
      "Average binding energy is:  -16.98010305853649\n",
      "83545177.72421663 83547257.5142127 -39.08016638169802\n",
      "Average binding energy is:  -17.44196435633292\n",
      "83545099.94261274 83547257.51422033 -55.82864475557717\n",
      "Average binding energy is:  -17.08734116125321\n",
      "83545162.34915835 83547257.51422033 -63.5371949794725\n",
      "Average binding energy is:  -17.364340743598405\n",
      "83545116.95776841 83547257.51420507 -48.89365208088782\n",
      "Average binding energy is:  -17.43052320480848\n",
      "83545025.14151686 83547257.5142127 -81.1020018141151\n",
      "Average binding energy is:  -17.073576936661343\n",
      "83545073.74051201 83547257.51422033 -61.15664254733526\n",
      "Average binding energy is:  -16.846167188621973\n",
      "83545077.95443702 83547257.51420507 -58.52018328759351\n",
      "Average binding energy is:  -17.244224266368416\n",
      "83545201.1159467 83547257.51420507 -63.39830986944212\n",
      "Average binding energy is:  -17.482455688628942\n",
      "83545107.31570213 83547257.5142127 -60.26925500875748\n",
      "Average binding energy is:  -16.99129476067932\n",
      "83545110.68575306 83547257.51422033 -50.10294939910835\n",
      "Average binding energy is:  -17.0465489257371\n",
      "83545146.0944275 83547257.51419744 -65.43733542865631\n",
      "Average binding energy is:  -17.049853620950866\n",
      "83545082.52423225 83547257.5142127 -96.71002457513102\n",
      "Average binding energy is:  -16.49428536404112\n",
      "83545139.87829906 83547257.51422033 -62.41646096555035\n",
      "Average binding energy is:  -17.12682883586754\n",
      "83545098.18534961 83547257.5142127 -65.46386009626605\n",
      "Average binding energy is:  -17.448875024900417\n",
      "83545034.4007338 83547257.51422033 -74.36167846461537\n",
      "Average binding energy is:  -16.65699076018435\n",
      "83545098.03379564 83547257.51422033 -52.69578818403344\n",
      "Average binding energy is:  -16.720512988120895\n",
      "83545036.71639025 83547257.5142127 -76.43793811688201\n",
      "Average binding energy is:  -16.622944839757746\n",
      "83545189.46777697 83547257.5142127 -53.5412396281823\n",
      "Average binding energy is:  -17.21799312906399\n",
      "83544971.58859798 83547257.5142127 -121.5849488941993\n",
      "Average binding energy is:  -16.396520195609266\n",
      "83545185.9027173 83547257.51422033 -48.380972811950805\n",
      "Average binding energy is:  -17.292568634256224\n",
      "83545078.85863832 83547257.5142127 -81.4739338579595\n",
      "Average binding energy is:  -16.644298734312635\n",
      "83545112.07685597 83547257.51420507 -56.0269811285862\n",
      "Average binding energy is:  -17.41175306639462\n",
      "83545048.59292394 83547257.5142127 -94.59817399906291\n",
      "Average binding energy is:  -16.780342180630583\n"
     ]
    }
   ],
   "source": [
    "# input the trajectory file and compute energy for each frame:\n",
    "\n",
    "Trajectory_length = 800\n",
    "\n",
    "create_supercell(\"data/MIL-120.pdb\", scaling_factors, \"scaled_frame.pdb\")\n",
    "\n",
    "# I have alreay generated a trajectory example\n",
    "dest_path = \"./traj/\"\n",
    "traj_ls = os.listdir(dest_path)\n",
    "# Filter out file names and keep only directory names\n",
    "dir_names = [name for name in traj_ls if os.path.isdir(os.path.join(dest_path, name)) and name.isdigit()]\n",
    "\n",
    "for directory in dir_names:\n",
    "    gas_dir = os.path.join(dest_path, directory)\n",
    "    for gas_path in os.listdir(gas_dir):\n",
    "\n",
    "        topo, pos, num = simple_merge(\"scaled_frame.pdb\",os.path.join(gas_dir,gas_path))\n",
    "        ff = app.ForceField(\"custom_forcefield.xml\")\n",
    "        #value = binding_energy(topo, pos,ff,cutoff=0.99)-binding_energy(topo, pos,ff,cutoff=0.99, removeLJ=True)\n",
    "        \n",
    "        print(\"Average binding energy is: \", value*3/num)\n",
    "        #pdb = app.PDBFile(\"data/temp.pdb\")"
   ]
  },
  {
   "cell_type": "code",
   "execution_count": 22,
   "metadata": {},
   "outputs": [],
   "source": [
    "topo, pos = simple_merge(\"scaled_frame.pdb\",os.path.join(gas_dir,gas_path))"
   ]
  },
  {
   "cell_type": "code",
   "execution_count": 112,
   "metadata": {},
   "outputs": [],
   "source": [
    "xmlio = XMLIO()\n",
    "xmlio.loadXML(\"data/init.xml\")\n",
    "ffinfo = xmlio.parseXML()\n",
    "paramset = ParamSet()\n",
    "lj_gen = LennardJonesGenerator(ffinfo, paramset)"
   ]
  },
  {
   "cell_type": "code",
   "execution_count": 117,
   "metadata": {},
   "outputs": [
    {
     "name": "stdout",
     "output_type": "stream",
     "text": [
      "Error:  0.690136880355773\n"
     ]
    },
    {
     "name": "stdout",
     "output_type": "stream",
     "text": [
      "Error:  0.6629540990766287\n",
      "-57.70691675729622 -43.53562913779051 -14.546351358197082 -9.237612575198273\n"
     ]
    }
   ],
   "source": [
    "pdb1 = app.PDBFile(\"data/test1.pdb\")\n",
    "pdb2 = app.PDBFile(\"data/test2.pdb\")\n",
    "ff = app.ForceField(\"custom_forcefield.xml\")\n",
    "topodata = pdb1.getTopology()\n",
    "ener_site1 = binding_energy(topodata, pdb1.getPositions(), ff, cutoff=1.3)\n",
    "ener_site2 = binding_energy(topodata, pdb2.getPositions(), ff, cutoff=1.3)\n",
    "refer_site1 = binding_energy(topodata, pdb1.getPositions(), ff, removeLJ=True,cutoff=1.3)\n",
    "refer_site2 = binding_energy(topodata, pdb2.getPositions(), ff, removeLJ=True,cutoff=1.3)\n",
    "print(\"Error: \",compute_binding_energy(paramset,topodata, pdb1.getPositions(), lj_gen, numframe=1920,cutoff=1.3)+refer_site1-ener_site1)\n",
    "print(\"Error: \",compute_binding_energy(paramset,topodata, pdb2.getPositions(), lj_gen, numframe=1920,cutoff=1.3)+refer_site2-ener_site2)\n",
    "print(ener_site1, ener_site2, refer_site1, refer_site2)"
   ]
  },
  {
   "cell_type": "code",
   "execution_count": null,
   "metadata": {},
   "outputs": [],
   "source": [
    "def compute_energy_dmff(paramset,topo, pos, lj_gen, cutoff=cutoff):\n",
    "    topodata = dmff.DMFFTopology(topo)\n",
    "    # Because dmfftopology does not provide a good entry for open.topology object generated by pdb file, I had to suplement something\n",
    "    for atom in topodata.atoms():\n",
    "        if atom.residue.name==\"MOL\":\n",
    "            atom.meta['type']=atom.meta['element']\n",
    "            atom.meta['class']=atom.meta['element']\n",
    "        elif atom.residue.name==\"GAS\":\n",
    "            #print(atom.meta)\n",
    "            atom.meta['type']=atom.meta['element']+\"_co2\"\n",
    "            atom.meta['class']=atom.meta['element']+\"_co2\"\n",
    "        #print(atom.meta['element'])\n",
    "    cov_mat = topodata.buildCovMat()\n",
    "    lj_force = lj_gen.createPotential(\n",
    "    topodata, nonbondedMethod=app.CutoffPeriodic, nonbondedCutoff=cutoff, args={})\n",
    "    pos_jnp = jnp.array(pos.value_in_unit(unit.nanometer))\n",
    "    cell_jnp = jnp.array(topo.getPeriodicBoxVectors().value_in_unit(unit.nanometer))\n",
    "    #cov_mat = jnp.array(np.zeros((1923,1923)))\n",
    "    nblist = NeighborListFreud(pdb.topology.getPeriodicBoxVectors().value_in_unit(unit.nanometer), cutoff, cov_mat)\n",
    "    nblist.allocate(pos_jnp, cell_jnp)\n",
    "    pairs = jnp.array(nblist.pairs)\n",
    "    ener = lj_force(pos_jnp,cell_jnp, pairs, paramset)\n",
    "    return ener"
   ]
  },
  {
   "cell_type": "code",
   "execution_count": 118,
   "metadata": {},
   "outputs": [
    {
     "name": "stdout",
     "output_type": "stream",
     "text": [
      "Error:  3.0056237929619485\n",
      "Error:  3.006950581854312\n",
      "-58.003113513403385 -43.32613837398972 -15.831949949204738 -9.804026484432743\n"
     ]
    }
   ],
   "source": [
    "pdb1 = app.PDBFile(\"data/test1.pdb\")\n",
    "pdb2 = app.PDBFile(\"data/test2.pdb\")\n",
    "ff = app.ForceField(\"custom_forcefield.xml\")\n",
    "topodata = pdb1.getTopology()\n",
    "ener_site1 = binding_energy(topodata, pdb1.getPositions(), ff, cutoff=0.9)\n",
    "ener_site2 = binding_energy(topodata, pdb2.getPositions(), ff, cutoff=0.9)\n",
    "refer_site1 = binding_energy(topodata, pdb1.getPositions(), ff, removeLJ=True,cutoff=0.9)\n",
    "refer_site2 = binding_energy(topodata, pdb2.getPositions(), ff, removeLJ=True,cutoff=0.9)\n",
    "print(\"Error: \",compute_binding_energy(paramset,topodata, pdb1.getPositions(), lj_gen, numframe=1920,cutoff=0.9)+refer_site1-ener_site1)\n",
    "print(\"Error: \",compute_binding_energy(paramset,topodata, pdb2.getPositions(), lj_gen, numframe=1920,cutoff=0.9)+refer_site2-ener_site2)\n",
    "print(ener_site1, ener_site2, refer_site1, refer_site2)"
   ]
  },
  {
   "cell_type": "code",
   "execution_count": 122,
   "metadata": {},
   "outputs": [
    {
     "name": "stdout",
     "output_type": "stream",
     "text": [
      "Error:  -1.314090504979312\n",
      "Error:  1.7831625598313678\n",
      "-56.19220360506194 -43.48708401665269 -15.870710432625923 -9.87613353143158\n"
     ]
    }
   ],
   "source": [
    "pdb1 = app.PDBFile(\"data/test1.pdb\")\n",
    "pdb2 = app.PDBFile(\"data/test2.pdb\")\n",
    "ff = app.ForceField(\"custom_forcefield.xml\")\n",
    "topodata = pdb1.getTopology()\n",
    "ener_site1 = binding_energy(topodata, pdb1.getPositions(), ff, cutoff=1.09)\n",
    "ener_site2 = binding_energy(topodata, pdb2.getPositions(), ff, cutoff=1.09)\n",
    "refer_site1 = binding_energy(topodata, pdb1.getPositions(), ff, removeLJ=True,cutoff=1.09)\n",
    "refer_site2 = binding_energy(topodata, pdb2.getPositions(), ff, removeLJ=True,cutoff=1.09)\n",
    "print(\"Error: \",compute_binding_energy(paramset,topodata, pdb1.getPositions(), lj_gen, numframe=1920,cutoff=1.09)+refer_site1-ener_site1)\n",
    "print(\"Error: \",compute_binding_energy(paramset,topodata, pdb2.getPositions(), lj_gen, numframe=1920,cutoff=1.09)+refer_site2-ener_site2)\n",
    "print(ener_site1, ener_site2, refer_site1, refer_site2)"
   ]
  },
  {
   "cell_type": "code",
   "execution_count": 124,
   "metadata": {},
   "outputs": [
    {
     "name": "stdout",
     "output_type": "stream",
     "text": [
      "Error:  0.39636665895661594\n",
      "Error:  1.0526447288133625\n",
      "-57.340419984200885 -42.04477003008614 -16.24467489124454 -9.849493771805644\n"
     ]
    }
   ],
   "source": [
    "pdb1 = app.PDBFile(\"data/test1.pdb\")\n",
    "pdb2 = app.PDBFile(\"data/test2.pdb\")\n",
    "\n",
    "test_cutoff = 0.99\n",
    "\n",
    "ff = app.ForceField(\"custom_forcefield.xml\")\n",
    "topodata = pdb1.getTopology()\n",
    "ener_site1 = binding_energy(topodata, pdb1.getPositions(), ff, cutoff=test_cutoff)\n",
    "ener_site2 = binding_energy(topodata, pdb2.getPositions(), ff, cutoff=test_cutoff)\n",
    "refer_site1 = binding_energy(topodata, pdb1.getPositions(), ff, removeLJ=True,cutoff=test_cutoff)\n",
    "refer_site2 = binding_energy(topodata, pdb2.getPositions(), ff, removeLJ=True,cutoff=test_cutoff)\n",
    "print(\"Error: \",compute_binding_energy(paramset,topodata, pdb1.getPositions(), lj_gen, numframe=1920,cutoff=test_cutoff)+refer_site1-ener_site1)\n",
    "print(\"Error: \",compute_binding_energy(paramset,topodata, pdb2.getPositions(), lj_gen, numframe=1920,cutoff=test_cutoff)+refer_site2-ener_site2)\n",
    "print(ener_site1, ener_site2, refer_site1, refer_site2)"
   ]
  },
  {
   "cell_type": "code",
   "execution_count": 125,
   "metadata": {},
   "outputs": [
    {
     "name": "stdout",
     "output_type": "stream",
     "text": [
      "-57.340419984200885 -42.04477003008614 -16.24467489124454 -9.849493771805644\n"
     ]
    }
   ],
   "source": [
    "print(ener_site1, ener_site2, refer_site1, refer_site2)"
   ]
  },
  {
   "cell_type": "code",
   "execution_count": 126,
   "metadata": {},
   "outputs": [
    {
     "name": "stdout",
     "output_type": "stream",
     "text": [
      "-40.699378433999726\n"
     ]
    }
   ],
   "source": [
    "print(compute_binding_energy(paramset,topodata, pdb1.getPositions(), lj_gen, numframe=1920,cutoff=cutoff))"
   ]
  },
  {
   "cell_type": "code",
   "execution_count": 127,
   "metadata": {},
   "outputs": [],
   "source": [
    "def compute_binding_energy(paramset,topo, pos, lj_gen, numframe=1920,cutoff=cutoff):\n",
    "    topodata = dmff.DMFFTopology(topo)\n",
    "    # Because dmfftopology does not provide a good entry for open.topology object generated by pdb file, I had to suplement something\n",
    "    for atom in topodata.atoms():\n",
    "        if atom.residue.name==\"MOL\":\n",
    "            atom.meta['type']=atom.meta['element']\n",
    "            atom.meta['class']=atom.meta['element']\n",
    "        elif atom.residue.name==\"GAS\":\n",
    "            #print(atom.meta)\n",
    "            atom.meta['type']=atom.meta['element']+\"_co2\"\n",
    "            atom.meta['class']=atom.meta['element']+\"_co2\"\n",
    "        #print(atom.meta['element'])\n",
    "    cov_mat = topodata.buildCovMat()\n",
    "    lj_force = lj_gen.createPotential(\n",
    "    topodata, nonbondedMethod=app.PME, nonbondedCutoff=cutoff, args={})\n",
    "    pos_jnp = jnp.array(pos.value_in_unit(unit.nanometer))\n",
    "    cell_jnp = jnp.array(topo.getPeriodicBoxVectors().value_in_unit(unit.nanometer))\n",
    "    cov_mat=cov_mat.at[:numframe,:numframe].set(1)\n",
    "    nblist = NeighborListFreud(pdb.topology.getPeriodicBoxVectors().value_in_unit(unit.nanometer), cutoff, cov_mat)\n",
    "    nblist.allocate(pos_jnp, cell_jnp)\n",
    "    pairs = jnp.array(nblist.pairs)\n",
    "    ener = lj_force(pos_jnp,cell_jnp, pairs, paramset)\n",
    "    return ener"
   ]
  },
  {
   "cell_type": "code",
   "execution_count": 128,
   "metadata": {},
   "outputs": [
    {
     "ename": "TypeError",
     "evalue": "simple_merge() takes 2 positional arguments but 3 were given",
     "output_type": "error",
     "traceback": [
      "\u001b[0;31m---------------------------------------------------------------------------\u001b[0m",
      "\u001b[0;31mTypeError\u001b[0m                                 Traceback (most recent call last)",
      "Cell \u001b[0;32mIn[128], line 1\u001b[0m\n\u001b[0;32m----> 1\u001b[0m \u001b[39mprint\u001b[39m(simple_merge(\u001b[39m\"\u001b[39;49m\u001b[39mscaled_frame.pdb\u001b[39;49m\u001b[39m\"\u001b[39;49m,os\u001b[39m.\u001b[39;49mpath\u001b[39m.\u001b[39;49mjoin(gas_dir,gas_path),\u001b[39m\"\u001b[39;49m\u001b[39mdata/temp.pdb\u001b[39;49m\u001b[39m\"\u001b[39;49m))\n",
      "\u001b[0;31mTypeError\u001b[0m: simple_merge() takes 2 positional arguments but 3 were given"
     ]
    }
   ],
   "source": [
    "print(simple_merge(\"scaled_frame.pdb\",os.path.join(gas_dir,gas_path),\"data/temp.pdb\"))"
   ]
  },
  {
   "cell_type": "code",
   "execution_count": null,
   "metadata": {},
   "outputs": [],
   "source": [
    "# Initial Optimized parameters\n",
    "xmlio = XMLIO()\n",
    "xmlio.loadXML(\"data/init.xml\")\n",
    "ffinfo = xmlio.parseXML()\n",
    "paramset = ParamSet()\n",
    "lj_gen = LennardJonesGenerator(ffinfo, paramset)\n",
    "\n",
    "# Initial Optimized parameters\n",
    "xmlio = XMLIO()\n",
    "xmlio.loadXML(\"data/test.xml\")\n",
    "ffinfo = xmlio.parseXML()\n",
    "paramset_test = ParamSet()\n",
    "lj_gen_test = LennardJonesGenerator(ffinfo, paramset_test)"
   ]
  },
  {
   "cell_type": "code",
   "execution_count": null,
   "metadata": {},
   "outputs": [],
   "source": [
    "pdb = app.PDBFile(\"data/test.pdb\")"
   ]
  },
  {
   "cell_type": "code",
   "execution_count": null,
   "metadata": {},
   "outputs": [],
   "source": [
    "pdb = app.PDBFile(\"data/temp.pdb\")\n",
    "topo, pos = pdb.topology, pdb.positions"
   ]
  },
  {
   "cell_type": "code",
   "execution_count": null,
   "metadata": {},
   "outputs": [
    {
     "name": "stdout",
     "output_type": "stream",
     "text": [
      "83825838.28009713 41623474.43904106 42202363.841056064\n"
     ]
    }
   ],
   "source": [
    "a = compute_energy_dmff(paramset, topo, pos, lj_gen, cutoff=0.9)\n",
    "b = compute_energy_dmff(paramset_test, topo, pos, lj_gen_test, cutoff=0.9)\n",
    "print(a,b, a-b)"
   ]
  },
  {
   "cell_type": "code",
   "execution_count": null,
   "metadata": {},
   "outputs": [],
   "source": []
  },
  {
   "cell_type": "code",
   "execution_count": 131,
   "metadata": {},
   "outputs": [
    {
     "name": "stdout",
     "output_type": "stream",
     "text": [
      "83825838.28009713 41623474.43904106 42202363.841056064\n"
     ]
    }
   ],
   "source": [
    "a = compute_energy_dmff(paramset, topo, pos, lj_gen, cutoff=0.9)\n",
    "b = compute_energy_dmff(paramset_test, topo, pos, lj_gen_test, cutoff=0.9)\n",
    "print(a,b, a-b)"
   ]
  },
  {
   "cell_type": "code",
   "execution_count": 146,
   "metadata": {},
   "outputs": [],
   "source": [
    "topo, pos = app.PDBFile(\"data/test.pdb\").topology, app.PDBFile(\"data/test.pdb\").getPositions()"
   ]
  },
  {
   "cell_type": "code",
   "execution_count": 183,
   "metadata": {},
   "outputs": [
    {
     "name": "stdout",
     "output_type": "stream",
     "text": [
      "83825768.72722727 83825704.96466047 63.762566804885864 -1610.484101798353\n",
      "83827379.21132909 83827220.21659851 158.99473057687283 -1610.484101798353\n",
      "-1610.4841018170118 -1515.2519380450249\n"
     ]
    }
   ],
   "source": [
    "ff = app.ForceField(\"custom_forcefield.xml\")\n",
    "gas_topo, frame_topo = cutoff_topology(topo)\n",
    "a = compute_energy_dmff(paramset, topo, pos, lj_gen, cutoff=0.905)\n",
    "b = compute_energy(topo, pos, ff, cutoff=0.9)-compute_energy(topo, pos, ff, cutoff=0.995,removeLJ=True)\n",
    "refer1 = compute_binding_energy(paramset,topo, pos, lj_gen, numframe=720,cutoff=0.905)\n",
    "print(a,b,a-b,refer1)\n",
    "c = compute_energy_dmff(paramset, frame_topo, pos[:720], lj_gen, cutoff=0.905)\n",
    "d = compute_energy(frame_topo, pos[:720], ff, cutoff=0.995)-compute_energy(frame_topo, pos[:720], ff, cutoff=0.995, removeLJ=True)\n",
    "refer2 = compute_binding_energy(paramset,topo, pos, lj_gen, numframe=720,cutoff=0.905)\n",
    "print(c,d,c-d, refer2)\n",
    "print(a-c, b-d)"
   ]
  },
  {
   "cell_type": "code",
   "execution_count": 182,
   "metadata": {},
   "outputs": [
    {
     "name": "stdout",
     "output_type": "stream",
     "text": [
      "-1610.484101798353 -1553.9955323281733\n"
     ]
    }
   ],
   "source": [
    "refer2 = compute_binding_energy(paramset,topo, pos, lj_gen, numframe=720,cutoff=0.905)\n",
    "refer3 = compute_binding_energy(paramset,topo, pos, lj_gen, numframe=720,cutoff=0.80)\n",
    "print(refer2,refer3)"
   ]
  },
  {
   "cell_type": "code",
   "execution_count": 163,
   "metadata": {},
   "outputs": [
    {
     "name": "stdout",
     "output_type": "stream",
     "text": [
      "83825777.54962742 83825696.79756927 80.7520581483841\n",
      "83827386.25313896 83827319.36650085 66.88663810491562\n",
      "-1608.7035115361214 -1622.5689315795898\n"
     ]
    }
   ],
   "source": [
    "topo, pos = app.PDBFile(\"data/test.pdb\").topology, app.PDBFile(\"data/test.pdb\").getPositions()\n",
    "ff = app.ForceField(\"custom_forcefield.xml\")\n",
    "gas_topo, frame_topo = cutoff_topology(topo)\n",
    "test_cutoff = 0.9\n",
    "a = compute_energy_dmff(paramset, topo, pos, lj_gen, cutoff=test_cutoff)\n",
    "b = compute_energy(topo, pos, ff, cutoff=0.9)-compute_energy(topo, pos, ff, cutoff=test_cutoff, removeLJ=True)\n",
    "print(a,b,a-b)\n",
    "c = compute_energy_dmff(paramset, frame_topo, pos[:720], lj_gen, cutoff=test_cutoff)\n",
    "d = compute_energy(frame_topo, pos[:720], ff, cutoff=0.9)-compute_energy(frame_topo, pos[:720], ff, cutoff=test_cutoff, removeLJ=True)\n",
    "print(c,d,c-d)\n",
    "print(a-c, b-d)"
   ]
  },
  {
   "cell_type": "code",
   "execution_count": 156,
   "metadata": {},
   "outputs": [
    {
     "name": "stdout",
     "output_type": "stream",
     "text": [
      "223538988.19673592 223539159.72987455 -171.53313863277435\n",
      "223539030.66716444 223539203.18637028 -172.51920583844185\n",
      "-42.47042852640152 -43.456495732069016\n"
     ]
    }
   ],
   "source": [
    "topo, pos = pdb1.topology, pdb1.getPositions()\n",
    "ff = app.ForceField(\"custom_forcefield.xml\")\n",
    "gas_topo, frame_topo = cutoff_topology(topo)\n",
    "test_cutoff = 1.3\n",
    "a = compute_energy_dmff(paramset, topo, pos, lj_gen, cutoff=test_cutoff)\n",
    "b = compute_energy(topo, pos, ff, cutoff=0.9)-compute_energy(topo, pos, ff, cutoff=test_cutoff, removeLJ=True)\n",
    "print(a,b,a-b)\n",
    "c = compute_energy_dmff(paramset, frame_topo, pos[:1920], lj_gen, cutoff=test_cutoff)\n",
    "d = compute_energy(frame_topo, pos[:1920], ff, cutoff=0.9)-compute_energy(frame_topo, pos[:1920], ff, cutoff=test_cutoff, removeLJ=True)\n",
    "print(c,d,c-d)\n",
    "print(a-c, b-d)"
   ]
  },
  {
   "cell_type": "code",
   "execution_count": 160,
   "metadata": {},
   "outputs": [
    {
     "name": "stdout",
     "output_type": "stream",
     "text": [
      "223539807.45177495 223539145.15936276 662.2924121916294\n",
      "223539846.6173147 223539187.33049583 659.2868188619614\n",
      "-39.16553974151611 -42.17113307118416\n"
     ]
    }
   ],
   "source": [
    "topo, pos = pdb1.topology, pdb1.getPositions()\n",
    "ff = app.ForceField(\"custom_forcefield.xml\")\n",
    "gas_topo, frame_topo = cutoff_topology(topo)\n",
    "test_cutoff = 0.9\n",
    "a = compute_energy_dmff(paramset, topo, pos, lj_gen, cutoff=test_cutoff)\n",
    "b = compute_energy(topo, pos, ff, cutoff=0.9)-compute_energy(topo, pos, ff, cutoff=test_cutoff, removeLJ=True)\n",
    "print(a,b,a-b)\n",
    "c = compute_energy_dmff(paramset, frame_topo, pos[:1920], lj_gen, cutoff=test_cutoff)\n",
    "d = compute_energy(frame_topo, pos[:1920], ff, cutoff=0.9)-compute_energy(frame_topo, pos[:1920], ff, cutoff=test_cutoff, removeLJ=True)\n",
    "print(c,d,c-d)\n",
    "print(a-c, b-d)"
   ]
  },
  {
   "cell_type": "code",
   "execution_count": 162,
   "metadata": {},
   "outputs": [],
   "source": [
    "from ase.io import read, write\n",
    "atoms = read(\"/home/yutao/project/MIL-120/MIL-120.cif\")\n",
    "write(\"/home/yutao/MIL-120.xyz\", atoms)"
   ]
  },
  {
   "cell_type": "code",
   "execution_count": 132,
   "metadata": {},
   "outputs": [
    {
     "name": "stdout",
     "output_type": "stream",
     "text": [
      "-1547.9730418371778 -772.3380295761378 -775.63501226104\n"
     ]
    }
   ],
   "source": [
    "a = compute_binding_energy(paramset, topo, pos, lj_gen,numframe=720, cutoff=0.9)\n",
    "b = compute_binding_energy(paramset_test, topo, pos, lj_gen_test, numframe=720,cutoff=0.9)\n",
    "print(a,b, a-b)"
   ]
  },
  {
   "cell_type": "code",
   "execution_count": 133,
   "metadata": {},
   "outputs": [],
   "source": [
    "ff = app.ForceField(\"custom_forcefield.xml\")\n",
    "a = binding_energy(topo, pos,ff,cutoff=0.9)-binding_energy(topo, pos,ff,cutoff=0.90, removeLJ=True)\n",
    "ff = app.ForceField(\"data/test_forcefield.xml\")\n",
    "b = binding_energy(topo, pos,ff,cutoff=0.9)-binding_energy(topo, pos,ff,cutoff=0.90, removeLJ=True)"
   ]
  },
  {
   "cell_type": "code",
   "execution_count": 134,
   "metadata": {},
   "outputs": [
    {
     "name": "stdout",
     "output_type": "stream",
     "text": [
      "-1479.4129949592168 -738.7025839023408 -740.710411056876\n"
     ]
    }
   ],
   "source": [
    "print(a,b, a-b)"
   ]
  },
  {
   "cell_type": "code",
   "execution_count": null,
   "metadata": {},
   "outputs": [
    {
     "name": "stdout",
     "output_type": "stream",
     "text": [
      "42202293.42968751\n"
     ]
    }
   ],
   "source": [
    "ff = app.ForceField(\"data/custom_forcefield.xml\")\n",
    "a = compute_energy(topo, pos,ff,cutoff=0.9)-compute_energy(topo,pos,ff,cutoff=0.9, removeLJ=True)\n",
    "ff = app.ForceField(\"data/test_forcefield.xml\")\n",
    "b = compute_energy(topo, pos,ff,cutoff=0.9)-compute_energy(topo,pos,ff,cutoff=0.9, removeLJ=True)\n",
    "print(a-b)"
   ]
  },
  {
   "cell_type": "code",
   "execution_count": null,
   "metadata": {},
   "outputs": [],
   "source": [
    "gas_topo, frame_topo = cutoff_topology(topo)"
   ]
  },
  {
   "cell_type": "code",
   "execution_count": null,
   "metadata": {},
   "outputs": [
    {
     "name": "stdout",
     "output_type": "stream",
     "text": [
      "117 <Topology; 1 chains, 18 residues, 720 atoms, 0 bonds>\n"
     ]
    }
   ],
   "source": [
    "print(gas_topo.getNumAtoms(), frame_topo)"
   ]
  },
  {
   "cell_type": "code",
   "execution_count": null,
   "metadata": {},
   "outputs": [
    {
     "data": {
      "text/plain": [
       "openmm.app.topology.Topology"
      ]
     },
     "execution_count": 48,
     "metadata": {},
     "output_type": "execute_result"
    }
   ],
   "source": [
    "type(gas_topo)"
   ]
  },
  {
   "cell_type": "code",
   "execution_count": null,
   "metadata": {},
   "outputs": [
    {
     "data": {
      "text/plain": [
       "Quantity(value=(Vec3(x=2.1522, y=0.0, z=0.0), Vec3(x=-0.24698932805374343, y=2.230064116079975, z=0.0), Vec3(x=-0.6299589102310619, y=-0.7431837110081535, z=1.999918724126719)), unit=nanometer)"
      ]
     },
     "execution_count": 66,
     "metadata": {},
     "output_type": "execute_result"
    }
   ],
   "source": [
    "gas_topo.getPeriodicBoxVectors()"
   ]
  },
  {
   "cell_type": "code",
   "execution_count": null,
   "metadata": {},
   "outputs": [
    {
     "data": {
      "text/plain": [
       "735"
      ]
     },
     "execution_count": 57,
     "metadata": {},
     "output_type": "execute_result"
    }
   ],
   "source": [
    "len(pos[:-117])"
   ]
  },
  {
   "cell_type": "code",
   "execution_count": null,
   "metadata": {},
   "outputs": [],
   "source": [
    "def simple_merge(frame, loading):\n",
    "    \"\"\"\n",
    "    \n",
    "    This function is writen for CO2. It is common to meet problems when you try to transfer\n",
    "\n",
    "    \"\"\"\n",
    "    gas = app.PDBFile(loading)\n",
    "    gas_topo, gas_pos = gas.topology, gas.positions\n",
    "    frame = app.PDBFile(frame)\n",
    "    num = gas_topo.getNumAtoms()\n",
    "    new_topology = frame.topology\n",
    "    new_positions = frame.getPositions()+gas_pos\n",
    "    for chain in gas_topo.chains():\n",
    "        atom_map = {}  # Keep track of the mapping between original atoms and new atoms\n",
    "        for residue in chain.residues():\n",
    "            for chain0 in new_topology.chains():  \n",
    "                new_residue = new_topology.addResidue(residue.name, chain0)\n",
    "                continue\n",
    "            for atom in residue.atoms():\n",
    "                #print(atom)\n",
    "                new_atom = new_topology.addAtom(atom.name, atom.element, new_residue)\n",
    "                atom_map[atom] = new_atom\n",
    "            continue\n",
    "        # Copy bonds for the unique residue type\n",
    "        for bond in gas_topo.bonds():\n",
    "            atom1, atom2 = bond\n",
    "            if atom1 in atom_map and atom2 in atom_map:\n",
    "                #print(atom1,atom_map[atom1])\n",
    "                #print(atom2,atom_map[atom2])\n",
    "                new_topology.addBond(atom_map[atom1], atom_map[atom2])  # Add the bond to the subset topology\n",
    "    '''\n",
    "    for pos in gas_pos.value_in_unit(unit=unit.angstrom):\n",
    "        new_positions.append(pos)\n",
    "    '''\n",
    "    return new_topology, new_positions, num"
   ]
  },
  {
   "cell_type": "code",
   "execution_count": null,
   "metadata": {},
   "outputs": [],
   "source": [
    "app.PDBFile.writeFile(topo, pos, open(\"data/test.pdb\", 'w'))\n",
    "gas_topo, frame_topo = cutoff_topology(topo)\n",
    "num = gas_topo.getNumAtoms()\n",
    "app.PDBFile.writeFile(frame_topo, pos[:-num], open(\"data/test_frame.pdb\", 'w'))\n",
    "app.PDBFile.writeFile(gas_topo, pos[-num:], open(\"data/test_gas.pdb\", 'w'))"
   ]
  },
  {
   "cell_type": "code",
   "execution_count": null,
   "metadata": {},
   "outputs": [],
   "source": [
    "xmlio = XMLIO()\n",
    "xmlio.loadXML(\"data/init.xml\")\n",
    "ffinfo = xmlio.parseXML()\n",
    "paramset = ParamSet()\n",
    "lj_gen = LennardJonesGenerator(ffinfo, paramset)"
   ]
  },
  {
   "cell_type": "code",
   "execution_count": null,
   "metadata": {},
   "outputs": [
    {
     "data": {
      "text/plain": [
       "Array(-1608.70351154, dtype=float64)"
      ]
     },
     "execution_count": 44,
     "metadata": {},
     "output_type": "execute_result"
    }
   ],
   "source": [
    "compute_binding_energy(paramset,topo, pos, lj_gen,numframe=720, cutoff=0.9)"
   ]
  },
  {
   "cell_type": "code",
   "execution_count": null,
   "metadata": {},
   "outputs": [
    {
     "data": {
      "text/plain": [
       "-1524.6770056528621"
      ]
     },
     "execution_count": 48,
     "metadata": {},
     "output_type": "execute_result"
    }
   ],
   "source": [
    "binding_energy(topo, pos,ff,cutoff=0.9, removeLJ=False)-binding_energy(topo, pos,ff,cutoff=0.9, removeLJ=True)"
   ]
  },
  {
   "cell_type": "code",
   "execution_count": null,
   "metadata": {},
   "outputs": [],
   "source": [
    "a = compute_energy(topo, pos,ff,cutoff=0.9)-compute_energy(topo,pos,ff,cutoff=0.9, removeLJ=True)-compute_energy_dmff(paramset,topo, pos, lj_gen, cutoff=0.9)\n",
    "gas_topo, frame_topo = cutoff_topology(topo)\n",
    "num  = gas_topo.getNumAtoms()\n",
    "b = compute_energy(frame_topo, pos[:-num],ff,cutoff=0.9)-compute_energy(frame_topo,pos[:-num],ff,cutoff=0.9, removeLJ=True)-compute_energy_dmff(paramset,frame_topo, pos[:-num], lj_gen, cutoff=0.9)\n",
    "c = compute_energy(gas_topo, pos[-num:],ff,cutoff=0.9)-compute_energy(gas_topo,pos[-num:],ff,cutoff=0.9, removeLJ=True)-compute_energy_dmff(paramset,gas_topo, pos[-num:], lj_gen, cutoff=0.9)\n"
   ]
  },
  {
   "cell_type": "code",
   "execution_count": null,
   "metadata": {},
   "outputs": [
    {
     "data": {
      "text/plain": [
       "Array(84.02647155, dtype=float64)"
      ]
     },
     "execution_count": 59,
     "metadata": {},
     "output_type": "execute_result"
    }
   ],
   "source": [
    "binding_energy(topo, pos,ff,cutoff=0.9, removeLJ=False)-binding_energy(topo, pos,ff,cutoff=0.9, removeLJ=True)-compute_binding_energy(paramset,topo, pos, lj_gen,numframe=720, cutoff=0.9)"
   ]
  },
  {
   "cell_type": "code",
   "execution_count": null,
   "metadata": {},
   "outputs": [
    {
     "name": "stdout",
     "output_type": "stream",
     "text": [
      "76625213250405.4 83547257.51420507 76625129007205.7\n",
      "17844.671474358973\n"
     ]
    }
   ],
   "source": [
    "pdb = app.PDBFile(\"data/test.pdb\")\n",
    "total_ener = compute_energy(pdb.topology,pdb.getPositions(),ff,cutoff=cutoff,removeLJ=False)\n",
    "pdb = app.PDBFile(\"data/test_frame.pdb\")\n",
    "frame_ener = compute_energy(pdb.topology,pdb.getPositions(),ff,cutoff=cutoff,removeLJ=False)\n",
    "pdb = app.PDBFile(\"data/test_gas.pdb\")\n",
    "gas_ener = compute_energy(pdb.topology,pdb.getPositions(),ff,cutoff=cutoff,removeLJ=False)\n",
    "print(total_ener,frame_ener,gas_ener)\n",
    "print((total_ener-frame_ener-gas_ener)/39)"
   ]
  },
  {
   "cell_type": "code",
   "execution_count": null,
   "metadata": {},
   "outputs": [
    {
     "data": {
      "text/plain": [
       "<Topology; 1 chains, 44 residues, 132 atoms, 88 bonds>"
      ]
     },
     "execution_count": 75,
     "metadata": {},
     "output_type": "execute_result"
    }
   ],
   "source": [
    "pdb.topology"
   ]
  },
  {
   "cell_type": "code",
   "execution_count": null,
   "metadata": {},
   "outputs": [
    {
     "name": "stdout",
     "output_type": "stream",
     "text": [
      "83545048.59292775 83547257.5142127 -94.59817399906291\n"
     ]
    },
    {
     "data": {
      "text/plain": [
       "-50.34102645106562"
      ]
     },
     "execution_count": 30,
     "metadata": {},
     "output_type": "execute_result"
    }
   ],
   "source": [
    "ff = app.ForceField(\"custom_forcefield.xml\")\n",
    "value = binding_energy(topo, pos,ff,cutoff=0.99)\n",
    "value*3/(topo.getNumAtoms()-720)\n",
    "#compute_energy(topo, pos,ff,cutoff=0.99)"
   ]
  },
  {
   "cell_type": "code",
   "execution_count": null,
   "metadata": {},
   "outputs": [],
   "source": []
  },
  {
   "cell_type": "code",
   "execution_count": null,
   "metadata": {},
   "outputs": [
    {
     "name": "stdout",
     "output_type": "stream",
     "text": [
      "<Topology; 1 chains, 44 residues, 132 atoms, 88 bonds> <Topology; 1 chains, 44 residues, 132 atoms, 88 bonds>\n",
      "[Vec3(x=6.539000000000001, y=7.703000000000001, z=18.638000000000005), Vec3(x=6.423000000000001, y=6.552, z=18.55), Vec3(x=6.306000000000001, y=5.401, z=18.463), Vec3(x=1.162, y=17.452, z=8.285), Vec3(x=1.2850000000000001, y=18.576, z=8.545), Vec3(x=1.409, y=19.7, z=8.806), Vec3(x=-1.109, y=6.486000000000001, z=18.305), Vec3(x=-0.867, y=7.609, z=18.464), Vec3(x=-0.625, y=8.732, z=18.623000000000005), Vec3(x=9.821, y=11.672, z=11.895), Vec3(x=9.726, y=10.535, z=11.689), Vec3(x=9.632000000000001, y=9.397, z=11.483), Vec3(x=6.466000000000001, y=5.959, z=1.2970000000000002), Vec3(x=6.538, y=7.115, z=1.3460000000000003), Vec3(x=6.61, y=8.272, z=1.395), Vec3(x=18.338, y=-3.955, z=8.285), Vec3(x=18.394, y=-2.798, z=8.214000000000002), Vec3(x=18.451, y=-1.6420000000000001, z=8.142), Vec3(x=13.204000000000002, y=15.399000000000001, z=1.5790000000000002), Vec3(x=12.918000000000001, y=14.290000000000001, z=1.765), Vec3(x=12.632000000000001, y=13.181000000000001, z=1.9510000000000003), Vec3(x=7.8500000000000005, y=-3.053, z=18.894), Vec3(x=7.272, y=-3.509, z=19.79), Vec3(x=6.693, y=-3.9660000000000006, z=20.686), Vec3(x=-1.7880000000000003, y=15.527, z=1.6600000000000001), Vec3(x=-1.555, y=14.392, z=1.6100000000000003), Vec3(x=-1.321, y=13.257000000000001, z=1.5600000000000003), Vec3(x=16.490000000000002, y=12.343000000000002, z=8.181), Vec3(x=16.476, y=11.210000000000003, z=8.432), Vec3(x=16.462, y=10.078, z=8.684), Vec3(x=5.632000000000001, y=12.991000000000001, z=1.8690000000000002), Vec3(x=5.759, y=14.108, z=1.5800000000000003), Vec3(x=5.8870000000000005, y=15.224000000000002, z=1.291), Vec3(x=13.34, y=6.43, z=1.396), Vec3(x=13.564, y=7.553000000000001, z=1.582), Vec3(x=13.789, y=8.676, z=1.7680000000000002), Vec3(x=-0.48800000000000004, y=6.939000000000001, z=1.6310000000000002), Vec3(x=-0.782, y=8.062000000000001, z=1.626), Vec3(x=-1.075, y=9.184, z=1.622), Vec3(x=10.871000000000002, y=-4.359, z=11.816000000000003), Vec3(x=11.164000000000001, y=-3.2360000000000007, z=11.8), Vec3(x=11.456, y=-2.114, z=11.784), Vec3(x=9.967000000000002, y=14.987000000000002, z=10.914), Vec3(x=9.283, y=14.722, z=10.016), Vec3(x=8.6, y=14.457000000000003, z=9.117), Vec3(x=9.813, y=6.0280000000000005, z=8.576), Vec3(x=10.058, y=4.901, z=8.449), Vec3(x=10.303000000000003, y=3.775, z=8.322), Vec3(x=5.078, y=19.896, z=1.028), Vec3(x=4.706, y=20.992, z=1.108), Vec3(x=4.333, y=22.088, z=1.187), Vec3(x=14.186, y=-0.8000000000000002, z=1.6600000000000001), Vec3(x=14.424000000000001, y=0.3340000000000001, z=1.694), Vec3(x=14.663000000000002, y=1.469, z=1.7280000000000002), Vec3(x=3.5570000000000004, y=4.201, z=8.667), Vec3(x=3.491, y=3.05, z=8.796), Vec3(x=3.426, y=1.899, z=8.925), Vec3(x=10.299, y=2.455, z=11.729000000000001), Vec3(x=10.373, y=3.6010000000000004, z=11.565000000000001), Vec3(x=10.447, y=4.747, z=11.400000000000002), Vec3(x=-3.154, y=-4.308, z=11.573), Vec3(x=-3.2640000000000002, y=-3.1530000000000005, z=11.539), Vec3(x=-3.373, y=-1.999, z=11.506), Vec3(x=2.545, y=11.691, z=11.530000000000001), Vec3(x=2.428, y=10.545, z=11.667000000000002), Vec3(x=2.311, y=9.399, z=11.804000000000002), Vec3(x=13.53, y=6.588000000000001, z=18.389), Vec3(x=13.551000000000002, y=7.744, z=18.485), Vec3(x=13.572, y=8.900000000000002, z=18.58), Vec3(x=-0.159, y=2.133, z=18.441000000000003), Vec3(x=0.259, y=1.052, z=18.479), Vec3(x=0.677, y=-0.03, z=18.516), Vec3(x=-3.659, y=5.017, z=11.925), Vec3(x=-3.934, y=3.892, z=11.86), Vec3(x=-4.208, y=2.767, z=11.794), Vec3(x=17.092, y=2.588, z=8.713), Vec3(x=17.294, y=3.7230000000000003, z=8.579), Vec3(x=17.496000000000002, y=4.857, z=8.446), Vec3(x=2.042, y=9.461, z=8.244), Vec3(x=2.203, y=10.608000000000002, z=8.176000000000002), Vec3(x=2.363, y=11.754, z=8.109), Vec3(x=14.891000000000002, y=-5.125000000000001, z=18.715000000000003), Vec3(x=15.226000000000003, y=-6.235, z=18.695), Vec3(x=15.562000000000001, y=-7.346, z=18.675), Vec3(x=4.139, y=-1.665, z=11.817), Vec3(x=3.91, y=-2.752, z=11.486), Vec3(x=3.6810000000000005, y=-3.84, z=11.155), Vec3(x=6.908000000000001, y=3.0150000000000006, z=1.034), Vec3(x=6.401, y=3.431, z=0.077), Vec3(x=5.894, y=3.8470000000000004, z=-0.8800000000000001), Vec3(x=3.0310000000000006, y=6.296, z=11.168), Vec3(x=3.245, y=5.167000000000001, z=11.328), Vec3(x=3.4580000000000006, y=4.038, z=11.488), Vec3(x=-0.067, y=-0.6480000000000001, z=2.082), Vec3(x=-0.141, y=0.48300000000000004, z=1.835), Vec3(x=-0.21600000000000003, y=1.614, z=1.5890000000000002), Vec3(x=11.107, y=-1.937, z=8.41), Vec3(x=11.3, y=-3.0800000000000005, z=8.372), Vec3(x=11.494, y=-4.223, z=8.335), Vec3(x=-1.643, y=15.976, z=18.462), Vec3(x=-1.444, y=14.835000000000003, z=18.403), Vec3(x=-1.2440000000000002, y=13.694000000000003, z=18.344), Vec3(x=9.668, y=9.296, z=8.266), Vec3(x=9.672, y=10.431, z=8.504000000000001), Vec3(x=9.675, y=11.567, z=8.741), Vec3(x=-4.267000000000001, y=12.214, z=11.141000000000002), Vec3(x=-4.731, y=11.224, z=11.530000000000001), Vec3(x=-5.195, y=10.235000000000001, z=11.919000000000002), Vec3(x=6.045, y=15.707000000000003, z=18.332), Vec3(x=5.901, y=14.556000000000001, z=18.317), Vec3(x=5.758, y=13.405000000000001, z=18.301), Vec3(x=6.904, y=-0.47800000000000004, z=18.186), Vec3(x=7.078000000000001, y=0.669, z=18.194), Vec3(x=7.252000000000001, y=1.816, z=18.203), Vec3(x=14.204, y=-0.424, z=18.756), Vec3(x=14.374000000000002, y=0.698, z=18.516), Vec3(x=14.544, y=1.8210000000000002, z=18.277), Vec3(x=13.001000000000001, y=17.944, z=-1.091), Vec3(x=12.668, y=17.935, z=0.02), Vec3(x=12.335000000000003, y=17.927, z=1.131), Vec3(x=-5.269, y=7.618, z=10.38), Vec3(x=-4.249, y=7.537000000000001, z=9.832), Vec3(x=-3.229, y=7.456, z=9.285), Vec3(x=-4.839, y=14.895, z=11.085), Vec3(x=-4.956, y=15.195, z=9.971), Vec3(x=-5.074, y=15.495000000000001, z=8.856), Vec3(x=12.164000000000001, y=11.656000000000002, z=20.563), Vec3(x=13.016000000000002, y=11.766000000000002, z=19.783), Vec3(x=13.868, y=11.875, z=19.003), Vec3(x=1.2640000000000002, y=15.436, z=10.833000000000002), Vec3(x=2.073, y=15.256, z=10.022), Vec3(x=2.883, y=15.075000000000001, z=9.21)]\n",
      "[Vec3(x=0.6539, y=0.7703000000000001, z=1.8638000000000003), Vec3(x=0.6423000000000001, y=0.6552, z=1.8550000000000002), Vec3(x=0.6306, y=0.5401, z=1.8463000000000003), Vec3(x=0.1162, y=1.7452000000000003, z=0.8285), Vec3(x=0.1285, y=1.8576000000000001, z=0.8545), Vec3(x=0.1409, y=1.97, z=0.8805999999999999), Vec3(x=-0.1109, y=0.6486000000000001, z=1.8305), Vec3(x=-0.0867, y=0.7609, z=1.8464), Vec3(x=-0.0625, y=0.8732, z=1.8623000000000003), Vec3(x=0.9821, y=1.1672, z=1.1895), Vec3(x=0.9726000000000001, y=1.0535, z=1.1689), Vec3(x=0.9632000000000001, y=0.9397000000000001, z=1.1483), Vec3(x=0.6466000000000001, y=0.5959, z=0.1297), Vec3(x=0.6538, y=0.7115, z=0.13460000000000003), Vec3(x=0.661, y=0.8272, z=0.1395), Vec3(x=1.8338, y=-0.3955, z=0.8285), Vec3(x=1.8394, y=-0.2798, z=0.8214000000000001), Vec3(x=1.8451000000000002, y=-0.1642, z=0.8142), Vec3(x=1.3204000000000002, y=1.5399, z=0.1579), Vec3(x=1.2918, y=1.429, z=0.1765), Vec3(x=1.2632, y=1.3181, z=0.19510000000000002), Vec3(x=0.785, y=-0.3053, z=1.8894), Vec3(x=0.7272000000000001, y=-0.3509, z=1.979), Vec3(x=0.6693, y=-0.39660000000000006, z=2.0686), Vec3(x=-0.17880000000000001, y=1.5527, z=0.166), Vec3(x=-0.1555, y=1.4392, z=0.16100000000000003), Vec3(x=-0.1321, y=1.3257, z=0.15600000000000003), Vec3(x=1.649, y=1.2343000000000002, z=0.8180999999999999), Vec3(x=1.6476, y=1.1210000000000002, z=0.8432000000000001), Vec3(x=1.6462, y=1.0078, z=0.8684), Vec3(x=0.5632, y=1.2991000000000001, z=0.1869), Vec3(x=0.5759000000000001, y=1.4108, z=0.15800000000000003), Vec3(x=0.5887, y=1.5224000000000002, z=0.1291), Vec3(x=1.334, y=0.643, z=0.1396), Vec3(x=1.3564, y=0.7553000000000001, z=0.1582), Vec3(x=1.3789, y=0.8676, z=0.1768), Vec3(x=-0.0488, y=0.6939000000000001, z=0.16310000000000002), Vec3(x=-0.0782, y=0.8062, z=0.1626), Vec3(x=-0.1075, y=0.9184, z=0.1622), Vec3(x=1.0871000000000002, y=-0.4359, z=1.1816000000000002), Vec3(x=1.1164, y=-0.32360000000000005, z=1.1800000000000002), Vec3(x=1.1456, y=-0.2114, z=1.1784000000000001), Vec3(x=0.9967000000000001, y=1.4987000000000001, z=1.0914), Vec3(x=0.9283, y=1.4722, z=1.0016), Vec3(x=0.86, y=1.4457000000000002, z=0.9117000000000002), Vec3(x=0.9813000000000001, y=0.6028, z=0.8576000000000001), Vec3(x=1.0058, y=0.4901, z=0.8449), Vec3(x=1.0303000000000002, y=0.3775, z=0.8321999999999999), Vec3(x=0.5078, y=1.9896000000000003, z=0.1028), Vec3(x=0.4706000000000001, y=2.0992, z=0.11080000000000001), Vec3(x=0.4333, y=2.2088, z=0.11870000000000001), Vec3(x=1.4186, y=-0.08000000000000002, z=0.166), Vec3(x=1.4424000000000001, y=0.033400000000000006, z=0.1694), Vec3(x=1.4663000000000002, y=0.1469, z=0.1728), Vec3(x=0.3557, y=0.4201, z=0.8667), Vec3(x=0.3491, y=0.305, z=0.8795999999999999), Vec3(x=0.3426, y=0.1899, z=0.8925000000000001), Vec3(x=1.0299, y=0.24550000000000002, z=1.1729), Vec3(x=1.0372999999999999, y=0.36010000000000003, z=1.1565), Vec3(x=1.0447, y=0.4747, z=1.1400000000000001), Vec3(x=-0.3154, y=-0.4308, z=1.1573), Vec3(x=-0.3264, y=-0.3153, z=1.1539), Vec3(x=-0.33730000000000004, y=-0.19990000000000002, z=1.1506), Vec3(x=0.2545, y=1.1691, z=1.153), Vec3(x=0.24280000000000002, y=1.0545, z=1.1667), Vec3(x=0.2311, y=0.9399, z=1.1804000000000001), Vec3(x=1.353, y=0.6588, z=1.8389), Vec3(x=1.3551000000000002, y=0.7744, z=1.8485), Vec3(x=1.3572, y=0.8900000000000001, z=1.8579999999999999), Vec3(x=-0.0159, y=0.21330000000000002, z=1.8441), Vec3(x=0.025900000000000003, y=0.10520000000000002, z=1.8479), Vec3(x=0.06770000000000001, y=-0.003, z=1.8516), Vec3(x=-0.3659, y=0.5017, z=1.1925000000000001), Vec3(x=-0.3934, y=0.3892, z=1.186), Vec3(x=-0.42080000000000006, y=0.2767, z=1.1794), Vec3(x=1.7092, y=0.25880000000000003, z=0.8713), Vec3(x=1.7294, y=0.3723, z=0.8579000000000001), Vec3(x=1.7496, y=0.4857, z=0.8446), Vec3(x=0.2042, y=0.9461, z=0.8244), Vec3(x=0.2203, y=1.0608000000000002, z=0.8176000000000001), Vec3(x=0.2363, y=1.1754, z=0.8109000000000001), Vec3(x=1.4891, y=-0.5125000000000001, z=1.8715000000000002), Vec3(x=1.5226000000000002, y=-0.6235, z=1.8695000000000002), Vec3(x=1.5562, y=-0.7346, z=1.8675000000000002), Vec3(x=0.41390000000000005, y=-0.1665, z=1.1817), Vec3(x=0.391, y=-0.2752, z=1.1486), Vec3(x=0.36810000000000004, y=-0.384, z=1.1155), Vec3(x=0.6908000000000001, y=0.30150000000000005, z=0.1034), Vec3(x=0.6401, y=0.3431, z=0.0077), Vec3(x=0.5894, y=0.38470000000000004, z=-0.08800000000000001), Vec3(x=0.30310000000000004, y=0.6296, z=1.1168), Vec3(x=0.3245, y=0.5167, z=1.1328), Vec3(x=0.34580000000000005, y=0.40380000000000005, z=1.1488), Vec3(x=-0.006700000000000001, y=-0.06480000000000001, z=0.2082), Vec3(x=-0.0141, y=0.0483, z=0.1835), Vec3(x=-0.0216, y=0.16140000000000002, z=0.1589), Vec3(x=1.1107, y=-0.1937, z=0.8410000000000001), Vec3(x=1.1300000000000001, y=-0.30800000000000005, z=0.8372), Vec3(x=1.1494, y=-0.4223, z=0.8335000000000001), Vec3(x=-0.1643, y=1.5976000000000001, z=1.8462), Vec3(x=-0.1444, y=1.4835000000000003, z=1.8403), Vec3(x=-0.12440000000000001, y=1.3694000000000002, z=1.8344000000000003), Vec3(x=0.9668, y=0.9296, z=0.8266), Vec3(x=0.9672000000000001, y=1.0431, z=0.8504), Vec3(x=0.9675000000000001, y=1.1567, z=0.8741), Vec3(x=-0.4267000000000001, y=1.2214, z=1.1141), Vec3(x=-0.4731, y=1.1224, z=1.153), Vec3(x=-0.5195000000000001, y=1.0235, z=1.1919000000000002), Vec3(x=0.6045, y=1.5707000000000002, z=1.8332000000000002), Vec3(x=0.5901, y=1.4556, z=1.8317), Vec3(x=0.5758, y=1.3405, z=1.8300999999999998), Vec3(x=0.6904, y=-0.0478, z=1.8186), Vec3(x=0.7078000000000001, y=0.0669, z=1.8194), Vec3(x=0.7252000000000001, y=0.1816, z=1.8203), Vec3(x=1.4204, y=-0.0424, z=1.8756000000000002), Vec3(x=1.4374000000000002, y=0.0698, z=1.8516), Vec3(x=1.4544000000000001, y=0.1821, z=1.8277), Vec3(x=1.3001, y=1.7944, z=-0.1091), Vec3(x=1.2668, y=1.7934999999999999, z=0.002), Vec3(x=1.2335000000000003, y=1.7927, z=0.1131), Vec3(x=-0.5269, y=0.7618, z=1.038), Vec3(x=-0.4249, y=0.7537, z=0.9832000000000001), Vec3(x=-0.3229, y=0.7456, z=0.9285000000000001), Vec3(x=-0.48390000000000005, y=1.4895, z=1.1085), Vec3(x=-0.49560000000000004, y=1.5195, z=0.9971000000000001), Vec3(x=-0.5074, y=1.5495, z=0.8856), Vec3(x=1.2164000000000001, y=1.1656000000000002, z=2.0563), Vec3(x=1.3016, y=1.1766, z=1.9783000000000002), Vec3(x=1.3868, y=1.1875, z=1.9003), Vec3(x=0.1264, y=1.5436, z=1.0833000000000002), Vec3(x=0.2073, y=1.5256, z=1.0022), Vec3(x=0.2883, y=1.5075, z=0.9210000000000002)] nm\n"
     ]
    }
   ],
   "source": [
    "print(gas_topo, pdb.topology)\n",
    "print(pos[-num:])\n",
    "print(pdb.getPositions())"
   ]
  },
  {
   "cell_type": "code",
   "execution_count": null,
   "metadata": {},
   "outputs": [
    {
     "name": "stdout",
     "output_type": "stream",
     "text": [
      "120423982.90770023 75174720.022544 45244649.36190946\n",
      "118.29546786596377\n"
     ]
    }
   ],
   "source": [
    "total_ener = compute_energy(topo,pos,ff,cutoff=cutoff,removeLJ=True)\n",
    "#print(frame_topo, gas_topo,len(positions[:-3]))\n",
    "#print(frame_topo, gas_topo)\n",
    "frame_ener = compute_energy(frame_topo,pos[:-num],ff,cutoff=cutoff, removeLJ=True)\n",
    "gas_ener = compute_energy(gas_topo,pos[-num:],ff,cutoff=cutoff, removeLJ=True)\n",
    "print(total_ener,frame_ener,gas_ener)\n",
    "print((total_ener-frame_ener-gas_ener)/39)"
   ]
  },
  {
   "cell_type": "code",
   "execution_count": null,
   "metadata": {},
   "outputs": [
    {
     "name": "stdout",
     "output_type": "stream",
     "text": [
      "6.713934248666044e+38 6.71393450283681e+38 25563493558.98609\n",
      "-6.517199130903442e+29\n"
     ]
    }
   ],
   "source": [
    "total_ener = compute_energy(topo,pos,ff,cutoff=cutoff,removeLJ=False)\n",
    "#print(frame_topo, gas_topo,len(positions[:-3]))\n",
    "#print(frame_topo, gas_topo)\n",
    "frame_ener = compute_energy(frame_topo,pos[:-num],ff,cutoff=cutoff, removeLJ=False)\n",
    "gas_ener = compute_energy(gas_topo,pos[-num:],ff,cutoff=cutoff, removeLJ=False)\n",
    "print(total_ener,frame_ener,gas_ener)\n",
    "print((total_ener-frame_ener-gas_ener)/39)"
   ]
  },
  {
   "cell_type": "code",
   "execution_count": null,
   "metadata": {},
   "outputs": [
    {
     "data": {
      "text/plain": [
       "Quantity(value=(Vec3(x=2.1522, y=0.0, z=0.0), Vec3(x=-0.24698932805374343, y=2.230064116079975, z=0.0), Vec3(x=-0.6299589102310619, y=-0.7431837110081535, z=1.999918724126719)), unit=nanometer)"
      ]
     },
     "execution_count": 18,
     "metadata": {},
     "output_type": "execute_result"
    }
   ],
   "source": [
    "pdb.topology.getPeriodicBoxVectors()"
   ]
  },
  {
   "cell_type": "code",
   "execution_count": null,
   "metadata": {},
   "outputs": [
    {
     "data": {
      "text/plain": [
       "'./traj/9/19.pdb'"
      ]
     },
     "execution_count": 34,
     "metadata": {},
     "output_type": "execute_result"
    }
   ],
   "source": [
    "os.path.join(gas_dir,gas_path)"
   ]
  },
  {
   "cell_type": "code",
   "execution_count": null,
   "metadata": {},
   "outputs": [
    {
     "data": {
      "text/plain": [
       "'./traj/6/1.pdb'"
      ]
     },
     "execution_count": 25,
     "metadata": {},
     "output_type": "execute_result"
    }
   ],
   "source": [
    "os.path.join(gas_dir,gas_path)"
   ]
  },
  {
   "cell_type": "code",
   "execution_count": null,
   "metadata": {},
   "outputs": [],
   "source": [
    "def simple_merge(frame, loading, outputpath):\n",
    "    \"\"\"\n",
    "    \n",
    "    This function is writen for CO2. It is common to meet problems when you try to transfer\n",
    "\n",
    "    \"\"\"\n",
    "    gas = app.PDBFile(loading)\n",
    "    gas_topo, gas_pos = gas.topology, gas.positions\n",
    "    frame = app.PDBFile(frame)\n",
    "    new_topology = frame.topology\n",
    "    new_positions = frame.getPositions().value_in_unit(unit=unit.angstrom)\n",
    "    for chain in gas_topo.chains():\n",
    "        atom_map = {}  # Keep track of the mapping between original atoms and new atoms\n",
    "        for residue in chain.residues():\n",
    "            for chain0 in new_topology.chains():  \n",
    "                new_residue = new_topology.addResidue(residue.name, chain0)\n",
    "                continue\n",
    "            for atom in residue.atoms():\n",
    "                #print(atom)\n",
    "                new_atom = new_topology.addAtom(atom.name, atom.element, new_residue)\n",
    "                atom_map[atom] = new_atom\n",
    "            continue\n",
    "        # Copy bonds for the unique residue type\n",
    "        for bond in gas_topo.bonds():\n",
    "            atom1, atom2 = bond\n",
    "            if atom1 in atom_map and atom2 in atom_map:\n",
    "                #print(atom1,atom_map[atom1])\n",
    "                #print(atom2,atom_map[atom2])\n",
    "                new_topology.addBond(atom_map[atom1], atom_map[atom2])  # Add the bond to the subset topology\n",
    "\n",
    "    for pos in gas_pos.value_in_unit(unit=unit.angstrom):\n",
    "        new_positions.append(pos)\n",
    "    app.PDBFile.writeFile(new_topology, new_positions, open(outputpath, 'w'))"
   ]
  },
  {
   "cell_type": "code",
   "execution_count": null,
   "metadata": {},
   "outputs": [
    {
     "data": {
      "text/plain": [
       "['1.pdb',\n",
       " '41.pdb',\n",
       " '40.pdb',\n",
       " '43.pdb',\n",
       " '26.pdb',\n",
       " '46.pdb',\n",
       " '10.pdb',\n",
       " '48.pdb',\n",
       " '34.pdb',\n",
       " '6.pdb',\n",
       " '9.pdb',\n",
       " '44.pdb',\n",
       " '7.pdb',\n",
       " '42.pdb',\n",
       " '17.pdb',\n",
       " '33.pdb',\n",
       " '15.pdb',\n",
       " '32.pdb',\n",
       " '8.pdb',\n",
       " '24.pdb',\n",
       " '3.pdb',\n",
       " '35.pdb',\n",
       " '5.pdb',\n",
       " '31.pdb',\n",
       " '12.pdb',\n",
       " '13.pdb',\n",
       " '37.pdb',\n",
       " '29.pdb',\n",
       " '38.pdb',\n",
       " '47.pdb',\n",
       " '45.pdb',\n",
       " '18.pdb',\n",
       " '28.pdb',\n",
       " '39.pdb',\n",
       " '27.pdb',\n",
       " '14.pdb',\n",
       " '16.pdb',\n",
       " '23.pdb',\n",
       " '25.pdb',\n",
       " '2.pdb',\n",
       " '20.pdb',\n",
       " '11.pdb',\n",
       " '21.pdb',\n",
       " '36.pdb',\n",
       " '22.pdb',\n",
       " '49.pdb',\n",
       " '30.pdb',\n",
       " '4.pdb',\n",
       " '19.pdb']"
      ]
     },
     "execution_count": 21,
     "metadata": {},
     "output_type": "execute_result"
    }
   ],
   "source": [
    "gas_path"
   ]
  },
  {
   "cell_type": "code",
   "execution_count": null,
   "metadata": {},
   "outputs": [],
   "source": [
    "gas = \"./traj/1/10.pdb\"\n",
    "scaling_factors = (3,3,2)\n",
    "create_supercell(\"data/MIL-120.pdb\", scaling_factors, \"scaled_frame.pdb\")\n",
    "simple_merge(\"scaled_frame.pdb\",os.path.join(gas_dir,gas_path),\"data/site1_supercell.pdb\")"
   ]
  },
  {
   "cell_type": "code",
   "execution_count": null,
   "metadata": {},
   "outputs": [],
   "source": [
    "def gas_generate(path):\n",
    "    \"\"\"\n",
    "    Input:\n",
    "        Gas pdb file path\n",
    "    Output:\n",
    "        gas pdb topology and the new positions (nm) I check by wrap_positions\n",
    "    \"\"\"\n",
    "    gas = app.PDBFile(path)\n",
    "    direct_vectors = gas.topology.getPeriodicBoxVectors().value_in_unit(unit.nanometer)\n",
    "    neigh = np.dot(gas.getPositions().value_in_unit(unit.nanometer)[1],np.linalg.inv(direct_vectors))\n",
    "    new_positions = wrap_positions(gas.getPositions().value_in_unit(unit.nanometer), \n",
    "                                   cell=gas.topology.getPeriodicBoxVectors().value_in_unit(unit.nanometer),\n",
    "                                   pbc=[1, 1, 1],center=neigh)\n",
    "    new_positions = unit.Quantity(value=new_positions, unit=unit.nanometer)\n",
    "    return gas.topology, new_positions"
   ]
  },
  {
   "cell_type": "code",
   "execution_count": null,
   "metadata": {},
   "outputs": [],
   "source": [
    "'1'.isdigit()"
   ]
  },
  {
   "cell_type": "code",
   "execution_count": null,
   "metadata": {},
   "outputs": [],
   "source": [
    "path = \"process_file/\"\n",
    "if not os.path.exists(path):\n",
    "    os.makedirs(path)\n",
    "\n",
    "os.system(\"cp data/site1_supercell.pdb \"+os.path.join(path,\"site1-0.pdb\"))\n",
    "os.system(\"cp data/site2_supercell.pdb \"+os.path.join(path,\"site2-0.pdb\"))\n",
    "os.system(\"cp data/custom_forcefield.xml \"+os.path.join(path,\"init-0.xml\"))\n",
    "\n",
    "loop_time = 1000\n",
    "\n",
    "#site1_pos = runMD(os.path.join(path,f\"site1-0.pdb\"),ff)\n",
    "#site2_pos = runMD(os.path.join(path,f\"site2-0.pdb\"),ff)\n",
    "\n",
    "for nloop in range(1, loop_time+1):\n",
    "    ff = app.ForceField(os.path.join(path,f\"init-{nloop-1}.xml\"))\n",
    "    #print(\"Energy Minization on site 1 and 2\")\n",
    "    site1_pos = annealing(os.path.join(path,f\"site1-{nloop-1}.pdb\"),ff)\n",
    "    site2_pos = annealing(os.path.join(path,f\"site2-{nloop-1}.pdb\"),ff)\n",
    "    # compute binding Energy\n",
    "    ener_site1 = binding_energy(topodata, site1_pos, ff)\n",
    "    ener_site2 = binding_energy(topodata, site2_pos, ff)\n",
    "    refer_site1 = binding_energy(topodata, site1_pos, ff, removeLJ=True)\n",
    "    refer_site2 = binding_energy(topodata, site2_pos, ff, removeLJ=True)\n",
    "    print(\"Error: \",compute_binding_energy(paramset,topodata, site1_pos, lj_gen, numframe=1920,cutoff=cutoff)+refer_site1-ener_site1)\n",
    "    print(\"Error: \",compute_binding_energy(paramset,topodata, site2_pos, lj_gen, numframe=1920,cutoff=cutoff)+refer_site2-ener_site2)\n",
    "    def loss(params):\n",
    "        error_jax_site1 = compute_binding_energy(params,topodata, site1_pos, lj_gen, numframe=1920,cutoff=cutoff)+refer_site1-target_site1\n",
    "        error_jax_site2 = compute_binding_energy(params,topodata, site2_pos, lj_gen, numframe=1920,cutoff=cutoff)+refer_site2-target_site2\n",
    "        return  jnp.power(error_jax_site1, 2)+jnp.power(error_jax_site2, 2)\n",
    "    v_and_g = jax.value_and_grad(loss, 0)\n",
    "    v, g = v_and_g(paramset)\n",
    "    print(\"Loss:\", v)\n",
    "        \n",
    "    # update parameters\n",
    "\n",
    "    updates, opt_state = optimizer.update(g, opt_state)\n",
    "    updates.parameters = update_mask(updates.parameters,paramset.mask)\n",
    "    paramset = optax.apply_updates(paramset, updates)\n",
    "    paramset = jax.tree_map(lambda x: jnp.clip(x, 0.0, 1e8), paramset)\n",
    "    #print(paramset.mask)\n",
    "    # upate ffinfo\n",
    "    lj_gen.overwrite(paramset) # I change overwrite function to ensure the mask paramset will be ignore in update\n",
    "    #write_xml(lj_gen, os.path.join(path, f\"init-{nloop}.pdb\"))    \n",
    "    app.PDBFile.writeFile(topodata, site1_pos, open(os.path.join(path,f\"site1-{nloop}.pdb\"), 'w'))\n",
    "    app.PDBFile.writeFile(topodata, site2_pos, open(os.path.join(path,f\"site2-{nloop}.pdb\"), 'w'))\n",
    "    rewrite_xml(lj_gen.ffinfo, os.path.join(path,f\"init-{nloop}.xml\"), os.path.join(path,f\"init-{nloop-1}.xml\"))\n",
    "    if v<4:\n",
    "        print(lj_gen.ffinfo[\"Forces\"][lj_gen.name][\"node\"])\n",
    "        print(compute_binding_energy(paramset,topodata, site1_pos, lj_gen, numframe=1920,cutoff=cutoff)+refer_site1)\n",
    "        print(compute_binding_energy(paramset,topodata, site2_pos, lj_gen, numframe=1920,cutoff=cutoff)+refer_site2)\n",
    "        break"
   ]
  },
  {
   "cell_type": "code",
   "execution_count": null,
   "metadata": {},
   "outputs": [],
   "source": [
    "import xml.etree.ElementTree as ET\n",
    "import xml.dom.minidom as minidom\n",
    "\n",
    "def convert_dict_values_to_str(d):\n",
    "    for key, value in d.items():\n",
    "        d[key] = str(value)\n",
    "    return d\n",
    "\n",
    "def write_xml(ffinfo, path):\n",
    "    # Create the root element\n",
    "    root = ET.Element(\"ForceField\")\n",
    "\n",
    "    # Create the LennardJonesForce element\n",
    "    lj_force = ET.SubElement(root, \"LennardJonesForce\")\n",
    "    lj_force.set(\"lj14scale\", \"0.50000\")\n",
    "    # Add Atom elements for each atom\n",
    "    for node in ffinfo['Forces']['LennardJonesForce']['node']:\n",
    "        atom = ET.SubElement(lj_force, node['name'])\n",
    "        atom.set(\"epsilon\", node['attrib'][\"epsilon\"])\n",
    "        atom.set(\"sigma\", node['attrib'][\"sigma\"])\n",
    "        atom.set(\"type\", node['attrib'][\"type\"])\n",
    "    # Create an ElementTree\n",
    "    tree = ET.ElementTree(root)\n",
    "\n",
    "    # Convert the ElementTree to a formatted string with line breaks\n",
    "    xml_string = minidom.parseString(ET.tostring(root)).toprettyxml(indent=\"    \")\n",
    "\n",
    "    # Remove the XML declaration line\n",
    "    xml_lines = xml_string.split(\"\\n\")[1:]\n",
    "\n",
    "    # Write the formatted XML string to a file\n",
    "    with open(path, \"w\") as xml_file:\n",
    "        xml_file.write(\"\\n\".join(xml_lines))\n",
    "\n",
    "def rewrite_xml(ffinfo, path, origin=\"custom_forcefield.xml\"):\n",
    "    # Load the XML file\n",
    "    tree = ET.parse(origin)\n",
    "    root = tree.getroot()\n",
    "\n",
    "    # Find the <NonbondedForce> element\n",
    "    nonbonded_force_element = root.find(\".//NonbondedForce\")\n",
    "\n",
    "    # Modify the content of the <NonbondedForce> element\n",
    "    nonbonded_force_element.clear()  # Remove existing content\n",
    "    use_attribute_element = ET.SubElement(nonbonded_force_element, \"UseAttributeFromResidue\", attrib={\"name\": \"charge\"})\n",
    "    use_attribute_element.tail = '\\n        '\n",
    "    for idx, node in enumerate(ffinfo['Forces']['LennardJonesForce']['node']):\n",
    "        atoms = ET.SubElement(nonbonded_force_element, node['name'], attrib= convert_dict_values_to_str(node['attrib']))\n",
    "        atoms.tail = '\\n        '\n",
    "    # Add missing attributes to <NonbondedForce>\n",
    "    nonbonded_force_element.set(\"coulomb14scale\", \"0.8333333333333334\")\n",
    "    nonbonded_force_element.set(\"lj14scale\", \"0.50\")\n",
    "    # Add <UseAttributeFromResidue name=\"charge\"/>\n",
    "    \n",
    "    # Save the modified XML file\n",
    "    tree.write(path)"
   ]
  },
  {
   "cell_type": "code",
   "execution_count": null,
   "metadata": {},
   "outputs": [],
   "source": [
    "def runMD(pdbpath, ff):\n",
    "    global SET_temperature\n",
    "    pdb = app.PDBFile(pdbpath)\n",
    "    system = ff.createSystem(pdb.topology, nonbondedMethod=app.PME, nonbondedCutoff=1.2*unit.nanometer, constraints=None, removeCMMotion=False)\n",
    "    for force in system.getForces():\n",
    "        if isinstance(force, mm.NonbondedForce):\n",
    "            force.setUseDispersionCorrection(False)\n",
    "    integ = mm.LangevinIntegrator(SET_temperature*unit.kelvin, 1/unit.picosecond, 2.5*unit.femtosecond)\n",
    "    simulation = app.Simulation(pdb.topology, system, integ)\n",
    "    simulation.context.setPositions(pdb.getPositions())\n",
    "    simulation.step(1000)\n",
    "    simulation.minimizeEnergy(maxIterations=1000)\n",
    "    return simulation.context.getState(getPositions=True).getPositions()"
   ]
  },
  {
   "cell_type": "code",
   "execution_count": null,
   "metadata": {},
   "outputs": [],
   "source": [
    "\"\"\"\n",
    "Description\n",
    "-----------\n",
    "Example script of how to run GCMC/MD in OpenMM for a simple water system\n",
    "\n",
    "Note that this simulation is only an example, and is not long enough\n",
    "to see equilibrated behaviour\n",
    "\n",
    "Marley Samways\n",
    "\"\"\"\n",
    "\n",
    "from simtk.openmm.app import *\n",
    "from simtk.openmm import *\n",
    "from simtk.unit import *\n",
    "from sys import stdout\n",
    "import numpy as np\n",
    "\n",
    "from openmmtools.integrators import BAOABIntegrator\n",
    "\n",
    "import grand\n",
    "\n",
    "# Load in a water box PDB...\n",
    "\n",
    "dest = \"/home/yutao/project/github/DMFF/grand/examples/water\"\n",
    "\n",
    "pdb = PDBFile(os.path.join(dest,'water_box-eq.pdb'))\n",
    "\n",
    "# Add ghost waters,\n",
    "pdb.topology, pdb.positions, ghosts = grand.utils.add_ghosts(pdb.topology,\n",
    "                                                             pdb.positions,\n",
    "                                                             n=10,\n",
    "                                                             pdb='water-ghosts.pdb')\n",
    "\n",
    "ff = ForceField(os.path.join(dest,'tip3p.xml'))\n",
    "system = ff.createSystem(pdb.topology,\n",
    "                         nonbondedMethod=PME,\n",
    "                         nonbondedCutoff=12.0*angstroms,\n",
    "                         switchDistance=10.0*angstroms,\n",
    "                         constraints=HBonds)\n",
    "\n",
    "# Create GCMC sampler object - sampling the entire simulation volume\n",
    "gcmc_mover = grand.samplers.StandardGCMCSystemSampler(system=system,\n",
    "                                                      topology=pdb.topology,\n",
    "                                                      temperature=300*kelvin,\n",
    "                                                      boxVectors=np.array(pdb.topology.getPeriodicBoxVectors()),\n",
    "                                                      overwrite=False)\n",
    "\n"
   ]
  },
  {
   "cell_type": "code",
   "execution_count": null,
   "metadata": {},
   "outputs": [],
   "source": [
    "grand.samplers.StandardGCMCSystemSampler??"
   ]
  },
  {
   "cell_type": "code",
   "execution_count": null,
   "metadata": {},
   "outputs": [],
   "source": [
    "# Langevin integrator\n",
    "integrator = BAOABIntegrator(300*kelvin, 1.0/picosecond, 0.002*picoseconds)\n",
    "\n",
    "\n",
    "simulation = Simulation(pdb.topology, system, integrator)\n",
    "simulation.context.setPositions(pdb.positions)\n",
    "simulation.context.setVelocitiesToTemperature(300*kelvin)\n",
    "simulation.context.setPeriodicBoxVectors(*pdb.topology.getPeriodicBoxVectors())\n",
    "\n",
    "# Switch off ghost waters and in sphere\n",
    "gcmc_mover.initialise(simulation.context, ghosts)\n",
    "\n",
    "# Equilibrate water distribution - 10k moves over 5 ps\n",
    "print(\"Equilibration...\")\n",
    "for i in range(50):\n",
    "    # Carry out 200 moves every 100 fs\n",
    "    gcmc_mover.move(simulation.context, 200)\n",
    "    simulation.step(50)\n",
    "print(\"{}/{} equilibration GCMC moves accepted. N = {}\".format(gcmc_mover.n_accepted,\n",
    "                                                               gcmc_mover.n_moves,\n",
    "                                                               gcmc_mover.N))\n",
    "\n",
    "# Add StateDataReporter for production\n",
    "simulation.reporters.append(StateDataReporter(stdout,\n",
    "                                              1000,\n",
    "                                              step=True,\n",
    "                                              potentialEnergy=True,\n",
    "                                              temperature=True,\n",
    "                                              volume=True))\n",
    "# Reset GCMC statistics\n",
    "gcmc_mover.reset()\n",
    "\n",
    "# Run simulation\n",
    "print(\"\\n\\nProduction\")\n",
    "for i in range(50):\n",
    "    # Carry out 100 GCMC moves per 1 ps of MD\n",
    "    simulation.step(500)\n",
    "    gcmc_mover.move(simulation.context, 100)\n",
    "    # Write data out\n",
    "    gcmc_mover.report(simulation)\n",
    "\n",
    "#\n",
    "# Need to process the trajectory for visualisation\n",
    "#\n",
    "\n",
    "# Move ghost waters away\n",
    "grand.utils.shift_ghost_waters(ghost_file='gcmc-ghost-wats.txt',\n",
    "                               topology='water-ghosts.pdb',\n",
    "                               trajectory='water-raw.dcd',\n",
    "                               output='water-gcmc.dcd')\n"
   ]
  },
  {
   "cell_type": "code",
   "execution_count": null,
   "metadata": {},
   "outputs": [],
   "source": [
    "# I want to use tip3p.xml file and water_box-eq.pdb file and add the directory \n",
    "# to the system path\n",
    "sys.path.append(\"/home/leexa/Programs/openmmforcefields/\")  \n",
    "\n"
   ]
  },
  {
   "cell_type": "markdown",
   "metadata": {},
   "source": [
    "This is the test part"
   ]
  },
  {
   "cell_type": "code",
   "execution_count": 1,
   "metadata": {},
   "outputs": [
    {
     "name": "stderr",
     "output_type": "stream",
     "text": [
      "Warning on use of the timeseries module: If the inherent timescales of the system are long compared to those being analyzed, this statistical inefficiency may be an underestimate.  The estimate presumes the use of many statistically independent samples.  Tests should be performed to assess whether this condition is satisfied.   Be cautious in the interpretation of the data.\n"
     ]
    }
   ],
   "source": [
    "# this is some self-defined functions for testing the model\n",
    "\n",
    "# These package is inherited from Lenard-Jones optimization part of DMFF\n",
    "\n",
    "import openmm.app as app\n",
    "import openmm as mm\n",
    "import openmm.unit as unit\n",
    "import numpy as np\n",
    "import jax\n",
    "import jax.numpy as jnp\n",
    "import dmff\n",
    "from dmff.api.xmlio import XMLIO\n",
    "from dmff.api.paramset import ParamSet\n",
    "from dmff.generators.classical import CoulombGenerator, LennardJonesGenerator\n",
    "from dmff.api.hamiltonian import Hamiltonian\n",
    "from dmff.operators import ParmedLennardJonesOperator\n",
    "from dmff import NeighborListFreud\n",
    "from dmff.mbar import ReweightEstimator\n",
    "import mdtraj as md\n",
    "from tqdm import tqdm, trange\n",
    "import parmed\n",
    "import sys\n",
    "import os\n",
    "from dmff.api.topology import DMFFTopology\n",
    "# this is a package I write to solve some IO problems utils.py\n",
    "from utils import create_supercell, gas_generate,add_loading, simple_merge\n",
    "from utils import cutoff_topology\n",
    "import matplotlib.pyplot as plt\n",
    "import optax\n",
    "from utils import extract_from_raspa\n",
    "from IPython.display import display\n",
    "\"\"\"\n",
    "\n",
    "Superparameters for Lenard-Jone Potential optimization\n",
    "\n",
    "\"\"\"\n",
    "Number_points = 9           ## must be smaller than len(picked_ls)\n",
    "Trajectory_length = 250#250          #液体pdb文件的个数\n",
    "target_site1 = -50.60                  #拟合的目标binding energy\n",
    "target_site2 = -46.69           #拟合的目标binding energy\n",
    "SET_temperature=  303           #温度设定\n",
    "time_gap=   2.2                      #分子动力学模拟过程中每一个frame的时间间隔，单位是皮秒picosecond   推荐2-4ps\n",
    "loop_time =   100                  #迭代循环次数    推荐50-100\n",
    "scaling_factors = (3,3,2)\n",
    "cutoff = 0.905     #1.3 # unit is nanometer\n",
    "\n",
    "Transfer_unit = 2.7719416667/5.6100437023 \n",
    "\n",
    "\n",
    "\n",
    "pressure_list = [\n",
    "            0.021648873072361,\n",
    "            0.038256227758007,\n",
    "            0.059015421115065,\n",
    "            0.077698695136418,\n",
    "            0.09638196915777,\n",
    "            0.14827995255042,\n",
    "            0.20017793594306,\n",
    "            0.24584816132859,\n",
    "            0.29774614472123,\n",
    "            0.34756820877817,\n",
    "            0.39739027283511,\n",
    "            0.44928825622776,\n",
    "            0.49495848161329,\n",
    "            0.60083036773428,\n",
    "            0.69839857651246,\n",
    "            0.80219454329775,\n",
    "            0.90183867141163,\n",
    "            0.99733096085409,\n",
    "            1.1986951364176,\n",
    "            1.3959074733096,\n",
    "            1.5993475682088,\n",
    "            1.7986358244365,\n",
    "            2.0020759193357\n",
    "        ]\n",
    "\n",
    "arr_3 = np.loadtxt(\"/home/yutao/dataset/exp_303.txt\", delimiter=',')\n",
    "\n",
    "picked_ls = list(range(Number_points))#[0,1,2,3,4,5,6,7,8,9] #[0, 2, 4, 6, 8, 10, 14, 18, 22]#[0, 3, 6, 9, 12, 15, 18]\n",
    "picked_pressure = [pressure_list[i] for i in picked_ls]\n",
    "#print(picked_pressure)\n",
    "#picked_isotherm = [arr_3[i,1]*Transfer_unit*2/1.5 for i in picked_ls]\n",
    "picked_isotherm = [arr_3[i,1]*Transfer_unit for i in picked_ls]\n",
    "def is_close_to_list(value, value_list):\n",
    "    for list_value in value_list:\n",
    "        relative_error = abs((value - list_value) / list_value)\n",
    "        if relative_error < 0.01:\n",
    "            return 1\n",
    "    return 0\n",
    "\n",
    "import os\n",
    "import numpy as np\n",
    "from utils import scaling_gas, extract_from_raspa, write_scaling_gas\n",
    "bar = 10**5\n",
    "def move_traj(dest_path = \"/home/yutao/project/MIL-120/traj1/\",picked_pressure=picked_pressure, copy_to_path = \"./traj1/\"):\n",
    "    traj_ls = os.listdir(dest_path)\n",
    "    isotherm_data = [[],[]] # the first list is for pressure, the second is for loading\n",
    "    jdx = 0 \n",
    "    for traj in extract_from_raspa(traj_ls):\n",
    "        pdb_file = traj[1]\n",
    "        if not pdb_file.endswith(\".pdb\") or 'Movie_framework' not in pdb_file:\n",
    "            continue\n",
    "        if not is_close_to_list(float(traj[0])/bar, picked_pressure):\n",
    "            continue\n",
    "        isotherm_data[0].append(float(traj[0])/bar)\n",
    "        pdb_path = os.path.join(dest_path, pdb_file)\n",
    "        with open(pdb_path) as f:\n",
    "            lines = f.readlines()\n",
    "        num_atoms_list = []  # List to store the number of atoms in each structure\n",
    "        index = 0\n",
    "        write_idx = 1\n",
    "        num_atoms = 0  # Variable to store the number of atoms in the current structure\n",
    "        directory = copy_to_path+f\"{jdx+1}\"\n",
    "        jdx += 1\n",
    "        if not os.path.exists(directory):\n",
    "            os.makedirs(directory)\n",
    "            print(\"Directory created:\", directory)\n",
    "        for line in lines:\n",
    "            if line.startswith(\"MODEL\"):\n",
    "                if index>=150:\n",
    "                    write_scaling_gas(block_coords, \"data/gas.pdb\", write_idx, dest_path=directory)\n",
    "                    write_idx += 1\n",
    "                block_coords = []\n",
    "                block_Csym = []\n",
    "                index += 1\n",
    "                num_atoms_list.append(num_atoms)  # Add the number of atoms to the list\n",
    "                num_atoms = 0  # Reset the number of atoms for the next structure\n",
    "            if line.startswith(\"ATOM\"):\n",
    "                parts = line.split()\n",
    "                coords = np.array([float(parts[4]), float(parts[5]), float(parts[6])])\n",
    "                block_coords.append(coords)\n",
    "                block_Csym.append(parts[-1])\n",
    "                num_atoms += 1  # Increment the number of atoms\n",
    "        #num_atoms_list.append(num_atoms)  # Add the number of atoms for the last structure\n",
    "        isotherm_data[1].append(sum(num_atoms_list)/len(num_atoms_list)/3/3/2/3)\n",
    "        #print(\"Number of atoms in each structure for\", pdb_file, \":\", num_atoms_list)\n",
    "    return isotherm_data\n",
    "\n",
    "def update_mask(parameters, mask):\n",
    "    updated_parameters = parameters.copy()\n",
    "    \n",
    "    for force_type, force_params in mask.items():\n",
    "        if force_type in parameters:\n",
    "            for param, mask_array in force_params.items():\n",
    "                if param in parameters[force_type]:\n",
    "                    # Update values based on the mask\n",
    "                    updated_parameters[force_type][param] = jnp.where(mask_array == 1, \n",
    "                                                                      parameters[force_type][param], \n",
    "                                                                      0)\n",
    "    return updated_parameters\n",
    "\n",
    "def compute_binding_energy(paramset,topo, pos, lj_gen, numframe=720,cutoff=cutoff):\n",
    "    topodata = dmff.DMFFTopology(topo)\n",
    "    # Because dmfftopology does not provide a good entry for open.topology object generated by pdb file, I had to suplement something\n",
    "    for atom in topodata.atoms():\n",
    "        if atom.residue.name==\"MOL\":\n",
    "            atom.meta['type']=atom.meta['element']\n",
    "            atom.meta['class']=atom.meta['element']\n",
    "        elif atom.residue.name==\"GAS\":\n",
    "            #print(atom.meta)\n",
    "            atom.meta['type']=atom.meta['element']+\"_co2\"\n",
    "            atom.meta['class']=atom.meta['element']+\"_co2\"\n",
    "        #print(atom.meta['element'])\n",
    "    cov_mat = topodata.buildCovMat()\n",
    "    lj_force = lj_gen.createPotential(\n",
    "    topodata, nonbondedMethod=app.PME, nonbondedCutoff=cutoff, args={})\n",
    "    pos_jnp = jnp.array(pos.value_in_unit(unit.nanometer))\n",
    "    cell_jnp = jnp.array(topo.getPeriodicBoxVectors().value_in_unit(unit.nanometer))\n",
    "    cov_mat=cov_mat.at[:numframe,:numframe].set(1)\n",
    "    nblist = NeighborListFreud(topo.getPeriodicBoxVectors().value_in_unit(unit.nanometer), cutoff, cov_mat)\n",
    "    nblist.allocate(pos_jnp, cell_jnp)\n",
    "    pairs = jnp.array(nblist.pairs)\n",
    "    ener = lj_force(pos_jnp,cell_jnp, pairs, paramset)\n",
    "    return ener\n",
    "\n",
    "def detect_parameter_change(paramset_new, paramset_old, error_threshold=0.4):\n",
    "    # Get the initial parameters\n",
    "    initial_sigma = paramset_old.parameters['LennardJonesForce']['sigma']\n",
    "    initial_epsilon = paramset_old.parameters['LennardJonesForce']['epsilon']\n",
    "    \n",
    "    # Get the updated parameters\n",
    "    updated_sigma = paramset_new.parameters['LennardJonesForce']['sigma']\n",
    "    updated_epsilon = paramset_new.parameters['LennardJonesForce']['epsilon']\n",
    "    \n",
    "    # Calculate the percentage change for each parameter\n",
    "    sigma_change = np.abs(updated_sigma - initial_sigma) / initial_sigma\n",
    "    epsilon_change = np.abs(updated_epsilon - initial_epsilon) / initial_epsilon\n",
    "\n",
    "    # Find the indices of values that have changed by more than 40%\n",
    "    sigma_indices = np.where(sigma_change > error_threshold)[0]\n",
    "    epsilon_indices = np.where(epsilon_change > error_threshold)[0]\n",
    "    \n",
    "    return sigma_indices, epsilon_indices\n",
    "\n",
    "def fix_changed_parameters(paramset_new, sigma_indices, epsilon_indices):\n",
    "    for idx in sigma_indices:\n",
    "        paramset.mask['LennardJonesForce']['sigma'] = paramset.mask['LennardJonesForce']['sigma'].at[idx].set(0)\n",
    "    for idx in epsilon_indices:\n",
    "        paramset.mask['LennardJonesForce']['epsilon'] = paramset.mask['LennardJonesForce']['epsilon'].at[idx].set(0)\n",
    "    return paramset_new\n",
    "\n",
    "\n",
    "import json\n",
    "Transfer_energy_unit = 254.152/2.11525\n",
    "Transfer_length_unit = 10\n",
    "def update_ff(paramset, dest_path='/home/yutao/project/aiida/applications/ff_2.json'):\n",
    "    global Transfer_energy_unit, Transfer_length_unit\n",
    "    element_list = ['Al_', 'C_', 'H_', 'O_']\n",
    "    params = paramset.parameters\n",
    "    ff_data = {}\n",
    "    if len(element_list) != params['LennardJonesForce']['sigma'].shape[0]-2:\n",
    "        raise ValueError(\"Length of element list and parameter list does not match\")\n",
    "    sigma_list = params['LennardJonesForce']['sigma'].tolist()\n",
    "    epsilon_list = params['LennardJonesForce']['epsilon'].tolist()\n",
    "    for idx in range(len(element_list)):\n",
    "        ff_data[element_list[idx]] = ['lennard-jones', epsilon_list[idx]*Transfer_energy_unit, sigma_list[idx]*Transfer_length_unit]\n",
    "    with open(dest_path, 'w') as f:\n",
    "        json.dump(ff_data, f, indent=4)\n",
    "\n",
    "from jax import clear_backends\n",
    "def analyse_traj(paramset, lj_gen, dest_path = \"./traj1/\", interval=3):\n",
    "    traj_dict = {}\n",
    "    global Number_points, cutoff\n",
    "    traj_ls = os.listdir(dest_path)\n",
    "    create_supercell(\"data/MIL-120.pdb\", scaling_factors, \"scaled_frame.pdb\")\n",
    "\n",
    "    # Filter out file names and keep only directory names\n",
    "    dir_names = [name for name in traj_ls if os.path.isdir(os.path.join(dest_path, name)) and name.isdigit()]\n",
    "    dir_names = sorted(map(int, dir_names))\n",
    "    dir_names = [str(i) for i in dir_names]\n",
    "    for directory in dir_names[:Number_points]:\n",
    "        idx = int(directory)\n",
    "        traj_dict[idx] = {'experiment': {'pressure': picked_pressure[idx-1], 'loading': picked_isotherm[idx-1]}, 'structure': [], 'refer_energy':[], 'loading':[]}\n",
    "        gas_dir = os.path.join(dest_path, directory)\n",
    "        for gas_path in os.listdir(gas_dir)[::interval]:\n",
    "            topo, pos, num = simple_merge(\"scaled_frame.pdb\",os.path.join(gas_dir,gas_path))\n",
    "            ener_lj = compute_binding_energy(paramset,topo, pos, lj_gen, numframe=720,cutoff=cutoff)\n",
    "            traj_dict[idx]['structure'].append([topo, pos])\n",
    "            traj_dict[idx]['loading'].append(num/scaling_factors[0]/scaling_factors[1]/scaling_factors[2]/3)\n",
    "            traj_dict[idx]['refer_energy'].append(ener_lj)\n",
    "        clear_backends()\n",
    "    for key in traj_dict.keys():\n",
    "        traj_dict[key]['refer_energy'] = jnp.array(traj_dict[key]['refer_energy'])\n",
    "        traj_dict[key]['loading'] = jnp.array(traj_dict[key]['loading'])\n",
    "        traj_dict[key]['estimator'] = ReweightEstimator(ref_energies=traj_dict[key]['refer_energy'], temperature=SET_temperature)\n",
    "    return traj_dict\n",
    "\n",
    "import subprocess\n",
    "def sample():\n",
    "    command = [\"/home/yutao/project/aiida/applications/sample_long.sh\"]\n",
    "    # Run the script using subprocess\n",
    "    completed_process = subprocess.run(command, capture_output=True, cwd=\"/home/yutao/project/aiida/applications\",text=True)\n",
    "    print(\"As long as it finishes,\",completed_process.returncode)\n",
    "    # Check the return code\n",
    "    if completed_process.returncode == 0:\n",
    "        # The script finished successfully\n",
    "        display(\"Script finished successfully!\")\n",
    "        # Display the output in the notebook\n",
    "        display(\"Script output:\")\n",
    "        display(completed_process.stdout)\n",
    "        # Continue with your program logic here\n",
    "    else:\n",
    "        # The script encountered an error\n",
    "        display(\"Script encountered an error:\", completed_process.stderr)\n",
    "        # Handle the error or exit the program\n",
    "\n",
    "\n",
    "   \n"
   ]
  },
  {
   "cell_type": "code",
   "execution_count": 2,
   "metadata": {},
   "outputs": [
    {
     "ename": "KeyboardInterrupt",
     "evalue": "",
     "output_type": "error",
     "traceback": [
      "\u001b[0;31m---------------------------------------------------------------------------\u001b[0m",
      "\u001b[0;31mKeyboardInterrupt\u001b[0m                         Traceback (most recent call last)",
      "Cell \u001b[0;32mIn[2], line 22\u001b[0m\n\u001b[1;32m     20\u001b[0m optimizer \u001b[39m=\u001b[39m optax\u001b[39m.\u001b[39madam(\u001b[39m0.01\u001b[39m)\n\u001b[1;32m     21\u001b[0m opt_state \u001b[39m=\u001b[39m optimizer\u001b[39m.\u001b[39minit(paramset)\n\u001b[0;32m---> 22\u001b[0m traj_dict \u001b[39m=\u001b[39m analyse_traj(paramset, lj_gen, dest_path\u001b[39m=\u001b[39;49m\u001b[39m\"\u001b[39;49m\u001b[39m./traj1/\u001b[39;49m\u001b[39m\"\u001b[39;49m, interval\u001b[39m=\u001b[39;49m\u001b[39m15\u001b[39;49m)\n",
      "Cell \u001b[0;32mIn[1], line 237\u001b[0m, in \u001b[0;36manalyse_traj\u001b[0;34m(paramset, lj_gen, dest_path, interval)\u001b[0m\n\u001b[1;32m    235\u001b[0m \u001b[39mfor\u001b[39;00m gas_path \u001b[39min\u001b[39;00m os\u001b[39m.\u001b[39mlistdir(gas_dir)[::interval]:\n\u001b[1;32m    236\u001b[0m     topo, pos, num \u001b[39m=\u001b[39m simple_merge(\u001b[39m\"\u001b[39m\u001b[39mscaled_frame.pdb\u001b[39m\u001b[39m\"\u001b[39m,os\u001b[39m.\u001b[39mpath\u001b[39m.\u001b[39mjoin(gas_dir,gas_path))\n\u001b[0;32m--> 237\u001b[0m     ener_lj \u001b[39m=\u001b[39m compute_binding_energy(paramset,topo, pos, lj_gen, numframe\u001b[39m=\u001b[39;49m\u001b[39m720\u001b[39;49m,cutoff\u001b[39m=\u001b[39;49mcutoff)\n\u001b[1;32m    238\u001b[0m     traj_dict[idx][\u001b[39m'\u001b[39m\u001b[39mstructure\u001b[39m\u001b[39m'\u001b[39m]\u001b[39m.\u001b[39mappend([topo, pos])\n\u001b[1;32m    239\u001b[0m     traj_dict[idx][\u001b[39m'\u001b[39m\u001b[39mloading\u001b[39m\u001b[39m'\u001b[39m]\u001b[39m.\u001b[39mappend(num\u001b[39m/\u001b[39mscaling_factors[\u001b[39m0\u001b[39m]\u001b[39m/\u001b[39mscaling_factors[\u001b[39m1\u001b[39m]\u001b[39m/\u001b[39mscaling_factors[\u001b[39m2\u001b[39m]\u001b[39m/\u001b[39m\u001b[39m3\u001b[39m)\n",
      "Cell \u001b[0;32mIn[1], line 171\u001b[0m, in \u001b[0;36mcompute_binding_energy\u001b[0;34m(paramset, topo, pos, lj_gen, numframe, cutoff)\u001b[0m\n\u001b[1;32m    169\u001b[0m cov_mat\u001b[39m=\u001b[39mcov_mat\u001b[39m.\u001b[39mat[:numframe,:numframe]\u001b[39m.\u001b[39mset(\u001b[39m1\u001b[39m)\n\u001b[1;32m    170\u001b[0m nblist \u001b[39m=\u001b[39m NeighborListFreud(topo\u001b[39m.\u001b[39mgetPeriodicBoxVectors()\u001b[39m.\u001b[39mvalue_in_unit(unit\u001b[39m.\u001b[39mnanometer), cutoff, cov_mat)\n\u001b[0;32m--> 171\u001b[0m nblist\u001b[39m.\u001b[39;49mallocate(pos_jnp, cell_jnp)\n\u001b[1;32m    172\u001b[0m pairs \u001b[39m=\u001b[39m jnp\u001b[39m.\u001b[39marray(nblist\u001b[39m.\u001b[39mpairs)\n\u001b[1;32m    173\u001b[0m ener \u001b[39m=\u001b[39m lj_force(pos_jnp,cell_jnp, pairs, paramset)\n",
      "File \u001b[0;32m~/project/github/DMFF/dmff/common/nblist.py:51\u001b[0m, in \u001b[0;36mNeighborListFreud.allocate\u001b[0;34m(self, coords, box)\u001b[0m\n\u001b[1;32m     49\u001b[0m     padding \u001b[39m=\u001b[39m np\u001b[39m.\u001b[39mones((\u001b[39mself\u001b[39m\u001b[39m.\u001b[39mcapacity_multiplier \u001b[39m-\u001b[39m nlist\u001b[39m.\u001b[39mshape[\u001b[39m0\u001b[39m], \u001b[39m2\u001b[39m), dtype\u001b[39m=\u001b[39mnp\u001b[39m.\u001b[39mint32) \u001b[39m*\u001b[39m coords\u001b[39m.\u001b[39mshape[\u001b[39m0\u001b[39m]\n\u001b[1;32m     50\u001b[0m     nlist \u001b[39m=\u001b[39m np\u001b[39m.\u001b[39mvstack((nlist, padding))\n\u001b[0;32m---> 51\u001b[0m     \u001b[39mself\u001b[39m\u001b[39m.\u001b[39m_pairs \u001b[39m=\u001b[39m \u001b[39mself\u001b[39;49m\u001b[39m.\u001b[39;49m_do_cov_map(nlist)\n\u001b[1;32m     52\u001b[0m     \u001b[39mreturn\u001b[39;00m \u001b[39mself\u001b[39m\u001b[39m.\u001b[39m_pairs\n\u001b[1;32m     53\u001b[0m \u001b[39melse\u001b[39;00m:\n",
      "File \u001b[0;32m~/project/github/DMFF/dmff/common/nblist.py:22\u001b[0m, in \u001b[0;36mNeighborListFreud._do_cov_map\u001b[0;34m(self, pairs)\u001b[0m\n\u001b[1;32m     21\u001b[0m \u001b[39mdef\u001b[39;00m \u001b[39m_do_cov_map\u001b[39m(\u001b[39mself\u001b[39m, pairs):\n\u001b[0;32m---> 22\u001b[0m     nbond \u001b[39m=\u001b[39m \u001b[39mself\u001b[39;49m\u001b[39m.\u001b[39;49mcov_map[pairs[:, \u001b[39m0\u001b[39;49m], pairs[:, \u001b[39m1\u001b[39;49m]]\n\u001b[1;32m     23\u001b[0m     pairs \u001b[39m=\u001b[39m jnp\u001b[39m.\u001b[39mconcatenate([pairs, nbond[:, \u001b[39mNone\u001b[39;00m]], axis\u001b[39m=\u001b[39m\u001b[39m1\u001b[39m)\n\u001b[1;32m     24\u001b[0m     \u001b[39mreturn\u001b[39;00m pairs\n",
      "File \u001b[0;32m~/anaconda3/envs/dmff/lib/python3.11/site-packages/jax/_src/array.py:336\u001b[0m, in \u001b[0;36mArrayImpl.__getitem__\u001b[0;34m(self, idx)\u001b[0m\n\u001b[1;32m    334\u001b[0m   \u001b[39mreturn\u001b[39;00m lax_numpy\u001b[39m.\u001b[39m_rewriting_take(\u001b[39mself\u001b[39m, idx)\n\u001b[1;32m    335\u001b[0m \u001b[39melse\u001b[39;00m:\n\u001b[0;32m--> 336\u001b[0m   \u001b[39mreturn\u001b[39;00m lax_numpy\u001b[39m.\u001b[39;49m_rewriting_take(\u001b[39mself\u001b[39;49m, idx)\n",
      "File \u001b[0;32m~/anaconda3/envs/dmff/lib/python3.11/site-packages/jax/_src/numpy/lax_numpy.py:4494\u001b[0m, in \u001b[0;36m_rewriting_take\u001b[0;34m(arr, idx, indices_are_sorted, unique_indices, mode, fill_value)\u001b[0m\n\u001b[1;32m   4491\u001b[0m       \u001b[39mreturn\u001b[39;00m lax\u001b[39m.\u001b[39mdynamic_index_in_dim(arr, idx, keepdims\u001b[39m=\u001b[39m\u001b[39mFalse\u001b[39;00m)\n\u001b[1;32m   4493\u001b[0m treedef, static_idx, dynamic_idx \u001b[39m=\u001b[39m _split_index_for_jit(idx, arr\u001b[39m.\u001b[39mshape)\n\u001b[0;32m-> 4494\u001b[0m \u001b[39mreturn\u001b[39;00m _gather(arr, treedef, static_idx, dynamic_idx, indices_are_sorted,\n\u001b[1;32m   4495\u001b[0m                unique_indices, mode, fill_value)\n",
      "File \u001b[0;32m~/anaconda3/envs/dmff/lib/python3.11/site-packages/jax/_src/numpy/lax_numpy.py:4503\u001b[0m, in \u001b[0;36m_gather\u001b[0;34m(arr, treedef, static_idx, dynamic_idx, indices_are_sorted, unique_indices, mode, fill_value)\u001b[0m\n\u001b[1;32m   4500\u001b[0m \u001b[39mdef\u001b[39;00m \u001b[39m_gather\u001b[39m(arr, treedef, static_idx, dynamic_idx, indices_are_sorted,\n\u001b[1;32m   4501\u001b[0m             unique_indices, mode, fill_value):\n\u001b[1;32m   4502\u001b[0m   idx \u001b[39m=\u001b[39m _merge_static_and_dynamic_indices(treedef, static_idx, dynamic_idx)\n\u001b[0;32m-> 4503\u001b[0m   indexer \u001b[39m=\u001b[39m _index_to_gather(shape(arr), idx)  \u001b[39m# shared with _scatter_update\u001b[39;00m\n\u001b[1;32m   4504\u001b[0m   y \u001b[39m=\u001b[39m arr\n\u001b[1;32m   4506\u001b[0m   \u001b[39mif\u001b[39;00m fill_value \u001b[39mis\u001b[39;00m \u001b[39mnot\u001b[39;00m \u001b[39mNone\u001b[39;00m:\n",
      "File \u001b[0;32m~/anaconda3/envs/dmff/lib/python3.11/site-packages/jax/_src/numpy/lax_numpy.py:4630\u001b[0m, in \u001b[0;36m_index_to_gather\u001b[0;34m(x_shape, idx, normalize_indices)\u001b[0m\n\u001b[1;32m   4627\u001b[0m   \u001b[39mif\u001b[39;00m normalize_indices:\n\u001b[1;32m   4628\u001b[0m     advanced_pairs \u001b[39m=\u001b[39m ((_normalize_index(e, x_shape[j]), i, j)\n\u001b[1;32m   4629\u001b[0m                       \u001b[39mfor\u001b[39;00m e, i, j \u001b[39min\u001b[39;00m advanced_pairs)\n\u001b[0;32m-> 4630\u001b[0m   advanced_indexes, idx_advanced_axes, x_advanced_axes \u001b[39m=\u001b[39m \u001b[39mzip\u001b[39;49m(\u001b[39m*\u001b[39;49madvanced_pairs)\n\u001b[1;32m   4631\u001b[0m   advanced_axes_are_contiguous \u001b[39m=\u001b[39m \u001b[39mbool\u001b[39m(np\u001b[39m.\u001b[39mall(np\u001b[39m.\u001b[39mdiff(idx_advanced_axes) \u001b[39m==\u001b[39m \u001b[39m1\u001b[39m))\n\u001b[1;32m   4633\u001b[0m x_axis \u001b[39m=\u001b[39m \u001b[39m0\u001b[39m  \u001b[39m# Current axis in x.\u001b[39;00m\n",
      "File \u001b[0;32m~/anaconda3/envs/dmff/lib/python3.11/site-packages/jax/_src/numpy/lax_numpy.py:4628\u001b[0m, in \u001b[0;36m<genexpr>\u001b[0;34m(.0)\u001b[0m\n\u001b[1;32m   4624\u001b[0m advanced_pairs \u001b[39m=\u001b[39m (\n\u001b[1;32m   4625\u001b[0m   (asarray(e), i, j) \u001b[39mfor\u001b[39;00m j, (i, e) \u001b[39min\u001b[39;00m \u001b[39menumerate\u001b[39m(idx_no_nones)\n\u001b[1;32m   4626\u001b[0m   \u001b[39mif\u001b[39;00m isscalar(e) \u001b[39mor\u001b[39;00m \u001b[39misinstance\u001b[39m(e, (Sequence, Array, np\u001b[39m.\u001b[39mndarray)))\n\u001b[1;32m   4627\u001b[0m \u001b[39mif\u001b[39;00m normalize_indices:\n\u001b[0;32m-> 4628\u001b[0m   advanced_pairs \u001b[39m=\u001b[39m ((_normalize_index(e, x_shape[j]), i, j)\n\u001b[1;32m   4629\u001b[0m                     \u001b[39mfor\u001b[39;00m e, i, j \u001b[39min\u001b[39;00m advanced_pairs)\n\u001b[1;32m   4630\u001b[0m advanced_indexes, idx_advanced_axes, x_advanced_axes \u001b[39m=\u001b[39m \u001b[39mzip\u001b[39m(\u001b[39m*\u001b[39madvanced_pairs)\n\u001b[1;32m   4631\u001b[0m advanced_axes_are_contiguous \u001b[39m=\u001b[39m \u001b[39mbool\u001b[39m(np\u001b[39m.\u001b[39mall(np\u001b[39m.\u001b[39mdiff(idx_advanced_axes) \u001b[39m==\u001b[39m \u001b[39m1\u001b[39m))\n",
      "File \u001b[0;32m~/anaconda3/envs/dmff/lib/python3.11/site-packages/jax/_src/numpy/lax_numpy.py:4259\u001b[0m, in \u001b[0;36m_normalize_index\u001b[0;34m(index, axis_size)\u001b[0m\n\u001b[1;32m   4257\u001b[0m   \u001b[39mreturn\u001b[39;00m lax\u001b[39m.\u001b[39madd(index, axis_size_val) \u001b[39mif\u001b[39;00m index \u001b[39m<\u001b[39m \u001b[39m0\u001b[39m \u001b[39melse\u001b[39;00m index\n\u001b[1;32m   4258\u001b[0m \u001b[39melse\u001b[39;00m:\n\u001b[0;32m-> 4259\u001b[0m   \u001b[39mreturn\u001b[39;00m lax\u001b[39m.\u001b[39mselect(index \u001b[39m<\u001b[39m \u001b[39m0\u001b[39m, lax\u001b[39m.\u001b[39;49madd(index, axis_size_val), index)\n",
      "File \u001b[0;32m~/anaconda3/envs/dmff/lib/python3.11/site-packages/jax/_src/lax/lax.py:419\u001b[0m, in \u001b[0;36madd\u001b[0;34m(x, y)\u001b[0m\n\u001b[1;32m    417\u001b[0m \u001b[39mdef\u001b[39;00m \u001b[39madd\u001b[39m(x: ArrayLike, y: ArrayLike) \u001b[39m-\u001b[39m\u001b[39m>\u001b[39m Array:\n\u001b[1;32m    418\u001b[0m \u001b[39m  \u001b[39m\u001b[39mr\u001b[39m\u001b[39m\"\"\"Elementwise addition: :math:`x + y`.\"\"\"\u001b[39;00m\n\u001b[0;32m--> 419\u001b[0m   \u001b[39mreturn\u001b[39;00m add_p\u001b[39m.\u001b[39;49mbind(x, y)\n",
      "File \u001b[0;32m~/anaconda3/envs/dmff/lib/python3.11/site-packages/jax/_src/core.py:444\u001b[0m, in \u001b[0;36mPrimitive.bind\u001b[0;34m(self, *args, **params)\u001b[0m\n\u001b[1;32m    441\u001b[0m \u001b[39mdef\u001b[39;00m \u001b[39mbind\u001b[39m(\u001b[39mself\u001b[39m, \u001b[39m*\u001b[39margs, \u001b[39m*\u001b[39m\u001b[39m*\u001b[39mparams):\n\u001b[1;32m    442\u001b[0m   \u001b[39massert\u001b[39;00m (\u001b[39mnot\u001b[39;00m config\u001b[39m.\u001b[39menable_checks\u001b[39m.\u001b[39mvalue \u001b[39mor\u001b[39;00m\n\u001b[1;32m    443\u001b[0m           \u001b[39mall\u001b[39m(\u001b[39misinstance\u001b[39m(arg, Tracer) \u001b[39mor\u001b[39;00m valid_jaxtype(arg) \u001b[39mfor\u001b[39;00m arg \u001b[39min\u001b[39;00m args)), args\n\u001b[0;32m--> 444\u001b[0m   \u001b[39mreturn\u001b[39;00m \u001b[39mself\u001b[39;49m\u001b[39m.\u001b[39;49mbind_with_trace(find_top_trace(args), args, params)\n",
      "File \u001b[0;32m~/anaconda3/envs/dmff/lib/python3.11/site-packages/jax/_src/core.py:447\u001b[0m, in \u001b[0;36mPrimitive.bind_with_trace\u001b[0;34m(self, trace, args, params)\u001b[0m\n\u001b[1;32m    446\u001b[0m \u001b[39mdef\u001b[39;00m \u001b[39mbind_with_trace\u001b[39m(\u001b[39mself\u001b[39m, trace, args, params):\n\u001b[0;32m--> 447\u001b[0m   out \u001b[39m=\u001b[39m trace\u001b[39m.\u001b[39;49mprocess_primitive(\u001b[39mself\u001b[39;49m, \u001b[39mmap\u001b[39;49m(trace\u001b[39m.\u001b[39;49mfull_raise, args), params)\n\u001b[1;32m    448\u001b[0m   \u001b[39mreturn\u001b[39;00m \u001b[39mmap\u001b[39m(full_lower, out) \u001b[39mif\u001b[39;00m \u001b[39mself\u001b[39m\u001b[39m.\u001b[39mmultiple_results \u001b[39melse\u001b[39;00m full_lower(out)\n",
      "File \u001b[0;32m~/anaconda3/envs/dmff/lib/python3.11/site-packages/jax/_src/core.py:935\u001b[0m, in \u001b[0;36mEvalTrace.process_primitive\u001b[0;34m(self, primitive, tracers, params)\u001b[0m\n\u001b[1;32m    934\u001b[0m \u001b[39mdef\u001b[39;00m \u001b[39mprocess_primitive\u001b[39m(\u001b[39mself\u001b[39m, primitive, tracers, params):\n\u001b[0;32m--> 935\u001b[0m   \u001b[39mreturn\u001b[39;00m primitive\u001b[39m.\u001b[39;49mimpl(\u001b[39m*\u001b[39;49mtracers, \u001b[39m*\u001b[39;49m\u001b[39m*\u001b[39;49mparams)\n",
      "File \u001b[0;32m~/anaconda3/envs/dmff/lib/python3.11/site-packages/jax/_src/dispatch.py:87\u001b[0m, in \u001b[0;36mapply_primitive\u001b[0;34m(prim, *args, **params)\u001b[0m\n\u001b[1;32m     85\u001b[0m prev \u001b[39m=\u001b[39m lib\u001b[39m.\u001b[39mjax_jit\u001b[39m.\u001b[39mswap_thread_local_state_disable_jit(\u001b[39mFalse\u001b[39;00m)\n\u001b[1;32m     86\u001b[0m \u001b[39mtry\u001b[39;00m:\n\u001b[0;32m---> 87\u001b[0m   outs \u001b[39m=\u001b[39m fun(\u001b[39m*\u001b[39;49margs)\n\u001b[1;32m     88\u001b[0m \u001b[39mfinally\u001b[39;00m:\n\u001b[1;32m     89\u001b[0m   lib\u001b[39m.\u001b[39mjax_jit\u001b[39m.\u001b[39mswap_thread_local_state_disable_jit(prev)\n",
      "    \u001b[0;31m[... skipping hidden 1 frame]\u001b[0m\n",
      "File \u001b[0;32m~/anaconda3/envs/dmff/lib/python3.11/site-packages/jax/_src/pjit.py:257\u001b[0m, in \u001b[0;36m_cpp_pjit.<locals>.cache_miss\u001b[0;34m(*args, **kwargs)\u001b[0m\n\u001b[1;32m    255\u001b[0m \u001b[39m@api_boundary\u001b[39m\n\u001b[1;32m    256\u001b[0m \u001b[39mdef\u001b[39;00m \u001b[39mcache_miss\u001b[39m(\u001b[39m*\u001b[39margs, \u001b[39m*\u001b[39m\u001b[39m*\u001b[39mkwargs):\n\u001b[0;32m--> 257\u001b[0m   outs, out_flat, out_tree, args_flat, jaxpr \u001b[39m=\u001b[39m _python_pjit_helper(\n\u001b[1;32m    258\u001b[0m       fun, infer_params_fn, \u001b[39m*\u001b[39;49margs, \u001b[39m*\u001b[39;49m\u001b[39m*\u001b[39;49mkwargs)\n\u001b[1;32m    259\u001b[0m   executable \u001b[39m=\u001b[39m _read_most_recent_pjit_call_executable(jaxpr)\n\u001b[1;32m    260\u001b[0m   fastpath_data \u001b[39m=\u001b[39m _get_fastpath_data(executable, out_tree, args_flat, out_flat)\n",
      "File \u001b[0;32m~/anaconda3/envs/dmff/lib/python3.11/site-packages/jax/_src/pjit.py:168\u001b[0m, in \u001b[0;36m_python_pjit_helper\u001b[0;34m(fun, infer_params_fn, *args, **kwargs)\u001b[0m\n\u001b[1;32m    166\u001b[0m   dispatch\u001b[39m.\u001b[39mcheck_arg(arg)\n\u001b[1;32m    167\u001b[0m \u001b[39mtry\u001b[39;00m:\n\u001b[0;32m--> 168\u001b[0m   out_flat \u001b[39m=\u001b[39m pjit_p\u001b[39m.\u001b[39;49mbind(\u001b[39m*\u001b[39;49margs_flat, \u001b[39m*\u001b[39;49m\u001b[39m*\u001b[39;49mparams)\n\u001b[1;32m    169\u001b[0m \u001b[39mexcept\u001b[39;00m pxla\u001b[39m.\u001b[39mDeviceAssignmentMismatchError \u001b[39mas\u001b[39;00m e:\n\u001b[1;32m    170\u001b[0m   fails, \u001b[39m=\u001b[39m e\u001b[39m.\u001b[39margs\n",
      "File \u001b[0;32m~/anaconda3/envs/dmff/lib/python3.11/site-packages/jax/_src/core.py:2740\u001b[0m, in \u001b[0;36mAxisPrimitive.bind\u001b[0;34m(self, *args, **params)\u001b[0m\n\u001b[1;32m   2736\u001b[0m axis_main \u001b[39m=\u001b[39m \u001b[39mmax\u001b[39m((axis_frame(a)\u001b[39m.\u001b[39mmain_trace \u001b[39mfor\u001b[39;00m a \u001b[39min\u001b[39;00m used_axis_names(\u001b[39mself\u001b[39m, params)),\n\u001b[1;32m   2737\u001b[0m                 default\u001b[39m=\u001b[39m\u001b[39mNone\u001b[39;00m, key\u001b[39m=\u001b[39m\u001b[39mlambda\u001b[39;00m t: \u001b[39mgetattr\u001b[39m(t, \u001b[39m'\u001b[39m\u001b[39mlevel\u001b[39m\u001b[39m'\u001b[39m, \u001b[39m-\u001b[39m\u001b[39m1\u001b[39m))\n\u001b[1;32m   2738\u001b[0m top_trace \u001b[39m=\u001b[39m (top_trace \u001b[39mif\u001b[39;00m \u001b[39mnot\u001b[39;00m axis_main \u001b[39mor\u001b[39;00m axis_main\u001b[39m.\u001b[39mlevel \u001b[39m<\u001b[39m top_trace\u001b[39m.\u001b[39mlevel\n\u001b[1;32m   2739\u001b[0m              \u001b[39melse\u001b[39;00m axis_main\u001b[39m.\u001b[39mwith_cur_sublevel())\n\u001b[0;32m-> 2740\u001b[0m \u001b[39mreturn\u001b[39;00m \u001b[39mself\u001b[39;49m\u001b[39m.\u001b[39;49mbind_with_trace(top_trace, args, params)\n",
      "File \u001b[0;32m~/anaconda3/envs/dmff/lib/python3.11/site-packages/jax/_src/core.py:447\u001b[0m, in \u001b[0;36mPrimitive.bind_with_trace\u001b[0;34m(self, trace, args, params)\u001b[0m\n\u001b[1;32m    446\u001b[0m \u001b[39mdef\u001b[39;00m \u001b[39mbind_with_trace\u001b[39m(\u001b[39mself\u001b[39m, trace, args, params):\n\u001b[0;32m--> 447\u001b[0m   out \u001b[39m=\u001b[39m trace\u001b[39m.\u001b[39;49mprocess_primitive(\u001b[39mself\u001b[39;49m, \u001b[39mmap\u001b[39;49m(trace\u001b[39m.\u001b[39;49mfull_raise, args), params)\n\u001b[1;32m    448\u001b[0m   \u001b[39mreturn\u001b[39;00m \u001b[39mmap\u001b[39m(full_lower, out) \u001b[39mif\u001b[39;00m \u001b[39mself\u001b[39m\u001b[39m.\u001b[39mmultiple_results \u001b[39melse\u001b[39;00m full_lower(out)\n",
      "File \u001b[0;32m~/anaconda3/envs/dmff/lib/python3.11/site-packages/jax/_src/core.py:935\u001b[0m, in \u001b[0;36mEvalTrace.process_primitive\u001b[0;34m(self, primitive, tracers, params)\u001b[0m\n\u001b[1;32m    934\u001b[0m \u001b[39mdef\u001b[39;00m \u001b[39mprocess_primitive\u001b[39m(\u001b[39mself\u001b[39m, primitive, tracers, params):\n\u001b[0;32m--> 935\u001b[0m   \u001b[39mreturn\u001b[39;00m primitive\u001b[39m.\u001b[39;49mimpl(\u001b[39m*\u001b[39;49mtracers, \u001b[39m*\u001b[39;49m\u001b[39m*\u001b[39;49mparams)\n",
      "File \u001b[0;32m~/anaconda3/envs/dmff/lib/python3.11/site-packages/jax/_src/pjit.py:1245\u001b[0m, in \u001b[0;36m_pjit_call_impl\u001b[0;34m(jaxpr, in_shardings, out_shardings, resource_env, donated_invars, name, keep_unused, inline, *args)\u001b[0m\n\u001b[1;32m   1242\u001b[0m donated_argnums \u001b[39m=\u001b[39m [i \u001b[39mfor\u001b[39;00m i, d \u001b[39min\u001b[39;00m \u001b[39menumerate\u001b[39m(donated_invars) \u001b[39mif\u001b[39;00m d]\n\u001b[1;32m   1243\u001b[0m has_explicit_sharding \u001b[39m=\u001b[39m _pjit_explicit_sharding(\n\u001b[1;32m   1244\u001b[0m     in_shardings, out_shardings, \u001b[39mNone\u001b[39;00m, \u001b[39mNone\u001b[39;00m)\n\u001b[0;32m-> 1245\u001b[0m \u001b[39mreturn\u001b[39;00m xc\u001b[39m.\u001b[39;49m_xla\u001b[39m.\u001b[39;49mpjit(name, f, call_impl_cache_miss, [], [], donated_argnums,\n\u001b[1;32m   1246\u001b[0m                     tree_util\u001b[39m.\u001b[39;49mdispatch_registry,\n\u001b[1;32m   1247\u001b[0m                     _get_cpp_global_cache(has_explicit_sharding))(\u001b[39m*\u001b[39;49margs)\n",
      "File \u001b[0;32m~/anaconda3/envs/dmff/lib/python3.11/site-packages/jax/_src/pjit.py:1229\u001b[0m, in \u001b[0;36m_pjit_call_impl.<locals>.call_impl_cache_miss\u001b[0;34m(*args_, **kwargs_)\u001b[0m\n\u001b[1;32m   1228\u001b[0m \u001b[39mdef\u001b[39;00m \u001b[39mcall_impl_cache_miss\u001b[39m(\u001b[39m*\u001b[39margs_, \u001b[39m*\u001b[39m\u001b[39m*\u001b[39mkwargs_):\n\u001b[0;32m-> 1229\u001b[0m   out_flat, compiled \u001b[39m=\u001b[39m _pjit_call_impl_python(\n\u001b[1;32m   1230\u001b[0m       \u001b[39m*\u001b[39;49margs, jaxpr\u001b[39m=\u001b[39;49mjaxpr, in_shardings\u001b[39m=\u001b[39;49min_shardings,\n\u001b[1;32m   1231\u001b[0m       out_shardings\u001b[39m=\u001b[39;49mout_shardings, resource_env\u001b[39m=\u001b[39;49mresource_env,\n\u001b[1;32m   1232\u001b[0m       donated_invars\u001b[39m=\u001b[39;49mdonated_invars, name\u001b[39m=\u001b[39;49mname, keep_unused\u001b[39m=\u001b[39;49mkeep_unused,\n\u001b[1;32m   1233\u001b[0m       inline\u001b[39m=\u001b[39;49minline)\n\u001b[1;32m   1234\u001b[0m   fastpath_data \u001b[39m=\u001b[39m _get_fastpath_data(\n\u001b[1;32m   1235\u001b[0m       compiled, tree_structure(out_flat), args, out_flat)\n\u001b[1;32m   1236\u001b[0m   \u001b[39mreturn\u001b[39;00m out_flat, fastpath_data\n",
      "File \u001b[0;32m~/anaconda3/envs/dmff/lib/python3.11/site-packages/jax/_src/pjit.py:1185\u001b[0m, in \u001b[0;36m_pjit_call_impl_python\u001b[0;34m(jaxpr, in_shardings, out_shardings, resource_env, donated_invars, name, keep_unused, inline, *args)\u001b[0m\n\u001b[1;32m   1179\u001b[0m   distributed_debug_log((\u001b[39m\"\u001b[39m\u001b[39mRunning pjit\u001b[39m\u001b[39m'\u001b[39m\u001b[39md function\u001b[39m\u001b[39m\"\u001b[39m, name),\n\u001b[1;32m   1180\u001b[0m                         (\u001b[39m\"\u001b[39m\u001b[39min_shardings\u001b[39m\u001b[39m\"\u001b[39m, in_shardings),\n\u001b[1;32m   1181\u001b[0m                         (\u001b[39m\"\u001b[39m\u001b[39mout_shardings\u001b[39m\u001b[39m\"\u001b[39m, out_shardings),\n\u001b[1;32m   1182\u001b[0m                         (\u001b[39m\"\u001b[39m\u001b[39mabstract args\u001b[39m\u001b[39m\"\u001b[39m, \u001b[39mmap\u001b[39m(xla\u001b[39m.\u001b[39mabstractify, args)),\n\u001b[1;32m   1183\u001b[0m                         (\u001b[39m\"\u001b[39m\u001b[39mfingerprint\u001b[39m\u001b[39m\"\u001b[39m, fingerprint))\n\u001b[1;32m   1184\u001b[0m \u001b[39mtry\u001b[39;00m:\n\u001b[0;32m-> 1185\u001b[0m   \u001b[39mreturn\u001b[39;00m compiled\u001b[39m.\u001b[39;49munsafe_call(\u001b[39m*\u001b[39;49margs), compiled\n\u001b[1;32m   1186\u001b[0m \u001b[39mexcept\u001b[39;00m \u001b[39mFloatingPointError\u001b[39;00m \u001b[39mas\u001b[39;00m e:\n\u001b[1;32m   1187\u001b[0m   \u001b[39massert\u001b[39;00m config\u001b[39m.\u001b[39mdebug_nans\u001b[39m.\u001b[39mvalue \u001b[39mor\u001b[39;00m config\u001b[39m.\u001b[39mdebug_infs\u001b[39m.\u001b[39mvalue  \u001b[39m# compiled_fun can only raise in this case\u001b[39;00m\n",
      "File \u001b[0;32m~/anaconda3/envs/dmff/lib/python3.11/site-packages/jax/_src/profiler.py:336\u001b[0m, in \u001b[0;36mannotate_function.<locals>.wrapper\u001b[0;34m(*args, **kwargs)\u001b[0m\n\u001b[1;32m    333\u001b[0m \u001b[39m@wraps\u001b[39m(func)\n\u001b[1;32m    334\u001b[0m \u001b[39mdef\u001b[39;00m \u001b[39mwrapper\u001b[39m(\u001b[39m*\u001b[39margs, \u001b[39m*\u001b[39m\u001b[39m*\u001b[39mkwargs):\n\u001b[1;32m    335\u001b[0m   \u001b[39mwith\u001b[39;00m TraceAnnotation(name, \u001b[39m*\u001b[39m\u001b[39m*\u001b[39mdecorator_kwargs):\n\u001b[0;32m--> 336\u001b[0m     \u001b[39mreturn\u001b[39;00m func(\u001b[39m*\u001b[39;49margs, \u001b[39m*\u001b[39;49m\u001b[39m*\u001b[39;49mkwargs)\n\u001b[1;32m    337\u001b[0m   \u001b[39mreturn\u001b[39;00m wrapper\n",
      "File \u001b[0;32m~/anaconda3/envs/dmff/lib/python3.11/site-packages/jax/_src/interpreters/pxla.py:1159\u001b[0m, in \u001b[0;36mExecuteReplicated.__call__\u001b[0;34m(self, *args)\u001b[0m\n\u001b[1;32m   1157\u001b[0m   \u001b[39mself\u001b[39m\u001b[39m.\u001b[39m_handle_token_bufs(result_token_bufs, sharded_runtime_token)\n\u001b[1;32m   1158\u001b[0m \u001b[39melse\u001b[39;00m:\n\u001b[0;32m-> 1159\u001b[0m   results \u001b[39m=\u001b[39m \u001b[39mself\u001b[39;49m\u001b[39m.\u001b[39;49mxla_executable\u001b[39m.\u001b[39;49mexecute_sharded(input_bufs)\n\u001b[1;32m   1160\u001b[0m \u001b[39mif\u001b[39;00m dispatch\u001b[39m.\u001b[39mneeds_check_special():\n\u001b[1;32m   1161\u001b[0m   out_arrays \u001b[39m=\u001b[39m results\u001b[39m.\u001b[39mdisassemble_into_single_device_arrays()\n",
      "\u001b[0;31mKeyboardInterrupt\u001b[0m: "
     ]
    }
   ],
   "source": [
    "# Initial Optimized parameters\n",
    "xmlio = XMLIO()\n",
    "xmlio.loadXML(\"data/init.xml\")\n",
    "ffinfo = xmlio.parseXML()\n",
    "\n",
    "paramset_old = ParamSet()\n",
    "lj_gen = LennardJonesGenerator(ffinfo, paramset_old)\n",
    "\n",
    "xmlio = XMLIO()\n",
    "xmlio.loadXML(\"data/init.xml\")\n",
    "#xmlio.loadXML(\"0219.xml\")\n",
    "ffinfo = xmlio.parseXML()\n",
    "paramset = ParamSet()\n",
    "lj_gen = LennardJonesGenerator(ffinfo, paramset)\n",
    "paramset.mask['LennardJonesForce']['sigma'] = paramset.mask['LennardJonesForce']['sigma'].at[0].set(0)\n",
    "paramset.mask['LennardJonesForce']['sigma'] = paramset.mask['LennardJonesForce']['sigma'].at[1].set(0)\n",
    "paramset.mask['LennardJonesForce']['sigma'] = paramset.mask['LennardJonesForce']['sigma'].at[2].set(0)\n",
    "paramset.mask['LennardJonesForce']['sigma'] = paramset.mask['LennardJonesForce']['sigma'].at[3].set(0)\n",
    "#paramset.mask['LennardJonesForce']['epsilon'] = paramset.mask['LennardJonesForce']['epsilon'].at[1].set(0)\n",
    "optimizer = optax.adam(0.01)\n",
    "opt_state = optimizer.init(paramset)\n",
    "traj_dict = analyse_traj(paramset, lj_gen, dest_path=\"./traj1/\", interval=15)\n"
   ]
  },
  {
   "cell_type": "code",
   "execution_count": 8,
   "metadata": {},
   "outputs": [
    {
     "name": "stdout",
     "output_type": "stream",
     "text": [
      "./traj1/1/1.pdb\n"
     ]
    },
    {
     "ename": "AttributeError",
     "evalue": "'NoneType' object has no attribute '_finalize'",
     "output_type": "error",
     "traceback": [
      "\u001b[0;31m---------------------------------------------------------------------------\u001b[0m",
      "\u001b[0;31mAttributeError\u001b[0m                            Traceback (most recent call last)",
      "Cell \u001b[0;32mIn[8], line 28\u001b[0m\n\u001b[1;32m     26\u001b[0m         traj_dict[key][\u001b[39m'\u001b[39m\u001b[39mestimator\u001b[39m\u001b[39m'\u001b[39m] \u001b[39m=\u001b[39m ReweightEstimator(ref_energies\u001b[39m=\u001b[39mtraj_dict[key][\u001b[39m'\u001b[39m\u001b[39mrefer_energy\u001b[39m\u001b[39m'\u001b[39m], temperature\u001b[39m=\u001b[39mSET_temperature)\n\u001b[1;32m     27\u001b[0m     \u001b[39mreturn\u001b[39;00m traj_dict\n\u001b[0;32m---> 28\u001b[0m traj_dict \u001b[39m=\u001b[39m analyse_traj(paramset, lj_gen, dest_path\u001b[39m=\u001b[39;49m\u001b[39m\"\u001b[39;49m\u001b[39m./traj1/\u001b[39;49m\u001b[39m\"\u001b[39;49m, interval\u001b[39m=\u001b[39;49m\u001b[39m15\u001b[39;49m)\n",
      "Cell \u001b[0;32mIn[8], line 17\u001b[0m, in \u001b[0;36manalyse_traj\u001b[0;34m(paramset, lj_gen, dest_path, interval)\u001b[0m\n\u001b[1;32m     15\u001b[0m \u001b[39mfor\u001b[39;00m gas_path \u001b[39min\u001b[39;00m os\u001b[39m.\u001b[39mlistdir(gas_dir)[::interval]:\n\u001b[1;32m     16\u001b[0m     \u001b[39mprint\u001b[39m(os\u001b[39m.\u001b[39mpath\u001b[39m.\u001b[39mjoin(gas_dir,gas_path))\n\u001b[0;32m---> 17\u001b[0m     topo, pos, num \u001b[39m=\u001b[39m simple_merge(\u001b[39m\"\u001b[39;49m\u001b[39mscaled_frame.pdb\u001b[39;49m\u001b[39m\"\u001b[39;49m,os\u001b[39m.\u001b[39;49mpath\u001b[39m.\u001b[39;49mjoin(gas_dir,gas_path))\n\u001b[1;32m     18\u001b[0m     ener_lj \u001b[39m=\u001b[39m compute_binding_energy(paramset,topo, pos, lj_gen, numframe\u001b[39m=\u001b[39m\u001b[39m720\u001b[39m,cutoff\u001b[39m=\u001b[39mcutoff)\n\u001b[1;32m     19\u001b[0m     traj_dict[idx][\u001b[39m'\u001b[39m\u001b[39mstructure\u001b[39m\u001b[39m'\u001b[39m]\u001b[39m.\u001b[39mappend([topo, pos])\n",
      "File \u001b[0;32m~/project/github/DMFF/UFF_opt/utils.py:199\u001b[0m, in \u001b[0;36msimple_merge\u001b[0;34m(frame, loading)\u001b[0m\n\u001b[1;32m    193\u001b[0m \u001b[39mdef\u001b[39;00m \u001b[39msimple_merge\u001b[39m(frame, loading):\n\u001b[1;32m    194\u001b[0m \u001b[39m    \u001b[39m\u001b[39m\"\"\"\u001b[39;00m\n\u001b[1;32m    195\u001b[0m \u001b[39m    \u001b[39;00m\n\u001b[1;32m    196\u001b[0m \u001b[39m    This function is writen for CO2. It is common to meet problems when you try to transfer\u001b[39;00m\n\u001b[1;32m    197\u001b[0m \n\u001b[1;32m    198\u001b[0m \u001b[39m    \"\"\"\u001b[39;00m\n\u001b[0;32m--> 199\u001b[0m     gas \u001b[39m=\u001b[39m app\u001b[39m.\u001b[39;49mPDBFile(loading)\n\u001b[1;32m    200\u001b[0m     gas_topo, gas_pos \u001b[39m=\u001b[39m gas\u001b[39m.\u001b[39mtopology, gas\u001b[39m.\u001b[39mpositions\n\u001b[1;32m    201\u001b[0m     frame \u001b[39m=\u001b[39m app\u001b[39m.\u001b[39mPDBFile(frame)\n",
      "File \u001b[0;32m~/anaconda3/envs/dmff/lib/python3.11/site-packages/openmm/app/pdbfile.py:95\u001b[0m, in \u001b[0;36mPDBFile.__init__\u001b[0;34m(self, file, extraParticleIdentifier)\u001b[0m\n\u001b[1;32m     93\u001b[0m     inputfile \u001b[39m=\u001b[39m \u001b[39mopen\u001b[39m(file)\n\u001b[1;32m     94\u001b[0m     own_handle \u001b[39m=\u001b[39m \u001b[39mTrue\u001b[39;00m\n\u001b[0;32m---> 95\u001b[0m pdb \u001b[39m=\u001b[39m PdbStructure(inputfile, load_all_models\u001b[39m=\u001b[39;49m\u001b[39mTrue\u001b[39;49;00m, extraParticleIdentifier\u001b[39m=\u001b[39;49mextraParticleIdentifier)\n\u001b[1;32m     96\u001b[0m \u001b[39mif\u001b[39;00m own_handle:\n\u001b[1;32m     97\u001b[0m     inputfile\u001b[39m.\u001b[39mclose()\n",
      "File \u001b[0;32m~/anaconda3/envs/dmff/lib/python3.11/site-packages/openmm/app/internal/pdbstructure.py:153\u001b[0m, in \u001b[0;36mPdbStructure.__init__\u001b[0;34m(self, input_stream, load_all_models, extraParticleIdentifier)\u001b[0m\n\u001b[1;32m    151\u001b[0m \u001b[39mself\u001b[39m\u001b[39m.\u001b[39mmodified_residues \u001b[39m=\u001b[39m []\n\u001b[1;32m    152\u001b[0m \u001b[39m# read file\u001b[39;00m\n\u001b[0;32m--> 153\u001b[0m \u001b[39mself\u001b[39;49m\u001b[39m.\u001b[39;49m_load(input_stream)\n",
      "File \u001b[0;32m~/anaconda3/envs/dmff/lib/python3.11/site-packages/openmm/app/internal/pdbstructure.py:186\u001b[0m, in \u001b[0;36mPdbStructure._load\u001b[0;34m(self, input_stream)\u001b[0m\n\u001b[1;32m    184\u001b[0m         \u001b[39mbreak\u001b[39;00m\n\u001b[1;32m    185\u001b[0m \u001b[39melif\u001b[39;00m pdb_line[:\u001b[39m3\u001b[39m] \u001b[39m==\u001b[39m \u001b[39m\"\u001b[39m\u001b[39mEND\u001b[39m\u001b[39m\"\u001b[39m:\n\u001b[0;32m--> 186\u001b[0m     \u001b[39mself\u001b[39;49m\u001b[39m.\u001b[39;49m_current_model\u001b[39m.\u001b[39;49m_finalize()\n\u001b[1;32m    187\u001b[0m     \u001b[39mif\u001b[39;00m \u001b[39mnot\u001b[39;00m \u001b[39mself\u001b[39m\u001b[39m.\u001b[39mload_all_models:\n\u001b[1;32m    188\u001b[0m         \u001b[39mbreak\u001b[39;00m\n",
      "\u001b[0;31mAttributeError\u001b[0m: 'NoneType' object has no attribute '_finalize'"
     ]
    }
   ],
   "source": [
    "def analyse_traj(paramset, lj_gen, dest_path = \"./traj1/\", interval=3):\n",
    "    traj_dict = {}\n",
    "    global Number_points, cutoff\n",
    "    traj_ls = os.listdir(dest_path)\n",
    "    create_supercell(\"data/MIL-120.pdb\", scaling_factors, \"scaled_frame.pdb\")\n",
    "\n",
    "    # Filter out file names and keep only directory names\n",
    "    dir_names = [name for name in traj_ls if os.path.isdir(os.path.join(dest_path, name)) and name.isdigit()]\n",
    "    dir_names = sorted(map(int, dir_names))\n",
    "    dir_names = [str(i) for i in dir_names]\n",
    "    for directory in dir_names[:Number_points]:\n",
    "        idx = int(directory)\n",
    "        traj_dict[idx] = {'experiment': {'pressure': picked_pressure[idx-1], 'loading': picked_isotherm[idx-1]}, 'structure': [], 'refer_energy':[], 'loading':[]}\n",
    "        gas_dir = os.path.join(dest_path, directory)\n",
    "        for gas_path in os.listdir(gas_dir)[::interval]:\n",
    "            print(os.path.join(gas_dir,gas_path))\n",
    "            topo, pos, num = simple_merge(\"scaled_frame.pdb\",os.path.join(gas_dir,gas_path))\n",
    "            ener_lj = compute_binding_energy(paramset,topo, pos, lj_gen, numframe=720,cutoff=cutoff)\n",
    "            traj_dict[idx]['structure'].append([topo, pos])\n",
    "            traj_dict[idx]['loading'].append(num/scaling_factors[0]/scaling_factors[1]/scaling_factors[2]/3)\n",
    "            traj_dict[idx]['refer_energy'].append(ener_lj)\n",
    "        clear_backends()\n",
    "    for key in traj_dict.keys():\n",
    "        traj_dict[key]['refer_energy'] = jnp.array(traj_dict[key]['refer_energy'])\n",
    "        traj_dict[key]['loading'] = jnp.array(traj_dict[key]['loading'])\n",
    "        traj_dict[key]['estimator'] = ReweightEstimator(ref_energies=traj_dict[key]['refer_energy'], temperature=SET_temperature)\n",
    "    return traj_dict\n",
    "traj_dict = analyse_traj(paramset, lj_gen, dest_path=\"./traj1/\", interval=15)"
   ]
  },
  {
   "cell_type": "code",
   "execution_count": 7,
   "metadata": {},
   "outputs": [
    {
     "ename": "NameError",
     "evalue": "name 'gas_dir' is not defined",
     "output_type": "error",
     "traceback": [
      "\u001b[0;31m---------------------------------------------------------------------------\u001b[0m",
      "\u001b[0;31mNameError\u001b[0m                                 Traceback (most recent call last)",
      "Cell \u001b[0;32mIn[7], line 1\u001b[0m\n\u001b[0;32m----> 1\u001b[0m os\u001b[39m.\u001b[39mpath\u001b[39m.\u001b[39mjoin(gas_dir,gas_path)\n",
      "\u001b[0;31mNameError\u001b[0m: name 'gas_dir' is not defined"
     ]
    }
   ],
   "source": [
    "os.path.join(gas_dir,gas_path)"
   ]
  },
  {
   "cell_type": "code",
   "execution_count": null,
   "metadata": {},
   "outputs": [],
   "source": [
    "from jax import clear_caches, clear_backends\n",
    "loss_ls = []\n",
    "#os.system(\"cp /home/yutao/project/aiida/applications/UFF.json /home/yutao/project/aiida/applications/ff_2.json\")\n",
    "#os.system(\"cp 0219.json /home/yutao/project/aiida/applications/ff_2.json\")\n",
    "for nloop in range(40):\n",
    "    print(f\"{nloop} optimization started\")\n",
    "    #sample()\n",
    "    move_traj(dest_path=\"/home/yutao/project/MIL-120/traj1/\",picked_pressure=picked_pressure, copy_to_path = \"./traj1/\")\n",
    "    \n",
    "    #print(len(traj_dict[1]['structure']))\n",
    "    #print(traj_dict.keys())\n",
    "    def loss(paramset):\n",
    "        errors = []\n",
    "        for idx in range(1, Number_points+1):\n",
    "            energies = []\n",
    "            for jdx in range(len(traj_dict[idx]['structure'])):  \n",
    "                ener = compute_binding_energy(paramset, traj_dict[idx]['structure'][jdx][0], traj_dict[idx]['structure'][jdx][1], lj_gen, numframe=720,cutoff=cutoff)\n",
    "                energies.append(ener.reshape((1,)))\n",
    "            energies = jnp.concatenate(energies)\n",
    "            weight = traj_dict[idx]['estimator'].estimate_weight(energies)\n",
    "            reweight_loading = traj_dict[idx]['loading'] * weight\n",
    "            #print(f\"This is {jdx}th reweight_loading results from dmff code.\",jnp.average(traj_dict[idx]['loading']),jnp.average(reweight_loading))\n",
    "            error = jnp.abs(jnp.average(reweight_loading)-traj_dict[idx]['experiment']['loading'])\n",
    "            errors.append(error.reshape((1,)))\n",
    "            #print(error)\n",
    "        errors = jnp.concatenate(errors)\n",
    "        return jnp.sum(errors)\n",
    "\n",
    "    v_and_g = jax.value_and_grad(loss, 0)\n",
    "    v, g = v_and_g(paramset)\n",
    "    loss_ls.append(v)\n",
    "    \n",
    "    updates, opt_state = optimizer.update(g, opt_state)\n",
    "    updates.parameters = update_mask(updates.parameters,paramset.mask)\n",
    "    paramset = optax.apply_updates(paramset, updates)\n",
    "    paramset = jax.tree_map(lambda x: jnp.clip(x, 0.0, 1e8), paramset)\n",
    "    update_ff(paramset)\n",
    "    lj_gen.overwrite(paramset)\n",
    "    sigma_indices, epsilon_indices = detect_parameter_change(paramset, paramset_old,0.9)\n",
    "    paramset = fix_changed_parameters(paramset, sigma_indices, epsilon_indices)\n",
    "    print(f\"This is {nloop}th time\", f\" Loss: {v} and Parameters: \",paramset.parameters['LennardJonesForce']['sigma'], paramset.parameters['LennardJonesForce']['epsilon'])\n",
    "    clear_caches()\n",
    "    clear_backends()    "
   ]
  }
 ],
 "metadata": {
  "kernelspec": {
   "display_name": "dmff",
   "language": "python",
   "name": "python3"
  },
  "language_info": {
   "codemirror_mode": {
    "name": "ipython",
    "version": 3
   },
   "file_extension": ".py",
   "mimetype": "text/x-python",
   "name": "python",
   "nbconvert_exporter": "python",
   "pygments_lexer": "ipython3",
   "version": "3.11.6"
  },
  "orig_nbformat": 4
 },
 "nbformat": 4,
 "nbformat_minor": 2
}
