{
 "cells": [
  {
   "cell_type": "code",
   "execution_count": 1,
   "metadata": {},
   "outputs": [
    {
     "name": "stderr",
     "output_type": "stream",
     "text": [
      "Warning on use of the timeseries module: If the inherent timescales of the system are long compared to those being analyzed, this statistical inefficiency may be an underestimate.  The estimate presumes the use of many statistically independent samples.  Tests should be performed to assess whether this condition is satisfied.   Be cautious in the interpretation of the data.\n"
     ]
    }
   ],
   "source": [
    "# These package is inherited from Lenard-Jones optimization part of DMFF\n",
    "\n",
    "import openmm.app as app\n",
    "import openmm as mm\n",
    "import openmm.unit as unit\n",
    "import numpy as np\n",
    "import jax\n",
    "import jax.numpy as jnp\n",
    "import dmff\n",
    "from dmff.api.xmlio import XMLIO\n",
    "from dmff.api.paramset import ParamSet\n",
    "from dmff.generators.classical import CoulombGenerator, LennardJonesGenerator\n",
    "from dmff.api.hamiltonian import Hamiltonian\n",
    "from dmff.operators import ParmedLennardJonesOperator\n",
    "from dmff import NeighborListFreud\n",
    "from dmff.mbar import ReweightEstimator\n",
    "import mdtraj as md\n",
    "from tqdm import tqdm, trange\n",
    "import parmed\n",
    "import sys\n",
    "import os\n",
    "from dmff.api.topology import DMFFTopology\n",
    "# this is a package I write to solve some IO problems utils.py\n",
    "from utils import create_supercell, gas_generate,add_loading, simple_merge\n",
    "from utils import cutoff_topology\n",
    "import matplotlib.pyplot as plt\n",
    "import optax\n",
    "from utils import extract_from_raspa"
   ]
  },
  {
   "cell_type": "code",
   "execution_count": 2,
   "metadata": {},
   "outputs": [],
   "source": [
    "\"\"\"\n",
    "\n",
    "Superparameters for Lenard-Jone Potential optimization\n",
    "\n",
    "\"\"\"\n",
    "particle_number =  500             #液体pdb文件中的分子数\n",
    "target_site1 = -50.60                  #拟合的目标binding energy\n",
    "target_site2 = -46.69           #拟合的目标binding energy\n",
    "SET_temperature=  303          #温度设定 For simulated isotherm\n",
    "time_gap=   2.2                      #分子动力学模拟过程中每一个frame的时间间隔，单位是皮秒picosecond   推荐2-4ps\n",
    "loop_time =   100                  #迭代循环次数    推荐50-100\n",
    "scaling_factors = (3,3,2)\n",
    "cutoff = 0.905 #1.3 # unit is nanometer"
   ]
  },
  {
   "cell_type": "code",
   "execution_count": 5,
   "metadata": {},
   "outputs": [],
   "source": [
    "# this is some self-defined functions for testing the model\n",
    "\n",
    "# These package is inherited from Lenard-Jones optimization part of DMFF\n",
    "\n",
    "import openmm.app as app\n",
    "import openmm as mm\n",
    "import openmm.unit as unit\n",
    "import numpy as np\n",
    "import jax\n",
    "import jax.numpy as jnp\n",
    "import dmff\n",
    "from dmff.api.xmlio import XMLIO\n",
    "from dmff.api.paramset import ParamSet\n",
    "from dmff.generators.classical import CoulombGenerator, LennardJonesGenerator\n",
    "from dmff.api.hamiltonian import Hamiltonian\n",
    "from dmff.operators import ParmedLennardJonesOperator\n",
    "from dmff import NeighborListFreud\n",
    "from dmff.mbar import ReweightEstimator\n",
    "import mdtraj as md\n",
    "from tqdm import tqdm, trange\n",
    "import parmed\n",
    "import sys\n",
    "import os\n",
    "from dmff.api.topology import DMFFTopology\n",
    "# this is a package I write to solve some IO problems utils.py\n",
    "from utils import create_supercell, gas_generate,add_loading, simple_merge\n",
    "from utils import cutoff_topology\n",
    "import matplotlib.pyplot as plt\n",
    "import optax\n",
    "from utils import extract_from_raspa\n",
    "from IPython.display import display\n",
    "\"\"\"\n",
    "\n",
    "Superparameters for Lenard-Jone Potential optimization\n",
    "\n",
    "\"\"\"\n",
    "Number_points = 2           ## must be smaller than len(picked_ls)\n",
    "Trajectory_length = 250#250          #液体pdb文件的个数\n",
    "target_site1 = -50.60                  #拟合的目标binding energy\n",
    "target_site2 = -46.69           #拟合的目标binding energy\n",
    "SET_temperature=  303           #温度设定\n",
    "time_gap=   2.2                      #分子动力学模拟过程中每一个frame的时间间隔，单位是皮秒picosecond   推荐2-4ps\n",
    "loop_time =   100                  #迭代循环次数    推荐50-100\n",
    "scaling_factors = (3,3,2)\n",
    "cutoff = 0.905     #1.3 # unit is nanometer\n",
    "\n",
    "Transfer_unit = 2.7719416667/5.6100437023 \n",
    "\n",
    "\n",
    "\n",
    "pressure_list = [\n",
    "            0.021648873072361,\n",
    "            0.038256227758007,\n",
    "            0.059015421115065,\n",
    "            0.077698695136418,\n",
    "            0.09638196915777,\n",
    "            0.14827995255042,\n",
    "            0.20017793594306,\n",
    "            0.24584816132859,\n",
    "            0.29774614472123,\n",
    "            0.34756820877817,\n",
    "            0.39739027283511,\n",
    "            0.44928825622776,\n",
    "            0.49495848161329,\n",
    "            0.60083036773428,\n",
    "            0.69839857651246,\n",
    "            0.80219454329775,\n",
    "            0.90183867141163,\n",
    "            0.99733096085409,\n",
    "            1.1986951364176,\n",
    "            1.3959074733096,\n",
    "            1.5993475682088,\n",
    "            1.7986358244365,\n",
    "            2.0020759193357\n",
    "        ]\n",
    "\n",
    "arr_3 = np.loadtxt(\"/home/yutao/dataset/exp_303.txt\", delimiter=',')\n",
    "\n",
    "picked_ls = list(range(Number_points))#[0,1,2,3,4,5,6,7,8,9] #[0, 2, 4, 6, 8, 10, 14, 18, 22]#[0, 3, 6, 9, 12, 15, 18]\n",
    "picked_pressure = [pressure_list[i] for i in picked_ls]\n",
    "#print(picked_pressure)\n",
    "#picked_isotherm = [arr_3[i,1]*Transfer_unit*2/1.5 for i in picked_ls]\n",
    "picked_isotherm = [arr_3[i,1]*Transfer_unit for i in picked_ls]\n",
    "def is_close_to_list(value, value_list):\n",
    "    for list_value in value_list:\n",
    "        relative_error = abs((value - list_value) / list_value)\n",
    "        if relative_error < 0.01:\n",
    "            return 1\n",
    "    return 0\n",
    "\n",
    "import os\n",
    "import numpy as np\n",
    "from utils import scaling_gas, extract_from_raspa, write_scaling_gas\n",
    "bar = 10**5\n",
    "def move_traj(dest_path = \"/home/yutao/project/MIL-120/traj1/\",picked_pressure=picked_pressure, copy_to_path = \"./traj1/\"):\n",
    "    traj_ls = os.listdir(dest_path)\n",
    "    isotherm_data = [[],[]] # the first list is for pressure, the second is for loading\n",
    "    jdx = 0 \n",
    "    for traj in extract_from_raspa(traj_ls):\n",
    "        pdb_file = traj[1]\n",
    "        if not pdb_file.endswith(\".pdb\") or 'Movie_framework' not in pdb_file:\n",
    "            continue\n",
    "        if not is_close_to_list(float(traj[0])/bar, picked_pressure):\n",
    "            continue\n",
    "        isotherm_data[0].append(float(traj[0])/bar)\n",
    "        pdb_path = os.path.join(dest_path, pdb_file)\n",
    "        with open(pdb_path) as f:\n",
    "            lines = f.readlines()\n",
    "        num_atoms_list = []  # List to store the number of atoms in each structure\n",
    "        index = 0\n",
    "        write_idx = 1\n",
    "        num_atoms = 0  # Variable to store the number of atoms in the current structure\n",
    "        directory = copy_to_path+f\"{jdx+1}\"\n",
    "        jdx += 1\n",
    "        if not os.path.exists(directory):\n",
    "            os.makedirs(directory)\n",
    "            print(\"Directory created:\", directory)\n",
    "        for line in lines:\n",
    "            if line.startswith(\"MODEL\"):\n",
    "                if index>=150:\n",
    "                    write_scaling_gas(block_coords, \"data/gas.pdb\", write_idx, dest_path=directory)\n",
    "                    write_idx += 1\n",
    "                block_coords = []\n",
    "                block_Csym = []\n",
    "                index += 1\n",
    "                num_atoms_list.append(num_atoms)  # Add the number of atoms to the list\n",
    "                num_atoms = 0  # Reset the number of atoms for the next structure\n",
    "            if line.startswith(\"ATOM\"):\n",
    "                parts = line.split()\n",
    "                coords = np.array([float(parts[4]), float(parts[5]), float(parts[6])])\n",
    "                block_coords.append(coords)\n",
    "                block_Csym.append(parts[-1])\n",
    "                num_atoms += 1  # Increment the number of atoms\n",
    "        #num_atoms_list.append(num_atoms)  # Add the number of atoms for the last structure\n",
    "        isotherm_data[1].append(sum(num_atoms_list)/len(num_atoms_list)/3/3/2/3)\n",
    "        #print(\"Number of atoms in each structure for\", pdb_file, \":\", num_atoms_list)\n",
    "    return isotherm_data\n",
    "\n",
    "def update_mask(parameters, mask):\n",
    "    updated_parameters = parameters.copy()\n",
    "    \n",
    "    for force_type, force_params in mask.items():\n",
    "        if force_type in parameters:\n",
    "            for param, mask_array in force_params.items():\n",
    "                if param in parameters[force_type]:\n",
    "                    # Update values based on the mask\n",
    "                    updated_parameters[force_type][param] = jnp.where(mask_array == 1, \n",
    "                                                                      parameters[force_type][param], \n",
    "                                                                      0)\n",
    "    return updated_parameters\n",
    "\n",
    "def compute_binding_energy(paramset,topo, pos, lj_gen, numframe=720,cutoff=cutoff):\n",
    "    topodata = dmff.DMFFTopology(topo)\n",
    "    # Because dmfftopology does not provide a good entry for open.topology object generated by pdb file, I had to suplement something\n",
    "    for atom in topodata.atoms():\n",
    "        if atom.residue.name==\"MOL\":\n",
    "            atom.meta['type']=atom.meta['element']\n",
    "            atom.meta['class']=atom.meta['element']\n",
    "        elif atom.residue.name==\"GAS\":\n",
    "            #print(atom.meta)\n",
    "            atom.meta['type']=atom.meta['element']+\"_co2\"\n",
    "            atom.meta['class']=atom.meta['element']+\"_co2\"\n",
    "        #print(atom.meta['element'])\n",
    "    cov_mat = topodata.buildCovMat()\n",
    "    lj_force = lj_gen.createPotential(\n",
    "    topodata, nonbondedMethod=app.PME, nonbondedCutoff=cutoff, args={})\n",
    "    pos_jnp = jnp.array(pos.value_in_unit(unit.nanometer))\n",
    "    cell_jnp = jnp.array(topo.getPeriodicBoxVectors().value_in_unit(unit.nanometer))\n",
    "    cov_mat=cov_mat.at[:numframe,:numframe].set(1)\n",
    "    nblist = NeighborListFreud(topo.getPeriodicBoxVectors().value_in_unit(unit.nanometer), cutoff, cov_mat)\n",
    "    nblist.allocate(pos_jnp, cell_jnp)\n",
    "    pairs = jnp.array(nblist.pairs)\n",
    "    ener = lj_force(pos_jnp,cell_jnp, pairs, paramset)\n",
    "    return ener\n",
    "\n",
    "def detect_parameter_change(paramset_new, paramset_old, error_threshold=0.4):\n",
    "    # Get the initial parameters\n",
    "    initial_sigma = paramset_old.parameters['LennardJonesForce']['sigma']\n",
    "    initial_epsilon = paramset_old.parameters['LennardJonesForce']['epsilon']\n",
    "    \n",
    "    # Get the updated parameters\n",
    "    updated_sigma = paramset_new.parameters['LennardJonesForce']['sigma']\n",
    "    updated_epsilon = paramset_new.parameters['LennardJonesForce']['epsilon']\n",
    "    \n",
    "    # Calculate the percentage change for each parameter\n",
    "    sigma_change = np.abs(updated_sigma - initial_sigma) / initial_sigma\n",
    "    epsilon_change = np.abs(updated_epsilon - initial_epsilon) / initial_epsilon\n",
    "\n",
    "    # Find the indices of values that have changed by more than 40%\n",
    "    sigma_indices = np.where(sigma_change > error_threshold)[0]\n",
    "    epsilon_indices = np.where(epsilon_change > error_threshold)[0]\n",
    "    \n",
    "    return sigma_indices, epsilon_indices\n",
    "\n",
    "def fix_changed_parameters(paramset_new, sigma_indices, epsilon_indices):\n",
    "    for idx in sigma_indices:\n",
    "        paramset.mask['LennardJonesForce']['sigma'] = paramset.mask['LennardJonesForce']['sigma'].at[idx].set(0)\n",
    "    for idx in epsilon_indices:\n",
    "        paramset.mask['LennardJonesForce']['epsilon'] = paramset.mask['LennardJonesForce']['epsilon'].at[idx].set(0)\n",
    "    return paramset_new\n",
    "\n",
    "\n",
    "import json\n",
    "Transfer_energy_unit = 254.152/2.11525\n",
    "Transfer_length_unit = 10\n",
    "def update_ff(paramset, dest_path='/home/yutao/project/aiida/applications/ff_2.json'):\n",
    "    global Transfer_energy_unit, Transfer_length_unit\n",
    "    element_list = ['Al_', 'C_', 'H_', 'O_']\n",
    "    params = paramset.parameters\n",
    "    ff_data = {}\n",
    "    if len(element_list) != params['LennardJonesForce']['sigma'].shape[0]-2:\n",
    "        raise ValueError(\"Length of element list and parameter list does not match\")\n",
    "    sigma_list = params['LennardJonesForce']['sigma'].tolist()\n",
    "    epsilon_list = params['LennardJonesForce']['epsilon'].tolist()\n",
    "    for idx in range(len(element_list)):\n",
    "        ff_data[element_list[idx]] = ['lennard-jones', epsilon_list[idx]*Transfer_energy_unit, sigma_list[idx]*Transfer_length_unit]\n",
    "    with open(dest_path, 'w') as f:\n",
    "        json.dump(ff_data, f, indent=4)\n",
    "\n",
    "from jax import clear_backends\n",
    "def analyse_traj(paramset, lj_gen, dest_path = \"./traj1/\", interval=3):\n",
    "    traj_dict = {}\n",
    "    global Number_points, cutoff\n",
    "    traj_ls = os.listdir(dest_path)\n",
    "    create_supercell(\"data/MIL-120.pdb\", scaling_factors, \"scaled_frame.pdb\")\n",
    "\n",
    "    # Filter out file names and keep only directory names\n",
    "    dir_names = [name for name in traj_ls if os.path.isdir(os.path.join(dest_path, name)) and name.isdigit()]\n",
    "    dir_names = sorted(map(int, dir_names))\n",
    "    dir_names = [str(i) for i in dir_names]\n",
    "    for directory in dir_names[:Number_points]:\n",
    "        idx = int(directory)\n",
    "        traj_dict[idx] = {'experiment': {'pressure': picked_pressure[idx-1], 'loading': picked_isotherm[idx-1]}, 'structure': [], 'refer_energy':[], 'loading':[]}\n",
    "        gas_dir = os.path.join(dest_path, directory)\n",
    "        for gas_path in os.listdir(gas_dir)[::interval]:\n",
    "            topo, pos, num = simple_merge(\"scaled_frame.pdb\",os.path.join(gas_dir,gas_path))\n",
    "            ener_lj = compute_binding_energy(paramset,topo, pos, lj_gen, numframe=720,cutoff=cutoff)\n",
    "            traj_dict[idx]['structure'].append([topo, pos])\n",
    "            traj_dict[idx]['loading'].append(num/scaling_factors[0]/scaling_factors[1]/scaling_factors[2]/3)\n",
    "            traj_dict[idx]['refer_energy'].append(ener_lj)\n",
    "        clear_backends()\n",
    "    for key in traj_dict.keys():\n",
    "        traj_dict[key]['refer_energy'] = jnp.array(traj_dict[key]['refer_energy'])\n",
    "        traj_dict[key]['loading'] = jnp.array(traj_dict[key]['loading'])\n",
    "        traj_dict[key]['estimator'] = ReweightEstimator(ref_energies=traj_dict[key]['refer_energy'], temperature=SET_temperature)\n",
    "    return traj_dict\n",
    "\n",
    "import subprocess\n",
    "def sample():\n",
    "    command = [\"/home/yutao/project/aiida/applications/sample_long.sh\"]\n",
    "    # Run the script using subprocess\n",
    "    completed_process = subprocess.run(command, capture_output=True, cwd=\"/home/yutao/project/aiida/applications\",text=True)\n",
    "    print(\"As long as it finishes,\",completed_process.returncode)\n",
    "    # Check the return code\n",
    "    if completed_process.returncode == 0:\n",
    "        # The script finished successfully\n",
    "        display(\"Script finished successfully!\")\n",
    "        # Display the output in the notebook\n",
    "        display(\"Script output:\")\n",
    "        display(completed_process.stdout)\n",
    "        # Continue with your program logic here\n",
    "    else:\n",
    "        # The script encountered an error\n",
    "        display(\"Script encountered an error:\", completed_process.stderr)\n",
    "        # Handle the error or exit the program\n"
   ]
  },
  {
   "cell_type": "code",
   "execution_count": 6,
   "metadata": {},
   "outputs": [],
   "source": [
    "\n",
    "# Initial Optimized parameters\n",
    "xmlio = XMLIO()\n",
    "xmlio.loadXML(\"data/init.xml\")\n",
    "ffinfo = xmlio.parseXML()\n",
    "\n",
    "paramset_old = ParamSet()\n",
    "lj_gen = LennardJonesGenerator(ffinfo, paramset_old)\n",
    "\n",
    "xmlio = XMLIO()\n",
    "#xmlio.loadXML(\"data/init.xml\")\n",
    "xmlio.loadXML(\"0219.xml\")\n",
    "ffinfo = xmlio.parseXML()\n",
    "paramset = ParamSet()\n",
    "lj_gen = LennardJonesGenerator(ffinfo, paramset)\n",
    "paramset.mask['LennardJonesForce']['sigma'] = paramset.mask['LennardJonesForce']['sigma'].at[0].set(0)\n",
    "paramset.mask['LennardJonesForce']['sigma'] = paramset.mask['LennardJonesForce']['sigma'].at[1].set(0)\n",
    "paramset.mask['LennardJonesForce']['sigma'] = paramset.mask['LennardJonesForce']['sigma'].at[2].set(0)\n",
    "paramset.mask['LennardJonesForce']['sigma'] = paramset.mask['LennardJonesForce']['sigma'].at[3].set(0)\n",
    "#paramset.mask['LennardJonesForce']['epsilon'] = paramset.mask['LennardJonesForce']['epsilon'].at[1].set(0)\n",
    "optimizer = optax.adam(0.01)\n",
    "opt_state = optimizer.init(paramset)\n",
    "\n"
   ]
  },
  {
   "cell_type": "code",
   "execution_count": 4,
   "metadata": {},
   "outputs": [
    {
     "data": {
      "text/plain": [
       "{'LennardJonesForce': {'sigma': Array([0.34309, 0.25711, 0.31181, 0.40082, 0.305  , 0.28   ], dtype=float64),\n",
       "  'epsilon': Array([0.12956916, 0.04939106, 0.07208707, 1.57065054, 0.65757   ,\n",
       "         0.22469   ], dtype=float64),\n",
       "  'sigma_nbfix': Array([], dtype=float64),\n",
       "  'epsilon_nbfix': Array([], dtype=float64)}}"
      ]
     },
     "execution_count": 4,
     "metadata": {},
     "output_type": "execute_result"
    }
   ],
   "source": [
    "paramset.parameters"
   ]
  },
  {
   "cell_type": "code",
   "execution_count": null,
   "metadata": {},
   "outputs": [],
   "source": []
  },
  {
   "cell_type": "code",
   "execution_count": 7,
   "metadata": {},
   "outputs": [
    {
     "name": "stdout",
     "output_type": "stream",
     "text": [
      "0 optimization started\n",
      "This is 0th time  Loss: 2.033250929509169 and Parameters:  [0.40082 0.34309 0.25711 0.31181 0.305   0.28   ] [1.56065054 0.13956916 0.05939106 0.06208707 0.65757    0.22469   ]\n",
      "1 optimization started\n",
      "This is 1th time  Loss: 2.033250929509169 and Parameters:  [0.40082 0.34309 0.25711 0.31181 0.305   0.28   ] [1.55064972 0.14955775 0.06935648 0.05207459 0.65757    0.22469   ]\n",
      "2 optimization started\n"
     ]
    },
    {
     "ename": "KeyboardInterrupt",
     "evalue": "",
     "output_type": "error",
     "traceback": [
      "\u001b[0;31m---------------------------------------------------------------------------\u001b[0m",
      "\u001b[0;31mKeyboardInterrupt\u001b[0m                         Traceback (most recent call last)",
      "Cell \u001b[0;32mIn[7], line 30\u001b[0m\n\u001b[1;32m     27\u001b[0m     \u001b[39mreturn\u001b[39;00m jnp\u001b[39m.\u001b[39msum(errors)\n\u001b[1;32m     29\u001b[0m v_and_g \u001b[39m=\u001b[39m jax\u001b[39m.\u001b[39mvalue_and_grad(loss, \u001b[39m0\u001b[39m)\n\u001b[0;32m---> 30\u001b[0m v, g \u001b[39m=\u001b[39m v_and_g(paramset)\n\u001b[1;32m     31\u001b[0m loss_ls\u001b[39m.\u001b[39mappend(v)\n\u001b[1;32m     33\u001b[0m updates, opt_state \u001b[39m=\u001b[39m optimizer\u001b[39m.\u001b[39mupdate(g, opt_state)\n",
      "    \u001b[0;31m[... skipping hidden 1 frame]\u001b[0m\n",
      "File \u001b[0;32m~/anaconda3/envs/dmff/lib/python3.11/site-packages/jax/_src/api.py:735\u001b[0m, in \u001b[0;36mvalue_and_grad.<locals>.value_and_grad_f\u001b[0;34m(*args, **kwargs)\u001b[0m\n\u001b[1;32m    733\u001b[0m   _check_input_dtype_grad(holomorphic, allow_int, leaf)\n\u001b[1;32m    734\u001b[0m \u001b[39mif\u001b[39;00m \u001b[39mnot\u001b[39;00m has_aux:\n\u001b[0;32m--> 735\u001b[0m   ans, vjp_py \u001b[39m=\u001b[39m _vjp(f_partial, \u001b[39m*\u001b[39;49mdyn_args, reduce_axes\u001b[39m=\u001b[39;49mreduce_axes)\n\u001b[1;32m    736\u001b[0m \u001b[39melse\u001b[39;00m:\n\u001b[1;32m    737\u001b[0m   ans, vjp_py, aux \u001b[39m=\u001b[39m _vjp(\n\u001b[1;32m    738\u001b[0m       f_partial, \u001b[39m*\u001b[39mdyn_args, has_aux\u001b[39m=\u001b[39m\u001b[39mTrue\u001b[39;00m, reduce_axes\u001b[39m=\u001b[39mreduce_axes)\n",
      "File \u001b[0;32m~/anaconda3/envs/dmff/lib/python3.11/site-packages/jax/_src/api.py:2223\u001b[0m, in \u001b[0;36m_vjp\u001b[0;34m(fun, has_aux, reduce_axes, *primals)\u001b[0m\n\u001b[1;32m   2221\u001b[0m \u001b[39mif\u001b[39;00m \u001b[39mnot\u001b[39;00m has_aux:\n\u001b[1;32m   2222\u001b[0m   flat_fun, out_tree \u001b[39m=\u001b[39m flatten_fun_nokwargs(fun, in_tree)\n\u001b[0;32m-> 2223\u001b[0m   out_primal, out_vjp \u001b[39m=\u001b[39m ad\u001b[39m.\u001b[39;49mvjp(\n\u001b[1;32m   2224\u001b[0m       flat_fun, primals_flat, reduce_axes\u001b[39m=\u001b[39;49mreduce_axes)\n\u001b[1;32m   2225\u001b[0m   out_tree \u001b[39m=\u001b[39m out_tree()\n\u001b[1;32m   2226\u001b[0m \u001b[39melse\u001b[39;00m:\n",
      "File \u001b[0;32m~/anaconda3/envs/dmff/lib/python3.11/site-packages/jax/_src/interpreters/ad.py:142\u001b[0m, in \u001b[0;36mvjp\u001b[0;34m(traceable, primals, has_aux, reduce_axes)\u001b[0m\n\u001b[1;32m    140\u001b[0m \u001b[39mdef\u001b[39;00m \u001b[39mvjp\u001b[39m(traceable, primals, has_aux\u001b[39m=\u001b[39m\u001b[39mFalse\u001b[39;00m, reduce_axes\u001b[39m=\u001b[39m()):\n\u001b[1;32m    141\u001b[0m   \u001b[39mif\u001b[39;00m \u001b[39mnot\u001b[39;00m has_aux:\n\u001b[0;32m--> 142\u001b[0m     out_primals, pvals, jaxpr, consts \u001b[39m=\u001b[39m linearize(traceable, \u001b[39m*\u001b[39;49mprimals)\n\u001b[1;32m    143\u001b[0m   \u001b[39melse\u001b[39;00m:\n\u001b[1;32m    144\u001b[0m     out_primals, pvals, jaxpr, consts, aux \u001b[39m=\u001b[39m linearize(traceable, \u001b[39m*\u001b[39mprimals, has_aux\u001b[39m=\u001b[39m\u001b[39mTrue\u001b[39;00m)\n",
      "File \u001b[0;32m~/anaconda3/envs/dmff/lib/python3.11/site-packages/jax/_src/interpreters/ad.py:131\u001b[0m, in \u001b[0;36mlinearize\u001b[0;34m(traceable, *primals, **kwargs)\u001b[0m\n\u001b[1;32m    129\u001b[0m _, in_tree \u001b[39m=\u001b[39m tree_flatten(((primals, primals), {}))\n\u001b[1;32m    130\u001b[0m jvpfun_flat, out_tree \u001b[39m=\u001b[39m flatten_fun(jvpfun, in_tree)\n\u001b[0;32m--> 131\u001b[0m jaxpr, out_pvals, consts \u001b[39m=\u001b[39m pe\u001b[39m.\u001b[39;49mtrace_to_jaxpr_nounits(jvpfun_flat, in_pvals)\n\u001b[1;32m    132\u001b[0m out_primals_pvals, out_tangents_pvals \u001b[39m=\u001b[39m tree_unflatten(out_tree(), out_pvals)\n\u001b[1;32m    133\u001b[0m \u001b[39massert\u001b[39;00m \u001b[39mall\u001b[39m(out_primal_pval\u001b[39m.\u001b[39mis_known() \u001b[39mfor\u001b[39;00m out_primal_pval \u001b[39min\u001b[39;00m out_primals_pvals)\n",
      "File \u001b[0;32m~/anaconda3/envs/dmff/lib/python3.11/site-packages/jax/_src/profiler.py:336\u001b[0m, in \u001b[0;36mannotate_function.<locals>.wrapper\u001b[0;34m(*args, **kwargs)\u001b[0m\n\u001b[1;32m    333\u001b[0m \u001b[39m@wraps\u001b[39m(func)\n\u001b[1;32m    334\u001b[0m \u001b[39mdef\u001b[39;00m \u001b[39mwrapper\u001b[39m(\u001b[39m*\u001b[39margs, \u001b[39m*\u001b[39m\u001b[39m*\u001b[39mkwargs):\n\u001b[1;32m    335\u001b[0m   \u001b[39mwith\u001b[39;00m TraceAnnotation(name, \u001b[39m*\u001b[39m\u001b[39m*\u001b[39mdecorator_kwargs):\n\u001b[0;32m--> 336\u001b[0m     \u001b[39mreturn\u001b[39;00m func(\u001b[39m*\u001b[39;49margs, \u001b[39m*\u001b[39;49m\u001b[39m*\u001b[39;49mkwargs)\n\u001b[1;32m    337\u001b[0m   \u001b[39mreturn\u001b[39;00m wrapper\n",
      "File \u001b[0;32m~/anaconda3/envs/dmff/lib/python3.11/site-packages/jax/_src/interpreters/partial_eval.py:774\u001b[0m, in \u001b[0;36mtrace_to_jaxpr_nounits\u001b[0;34m(fun, pvals, instantiate)\u001b[0m\n\u001b[1;32m    772\u001b[0m \u001b[39mwith\u001b[39;00m core\u001b[39m.\u001b[39mnew_main(JaxprTrace, name_stack\u001b[39m=\u001b[39mcurrent_name_stack) \u001b[39mas\u001b[39;00m main:\n\u001b[1;32m    773\u001b[0m   fun \u001b[39m=\u001b[39m trace_to_subjaxpr_nounits(fun, main, instantiate)\n\u001b[0;32m--> 774\u001b[0m   jaxpr, (out_pvals, consts, env) \u001b[39m=\u001b[39m fun\u001b[39m.\u001b[39;49mcall_wrapped(pvals)\n\u001b[1;32m    775\u001b[0m   \u001b[39massert\u001b[39;00m \u001b[39mnot\u001b[39;00m env\n\u001b[1;32m    776\u001b[0m   \u001b[39mdel\u001b[39;00m main, fun, env\n",
      "File \u001b[0;32m~/anaconda3/envs/dmff/lib/python3.11/site-packages/jax/_src/linear_util.py:191\u001b[0m, in \u001b[0;36mWrappedFun.call_wrapped\u001b[0;34m(self, *args, **kwargs)\u001b[0m\n\u001b[1;32m    188\u001b[0m gen \u001b[39m=\u001b[39m gen_static_args \u001b[39m=\u001b[39m out_store \u001b[39m=\u001b[39m \u001b[39mNone\u001b[39;00m\n\u001b[1;32m    190\u001b[0m \u001b[39mtry\u001b[39;00m:\n\u001b[0;32m--> 191\u001b[0m   ans \u001b[39m=\u001b[39m \u001b[39mself\u001b[39;49m\u001b[39m.\u001b[39;49mf(\u001b[39m*\u001b[39;49margs, \u001b[39m*\u001b[39;49m\u001b[39m*\u001b[39;49m\u001b[39mdict\u001b[39;49m(\u001b[39mself\u001b[39;49m\u001b[39m.\u001b[39;49mparams, \u001b[39m*\u001b[39;49m\u001b[39m*\u001b[39;49mkwargs))\n\u001b[1;32m    192\u001b[0m \u001b[39mexcept\u001b[39;00m:\n\u001b[1;32m    193\u001b[0m   \u001b[39m# Some transformations yield from inside context managers, so we have to\u001b[39;00m\n\u001b[1;32m    194\u001b[0m   \u001b[39m# interrupt them before reraising the exception. Otherwise they will only\u001b[39;00m\n\u001b[1;32m    195\u001b[0m   \u001b[39m# get garbage-collected at some later time, running their cleanup tasks\u001b[39;00m\n\u001b[1;32m    196\u001b[0m   \u001b[39m# only after this exception is handled, which can corrupt the global\u001b[39;00m\n\u001b[1;32m    197\u001b[0m   \u001b[39m# state.\u001b[39;00m\n\u001b[1;32m    198\u001b[0m   \u001b[39mwhile\u001b[39;00m stack:\n",
      "Cell \u001b[0;32mIn[7], line 17\u001b[0m, in \u001b[0;36mloss\u001b[0;34m(paramset)\u001b[0m\n\u001b[1;32m     15\u001b[0m energies \u001b[39m=\u001b[39m []\n\u001b[1;32m     16\u001b[0m \u001b[39mfor\u001b[39;00m jdx \u001b[39min\u001b[39;00m \u001b[39mrange\u001b[39m(\u001b[39mlen\u001b[39m(traj_dict[idx][\u001b[39m'\u001b[39m\u001b[39mstructure\u001b[39m\u001b[39m'\u001b[39m])):  \n\u001b[0;32m---> 17\u001b[0m     ener \u001b[39m=\u001b[39m compute_binding_energy(paramset, traj_dict[idx][\u001b[39m'\u001b[39;49m\u001b[39mstructure\u001b[39;49m\u001b[39m'\u001b[39;49m][jdx][\u001b[39m0\u001b[39;49m], traj_dict[idx][\u001b[39m'\u001b[39;49m\u001b[39mstructure\u001b[39;49m\u001b[39m'\u001b[39;49m][jdx][\u001b[39m1\u001b[39;49m], lj_gen, numframe\u001b[39m=\u001b[39;49m\u001b[39m720\u001b[39;49m,cutoff\u001b[39m=\u001b[39;49mcutoff)\n\u001b[1;32m     18\u001b[0m     energies\u001b[39m.\u001b[39mappend(ener\u001b[39m.\u001b[39mreshape((\u001b[39m1\u001b[39m,)))\n\u001b[1;32m     19\u001b[0m energies \u001b[39m=\u001b[39m jnp\u001b[39m.\u001b[39mconcatenate(energies)\n",
      "Cell \u001b[0;32mIn[5], line 173\u001b[0m, in \u001b[0;36mcompute_binding_energy\u001b[0;34m(paramset, topo, pos, lj_gen, numframe, cutoff)\u001b[0m\n\u001b[1;32m    171\u001b[0m nblist\u001b[39m.\u001b[39mallocate(pos_jnp, cell_jnp)\n\u001b[1;32m    172\u001b[0m pairs \u001b[39m=\u001b[39m jnp\u001b[39m.\u001b[39marray(nblist\u001b[39m.\u001b[39mpairs)\n\u001b[0;32m--> 173\u001b[0m ener \u001b[39m=\u001b[39m lj_force(pos_jnp,cell_jnp, pairs, paramset)\n\u001b[1;32m    174\u001b[0m \u001b[39mreturn\u001b[39;00m ener\n",
      "File \u001b[0;32m~/project/github/DMFF/dmff/generators/classical.py:1383\u001b[0m, in \u001b[0;36mLennardJonesGenerator.createPotential.<locals>.potential_fn\u001b[0;34m(positions, box, pairs, params, aux)\u001b[0m\n\u001b[1;32m   1376\u001b[0m \u001b[39mdef\u001b[39;00m \u001b[39mpotential_fn\u001b[39m(positions, box, pairs, params, aux\u001b[39m=\u001b[39m\u001b[39mNone\u001b[39;00m):\n\u001b[1;32m   1377\u001b[0m \n\u001b[1;32m   1378\u001b[0m     \u001b[39m# check whether args passed into potential_fn are jnp.array and differentiable\u001b[39;00m\n\u001b[1;32m   1379\u001b[0m     \u001b[39m# note this check will be optimized away by jit\u001b[39;00m\n\u001b[1;32m   1380\u001b[0m     \u001b[39m# it is jit-compatiable\u001b[39;00m\n\u001b[1;32m   1381\u001b[0m     isinstance_jnp(positions, box, params)\n\u001b[0;32m-> 1383\u001b[0m     ljE \u001b[39m=\u001b[39m ljenergy(positions, box, pairs,\n\u001b[1;32m   1384\u001b[0m                    params[\u001b[39mself\u001b[39;49m\u001b[39m.\u001b[39;49mname][\u001b[39m\"\u001b[39;49m\u001b[39mepsilon\u001b[39;49m\u001b[39m\"\u001b[39;49m],\n\u001b[1;32m   1385\u001b[0m                    params[\u001b[39mself\u001b[39;49m\u001b[39m.\u001b[39;49mname][\u001b[39m\"\u001b[39;49m\u001b[39msigma\u001b[39;49m\u001b[39m\"\u001b[39;49m],\n\u001b[1;32m   1386\u001b[0m                    params[\u001b[39mself\u001b[39;49m\u001b[39m.\u001b[39;49mname][\u001b[39m\"\u001b[39;49m\u001b[39mepsilon_nbfix\u001b[39;49m\u001b[39m\"\u001b[39;49m],\n\u001b[1;32m   1387\u001b[0m                    params[\u001b[39mself\u001b[39;49m\u001b[39m.\u001b[39;49mname][\u001b[39m\"\u001b[39;49m\u001b[39msigma_nbfix\u001b[39;49m\u001b[39m\"\u001b[39;49m],\n\u001b[1;32m   1388\u001b[0m                    mscales_lj)\n\u001b[1;32m   1390\u001b[0m     \u001b[39mif\u001b[39;00m has_aux:\n\u001b[1;32m   1391\u001b[0m         \u001b[39mreturn\u001b[39;00m ljE, aux\n",
      "File \u001b[0;32m~/project/github/DMFF/dmff/classical/inter.py:75\u001b[0m, in \u001b[0;36mLennardJonesForce.generate_get_energy.<locals>.get_energy\u001b[0;34m(positions, box, pairs, epsilon, sigma, epsfix, sigfix, mscales, aux)\u001b[0m\n\u001b[1;32m     72\u001b[0m     sig_mat \u001b[39m=\u001b[39m sig_mat\u001b[39m.\u001b[39mat[_map[\u001b[39m0\u001b[39m],_map[\u001b[39m1\u001b[39m]]\u001b[39m.\u001b[39mset(sigfix[_map[\u001b[39m2\u001b[39m]])\n\u001b[1;32m     73\u001b[0m     sig_mat \u001b[39m=\u001b[39m sig_mat\u001b[39m.\u001b[39mat[_map[\u001b[39m1\u001b[39m],_map[\u001b[39m0\u001b[39m]]\u001b[39m.\u001b[39mset(sigfix[_map[\u001b[39m2\u001b[39m]])\n\u001b[0;32m---> 75\u001b[0m colv_pair \u001b[39m=\u001b[39m pairs[:, \u001b[39m2\u001b[39;49m]\n\u001b[1;32m     76\u001b[0m mscale_pair \u001b[39m=\u001b[39m mscales[colv_pair\u001b[39m-\u001b[39m\u001b[39m1\u001b[39m] \u001b[39m# in mscale vector, the 0th item is 1-2 scale, the 1st item is 1-3 scale, etc...\u001b[39;00m\n\u001b[1;32m     78\u001b[0m dr_vec \u001b[39m=\u001b[39m positions[pairs[:, \u001b[39m0\u001b[39m]] \u001b[39m-\u001b[39m positions[pairs[:, \u001b[39m1\u001b[39m]]\n",
      "File \u001b[0;32m~/anaconda3/envs/dmff/lib/python3.11/site-packages/jax/_src/array.py:336\u001b[0m, in \u001b[0;36mArrayImpl.__getitem__\u001b[0;34m(self, idx)\u001b[0m\n\u001b[1;32m    334\u001b[0m   \u001b[39mreturn\u001b[39;00m lax_numpy\u001b[39m.\u001b[39m_rewriting_take(\u001b[39mself\u001b[39m, idx)\n\u001b[1;32m    335\u001b[0m \u001b[39melse\u001b[39;00m:\n\u001b[0;32m--> 336\u001b[0m   \u001b[39mreturn\u001b[39;00m lax_numpy\u001b[39m.\u001b[39;49m_rewriting_take(\u001b[39mself\u001b[39;49m, idx)\n",
      "File \u001b[0;32m~/anaconda3/envs/dmff/lib/python3.11/site-packages/jax/_src/numpy/lax_numpy.py:4479\u001b[0m, in \u001b[0;36m_rewriting_take\u001b[0;34m(arr, idx, indices_are_sorted, unique_indices, mode, fill_value)\u001b[0m\n\u001b[1;32m   4470\u001b[0m \u001b[39mdef\u001b[39;00m \u001b[39m_rewriting_take\u001b[39m(arr, idx, indices_are_sorted\u001b[39m=\u001b[39m\u001b[39mFalse\u001b[39;00m, unique_indices\u001b[39m=\u001b[39m\u001b[39mFalse\u001b[39;00m,\n\u001b[1;32m   4471\u001b[0m                     mode\u001b[39m=\u001b[39m\u001b[39mNone\u001b[39;00m, fill_value\u001b[39m=\u001b[39m\u001b[39mNone\u001b[39;00m):\n\u001b[1;32m   4472\u001b[0m   \u001b[39m# Computes arr[idx].\u001b[39;00m\n\u001b[0;32m   (...)\u001b[0m\n\u001b[1;32m   4476\u001b[0m   \u001b[39m# For simplicity of generated primitives, we call lax.dynamic_slice in the\u001b[39;00m\n\u001b[1;32m   4477\u001b[0m   \u001b[39m# simplest cases: i.e. non-dynamic arrays indexed with integers and slices.\u001b[39;00m\n\u001b[0;32m-> 4479\u001b[0m   \u001b[39mif\u001b[39;00m (result \u001b[39m:=\u001b[39m _attempt_rewriting_take_via_slice(arr, idx, mode)) \u001b[39mis\u001b[39;00m \u001b[39mnot\u001b[39;00m \u001b[39mNone\u001b[39;00m:\n\u001b[1;32m   4480\u001b[0m     \u001b[39mreturn\u001b[39;00m result\n\u001b[1;32m   4482\u001b[0m   \u001b[39m# TODO(mattjj,dougalm): expand dynamic shape indexing support\u001b[39;00m\n",
      "File \u001b[0;32m~/anaconda3/envs/dmff/lib/python3.11/site-packages/jax/_src/numpy/lax_numpy.py:4466\u001b[0m, in \u001b[0;36m_attempt_rewriting_take_via_slice\u001b[0;34m(arr, idx, mode)\u001b[0m\n\u001b[1;32m   4463\u001b[0m   arr \u001b[39m=\u001b[39m lax\u001b[39m.\u001b[39mdynamic_slice(\n\u001b[1;32m   4464\u001b[0m       arr, start_indices\u001b[39m=\u001b[39mstart_indices, slice_sizes\u001b[39m=\u001b[39mslice_sizes)\n\u001b[1;32m   4465\u001b[0m \u001b[39mif\u001b[39;00m int_indices:\n\u001b[0;32m-> 4466\u001b[0m   arr \u001b[39m=\u001b[39m lax\u001b[39m.\u001b[39;49msqueeze(arr, \u001b[39mtuple\u001b[39;49m(int_indices))\n\u001b[1;32m   4467\u001b[0m \u001b[39mreturn\u001b[39;00m arr\n",
      "File \u001b[0;32m~/anaconda3/envs/dmff/lib/python3.11/site-packages/jax/_src/lax/lax.py:1329\u001b[0m, in \u001b[0;36msqueeze\u001b[0;34m(array, dimensions)\u001b[0m\n\u001b[1;32m   1327\u001b[0m \u001b[39mif\u001b[39;00m \u001b[39mnot\u001b[39;00m dimensions \u001b[39mand\u001b[39;00m \u001b[39misinstance\u001b[39m(array, Array):\n\u001b[1;32m   1328\u001b[0m   \u001b[39mreturn\u001b[39;00m type_cast(Array, array)\n\u001b[0;32m-> 1329\u001b[0m \u001b[39mreturn\u001b[39;00m squeeze_p\u001b[39m.\u001b[39;49mbind(array, dimensions\u001b[39m=\u001b[39;49mdimensions)\n",
      "File \u001b[0;32m~/anaconda3/envs/dmff/lib/python3.11/site-packages/jax/_src/core.py:444\u001b[0m, in \u001b[0;36mPrimitive.bind\u001b[0;34m(self, *args, **params)\u001b[0m\n\u001b[1;32m    441\u001b[0m \u001b[39mdef\u001b[39;00m \u001b[39mbind\u001b[39m(\u001b[39mself\u001b[39m, \u001b[39m*\u001b[39margs, \u001b[39m*\u001b[39m\u001b[39m*\u001b[39mparams):\n\u001b[1;32m    442\u001b[0m   \u001b[39massert\u001b[39;00m (\u001b[39mnot\u001b[39;00m config\u001b[39m.\u001b[39menable_checks\u001b[39m.\u001b[39mvalue \u001b[39mor\u001b[39;00m\n\u001b[1;32m    443\u001b[0m           \u001b[39mall\u001b[39m(\u001b[39misinstance\u001b[39m(arg, Tracer) \u001b[39mor\u001b[39;00m valid_jaxtype(arg) \u001b[39mfor\u001b[39;00m arg \u001b[39min\u001b[39;00m args)), args\n\u001b[0;32m--> 444\u001b[0m   \u001b[39mreturn\u001b[39;00m \u001b[39mself\u001b[39;49m\u001b[39m.\u001b[39;49mbind_with_trace(find_top_trace(args), args, params)\n",
      "File \u001b[0;32m~/anaconda3/envs/dmff/lib/python3.11/site-packages/jax/_src/core.py:447\u001b[0m, in \u001b[0;36mPrimitive.bind_with_trace\u001b[0;34m(self, trace, args, params)\u001b[0m\n\u001b[1;32m    446\u001b[0m \u001b[39mdef\u001b[39;00m \u001b[39mbind_with_trace\u001b[39m(\u001b[39mself\u001b[39m, trace, args, params):\n\u001b[0;32m--> 447\u001b[0m   out \u001b[39m=\u001b[39m trace\u001b[39m.\u001b[39;49mprocess_primitive(\u001b[39mself\u001b[39;49m, \u001b[39mmap\u001b[39;49m(trace\u001b[39m.\u001b[39;49mfull_raise, args), params)\n\u001b[1;32m    448\u001b[0m   \u001b[39mreturn\u001b[39;00m \u001b[39mmap\u001b[39m(full_lower, out) \u001b[39mif\u001b[39;00m \u001b[39mself\u001b[39m\u001b[39m.\u001b[39mmultiple_results \u001b[39melse\u001b[39;00m full_lower(out)\n",
      "File \u001b[0;32m~/anaconda3/envs/dmff/lib/python3.11/site-packages/jax/_src/core.py:935\u001b[0m, in \u001b[0;36mEvalTrace.process_primitive\u001b[0;34m(self, primitive, tracers, params)\u001b[0m\n\u001b[1;32m    934\u001b[0m \u001b[39mdef\u001b[39;00m \u001b[39mprocess_primitive\u001b[39m(\u001b[39mself\u001b[39m, primitive, tracers, params):\n\u001b[0;32m--> 935\u001b[0m   \u001b[39mreturn\u001b[39;00m primitive\u001b[39m.\u001b[39;49mimpl(\u001b[39m*\u001b[39;49mtracers, \u001b[39m*\u001b[39;49m\u001b[39m*\u001b[39;49mparams)\n",
      "File \u001b[0;32m~/anaconda3/envs/dmff/lib/python3.11/site-packages/jax/_src/dispatch.py:87\u001b[0m, in \u001b[0;36mapply_primitive\u001b[0;34m(prim, *args, **params)\u001b[0m\n\u001b[1;32m     85\u001b[0m prev \u001b[39m=\u001b[39m lib\u001b[39m.\u001b[39mjax_jit\u001b[39m.\u001b[39mswap_thread_local_state_disable_jit(\u001b[39mFalse\u001b[39;00m)\n\u001b[1;32m     86\u001b[0m \u001b[39mtry\u001b[39;00m:\n\u001b[0;32m---> 87\u001b[0m   outs \u001b[39m=\u001b[39m fun(\u001b[39m*\u001b[39;49margs)\n\u001b[1;32m     88\u001b[0m \u001b[39mfinally\u001b[39;00m:\n\u001b[1;32m     89\u001b[0m   lib\u001b[39m.\u001b[39mjax_jit\u001b[39m.\u001b[39mswap_thread_local_state_disable_jit(prev)\n",
      "    \u001b[0;31m[... skipping hidden 1 frame]\u001b[0m\n",
      "File \u001b[0;32m~/anaconda3/envs/dmff/lib/python3.11/site-packages/jax/_src/pjit.py:257\u001b[0m, in \u001b[0;36m_cpp_pjit.<locals>.cache_miss\u001b[0;34m(*args, **kwargs)\u001b[0m\n\u001b[1;32m    255\u001b[0m \u001b[39m@api_boundary\u001b[39m\n\u001b[1;32m    256\u001b[0m \u001b[39mdef\u001b[39;00m \u001b[39mcache_miss\u001b[39m(\u001b[39m*\u001b[39margs, \u001b[39m*\u001b[39m\u001b[39m*\u001b[39mkwargs):\n\u001b[0;32m--> 257\u001b[0m   outs, out_flat, out_tree, args_flat, jaxpr \u001b[39m=\u001b[39m _python_pjit_helper(\n\u001b[1;32m    258\u001b[0m       fun, infer_params_fn, \u001b[39m*\u001b[39;49margs, \u001b[39m*\u001b[39;49m\u001b[39m*\u001b[39;49mkwargs)\n\u001b[1;32m    259\u001b[0m   executable \u001b[39m=\u001b[39m _read_most_recent_pjit_call_executable(jaxpr)\n\u001b[1;32m    260\u001b[0m   fastpath_data \u001b[39m=\u001b[39m _get_fastpath_data(executable, out_tree, args_flat, out_flat)\n",
      "File \u001b[0;32m~/anaconda3/envs/dmff/lib/python3.11/site-packages/jax/_src/pjit.py:168\u001b[0m, in \u001b[0;36m_python_pjit_helper\u001b[0;34m(fun, infer_params_fn, *args, **kwargs)\u001b[0m\n\u001b[1;32m    166\u001b[0m   dispatch\u001b[39m.\u001b[39mcheck_arg(arg)\n\u001b[1;32m    167\u001b[0m \u001b[39mtry\u001b[39;00m:\n\u001b[0;32m--> 168\u001b[0m   out_flat \u001b[39m=\u001b[39m pjit_p\u001b[39m.\u001b[39;49mbind(\u001b[39m*\u001b[39;49margs_flat, \u001b[39m*\u001b[39;49m\u001b[39m*\u001b[39;49mparams)\n\u001b[1;32m    169\u001b[0m \u001b[39mexcept\u001b[39;00m pxla\u001b[39m.\u001b[39mDeviceAssignmentMismatchError \u001b[39mas\u001b[39;00m e:\n\u001b[1;32m    170\u001b[0m   fails, \u001b[39m=\u001b[39m e\u001b[39m.\u001b[39margs\n",
      "File \u001b[0;32m~/anaconda3/envs/dmff/lib/python3.11/site-packages/jax/_src/core.py:2740\u001b[0m, in \u001b[0;36mAxisPrimitive.bind\u001b[0;34m(self, *args, **params)\u001b[0m\n\u001b[1;32m   2736\u001b[0m axis_main \u001b[39m=\u001b[39m \u001b[39mmax\u001b[39m((axis_frame(a)\u001b[39m.\u001b[39mmain_trace \u001b[39mfor\u001b[39;00m a \u001b[39min\u001b[39;00m used_axis_names(\u001b[39mself\u001b[39m, params)),\n\u001b[1;32m   2737\u001b[0m                 default\u001b[39m=\u001b[39m\u001b[39mNone\u001b[39;00m, key\u001b[39m=\u001b[39m\u001b[39mlambda\u001b[39;00m t: \u001b[39mgetattr\u001b[39m(t, \u001b[39m'\u001b[39m\u001b[39mlevel\u001b[39m\u001b[39m'\u001b[39m, \u001b[39m-\u001b[39m\u001b[39m1\u001b[39m))\n\u001b[1;32m   2738\u001b[0m top_trace \u001b[39m=\u001b[39m (top_trace \u001b[39mif\u001b[39;00m \u001b[39mnot\u001b[39;00m axis_main \u001b[39mor\u001b[39;00m axis_main\u001b[39m.\u001b[39mlevel \u001b[39m<\u001b[39m top_trace\u001b[39m.\u001b[39mlevel\n\u001b[1;32m   2739\u001b[0m              \u001b[39melse\u001b[39;00m axis_main\u001b[39m.\u001b[39mwith_cur_sublevel())\n\u001b[0;32m-> 2740\u001b[0m \u001b[39mreturn\u001b[39;00m \u001b[39mself\u001b[39;49m\u001b[39m.\u001b[39;49mbind_with_trace(top_trace, args, params)\n",
      "File \u001b[0;32m~/anaconda3/envs/dmff/lib/python3.11/site-packages/jax/_src/core.py:447\u001b[0m, in \u001b[0;36mPrimitive.bind_with_trace\u001b[0;34m(self, trace, args, params)\u001b[0m\n\u001b[1;32m    446\u001b[0m \u001b[39mdef\u001b[39;00m \u001b[39mbind_with_trace\u001b[39m(\u001b[39mself\u001b[39m, trace, args, params):\n\u001b[0;32m--> 447\u001b[0m   out \u001b[39m=\u001b[39m trace\u001b[39m.\u001b[39;49mprocess_primitive(\u001b[39mself\u001b[39;49m, \u001b[39mmap\u001b[39;49m(trace\u001b[39m.\u001b[39;49mfull_raise, args), params)\n\u001b[1;32m    448\u001b[0m   \u001b[39mreturn\u001b[39;00m \u001b[39mmap\u001b[39m(full_lower, out) \u001b[39mif\u001b[39;00m \u001b[39mself\u001b[39m\u001b[39m.\u001b[39mmultiple_results \u001b[39melse\u001b[39;00m full_lower(out)\n",
      "File \u001b[0;32m~/anaconda3/envs/dmff/lib/python3.11/site-packages/jax/_src/core.py:935\u001b[0m, in \u001b[0;36mEvalTrace.process_primitive\u001b[0;34m(self, primitive, tracers, params)\u001b[0m\n\u001b[1;32m    934\u001b[0m \u001b[39mdef\u001b[39;00m \u001b[39mprocess_primitive\u001b[39m(\u001b[39mself\u001b[39m, primitive, tracers, params):\n\u001b[0;32m--> 935\u001b[0m   \u001b[39mreturn\u001b[39;00m primitive\u001b[39m.\u001b[39;49mimpl(\u001b[39m*\u001b[39;49mtracers, \u001b[39m*\u001b[39;49m\u001b[39m*\u001b[39;49mparams)\n",
      "File \u001b[0;32m~/anaconda3/envs/dmff/lib/python3.11/site-packages/jax/_src/pjit.py:1245\u001b[0m, in \u001b[0;36m_pjit_call_impl\u001b[0;34m(jaxpr, in_shardings, out_shardings, resource_env, donated_invars, name, keep_unused, inline, *args)\u001b[0m\n\u001b[1;32m   1242\u001b[0m donated_argnums \u001b[39m=\u001b[39m [i \u001b[39mfor\u001b[39;00m i, d \u001b[39min\u001b[39;00m \u001b[39menumerate\u001b[39m(donated_invars) \u001b[39mif\u001b[39;00m d]\n\u001b[1;32m   1243\u001b[0m has_explicit_sharding \u001b[39m=\u001b[39m _pjit_explicit_sharding(\n\u001b[1;32m   1244\u001b[0m     in_shardings, out_shardings, \u001b[39mNone\u001b[39;00m, \u001b[39mNone\u001b[39;00m)\n\u001b[0;32m-> 1245\u001b[0m \u001b[39mreturn\u001b[39;00m xc\u001b[39m.\u001b[39;49m_xla\u001b[39m.\u001b[39;49mpjit(name, f, call_impl_cache_miss, [], [], donated_argnums,\n\u001b[1;32m   1246\u001b[0m                     tree_util\u001b[39m.\u001b[39;49mdispatch_registry,\n\u001b[1;32m   1247\u001b[0m                     _get_cpp_global_cache(has_explicit_sharding))(\u001b[39m*\u001b[39;49margs)\n",
      "File \u001b[0;32m~/anaconda3/envs/dmff/lib/python3.11/site-packages/jax/_src/pjit.py:1229\u001b[0m, in \u001b[0;36m_pjit_call_impl.<locals>.call_impl_cache_miss\u001b[0;34m(*args_, **kwargs_)\u001b[0m\n\u001b[1;32m   1228\u001b[0m \u001b[39mdef\u001b[39;00m \u001b[39mcall_impl_cache_miss\u001b[39m(\u001b[39m*\u001b[39margs_, \u001b[39m*\u001b[39m\u001b[39m*\u001b[39mkwargs_):\n\u001b[0;32m-> 1229\u001b[0m   out_flat, compiled \u001b[39m=\u001b[39m _pjit_call_impl_python(\n\u001b[1;32m   1230\u001b[0m       \u001b[39m*\u001b[39;49margs, jaxpr\u001b[39m=\u001b[39;49mjaxpr, in_shardings\u001b[39m=\u001b[39;49min_shardings,\n\u001b[1;32m   1231\u001b[0m       out_shardings\u001b[39m=\u001b[39;49mout_shardings, resource_env\u001b[39m=\u001b[39;49mresource_env,\n\u001b[1;32m   1232\u001b[0m       donated_invars\u001b[39m=\u001b[39;49mdonated_invars, name\u001b[39m=\u001b[39;49mname, keep_unused\u001b[39m=\u001b[39;49mkeep_unused,\n\u001b[1;32m   1233\u001b[0m       inline\u001b[39m=\u001b[39;49minline)\n\u001b[1;32m   1234\u001b[0m   fastpath_data \u001b[39m=\u001b[39m _get_fastpath_data(\n\u001b[1;32m   1235\u001b[0m       compiled, tree_structure(out_flat), args, out_flat)\n\u001b[1;32m   1236\u001b[0m   \u001b[39mreturn\u001b[39;00m out_flat, fastpath_data\n",
      "File \u001b[0;32m~/anaconda3/envs/dmff/lib/python3.11/site-packages/jax/_src/pjit.py:1162\u001b[0m, in \u001b[0;36m_pjit_call_impl_python\u001b[0;34m(jaxpr, in_shardings, out_shardings, resource_env, donated_invars, name, keep_unused, inline, *args)\u001b[0m\n\u001b[1;32m   1156\u001b[0m \u001b[39mglobal\u001b[39;00m _most_recent_pjit_call_executable\n\u001b[1;32m   1158\u001b[0m in_shardings \u001b[39m=\u001b[39m _resolve_in_shardings(\n\u001b[1;32m   1159\u001b[0m     args, in_shardings, out_shardings,\n\u001b[1;32m   1160\u001b[0m     resource_env\u001b[39m.\u001b[39mphysical_mesh \u001b[39mif\u001b[39;00m resource_env \u001b[39mis\u001b[39;00m \u001b[39mnot\u001b[39;00m \u001b[39mNone\u001b[39;00m \u001b[39melse\u001b[39;00m \u001b[39mNone\u001b[39;00m)\n\u001b[0;32m-> 1162\u001b[0m compiled \u001b[39m=\u001b[39m _pjit_lower(\n\u001b[1;32m   1163\u001b[0m     jaxpr, in_shardings, out_shardings, resource_env,\n\u001b[1;32m   1164\u001b[0m     donated_invars, name, keep_unused, inline,\n\u001b[1;32m   1165\u001b[0m     lowering_parameters\u001b[39m=\u001b[39;49mmlir\u001b[39m.\u001b[39;49mLoweringParameters())\u001b[39m.\u001b[39mcompile()\n\u001b[1;32m   1166\u001b[0m _most_recent_pjit_call_executable\u001b[39m.\u001b[39mweak_key_dict[jaxpr] \u001b[39m=\u001b[39m compiled\n\u001b[1;32m   1167\u001b[0m \u001b[39m# This check is expensive so only do it if enable_checks is on.\u001b[39;00m\n",
      "File \u001b[0;32m~/anaconda3/envs/dmff/lib/python3.11/site-packages/jax/_src/pjit.py:1293\u001b[0m, in \u001b[0;36m_pjit_lower\u001b[0;34m(jaxpr, in_shardings, out_shardings, *args, **kwargs)\u001b[0m\n\u001b[1;32m   1291\u001b[0m in_shardings \u001b[39m=\u001b[39m SameDeviceAssignmentTuple(\u001b[39mtuple\u001b[39m(in_shardings), da)\n\u001b[1;32m   1292\u001b[0m out_shardings \u001b[39m=\u001b[39m SameDeviceAssignmentTuple(\u001b[39mtuple\u001b[39m(out_shardings), da)\n\u001b[0;32m-> 1293\u001b[0m \u001b[39mreturn\u001b[39;00m _pjit_lower_cached(jaxpr, in_shardings, out_shardings, \u001b[39m*\u001b[39;49margs, \u001b[39m*\u001b[39;49m\u001b[39m*\u001b[39;49mkwargs)\n",
      "File \u001b[0;32m~/anaconda3/envs/dmff/lib/python3.11/site-packages/jax/_src/pjit.py:1341\u001b[0m, in \u001b[0;36m_pjit_lower_cached\u001b[0;34m(jaxpr, sdat_in_shardings, sdat_out_shardings, resource_env, donated_invars, name, keep_unused, inline, lowering_parameters, in_layouts, out_layouts)\u001b[0m\n\u001b[1;32m   1335\u001b[0m   \u001b[39mreturn\u001b[39;00m pxla\u001b[39m.\u001b[39mlower_mesh_computation(\n\u001b[1;32m   1336\u001b[0m     jaxpr, api_name, name, mesh,\n\u001b[1;32m   1337\u001b[0m     in_shardings, out_shardings, donated_invars,\n\u001b[1;32m   1338\u001b[0m     \u001b[39mTrue\u001b[39;00m, jaxpr\u001b[39m.\u001b[39min_avals, tiling_method\u001b[39m=\u001b[39m\u001b[39mNone\u001b[39;00m,\n\u001b[1;32m   1339\u001b[0m     lowering_parameters\u001b[39m=\u001b[39mlowering_parameters)\n\u001b[1;32m   1340\u001b[0m \u001b[39melse\u001b[39;00m:\n\u001b[0;32m-> 1341\u001b[0m   \u001b[39mreturn\u001b[39;00m pxla\u001b[39m.\u001b[39;49mlower_sharding_computation(\n\u001b[1;32m   1342\u001b[0m       jaxpr, api_name, name, in_shardings, out_shardings,\n\u001b[1;32m   1343\u001b[0m       \u001b[39mtuple\u001b[39;49m(donated_invars), \u001b[39mtuple\u001b[39;49m(jaxpr\u001b[39m.\u001b[39;49min_avals),\n\u001b[1;32m   1344\u001b[0m       keep_unused\u001b[39m=\u001b[39;49mkeep_unused, inline\u001b[39m=\u001b[39;49minline,\n\u001b[1;32m   1345\u001b[0m       devices_from_context\u001b[39m=\u001b[39;49m(\n\u001b[1;32m   1346\u001b[0m           \u001b[39mNone\u001b[39;49;00m \u001b[39mif\u001b[39;49;00m mesh \u001b[39mis\u001b[39;49;00m \u001b[39mNone\u001b[39;49;00m \u001b[39mor\u001b[39;49;00m mesh\u001b[39m.\u001b[39;49mempty \u001b[39melse\u001b[39;49;00m \u001b[39mlist\u001b[39;49m(mesh\u001b[39m.\u001b[39;49mdevices\u001b[39m.\u001b[39;49mflat)),\n\u001b[1;32m   1347\u001b[0m       lowering_parameters\u001b[39m=\u001b[39;49mlowering_parameters, in_layouts\u001b[39m=\u001b[39;49min_layouts,\n\u001b[1;32m   1348\u001b[0m       out_layouts\u001b[39m=\u001b[39;49mout_layouts)\n",
      "File \u001b[0;32m~/anaconda3/envs/dmff/lib/python3.11/site-packages/jax/_src/profiler.py:336\u001b[0m, in \u001b[0;36mannotate_function.<locals>.wrapper\u001b[0;34m(*args, **kwargs)\u001b[0m\n\u001b[1;32m    333\u001b[0m \u001b[39m@wraps\u001b[39m(func)\n\u001b[1;32m    334\u001b[0m \u001b[39mdef\u001b[39;00m \u001b[39mwrapper\u001b[39m(\u001b[39m*\u001b[39margs, \u001b[39m*\u001b[39m\u001b[39m*\u001b[39mkwargs):\n\u001b[1;32m    335\u001b[0m   \u001b[39mwith\u001b[39;00m TraceAnnotation(name, \u001b[39m*\u001b[39m\u001b[39m*\u001b[39mdecorator_kwargs):\n\u001b[0;32m--> 336\u001b[0m     \u001b[39mreturn\u001b[39;00m func(\u001b[39m*\u001b[39;49margs, \u001b[39m*\u001b[39;49m\u001b[39m*\u001b[39;49mkwargs)\n\u001b[1;32m    337\u001b[0m   \u001b[39mreturn\u001b[39;00m wrapper\n",
      "File \u001b[0;32m~/anaconda3/envs/dmff/lib/python3.11/site-packages/jax/_src/interpreters/pxla.py:1986\u001b[0m, in \u001b[0;36mlower_sharding_computation\u001b[0;34m(closed_jaxpr, api_name, fun_name, in_shardings, out_shardings, donated_invars, global_in_avals, keep_unused, inline, devices_from_context, lowering_parameters, in_layouts, out_layouts)\u001b[0m\n\u001b[1;32m   1979\u001b[0m prim_requires_devices \u001b[39m=\u001b[39m dispatch\u001b[39m.\u001b[39mjaxpr_has_prim_requiring_devices(jaxpr)\n\u001b[1;32m   1980\u001b[0m materialized_da \u001b[39m=\u001b[39m (\n\u001b[1;32m   1981\u001b[0m     \u001b[39mtuple\u001b[39m(da_object)\n\u001b[1;32m   1982\u001b[0m     \u001b[39mif\u001b[39;00m prim_requires_devices \u001b[39mor\u001b[39;00m _JAX_REQUIRE_DEVICES_DURING_LOWERING\u001b[39m.\u001b[39mvalue\n\u001b[1;32m   1983\u001b[0m     \u001b[39melse\u001b[39;00m \u001b[39mNone\u001b[39;00m)\n\u001b[1;32m   1985\u001b[0m (module, keepalive, host_callbacks, unordered_effects, ordered_effects,\n\u001b[0;32m-> 1986\u001b[0m  nreps, tuple_args, shape_poly_state) \u001b[39m=\u001b[39m _cached_lowering_to_hlo(\n\u001b[1;32m   1987\u001b[0m      closed_jaxpr, api_name, fun_name, backend, semantic_in_shardings,\n\u001b[1;32m   1988\u001b[0m      semantic_out_shardings, in_layouts, out_layouts, \u001b[39mlen\u001b[39;49m(da_object),\n\u001b[1;32m   1989\u001b[0m      materialized_da, donated_invars, name_stack, all_default_mem_kind,\n\u001b[1;32m   1990\u001b[0m      lowering_parameters\u001b[39m=\u001b[39;49mlowering_parameters)\n\u001b[1;32m   1992\u001b[0m \u001b[39m# backend and device_assignment is passed through to MeshExecutable because\u001b[39;00m\n\u001b[1;32m   1993\u001b[0m \u001b[39m# if keep_unused=False and all in_shardings are pruned, then there is no way\u001b[39;00m\n\u001b[1;32m   1994\u001b[0m \u001b[39m# to get the device_assignment and backend. So pass it to MeshExecutable\u001b[39;00m\n\u001b[1;32m   1995\u001b[0m \u001b[39m# because we calculate the device_assignment and backend before in_shardings,\u001b[39;00m\n\u001b[1;32m   1996\u001b[0m \u001b[39m# etc are pruned.\u001b[39;00m\n\u001b[1;32m   1997\u001b[0m \u001b[39mreturn\u001b[39;00m MeshComputation(\n\u001b[1;32m   1998\u001b[0m     \u001b[39mstr\u001b[39m(name_stack),\n\u001b[1;32m   1999\u001b[0m     module,\n\u001b[0;32m   (...)\u001b[0m\n\u001b[1;32m   2020\u001b[0m     all_default_mem_kind\u001b[39m=\u001b[39mall_default_mem_kind,\n\u001b[1;32m   2021\u001b[0m     all_args_info\u001b[39m=\u001b[39mall_args_info)\n",
      "File \u001b[0;32m~/anaconda3/envs/dmff/lib/python3.11/site-packages/jax/_src/interpreters/pxla.py:1820\u001b[0m, in \u001b[0;36m_cached_lowering_to_hlo\u001b[0;34m(closed_jaxpr, api_name, fun_name, backend, semantic_in_shardings, semantic_out_shardings, in_layouts, out_layouts, num_devices, device_assignment, donated_invars, name_stack, all_default_mem_kind, lowering_parameters)\u001b[0m\n\u001b[1;32m   1815\u001b[0m ordered_effects \u001b[39m=\u001b[39m \u001b[39mlist\u001b[39m(effects\u001b[39m.\u001b[39mordered_effects\u001b[39m.\u001b[39mfilter_in(closed_jaxpr\u001b[39m.\u001b[39meffects))\n\u001b[1;32m   1817\u001b[0m \u001b[39mwith\u001b[39;00m dispatch\u001b[39m.\u001b[39mlog_elapsed_time(\n\u001b[1;32m   1818\u001b[0m       \u001b[39m\"\u001b[39m\u001b[39mFinished jaxpr to MLIR module conversion \u001b[39m\u001b[39m{fun_name}\u001b[39;00m\u001b[39m in \u001b[39m\u001b[39m{elapsed_time}\u001b[39;00m\u001b[39m sec\u001b[39m\u001b[39m\"\u001b[39m,\n\u001b[1;32m   1819\u001b[0m       fun_name\u001b[39m=\u001b[39m\u001b[39mstr\u001b[39m(name_stack), event\u001b[39m=\u001b[39mdispatch\u001b[39m.\u001b[39mJAXPR_TO_MLIR_MODULE_EVENT):\n\u001b[0;32m-> 1820\u001b[0m   lowering_result \u001b[39m=\u001b[39m mlir\u001b[39m.\u001b[39;49mlower_jaxpr_to_module(\n\u001b[1;32m   1821\u001b[0m       module_name,\n\u001b[1;32m   1822\u001b[0m       closed_jaxpr,\n\u001b[1;32m   1823\u001b[0m       ordered_effects\u001b[39m=\u001b[39;49mordered_effects,\n\u001b[1;32m   1824\u001b[0m       backend_or_name\u001b[39m=\u001b[39;49mbackend,\n\u001b[1;32m   1825\u001b[0m       \u001b[39m# Optionally, override the lowering platform\u001b[39;49;00m\n\u001b[1;32m   1826\u001b[0m       platforms\u001b[39m=\u001b[39;49mlowering_parameters\u001b[39m.\u001b[39;49mplatforms \u001b[39mor\u001b[39;49;00m (backend\u001b[39m.\u001b[39;49mplatform,),\n\u001b[1;32m   1827\u001b[0m       axis_context\u001b[39m=\u001b[39;49maxis_ctx,\n\u001b[1;32m   1828\u001b[0m       name_stack\u001b[39m=\u001b[39;49mname_stack,\n\u001b[1;32m   1829\u001b[0m       donated_args\u001b[39m=\u001b[39;49mdonated_invars,\n\u001b[1;32m   1830\u001b[0m       replicated_args\u001b[39m=\u001b[39;49mreplicated_args,\n\u001b[1;32m   1831\u001b[0m       arg_shardings\u001b[39m=\u001b[39;49min_mlir_shardings,\n\u001b[1;32m   1832\u001b[0m       result_shardings\u001b[39m=\u001b[39;49mout_mlir_shardings,\n\u001b[1;32m   1833\u001b[0m       in_layouts\u001b[39m=\u001b[39;49min_layouts,\n\u001b[1;32m   1834\u001b[0m       out_layouts\u001b[39m=\u001b[39;49mout_layouts,\n\u001b[1;32m   1835\u001b[0m       arg_names\u001b[39m=\u001b[39;49mjaxpr\u001b[39m.\u001b[39;49mdebug_info \u001b[39mand\u001b[39;49;00m jaxpr\u001b[39m.\u001b[39;49mdebug_info\u001b[39m.\u001b[39;49marg_names,\n\u001b[1;32m   1836\u001b[0m       result_names\u001b[39m=\u001b[39;49mjaxpr\u001b[39m.\u001b[39;49mdebug_info \u001b[39mand\u001b[39;49;00m jaxpr\u001b[39m.\u001b[39;49mdebug_info\u001b[39m.\u001b[39;49mresult_paths,\n\u001b[1;32m   1837\u001b[0m       num_replicas\u001b[39m=\u001b[39;49mnreps,\n\u001b[1;32m   1838\u001b[0m       num_partitions\u001b[39m=\u001b[39;49mnum_partitions,\n\u001b[1;32m   1839\u001b[0m       all_default_mem_kind\u001b[39m=\u001b[39;49mall_default_mem_kind,\n\u001b[1;32m   1840\u001b[0m       lowering_parameters\u001b[39m=\u001b[39;49mlowering_parameters)\n\u001b[1;32m   1841\u001b[0m tuple_args \u001b[39m=\u001b[39m dispatch\u001b[39m.\u001b[39mshould_tuple_args(\u001b[39mlen\u001b[39m(global_in_avals), backend\u001b[39m.\u001b[39mplatform)\n\u001b[1;32m   1842\u001b[0m unordered_effects \u001b[39m=\u001b[39m \u001b[39mlist\u001b[39m(\n\u001b[1;32m   1843\u001b[0m     effects\u001b[39m.\u001b[39mordered_effects\u001b[39m.\u001b[39mfilter_not_in(closed_jaxpr\u001b[39m.\u001b[39meffects))\n",
      "File \u001b[0;32m~/anaconda3/envs/dmff/lib/python3.11/site-packages/jax/_src/interpreters/mlir.py:847\u001b[0m, in \u001b[0;36mlower_jaxpr_to_module\u001b[0;34m(***failed resolving arguments***)\u001b[0m\n\u001b[1;32m    845\u001b[0m   attrs[\u001b[39m\"\u001b[39m\u001b[39mmhlo.num_partitions\u001b[39m\u001b[39m\"\u001b[39m] \u001b[39m=\u001b[39m i32_attr(num_partitions)\n\u001b[1;32m    846\u001b[0m   replace_tokens_with_dummy \u001b[39m=\u001b[39m lowering_parameters\u001b[39m.\u001b[39mreplace_tokens_with_dummy\n\u001b[0;32m--> 847\u001b[0m   lower_jaxpr_to_fun(\n\u001b[1;32m    848\u001b[0m       ctx, \u001b[39m\"\u001b[39;49m\u001b[39mmain\u001b[39;49m\u001b[39m\"\u001b[39;49m, jaxpr, ordered_effects, public\u001b[39m=\u001b[39;49m\u001b[39mTrue\u001b[39;49;00m,\n\u001b[1;32m    849\u001b[0m       create_tokens\u001b[39m=\u001b[39;49mreplace_tokens_with_dummy,\n\u001b[1;32m    850\u001b[0m       replace_tokens_with_dummy\u001b[39m=\u001b[39;49mreplace_tokens_with_dummy,\n\u001b[1;32m    851\u001b[0m       num_output_tokens\u001b[39m=\u001b[39;49m\u001b[39m0\u001b[39;49m,\n\u001b[1;32m    852\u001b[0m       replicated_args\u001b[39m=\u001b[39;49mreplicated_args,\n\u001b[1;32m    853\u001b[0m       arg_shardings\u001b[39m=\u001b[39;49marg_op_shardings,\n\u001b[1;32m    854\u001b[0m       result_shardings\u001b[39m=\u001b[39;49mresult_op_shardings,\n\u001b[1;32m    855\u001b[0m       input_output_aliases\u001b[39m=\u001b[39;49minput_output_aliases,\n\u001b[1;32m    856\u001b[0m       xla_donated_args\u001b[39m=\u001b[39;49mxla_donated_args,\n\u001b[1;32m    857\u001b[0m       arg_names\u001b[39m=\u001b[39;49marg_names,\n\u001b[1;32m    858\u001b[0m       result_names\u001b[39m=\u001b[39;49mresult_names,\n\u001b[1;32m    859\u001b[0m       arg_memory_kinds\u001b[39m=\u001b[39;49marg_memory_kinds,\n\u001b[1;32m    860\u001b[0m       result_memory_kinds\u001b[39m=\u001b[39;49mresult_memory_kinds,\n\u001b[1;32m    861\u001b[0m       arg_layouts\u001b[39m=\u001b[39;49marg_layouts,\n\u001b[1;32m    862\u001b[0m       result_layouts\u001b[39m=\u001b[39;49mresult_layouts)\n\u001b[1;32m    864\u001b[0m \u001b[39mtry\u001b[39;00m:\n\u001b[1;32m    865\u001b[0m   \u001b[39mif\u001b[39;00m \u001b[39mnot\u001b[39;00m ctx\u001b[39m.\u001b[39mmodule\u001b[39m.\u001b[39moperation\u001b[39m.\u001b[39mverify():\n",
      "File \u001b[0;32m~/anaconda3/envs/dmff/lib/python3.11/site-packages/jax/_src/interpreters/mlir.py:1264\u001b[0m, in \u001b[0;36mlower_jaxpr_to_fun\u001b[0;34m(ctx, name, jaxpr, effects, create_tokens, public, replace_tokens_with_dummy, replicated_args, arg_shardings, result_shardings, use_sharding_annotations, input_output_aliases, xla_donated_args, num_output_tokens, api_name, arg_names, result_names, arg_memory_kinds, result_memory_kinds, arg_layouts, result_layouts)\u001b[0m\n\u001b[1;32m   1261\u001b[0m \u001b[39melse\u001b[39;00m:\n\u001b[1;32m   1262\u001b[0m   entry_block \u001b[39m=\u001b[39m func_op\u001b[39m.\u001b[39madd_entry_block()\n\u001b[0;32m-> 1264\u001b[0m \u001b[39mwith\u001b[39;00m ir\u001b[39m.\u001b[39;49mInsertionPoint(entry_block):\n\u001b[1;32m   1265\u001b[0m   flat_args \u001b[39m=\u001b[39m entry_block\u001b[39m.\u001b[39marguments\n\u001b[1;32m   1266\u001b[0m   \u001b[39m# We separate out the dimension variable inputs, the token inputs and\u001b[39;00m\n\u001b[1;32m   1267\u001b[0m   \u001b[39m# the regular inputs. The dimension variables and token inputs\u001b[39;00m\n\u001b[1;32m   1268\u001b[0m   \u001b[39m# will be passed to `jaxpr_subcomp` separately from the `args`.\u001b[39;00m\n",
      "\u001b[0;31mKeyboardInterrupt\u001b[0m: "
     ]
    }
   ],
   "source": [
    "from jax import clear_caches, clear_backends\n",
    "loss_ls = []\n",
    "#os.system(\"cp /home/yutao/project/aiida/applications/UFF.json /home/yutao/project/aiida/applications/ff_2.json\")\n",
    "os.system(\"cp 0219.json /home/yutao/project/aiida/applications/ff_2.json\")\n",
    "for nloop in range(3):\n",
    "    print(f\"{nloop} optimization started\")\n",
    "    #sample()\n",
    "    move_traj(dest_path=\"/home/yutao/project/MIL-120/traj1/\",picked_pressure=picked_pressure, copy_to_path = \"./traj1/\")\n",
    "    traj_dict = analyse_traj(paramset, lj_gen, dest_path=\"./traj1/\", interval=25)\n",
    "    #print(len(traj_dict[1]['structure']))\n",
    "    #print(traj_dict.keys())\n",
    "    def loss(paramset):\n",
    "        errors = []\n",
    "        for idx in range(1, Number_points+1):\n",
    "            energies = []\n",
    "            for jdx in range(len(traj_dict[idx]['structure'])):  \n",
    "                ener = compute_binding_energy(paramset, traj_dict[idx]['structure'][jdx][0], traj_dict[idx]['structure'][jdx][1], lj_gen, numframe=720,cutoff=cutoff)\n",
    "                energies.append(ener.reshape((1,)))\n",
    "            energies = jnp.concatenate(energies)\n",
    "            weight = traj_dict[idx]['estimator'].estimate_weight(energies)\n",
    "            reweight_loading = traj_dict[idx]['loading'] * weight\n",
    "            #print(f\"This is {jdx}th reweight_loading results from dmff code.\",jnp.average(traj_dict[idx]['loading']),jnp.average(reweight_loading))\n",
    "            error = jnp.abs(jnp.average(reweight_loading)-traj_dict[idx]['experiment']['loading'])\n",
    "            errors.append(error.reshape((1,)))\n",
    "            #print(error)\n",
    "        errors = jnp.concatenate(errors)\n",
    "        return jnp.sum(errors)\n",
    "\n",
    "    v_and_g = jax.value_and_grad(loss, 0)\n",
    "    v, g = v_and_g(paramset)\n",
    "    loss_ls.append(v)\n",
    "    \n",
    "    updates, opt_state = optimizer.update(g, opt_state)\n",
    "    updates.parameters = update_mask(updates.parameters,paramset.mask)\n",
    "    paramset = optax.apply_updates(paramset, updates)\n",
    "    paramset = jax.tree_map(lambda x: jnp.clip(x, 0.0, 1e8), paramset)\n",
    "    update_ff(paramset)\n",
    "    lj_gen.overwrite(paramset)\n",
    "    sigma_indices, epsilon_indices = detect_parameter_change(paramset, paramset_old,0.9)\n",
    "    paramset = fix_changed_parameters(paramset, sigma_indices, epsilon_indices)\n",
    "    print(f\"This is {nloop}th time\", f\" Loss: {v} and Parameters: \",paramset.parameters['LennardJonesForce']['sigma'], paramset.parameters['LennardJonesForce']['epsilon'])\n",
    "    clear_caches()\n",
    "    clear_backends()    \n",
    "   \n"
   ]
  },
  {
   "cell_type": "code",
   "execution_count": 2,
   "metadata": {},
   "outputs": [],
   "source": [
    "p_ls = [0.021648873072361, 0.077698695136418, 0.20017793594306, 0.34756820877817, 0.49495848161329, 0.80219454329775, 1.1986951364176]\n",
    "loading = [0.2619537037,0.8122592593]"
   ]
  },
  {
   "cell_type": "code",
   "execution_count": 10,
   "metadata": {},
   "outputs": [],
   "source": [
    "import numpy as np\n",
    "import matplotlib.pyplot as plt\n",
    "import os\n",
    "\n",
    "os.chdir(\"/home/yutao/project/github/DMFF/UFF_opt/pimd/\")\n",
    "\n",
    "exp_rdf = np.loadtxt(\"experiment.txt\", delimiter=',')\n",
    "bomd_rdf = np.loadtxt(\"multiplot_onebead_OO.dat\")\n",
    "aimd_rdf = np.loadtxt(\"multiplot_00.dat\")\n",
    "pimd_rdf = np.loadtxt(\"multiplot_bead32_OO.dat\")"
   ]
  },
  {
   "cell_type": "code",
   "execution_count": 27,
   "metadata": {},
   "outputs": [
    {
     "data": {
      "text/plain": [
       "<matplotlib.legend.Legend at 0x7f0ce1adfc90>"
      ]
     },
     "execution_count": 27,
     "metadata": {},
     "output_type": "execute_result"
    },
    {
     "data": {
      "image/png": "[encoded data removed]",
      "text/plain": [
       "<Figure size 640x480 with 1 Axes>"
      ]
     },
     "metadata": {},
     "output_type": "display_data"
    }
   ],
   "source": [
    "fz = 16\n",
    "plt.plot(bomd_rdf[:,0],bomd_rdf[:,1],label=\"BOMD in TIP4P\")\n",
    "plt.plot(aimd_rdf[:,0],aimd_rdf[:,1],label=\"AIMD\")\n",
    "plt.plot(pimd_rdf[:,0],pimd_rdf[:,1],label=\"PIMD in TIP4P\")\n",
    "plt.scatter(exp_rdf[:,0],exp_rdf[:,1],label=\"exp\",color=\"black\",marker=\"x\")\n",
    "#plt.axvline(x=2.73126143, linestyle='dotted', color='red')\n",
    "plt.xlim(2,7)\n",
    "plt.ylabel(r'$g_{O-O}$(r)', fontsize=fz)\n",
    "plt.xlabel(r'r ($\\AA$)', fontsize=fz) \n",
    "plt.legend(fontsize=fz-4)"
   ]
  },
  {
   "cell_type": "code",
   "execution_count": 165,
   "metadata": {},
   "outputs": [],
   "source": [
    "raspa_isotherm = dict({\n",
    "    \"loading_absolute_average\": [\n",
    "            4.1475461760433,\n",
    "            4.1682795780048,\n",
    "            4.2119051746019,\n",
    "            4.2857088897951,\n",
    "            4.3472569607212,\n",
    "            4.4867689199957,\n",
    "            4.4830809830163,\n",
    "            4.5825316016782,\n",
    "            4.6522988251158,\n",
    "            4.5864669004446,\n",
    "            4.751951830768,\n",
    "            4.7789817105534,\n",
    "            4.716635336276,\n",
    "            4.7685250597767,\n",
    "            4.747937826006,\n",
    "            4.8892825099698,\n",
    "            4.8383709892099,\n",
    "            4.9311765750692,\n",
    "            4.9275111254882,\n",
    "            5.0058460562137,\n",
    "            5.0193160212084,\n",
    "            5.0315604218775,\n",
    "            5.0003816129398\n",
    "        ],\n",
    "        \"loading_absolute_unit\": \"mol/kg\",\n",
    "        \"pressure\": [\n",
    "            0.021648873072361,\n",
    "            0.038256227758007,\n",
    "            0.059015421115065,\n",
    "            0.077698695136418,\n",
    "            0.09638196915777,\n",
    "            0.14827995255042,\n",
    "            0.20017793594306,\n",
    "            0.24584816132859,\n",
    "            0.29774614472123,\n",
    "            0.34756820877817,\n",
    "            0.39739027283511,\n",
    "            0.44928825622776,\n",
    "            0.49495848161329,\n",
    "            0.60083036773428,\n",
    "            0.69839857651246,\n",
    "            0.80219454329775,\n",
    "            0.90183867141163,\n",
    "            0.99733096085409,\n",
    "            1.1986951364176,\n",
    "            1.3959074733096,\n",
    "            1.5993475682088,\n",
    "            1.7986358244365,\n",
    "            2.0020759193357\n",
    "        ],\n",
    "})"
   ]
  },
  {
   "cell_type": "code",
   "execution_count": 169,
   "metadata": {},
   "outputs": [
    {
     "data": {
      "text/plain": [
       "<matplotlib.legend.Legend at 0x7f2daadc6cd0>"
      ]
     },
     "execution_count": 169,
     "metadata": {},
     "output_type": "execute_result"
    },
    {
     "data": {
      "image/png": "[encoded data removed]",
      "text/plain": [
       "<Figure size 640x480 with 1 Axes>"
      ]
     },
     "metadata": {},
     "output_type": "display_data"
    }
   ],
   "source": [
    "Transfer_unit = 2.7719416667/5.6100437023 \n",
    "arr_3 = np.loadtxt(\"/home/yutao/dataset/exp_303.txt\", delimiter=',')\n",
    "plt.scatter(arr_3[:,0], Transfer_unit*arr_3[:,1], label = r\"303K experiments\")\n",
    "\n",
    "pressure_list =[\n",
    "            0.021648873072361,\n",
    "            0.038256227758007,\n",
    "            0.059015421115065,\n",
    "            0.077698695136418,\n",
    "            0.09638196915777,\n",
    "            0.14827995255042,\n",
    "            0.20017793594306,\n",
    "            0.24584816132859,\n",
    "            0.29774614472123,\n",
    "            0.34756820877817,\n",
    "            0.39739027283511,\n",
    "            0.44928825622776,\n",
    "            0.49495848161329,\n",
    "            0.60083036773428,\n",
    "            0.69839857651246,\n",
    "            0.80219454329775,\n",
    "            0.90183867141163,\n",
    "            0.99733096085409,\n",
    "            1.1986951364176,\n",
    "            1.3959074733096,\n",
    "            1.5993475682088,\n",
    "            1.7986358244365,\n",
    "            2.0020759193357\n",
    "        ]\n",
    "\n",
    "loading_ls = [\n",
    "            0.5301596867559,\n",
    "            1.6439054244801,\n",
    "            2.5769834747859,\n",
    "            3.048750825226,\n",
    "            3.3212421477618,\n",
    "            3.5154022875732,\n",
    "            3.7237669815363]\n",
    "\n",
    "loading_new_ls = [\n",
    "            0.56926905962217,\n",
    "            0.88036378785215,\n",
    "            1.2714012975129,\n",
    "            1.6072134492684,\n",
    "            1.7802916319374,\n",
    "            2.1904059702588,\n",
    "            2.459561658795,\n",
    "            2.7992154117224,\n",
    "            3.0114966646497,\n",
    "            3.0858550698129,\n",
    "            3.2437167643905,\n",
    "            3.189746954211,\n",
    "            3.2827511790597,\n",
    "            3.4500950694717,\n",
    "            3.4664921472941,\n",
    "            3.550295269092,\n",
    "            3.6728329733781,\n",
    "            3.6595841345688,\n",
    "            3.7335302701542,\n",
    "            3.7576480291155,\n",
    "            3.8163214580124,\n",
    "            3.8122175036568,\n",
    "            3.8062021186164\n",
    "        ]\n",
    "\n",
    "picked_ls = [0,1,2,3,4,5,6]\n",
    "#picked_pressure = [pressure_list[i] for i in picked_ls]\n",
    "picked_pressure = pressure_list[:]\n",
    "picked_isotherm = [i*Transfer_unit for i in loading_new_ls]\n",
    "plt.scatter(picked_pressure, picked_isotherm, label = r\"303K simulated (optimized)\")\n",
    "plt.scatter(raspa_isotherm[\"pressure\"], np.array(raspa_isotherm[\"loading_absolute_average\"])*Transfer_unit, label = r\"303K RASPA Isotherm\")\n",
    "plt.legend()"
   ]
  },
  {
   "cell_type": "code",
   "execution_count": 82,
   "metadata": {},
   "outputs": [
    {
     "name": "stdout",
     "output_type": "stream",
     "text": [
      "23 23\n"
     ]
    },
    {
     "data": {
      "image/png": "[encoded data removed]",
      "text/plain": [
       "<Figure size 640x480 with 1 Axes>"
      ]
     },
     "metadata": {},
     "output_type": "display_data"
    }
   ],
   "source": [
    "Transfer_unit = 2.7719416667/5.6100437023 \n",
    "\n",
    "raspa_isotherm = [\n",
    "            4.1475461760433,\n",
    "            4.1682795780048,\n",
    "            4.2119051746019,\n",
    "            4.2857088897951,\n",
    "            4.3472569607212,\n",
    "            4.4867689199957,\n",
    "            4.4830809830163,\n",
    "            4.5825316016782,\n",
    "            4.6522988251158,\n",
    "            4.5864669004446,\n",
    "            4.751951830768,\n",
    "            4.7789817105534,\n",
    "            4.716635336276,\n",
    "            4.7685250597767,\n",
    "            4.747937826006,\n",
    "            4.8892825099698,\n",
    "            4.8383709892099,\n",
    "            4.9311765750692,\n",
    "            4.9275111254882,\n",
    "            5.0058460562137,\n",
    "            5.0193160212084,\n",
    "            5.0315604218775,\n",
    "            5.0003816129398\n",
    "        ]\n",
    "\n",
    "pressure_list = [\n",
    "            0.021648873072361,\n",
    "            0.038256227758007,\n",
    "            0.059015421115065,\n",
    "            0.077698695136418,\n",
    "            0.09638196915777,\n",
    "            0.14827995255042,\n",
    "            0.20017793594306,\n",
    "            0.24584816132859,\n",
    "            0.29774614472123,\n",
    "            0.34756820877817,\n",
    "            0.39739027283511,\n",
    "            0.44928825622776,\n",
    "            0.49495848161329,\n",
    "            0.60083036773428,\n",
    "            0.69839857651246,\n",
    "            0.80219454329775,\n",
    "            0.90183867141163,\n",
    "            0.99733096085409,\n",
    "            1.1986951364176,\n",
    "            1.3959074733096,\n",
    "            1.5993475682088,\n",
    "            1.7986358244365,\n",
    "            2.0020759193357\n",
    "        ]\n",
    "print(len(pressure_list), len(raspa_isotherm))\n",
    "arr_3 = np.loadtxt(\"/home/yutao/dataset/exp_303.txt\", delimiter=',')\n",
    "plt.scatter(arr_3[:,0], Transfer_unit*arr_3[:,1], label = r\"303K experiments\")\n",
    "\n",
    "picked_ls = [0, 3, 6, 9, 12, 15, 18]\n",
    "picked_pressure = [pressure_list[i] for i in picked_ls]\n",
    "picked_isotherm = [arr_3[i,1]*Transfer_unit for i in picked_ls]\n",
    "\n",
    "def is_close_to_list(value, value_list):\n",
    "    for list_value in value_list:\n",
    "        relative_error = abs((value - list_value) / list_value)\n",
    "        if relative_error < 0.01:\n",
    "            return 1\n",
    "    return 0"
   ]
  },
  {
   "cell_type": "code",
   "execution_count": 98,
   "metadata": {},
   "outputs": [
    {
     "name": "stdout",
     "output_type": "stream",
     "text": [
      "[0.021648873072361, 0.077698695136418, 0.20017793594306, 0.34756820877817, 0.49495848161329, 0.80219454329775, 1.1986951364176]\n"
     ]
    }
   ],
   "source": [
    "print(picked_pressure)"
   ]
  },
  {
   "cell_type": "code",
   "execution_count": 83,
   "metadata": {},
   "outputs": [
    {
     "name": "stdout",
     "output_type": "stream",
     "text": [
      "[0.24030165348645946, 0.6912047560958835, 1.0260070598298272, 1.2069083045892968, 1.3149090477292786, 1.5417106083232401, 1.633511239992225]\n"
     ]
    }
   ],
   "source": [
    "print(picked_isotherm)"
   ]
  },
  {
   "cell_type": "code",
   "execution_count": 135,
   "metadata": {},
   "outputs": [
    {
     "name": "stdout",
     "output_type": "stream",
     "text": [
      "Directory created: ./traj/1\n",
      "Number of atoms in each structure for Movie_framework_1_3.3.2_303.000000_2164.887307_component_CO2_0.pdb : [0, 63, 66, 69, 63, 63, 66, 69, 66, 72, 69, 69, 69, 60, 66, 51, 63, 72, 57, 51, 54, 45, 54, 48, 57, 57, 54, 45, 48, 51, 48, 54, 48, 48, 45, 48, 51, 51, 57, 45, 45, 48, 45, 45, 45, 48, 51, 51, 57, 48, 48, 48, 60, 60, 57, 57, 57, 51, 60, 60, 60, 60, 57, 54, 60, 57, 60, 63, 63, 54, 51, 54, 51, 54, 63, 66, 60, 60, 51, 63, 60, 54, 54, 60, 69, 66, 57, 60, 60, 57, 60, 60, 66, 63, 57, 60, 54, 57, 57, 60, 57, 48, 54, 54, 63, 63, 66, 60, 54, 60, 57, 66, 66, 66, 63, 60, 60, 60, 60, 63, 60, 66, 57, 63, 63, 69, 69, 69, 60, 63, 63, 60, 57, 57, 69, 66, 63, 60, 63, 66, 57, 63, 60, 51, 60, 66, 66, 63, 63, 66, 63, 60, 57, 63, 57, 45, 51, 48, 51, 48, 57, 54, 51, 51, 57, 57, 51, 48, 45, 51, 60, 57, 51, 51, 57, 54, 51, 57, 51, 51, 54, 57, 57, 54, 60, 60, 60, 63, 63, 66, 69, 69, 66, 69, 63, 63, 63, 54, 60, 57, 48, 54, 63, 63, 60, 60, 60, 60, 57, 60, 60, 63, 54, 63, 54, 60, 60, 60, 63, 66, 69, 66, 66, 63, 66, 66, 69, 66, 72, 63, 69, 63, 72, 66, 72, 72, 66, 72, 72, 72, 66, 60, 57, 63, 63, 63, 66, 66, 63, 66, 69, 66, 63, 63, 66, 66, 69, 69, 69, 75, 69, 72, 72, 72, 72, 78, 78, 75, 75, 81, 75, 75, 66, 72, 66, 66, 66, 69, 66, 69, 72, 69, 66, 57, 60, 66, 60, 72, 66, 66, 66, 66, 66, 72, 72, 75, 63, 60, 57, 63, 57, 54, 60, 57, 60, 54, 54, 57, 63, 57, 54, 60, 57, 54, 57, 54, 54, 60, 69, 57, 63, 63, 60, 57, 54, 60, 60, 60, 63, 57, 48, 45, 51, 54, 57, 63, 57, 60, 60, 63, 69, 66, 63, 66, 66, 63, 60, 57, 63, 60, 63, 60, 63, 66, 66, 69, 69, 72, 69, 72, 63, 60, 66, 75, 72, 72, 81, 66, 66, 60, 63, 60, 66, 66, 57, 60, 60, 66, 63, 66, 72, 69, 69, 69, 75, 78, 84, 84, 72, 72, 63, 57, 69, 69, 63, 57, 63, 57, 63, 60, 60]\n",
      "Directory created: ./traj/2\n",
      "Number of atoms in each structure for Movie_framework_1_3.3.2_303.000000_7769.869514_component_CO2_0.pdb : [0, 96, 96, 96, 93, 90, 90, 87, 90, 90, 87, 96, 96, 93, 93, 96, 96, 93, 87, 81, 90, 87, 75, 84, 84, 78, 84, 84, 72, 75, 75, 75, 81, 78, 81, 81, 78, 78, 81, 78, 75, 69, 75, 78, 72, 72, 63, 60, 60, 63, 69, 63, 63, 66, 66, 63, 63, 60, 63, 60, 72, 69, 66, 66, 66, 66, 63, 66, 69, 66, 78, 72, 66, 69, 69, 72, 60, 66, 72, 75, 72, 75, 69, 69, 69, 78, 75, 75, 84, 78, 72, 69, 72, 72, 75, 78, 81, 75, 78, 78, 81, 81, 78, 84, 81, 87, 81, 84, 81, 81, 78, 78, 78, 78, 75, 72, 75, 72, 75, 84, 78, 72, 81, 81, 75, 75, 72, 69, 69, 75, 81, 84, 84, 81, 72, 81, 84, 81, 84, 81, 87, 90, 90, 90, 84, 87, 87, 84, 81, 90, 93, 90, 87, 84, 84, 84, 90, 93, 96, 93, 90, 90, 90, 87, 90, 87, 84, 84, 87, 87, 84, 87, 81, 84, 81, 81, 75, 84, 78, 75, 81, 84, 81, 78, 78, 78, 72, 72, 75, 69, 75, 72, 75, 81, 75, 78, 75, 72, 66, 63, 72, 72, 66, 78, 72, 69, 66, 69, 69, 72, 81, 81, 78, 78, 75, 72, 72, 72, 81, 72, 75, 72, 72, 78, 69, 75, 81, 81, 87, 78, 84, 75, 75, 78, 69, 75, 69, 75, 78, 81, 78, 87, 81, 87, 84, 81, 84, 72, 75, 75, 78, 81, 81, 84, 81, 84, 90, 90, 90, 90, 90, 93, 93, 90, 93, 90, 90, 90, 90, 96, 93, 93, 99, 96, 96, 93, 90, 87, 84, 87, 90, 87, 84, 87, 90, 90, 87, 84, 87, 84, 84, 81, 78, 84, 78, 78, 75, 78, 81, 78, 75, 78, 75, 72, 72, 72, 69, 66, 72, 72, 75, 75, 75, 75, 72, 78, 75, 69, 66, 78, 75, 75, 75, 75, 72, 72, 81, 84, 78, 78, 78, 78, 75, 75, 72, 78, 75, 75, 84, 81, 90, 93, 84, 81, 84, 84, 84, 81, 78, 78, 84, 90, 84, 84, 81, 81, 78, 81, 81, 81, 81, 81, 78, 72, 75, 72, 75, 81, 81, 81, 78, 90, 84, 84, 81, 75, 78, 78, 81, 78, 84, 81, 75, 72, 69, 81, 75, 75, 78, 81, 78, 81, 81, 75, 75, 78, 78, 81, 90, 84, 78]\n",
      "Directory created: ./traj/3\n",
      "Number of atoms in each structure for Movie_framework_1_3.3.2_303.000000_20017.793594_component_CO2_0.pdb : [0, 96, 93, 90, 93, 93, 93, 96, 99, 96, 99, 99, 96, 96, 96, 96, 99, 96, 96, 99, 102, 99, 99, 96, 99, 99, 96, 96, 99, 102, 105, 99, 96, 99, 102, 99, 99, 96, 99, 99, 99, 99, 99, 96, 99, 102, 105, 99, 93, 93, 87, 90, 93, 90, 90, 87, 87, 90, 87, 96, 84, 87, 84, 84, 84, 87, 84, 84, 78, 78, 84, 84, 84, 84, 87, 87, 90, 84, 90, 87, 90, 93, 90, 93, 87, 90, 90, 93, 93, 93, 90, 96, 93, 96, 96, 93, 93, 96, 102, 102, 102, 102, 102, 102, 99, 96, 96, 96, 99, 96, 96, 87, 93, 96, 93, 96, 99, 96, 99, 93, 90, 93, 96, 99, 99, 99, 99, 93, 90, 93, 84, 87, 87, 78, 81, 78, 81, 84, 87, 84, 84, 84, 87, 87, 90, 84, 87, 90, 87, 93, 90, 93, 87, 90, 90, 93, 96, 96, 96, 96, 105, 99, 99, 96, 96, 93, 99, 96, 93, 96, 96, 99, 99, 99, 96, 99, 96, 96, 93, 99, 99, 99, 99, 96, 99, 96, 93, 90, 96, 96, 99, 99, 96, 99, 93, 90, 93, 93, 87, 87, 84, 90, 87, 84, 84, 96, 96, 93, 93, 93, 93, 90, 90, 96, 84, 87, 81, 90, 90, 87, 90, 87, 87, 87, 87, 90, 90, 87, 90, 90, 90, 90, 90, 87, 90, 93, 99, 96, 99, 99, 96, 96, 96, 96, 96, 99, 90, 90, 87, 87, 90, 93, 96, 96, 93, 90, 87, 90, 90, 90, 87, 84, 84, 84, 87, 84, 87, 87, 87, 90, 90, 90, 93, 93, 93, 93, 96, 96, 96, 99, 96, 96, 96, 96, 96, 93, 96, 93, 93, 96, 96, 96, 99, 96, 93, 93, 93, 93, 93, 93, 87, 90, 90, 96, 96, 96, 99, 96, 99, 96, 96, 99, 99, 102, 99, 96, 96, 99, 96, 99, 96, 93, 90, 90, 90, 90, 87, 87, 90, 93, 87, 90, 87, 87, 87, 90, 93, 93, 90, 90, 90, 90, 93, 87, 90, 90, 90, 93, 93, 96, 90, 90, 90, 90, 96, 93, 93, 93, 93, 90, 93, 96, 99, 102, 102, 99, 96, 99, 99, 99, 99, 96, 96, 99, 99, 99, 96, 102, 99, 102, 96, 99, 102, 96, 96, 96, 96, 90, 90, 87, 87, 90, 93, 90, 87, 87, 96, 96, 93, 93, 96]\n",
      "Directory created: ./traj/4\n",
      "Number of atoms in each structure for Movie_framework_1_3.3.2_303.000000_34756.820878_component_CO2_0.pdb : [0, 99, 99, 99, 99, 99, 93, 93, 93, 93, 93, 93, 93, 93, 93, 96, 99, 99, 102, 102, 96, 90, 102, 102, 99, 99, 96, 96, 93, 96, 96, 93, 99, 99, 96, 96, 96, 96, 102, 99, 102, 93, 93, 93, 96, 93, 96, 96, 90, 93, 93, 96, 99, 102, 99, 93, 93, 93, 93, 93, 90, 96, 93, 93, 99, 102, 108, 102, 105, 105, 102, 102, 102, 102, 102, 108, 108, 114, 108, 108, 111, 114, 114, 111, 111, 111, 111, 108, 108, 108, 108, 108, 108, 108, 99, 99, 105, 102, 105, 105, 105, 108, 108, 105, 102, 105, 105, 102, 99, 99, 99, 102, 102, 105, 105, 105, 108, 105, 108, 105, 99, 99, 102, 102, 102, 99, 96, 96, 93, 93, 96, 99, 99, 99, 99, 102, 102, 102, 102, 105, 96, 99, 105, 102, 102, 102, 102, 102, 99, 96, 93, 93, 93, 93, 96, 96, 102, 96, 99, 105, 105, 108, 108, 108, 108, 114, 108, 105, 102, 102, 102, 102, 102, 105, 105, 105, 102, 102, 99, 99, 99, 96, 93, 99, 99, 102, 102, 102, 99, 99, 99, 99, 96, 93, 90, 90, 93, 90, 93, 96, 96, 93, 96, 96, 96, 93, 93, 96, 93, 96, 99, 99, 96, 96, 96, 93, 93, 93, 96, 93, 93, 96, 96, 93, 99, 99, 102, 102, 102, 102, 99, 99, 99, 102, 99, 105, 102, 102, 99, 99, 99, 99, 96, 96, 96, 99, 102, 105, 105, 105, 105, 105, 102, 102, 99, 105, 105, 105, 105, 105, 102, 102, 102, 99, 96, 99, 99, 99, 96, 96, 96, 102, 99, 96, 96, 96, 96, 93, 93, 93, 96, 96, 90, 90, 90, 87, 87, 90, 93, 93, 93, 99, 96, 93, 93, 93, 90, 96, 99, 102, 96, 96, 96, 96, 96, 96, 96, 96, 99, 99, 99, 102, 99, 96, 102, 99, 99, 99, 96, 96, 99, 93, 99, 90, 93, 93, 99, 96, 99, 93, 96, 93, 99, 99, 99, 96, 96, 90, 93, 93, 96, 93, 96, 93, 90, 93, 93, 90, 90, 90, 87, 87, 87, 90, 90, 87, 93, 90, 90, 93, 90, 96, 90, 99, 99, 99, 102, 96, 102, 102, 99, 99, 96, 90, 90, 87, 93, 96, 93, 93, 90, 93, 93, 96, 99, 96, 102, 102, 99, 96, 102, 102, 102, 102, 102, 93, 96, 99, 99, 93, 96]\n",
      "Directory created: ./traj/5\n",
      "Number of atoms in each structure for Movie_framework_1_3.3.2_303.000000_49495.848161_component_CO2_0.pdb : [0, 87, 93, 99, 99, 102, 102, 105, 102, 102, 105, 105, 99, 102, 102, 99, 99, 99, 99, 99, 99, 99, 102, 102, 99, 99, 96, 96, 99, 102, 102, 99, 96, 96, 96, 102, 102, 99, 102, 102, 99, 102, 102, 105, 102, 102, 102, 105, 108, 108, 108, 102, 102, 102, 102, 102, 99, 102, 99, 105, 108, 108, 105, 111, 114, 111, 108, 108, 114, 111, 108, 105, 102, 93, 96, 99, 99, 102, 102, 105, 102, 105, 108, 102, 102, 105, 105, 105, 102, 99, 96, 102, 99, 102, 102, 102, 102, 105, 105, 105, 102, 99, 102, 105, 102, 99, 102, 102, 102, 102, 99, 99, 99, 99, 105, 99, 102, 105, 102, 105, 105, 105, 99, 102, 102, 99, 102, 102, 102, 105, 96, 96, 99, 96, 96, 96, 96, 99, 99, 96, 105, 105, 102, 105, 102, 105, 102, 96, 99, 99, 93, 96, 93, 93, 93, 96, 96, 96, 96, 99, 99, 96, 102, 99, 105, 108, 102, 105, 105, 99, 102, 108, 105, 105, 108, 99, 102, 105, 105, 105, 105, 102, 108, 105, 102, 105, 99, 105, 105, 105, 102, 102, 102, 105, 105, 105, 105, 108, 99, 105, 105, 105, 102, 102, 99, 99, 102, 99, 99, 102, 99, 99, 99, 99, 99, 102, 102, 102, 105, 105, 108, 102, 102, 102, 99, 102, 102, 102, 102, 102, 102, 99, 99, 105, 105, 105, 99, 96, 96, 102, 105, 99, 96, 96, 96, 96, 99, 99, 102, 102, 102, 102, 96, 102, 102, 102, 102, 99, 99, 102, 102, 105, 105, 102, 102, 102, 108, 105, 108, 108, 105, 111, 108, 108, 108, 108, 108, 108, 102, 102, 108, 108, 105, 105, 105, 105, 102, 108, 108, 108, 108, 105, 108, 108, 108, 108, 105, 102, 102, 102, 102, 99, 99, 99, 99, 99, 99, 96, 99, 99, 102, 102, 105, 105, 105, 105, 105, 105, 114, 111, 111, 111, 111, 111, 108, 108, 105, 105, 102, 102, 102, 102, 102, 105, 105, 105, 105, 102, 102, 105, 105, 105, 105, 105, 105, 105, 105, 105, 105, 108, 108, 108, 105, 105, 105, 102, 102, 102, 102, 105, 108, 108, 108, 108, 105, 105, 108, 108, 108, 108, 108, 108, 108, 108, 111, 111, 111, 114, 114, 108, 108, 105, 105, 108, 105, 105, 111, 111, 108, 108, 108, 105, 105, 105, 102, 102, 102, 102, 102, 102, 105]\n",
      "Directory created: ./traj/6\n",
      "Number of atoms in each structure for Movie_framework_1_3.3.2_303.000000_80219.454330_component_CO2_0.pdb : [0, 105, 102, 99, 105, 105, 105, 108, 108, 108, 108, 108, 108, 108, 105, 105, 108, 108, 108, 108, 108, 108, 111, 111, 111, 111, 111, 111, 111, 111, 108, 111, 111, 111, 111, 111, 111, 111, 102, 108, 108, 105, 105, 108, 108, 108, 105, 105, 108, 108, 108, 111, 114, 108, 105, 99, 102, 105, 108, 108, 111, 108, 108, 105, 99, 108, 105, 105, 111, 111, 111, 111, 111, 111, 111, 105, 105, 105, 105, 102, 102, 105, 102, 102, 102, 99, 99, 99, 102, 108, 111, 108, 108, 114, 111, 108, 108, 108, 114, 102, 99, 99, 99, 102, 108, 108, 108, 108, 111, 111, 108, 111, 114, 108, 105, 105, 105, 105, 105, 102, 102, 96, 96, 99, 99, 102, 102, 105, 99, 105, 102, 102, 102, 105, 102, 102, 102, 102, 102, 99, 102, 102, 102, 105, 105, 102, 102, 102, 102, 102, 105, 105, 105, 108, 108, 105, 105, 105, 108, 105, 108, 105, 105, 105, 105, 105, 105, 105, 105, 108, 105, 105, 105, 108, 108, 108, 108, 105, 108, 102, 99, 96, 93, 93, 93, 93, 96, 102, 105, 102, 99, 96, 96, 93, 93, 96, 96, 102, 96, 96, 99, 93, 93, 99, 99, 99, 102, 99, 99, 102, 99, 99, 102, 99, 102, 99, 96, 96, 96, 96, 96, 99, 99, 102, 99, 99, 102, 102, 102, 102, 102, 108, 108, 108, 102, 99, 105, 99, 102, 99, 99, 99, 102, 102, 102, 102, 102, 102, 105, 105, 108, 111, 114, 111, 111, 111, 111, 111, 111, 114, 117, 114, 114, 117, 114, 114, 114, 114, 111, 111, 108, 108, 105, 105, 108, 108, 108, 111, 111, 111, 111, 111, 111, 111, 111, 111, 111, 111, 111, 111, 111, 111, 114, 114, 114, 111, 105, 105, 108, 108, 108, 108, 108, 105, 108, 105, 102, 105, 99, 105, 105, 108, 105, 108, 105, 108, 105, 108, 105, 108, 105, 108, 105, 108, 108, 108, 108, 108, 108, 111, 111, 108, 105, 111, 108, 105, 108, 108, 108, 105, 105, 102, 102, 105, 105, 105, 105, 108, 105, 105, 105, 108, 102, 102, 105, 105, 102, 102, 102, 105, 108, 108, 108, 111, 111, 111, 111, 111, 111, 111, 114, 114, 111, 111, 105, 105, 108, 102, 105, 105, 108, 114, 108, 105, 108, 108, 105, 114, 105, 108, 111, 111, 111, 111, 108, 108, 105, 108, 108, 111, 108]\n",
      "Directory created: ./traj/7\n",
      "Number of atoms in each structure for Movie_framework_1_3.3.2_303.000000_119869.513642_component_CO2_0.pdb : [0, 108, 108, 105, 105, 108, 108, 108, 105, 108, 108, 108, 108, 108, 108, 108, 108, 108, 108, 108, 111, 108, 105, 105, 108, 105, 105, 108, 108, 108, 102, 96, 96, 96, 96, 99, 99, 105, 102, 102, 105, 108, 105, 105, 108, 108, 105, 105, 108, 108, 108, 108, 108, 105, 108, 108, 114, 111, 111, 111, 108, 108, 111, 108, 108, 108, 114, 117, 117, 117, 114, 111, 111, 111, 111, 111, 111, 114, 108, 108, 108, 111, 108, 111, 114, 114, 114, 114, 111, 114, 117, 117, 114, 114, 114, 114, 111, 117, 117, 114, 114, 117, 114, 114, 114, 114, 111, 114, 114, 117, 117, 114, 111, 108, 111, 105, 102, 105, 111, 114, 111, 114, 111, 111, 108, 108, 111, 111, 114, 108, 108, 108, 108, 108, 111, 108, 108, 108, 108, 108, 108, 108, 108, 108, 108, 108, 108, 108, 108, 105, 105, 108, 105, 105, 108, 105, 102, 105, 105, 108, 108, 105, 108, 105, 105, 105, 102, 105, 99, 99, 105, 99, 99, 99, 102, 102, 102, 105, 105, 102, 105, 102, 102, 105, 105, 102, 102, 105, 108, 105, 108, 108, 105, 105, 105, 102, 105, 108, 102, 105, 105, 108, 105, 108, 108, 108, 105, 108, 105, 102, 102, 105, 108, 108, 108, 105, 108, 102, 102, 102, 102, 102, 105, 102, 105, 105, 105, 105, 105, 105, 105, 108, 108, 108, 105, 105, 105, 105, 108, 108, 105, 108, 108, 105, 108, 108, 108, 105, 102, 105, 105, 105, 102, 105, 105, 105, 108, 108, 105, 108, 111, 111, 111, 108, 108, 108, 108, 111, 111, 111, 108, 108, 108, 108, 108, 108, 108, 108, 108, 108, 111, 105, 105, 102, 102, 102, 105, 105, 102, 102, 105, 105, 102, 105, 102, 102, 102, 105, 102, 105, 99, 99, 99, 99, 102, 105, 108, 108, 108, 105, 105, 105, 105, 108, 111, 105, 102, 111, 108, 108, 108, 108, 114, 108, 105, 102, 102, 99, 102, 102, 99, 99, 99, 102, 99, 102, 105, 105, 102, 102, 102, 102, 102, 102, 105, 99, 99, 102, 99, 102, 102, 102, 102, 105, 105, 105, 105, 105, 102, 105, 105, 105, 105, 105, 108, 108, 108, 108, 108, 105, 102, 111, 111, 114, 111, 111, 111, 111, 114, 120, 111, 111, 111, 114, 114, 108, 105, 105, 111, 102, 108, 108, 108, 108, 108, 108, 108, 108, 108, 108, 108]\n"
     ]
    }
   ],
   "source": [
    "import os\n",
    "import numpy as np\n",
    "from utils import scaling_gas, extract_from_raspa, write_scaling_gas\n",
    "bar = 10**5\n",
    "dest_path = \"/home/yutao/project/MIL-120/traj0/\"\n",
    "traj_ls = os.listdir(dest_path)\n",
    "\n",
    "isotherm_data = [[],[]] # the first list is for pressure, the second is for loading\n",
    "jdx = 0 \n",
    "for traj in extract_from_raspa(traj_ls):\n",
    "    pdb_file = traj[1]\n",
    "    if not pdb_file.endswith(\".pdb\") or 'Movie_framework' not in pdb_file:\n",
    "        continue\n",
    "    if not is_close_to_list(float(traj[0])/bar, picked_pressure):\n",
    "        continue\n",
    "    isotherm_data[0].append(float(traj[0])/bar)\n",
    "    pdb_path = os.path.join(dest_path, pdb_file)\n",
    "    with open(pdb_path) as f:\n",
    "        lines = f.readlines()\n",
    "    num_atoms_list = []  # List to store the number of atoms in each structure\n",
    "    index = 0\n",
    "    write_idx = 1\n",
    "    num_atoms = 0  # Variable to store the number of atoms in the current structure\n",
    "    directory = f\"./traj/{jdx+1}\"\n",
    "    jdx += 1\n",
    "    if not os.path.exists(directory):\n",
    "        os.makedirs(directory)\n",
    "        print(\"Directory created:\", directory)\n",
    "    for line in lines:\n",
    "        if line.startswith(\"MODEL\"):\n",
    "            if index>=200:\n",
    "                write_scaling_gas(block_coords, \"data/gas.pdb\", write_idx, dest_path=directory)\n",
    "                write_idx += 1\n",
    "            block_coords = []\n",
    "            block_Csym = []\n",
    "            index += 1\n",
    "            num_atoms_list.append(num_atoms)  # Add the number of atoms to the list\n",
    "            num_atoms = 0  # Reset the number of atoms for the next structure\n",
    "        if line.startswith(\"ATOM\"):\n",
    "            parts = line.split()\n",
    "            coords = np.array([float(parts[4]), float(parts[5]), float(parts[6])])\n",
    "            block_coords.append(coords)\n",
    "            block_Csym.append(parts[-1])\n",
    "            num_atoms += 1  # Increment the number of atoms\n",
    "    num_atoms_list.append(num_atoms)  # Add the number of atoms for the last structure\n",
    "    isotherm_data[1].append(sum(num_atoms_list)/len(num_atoms_list)/3/3/2/3)\n",
    "    print(\"Number of atoms in each structure for\", pdb_file, \":\", num_atoms_list)"
   ]
  },
  {
   "cell_type": "code",
   "execution_count": 143,
   "metadata": {},
   "outputs": [],
   "source": [
    "def move_traj(dest_path = \"/home/yutao/project/MIL-120/traj0/\",picked_pressure=picked_pressure):\n",
    "    traj_ls = os.listdir(dest_path)\n",
    "    isotherm_data = [[],[]] # the first list is for pressure, the second is for loading\n",
    "    jdx = 0 \n",
    "    for traj in extract_from_raspa(traj_ls):\n",
    "        pdb_file = traj[1]\n",
    "        if not pdb_file.endswith(\".pdb\") or 'Movie_framework' not in pdb_file:\n",
    "            continue\n",
    "        if not is_close_to_list(float(traj[0])/bar, picked_pressure):\n",
    "            continue\n",
    "        isotherm_data[0].append(float(traj[0])/bar)\n",
    "        pdb_path = os.path.join(dest_path, pdb_file)\n",
    "        with open(pdb_path) as f:\n",
    "            lines = f.readlines()\n",
    "        num_atoms_list = []  # List to store the number of atoms in each structure\n",
    "        index = 0\n",
    "        write_idx = 1\n",
    "        num_atoms = 0  # Variable to store the number of atoms in the current structure\n",
    "        directory = f\"./traj/{jdx+1}\"\n",
    "        jdx += 1\n",
    "        if not os.path.exists(directory):\n",
    "            os.makedirs(directory)\n",
    "            print(\"Directory created:\", directory)\n",
    "        for line in lines:\n",
    "            if line.startswith(\"MODEL\"):\n",
    "                if index>=150:\n",
    "                    write_scaling_gas(block_coords, \"data/gas.pdb\", write_idx, dest_path=directory)\n",
    "                    write_idx += 1\n",
    "                block_coords = []\n",
    "                block_Csym = []\n",
    "                index += 1\n",
    "                num_atoms_list.append(num_atoms)  # Add the number of atoms to the list\n",
    "                num_atoms = 0  # Reset the number of atoms for the next structure\n",
    "            if line.startswith(\"ATOM\"):\n",
    "                parts = line.split()\n",
    "                coords = np.array([float(parts[4]), float(parts[5]), float(parts[6])])\n",
    "                block_coords.append(coords)\n",
    "                block_Csym.append(parts[-1])\n",
    "                num_atoms += 1  # Increment the number of atoms\n",
    "        #num_atoms_list.append(num_atoms)  # Add the number of atoms for the last structure\n",
    "        #isotherm_data[1].append(sum(num_atoms_list)/len(num_atoms_list)/3/3/2/3)\n",
    "        #print(\"Number of atoms in each structure for\", pdb_file, \":\", num_atoms_list)\n",
    "    return isotherm_data"
   ]
  },
  {
   "cell_type": "code",
   "execution_count": 144,
   "metadata": {},
   "outputs": [],
   "source": [
    "isotherm_data = move_traj()"
   ]
  },
  {
   "cell_type": "code",
   "execution_count": 11,
   "metadata": {},
   "outputs": [],
   "source": [
    "def compute_binding_energy(paramset,topo, pos, lj_gen, numframe=720,cutoff=cutoff):\n",
    "    topodata = dmff.DMFFTopology(topo)\n",
    "    # Because dmfftopology does not provide a good entry for open.topology object generated by pdb file, I had to suplement something\n",
    "    for atom in topodata.atoms():\n",
    "        if atom.residue.name==\"MOL\":\n",
    "            atom.meta['type']=atom.meta['element']\n",
    "            atom.meta['class']=atom.meta['element']\n",
    "        elif atom.residue.name==\"GAS\":\n",
    "            #print(atom.meta)\n",
    "            atom.meta['type']=atom.meta['element']+\"_co2\"\n",
    "            atom.meta['class']=atom.meta['element']+\"_co2\"\n",
    "        #print(atom.meta['element'])\n",
    "    cov_mat = topodata.buildCovMat()\n",
    "    lj_force = lj_gen.createPotential(\n",
    "    topodata, nonbondedMethod=app.PME, nonbondedCutoff=cutoff, args={})\n",
    "    pos_jnp = jnp.array(pos.value_in_unit(unit.nanometer))\n",
    "    cell_jnp = jnp.array(topo.getPeriodicBoxVectors().value_in_unit(unit.nanometer))\n",
    "    cov_mat=cov_mat.at[:numframe,:numframe].set(1)\n",
    "    nblist = NeighborListFreud(topo.getPeriodicBoxVectors().value_in_unit(unit.nanometer), cutoff, cov_mat)\n",
    "    nblist.allocate(pos_jnp, cell_jnp)\n",
    "    pairs = jnp.array(nblist.pairs)\n",
    "    ener = lj_force(pos_jnp,cell_jnp, pairs, paramset)\n",
    "    return ener"
   ]
  },
  {
   "cell_type": "code",
   "execution_count": 145,
   "metadata": {},
   "outputs": [],
   "source": [
    "# Initial Optimized parameters\n",
    "xmlio = XMLIO()\n",
    "xmlio.loadXML(\"data/init.xml\")\n",
    "ffinfo = xmlio.parseXML()\n",
    "paramset = ParamSet()\n",
    "lj_gen = LennardJonesGenerator(ffinfo, paramset)"
   ]
  },
  {
   "cell_type": "code",
   "execution_count": 84,
   "metadata": {},
   "outputs": [],
   "source": [
    "# input the trajectory file and compute energy for each frame:\n",
    "\n",
    "Trajectory_length = 80\n",
    "Number_points = len(picked_ls)\n",
    "traj_dict = {}\n",
    "\n",
    "# I have alreay generated a trajectory example\n",
    "dest_path = \"./traj/\"\n",
    "traj_ls = os.listdir(dest_path)\n",
    "create_supercell(\"data/MIL-120.pdb\", scaling_factors, \"scaled_frame.pdb\")\n",
    "ff = app.ForceField(\"custom_forcefield.xml\")\n",
    "\n",
    "# Filter out file names and keep only directory names\n",
    "dir_names = [name for name in traj_ls if os.path.isdir(os.path.join(dest_path, name)) and name.isdigit()]\n",
    "\n",
    "for directory in dir_names:\n",
    "    idx = int(directory)\n",
    "    traj_dict[idx] = {'experiment': {'pressure': picked_pressure[idx-1], 'loading': picked_isotherm[idx-1]}, 'structure': [], 'refer_energy':[], 'loading':[]}\n",
    "    gas_dir = os.path.join(dest_path, directory)\n",
    "    for gas_path in os.listdir(gas_dir)[::100]:\n",
    "        topo, pos, num = simple_merge(\"scaled_frame.pdb\",os.path.join(gas_dir,gas_path))\n",
    "        ener_lj = compute_binding_energy(paramset,topo, pos, lj_gen, numframe=720,cutoff=cutoff)\n",
    "        traj_dict[idx]['structure'].append([topo, pos])\n",
    "        traj_dict[idx]['loading'].append(num/scaling_factors[0]/scaling_factors[1]/scaling_factors[2]/3)\n",
    "        traj_dict[idx]['refer_energy'].append(ener_lj)"
   ]
  },
  {
   "cell_type": "code",
   "execution_count": 85,
   "metadata": {},
   "outputs": [],
   "source": [
    "for key in traj_dict.keys():\n",
    "    traj_dict[key]['refer_energy'] = jnp.array(traj_dict[key]['refer_energy'])\n",
    "    traj_dict[key]['loading'] = jnp.array(traj_dict[key]['loading'])\n",
    "    traj_dict[key]['estimator'] = ReweightEstimator(ref_energies=traj_dict[key]['refer_energy'], temperature=SET_temperature)"
   ]
  },
  {
   "cell_type": "code",
   "execution_count": 103,
   "metadata": {},
   "outputs": [
    {
     "name": "stdout",
     "output_type": "stream",
     "text": [
      "Script encountered an error: b'Traceback (most recent call last):\\n  File \"/home/yutao/.aiida_venvs/aiida/lib/python3.9/site-packages/aiida/orm/utils/loaders.py\", line 407, in load_entity\\n    entity = builder.one()[0]\\n  File \"/home/yutao/.aiida_venvs/aiida/lib/python3.9/site-packages/aiida/orm/querybuilder.py\", line 1129, in one\\n    raise NotExistent(\\'No result was found\\')\\naiida.common.exceptions.NotExistent: No result was found\\n\\nDuring handling of the above exception, another exception occurred:\\n\\nTraceback (most recent call last):\\n  File \"/home/yutao/project/aiida/applications/sample_isotherm.py\", line 85, in <module>\\n    results, node = run_isotherm(load_code(RASPA_CODE_LABEL), load_code(ZEOPP_CODE_LABEL),\"MIL-120.cif\")  # pylint: disable=no-value-for-parameter\\n  File \"/home/yutao/.aiida_venvs/aiida/lib/python3.9/site-packages/aiida/orm/utils/loaders.py\", line 113, in load_code\\n    return load_entity(\\n  File \"/home/yutao/.aiida_venvs/aiida/lib/python3.9/site-packages/aiida/orm/utils/loaders.py\", line 88, in load_entity\\n    return entity_loader.load_entity(\\n  File \"/home/yutao/.aiida_venvs/aiida/lib/python3.9/site-packages/aiida/orm/utils/loaders.py\", line 413, in load_entity\\n    raise NotExistent(error)\\naiida.common.exceptions.NotExistent: no Code found with LABEL<raspa@lsmosrv5>: No result was found\\n'\n"
     ]
    }
   ],
   "source": [
    "import subprocess\n",
    "script_path = \"/home/yutao/project/aiida/applications/\"\n",
    "# Run the script using subprocess\n",
    "completed_process = subprocess.run([\"/home/yutao/.aiida_venvs/aiida/bin/python\", \"/home/yutao/project/aiida/applications/sample_isotherm.py\"], capture_output=True)\n",
    "\n",
    "# Check the return code\n",
    "if completed_process.returncode == 0:\n",
    "    # The script finished successfully\n",
    "    print(\"Script finished successfully!\")\n",
    "    # Continue with your program logic here\n",
    "else:\n",
    "    # The script encountered an error\n",
    "    print(\"Script encountered an error:\", completed_process.stderr)\n",
    "    # Handle the error or exit the program"
   ]
  },
  {
   "cell_type": "code",
   "execution_count": 104,
   "metadata": {},
   "outputs": [
    {
     "name": "stdout",
     "output_type": "stream",
     "text": [
      "Script encountered an error: b'Traceback (most recent call last):\\n  File \"/home/yutao/.aiida_venvs/aiida/lib/python3.9/site-packages/aiida/orm/utils/loaders.py\", line 407, in load_entity\\n    entity = builder.one()[0]\\n  File \"/home/yutao/.aiida_venvs/aiida/lib/python3.9/site-packages/aiida/orm/querybuilder.py\", line 1129, in one\\n    raise NotExistent(\\'No result was found\\')\\naiida.common.exceptions.NotExistent: No result was found\\n\\nDuring handling of the above exception, another exception occurred:\\n\\nTraceback (most recent call last):\\n  File \"/home/yutao/project/aiida/applications/sample_isotherm.py\", line 85, in <module>\\n    results, node = run_isotherm(load_code(RASPA_CODE_LABEL), load_code(ZEOPP_CODE_LABEL),\"MIL-120.cif\")  # pylint: disable=no-value-for-parameter\\n  File \"/home/yutao/.aiida_venvs/aiida/lib/python3.9/site-packages/aiida/orm/utils/loaders.py\", line 113, in load_code\\n    return load_entity(\\n  File \"/home/yutao/.aiida_venvs/aiida/lib/python3.9/site-packages/aiida/orm/utils/loaders.py\", line 88, in load_entity\\n    return entity_loader.load_entity(\\n  File \"/home/yutao/.aiida_venvs/aiida/lib/python3.9/site-packages/aiida/orm/utils/loaders.py\", line 413, in load_entity\\n    raise NotExistent(error)\\naiida.common.exceptions.NotExistent: no Code found with LABEL<raspa@lsmosrv5>: No result was found\\n'\n"
     ]
    }
   ],
   "source": [
    "import subprocess\n",
    "\n",
    "script_path = \"/home/yutao/project/aiida/applications/sample_isotherm.py\"\n",
    "command = [\"/home/yutao/.aiida_venvs/aiida/bin/python\", script_path]\n",
    "\n",
    "# Run the script using subprocess\n",
    "completed_process = subprocess.run(command, capture_output=True, cwd=\"/home/yutao/project/aiida/applications\")\n",
    "\n",
    "# Check the return code\n",
    "if completed_process.returncode == 0:\n",
    "    # The script finished successfully\n",
    "    print(\"Script finished successfully!\")\n",
    "    # Continue with your program logic here\n",
    "else:\n",
    "    # The script encountered an error\n",
    "    print(\"Script encountered an error:\", completed_process.stderr)\n",
    "    # Handle the error or exit the program"
   ]
  },
  {
   "cell_type": "code",
   "execution_count": 86,
   "metadata": {},
   "outputs": [],
   "source": [
    "Trajectory_length = 8"
   ]
  },
  {
   "cell_type": "code",
   "execution_count": 87,
   "metadata": {},
   "outputs": [],
   "source": [
    "def loss(paramset):\n",
    "\n",
    "    errors = []\n",
    "    for idx in range(1, Number_points+1):\n",
    "        energies = []\n",
    "        for jdx in range(Trajectory_length):\n",
    "            ener = compute_binding_energy(paramset, traj_dict[idx]['structure'][jdx][0], traj_dict[idx]['structure'][jdx][1], lj_gen, numframe=720,cutoff=cutoff)\n",
    "            energies.append(ener.reshape((1,)))\n",
    "        energies = jnp.concatenate(energies)\n",
    "        weight = traj_dict[idx]['estimator'].estimate_weight(energies)\n",
    "        reweight_loading = traj_dict[idx]['loading'] * weight\n",
    "        error = jnp.power(jnp.average(reweight_loading)-traj_dict[idx]['experiment']['loading'],2)\n",
    "        errors.append(error.reshape((1,)))\n",
    "        #print(error)\n",
    "    errors = jnp.concatenate(errors)\n",
    "    return jnp.sum(errors)"
   ]
  },
  {
   "cell_type": "code",
   "execution_count": 89,
   "metadata": {},
   "outputs": [],
   "source": [
    "import optax\n",
    "optimizer = optax.adam(0.001)\n",
    "opt_state = optimizer.init(paramset)"
   ]
  },
  {
   "cell_type": "code",
   "execution_count": 91,
   "metadata": {},
   "outputs": [],
   "source": [
    "v_and_g = jax.value_and_grad(loss, 0)\n",
    "v, g = v_and_g(paramset)"
   ]
  },
  {
   "cell_type": "code",
   "execution_count": 92,
   "metadata": {},
   "outputs": [],
   "source": [
    "updates, opt_state = optimizer.update(g, opt_state)\n",
    "paramset = optax.apply_updates(paramset, updates)\n",
    "paramset = jax.tree_map(lambda x: jnp.clip(x, 0.0, 1e8), paramset)"
   ]
  },
  {
   "cell_type": "code",
   "execution_count": 148,
   "metadata": {},
   "outputs": [
    {
     "data": {
      "text/plain": [
       "{'LennardJonesForce': {'sigma': Array([0.40082, 0.34309, 0.25711, 0.31181, 0.305  , 0.28   ], dtype=float64),\n",
       "  'epsilon': Array([2.11525, 0.43979, 0.18436, 0.25079, 0.65757, 0.22469], dtype=float64),\n",
       "  'sigma_nbfix': Array([], dtype=float64),\n",
       "  'epsilon_nbfix': Array([], dtype=float64)}}"
      ]
     },
     "execution_count": 148,
     "metadata": {},
     "output_type": "execute_result"
    }
   ],
   "source": [
    "paramset.parameters"
   ]
  },
  {
   "cell_type": "code",
   "execution_count": 159,
   "metadata": {},
   "outputs": [],
   "source": [
    "import json\n",
    "Transfer_energy_unit = 254.152/2.11525\n",
    "Transfer_length_unit = 10\n",
    "def update_ff(paramset, dest_path='/home/yutao/project/aiida/applications/ff_1.json'):\n",
    "    global Transfer_energy_unit, Transfer_length_unit\n",
    "    element_list = ['Al_', 'C_', 'H_', 'O_']\n",
    "    params = paramset.parameters\n",
    "    ff_data = {}\n",
    "    if len(element_list) != params['LennardJonesForce']['sigma'].shape[0]-2:\n",
    "        raise ValueError(\"Length of element list and parameter list does not match\")\n",
    "    sigma_list = params['LennardJonesForce']['sigma'].tolist()\n",
    "    epsilon_list = params['LennardJonesForce']['epsilon'].tolist()\n",
    "    for idx in range(len(element_list)):\n",
    "        ff_data[element_list[idx]] = ['lennard-jones', epsilon_list[idx]*Transfer_energy_unit, sigma_list[idx]*Transfer_length_unit]\n",
    "    with open(dest_path, 'w') as f:\n",
    "        json.dump(ff_data, f, indent=4)\n"
   ]
  },
  {
   "cell_type": "code",
   "execution_count": 162,
   "metadata": {},
   "outputs": [
    {
     "data": {
      "text/plain": [
       "0"
      ]
     },
     "execution_count": 162,
     "metadata": {},
     "output_type": "execute_result"
    }
   ],
   "source": [
    "update_ff(paramset, dest_path='/home/yutao/project/aiida/applications/UFF.json')\n",
    "os.system(\"cp /home/yutao/project/aiida/applications/UFF.json /home/yutao/project/aiida/applications/ff_2.json\")"
   ]
  },
  {
   "cell_type": "code",
   "execution_count": 158,
   "metadata": {},
   "outputs": [
    {
     "data": {
      "text/plain": [
       "{'LennardJonesForce': {'sigma': Array([0.40082, 0.34309, 0.25711, 0.31181, 0.305  , 0.28   ], dtype=float64),\n",
       "  'epsilon': Array([2.11525, 0.43979, 0.18436, 0.25079, 0.65757, 0.22469], dtype=float64),\n",
       "  'sigma_nbfix': Array([], dtype=float64),\n",
       "  'epsilon_nbfix': Array([], dtype=float64)}}"
      ]
     },
     "execution_count": 158,
     "metadata": {},
     "output_type": "execute_result"
    }
   ],
   "source": [
    "paramset.parameters"
   ]
  },
  {
   "cell_type": "code",
   "execution_count": 160,
   "metadata": {},
   "outputs": [
    {
     "name": "stdout",
     "output_type": "stream",
     "text": [
      "{'Al_': ['lennard-jones', 254.152, 4.0082], 'C_': ['lennard-jones', 52.84174829452783, 3.4309000000000003], 'H_': ['lennard-jones', 22.151264729937356, 2.5711], 'O_': ['lennard-jones', 30.132977227278097, 3.1180999999999996]}\n"
     ]
    }
   ],
   "source": [
    "import json\n",
    "ff_data = '/home/yutao/project/aiida/applications/ff_1.json'\n",
    "a = json.load(open(ff_data))\n",
    "print(a)"
   ]
  },
  {
   "cell_type": "code",
   "execution_count": 96,
   "metadata": {},
   "outputs": [
    {
     "data": {
      "text/plain": [
       "{'LennardJonesForce': {'epsilon': Array([2.11525, 0.43979, 0.18436, 0.25079, 0.65757, 0.22469], dtype=float64),\n",
       "  'epsilon_nbfix': Array([], dtype=float64),\n",
       "  'sigma': Array([0.40082, 0.34309, 0.25711, 0.31181, 0.305  , 0.28   ], dtype=float64),\n",
       "  'sigma_nbfix': Array([], dtype=float64)}}"
      ]
     },
     "execution_count": 96,
     "metadata": {},
     "output_type": "execute_result"
    }
   ],
   "source": [
    "paramset.parameters"
   ]
  },
  {
   "cell_type": "code",
   "execution_count": 97,
   "metadata": {},
   "outputs": [
    {
     "data": {
      "text/plain": [
       "{'LennardJonesForce': {'sigma': Array([1., 1., 1., 1., 0., 0.], dtype=float64),\n",
       "  'epsilon': Array([1., 1., 1., 1., 0., 0.], dtype=float64),\n",
       "  'sigma_nbfix': Array([], dtype=float64),\n",
       "  'epsilon_nbfix': Array([], dtype=float64)}}"
      ]
     },
     "execution_count": 97,
     "metadata": {},
     "output_type": "execute_result"
    }
   ],
   "source": [
    "paramset.mask"
   ]
  },
  {
   "cell_type": "code",
   "execution_count": 28,
   "metadata": {},
   "outputs": [
    {
     "data": {
      "text/plain": [
       "8"
      ]
     },
     "execution_count": 28,
     "metadata": {},
     "output_type": "execute_result"
    }
   ],
   "source": [
    "len(traj_dict[6]['refer_energy'])"
   ]
  },
  {
   "cell_type": "code",
   "execution_count": 14,
   "metadata": {},
   "outputs": [
    {
     "ename": "KeyError",
     "evalue": "0",
     "output_type": "error",
     "traceback": [
      "\u001b[0;31m---------------------------------------------------------------------------\u001b[0m",
      "\u001b[0;31mKeyError\u001b[0m                                  Traceback (most recent call last)",
      "Cell \u001b[0;32mIn[14], line 1\u001b[0m\n\u001b[0;32m----> 1\u001b[0m \u001b[39mprint\u001b[39m(\u001b[39mlen\u001b[39m(traj_dict[\u001b[39m0\u001b[39;49m][\u001b[39m'\u001b[39m\u001b[39mrefer_energy\u001b[39m\u001b[39m'\u001b[39m]))\n",
      "\u001b[0;31mKeyError\u001b[0m: 0"
     ]
    }
   ],
   "source": [
    "print(len(traj_dict[0]['refer_energy']))"
   ]
  },
  {
   "cell_type": "code",
   "execution_count": null,
   "metadata": {},
   "outputs": [],
   "source": [
    "estimator = ReweightEstimator(traj_dict[idx]['refer_energy'], volume=traj.unitcell_volumes)"
   ]
  },
  {
   "cell_type": "code",
   "execution_count": 24,
   "metadata": {},
   "outputs": [
    {
     "name": "stdout",
     "output_type": "stream",
     "text": [
      "The bin is : 1;  2.449346405228758\n",
      "The bin is : 10;  2.447250280583614\n",
      "The bin is : 20;  2.447777777777778\n",
      "The bin is : 100;  2.4388888888888887\n",
      "The bin is : 200;  2.444444444444444\n",
      "The bin is : 300;  2.4583333333333335\n",
      "The bin is : 400;  2.351851851851852\n",
      "The bin is : 500;  2.388888888888889\n",
      "The bin is : 600;  2.4166666666666665\n",
      "The bin is : 700;  2.305555555555556\n",
      "The bin is : 800;  2.305555555555556\n"
     ]
    }
   ],
   "source": [
    "for bin in [1,10,20,100,200,300,400,500,600,700,800]:\n",
    "    test_list = num_atoms_list[::bin]\n",
    "    print(f\"The bin is : {bin}; \",sum(test_list)/len(test_list)/3/3/2/3)"
   ]
  },
  {
   "cell_type": "code",
   "execution_count": 26,
   "metadata": {},
   "outputs": [
    {
     "name": "stdout",
     "output_type": "stream",
     "text": [
      "The bin is : 1;  2.406447898675878\n",
      "The bin is : 10;  2.4045584045584043\n",
      "The bin is : 20;  2.405555555555556\n",
      "The bin is : 100;  2.4027777777777777\n",
      "The bin is : 200;  2.444444444444444\n",
      "The bin is : 300;  2.4722222222222223\n",
      "The bin is : 400;  2.555555555555556\n",
      "The bin is : 500;  2.555555555555556\n",
      "The bin is : 600;  2.555555555555556\n",
      "The bin is : 700;  2.555555555555556\n",
      "The bin is : 800;  2.555555555555556\n"
     ]
    }
   ],
   "source": [
    "for bin in [1,10,20,100,200,300,400,500,600,700,800]:\n",
    "    test_list = num_atoms_list[600::bin]\n",
    "    print(f\"The bin is : {bin}; \",sum(test_list)/len(test_list)/3/3/2/3)"
   ]
  },
  {
   "cell_type": "code",
   "execution_count": 35,
   "metadata": {},
   "outputs": [
    {
     "name": "stdout",
     "output_type": "stream",
     "text": [
      "2.2222222222222223\n",
      "1.8333333333333333\n",
      "0.3888888888888889\n"
     ]
    }
   ],
   "source": [
    "print((max(num_atoms_list))/3/3/2/3)\n",
    "print((min(num_atoms_list))/3/3/2/3)\n",
    "print((max(num_atoms_list)-min(num_atoms_list))/3/3/2/3)"
   ]
  },
  {
   "cell_type": "code",
   "execution_count": 34,
   "metadata": {},
   "outputs": [
    {
     "data": {
      "text/plain": [
       "[<matplotlib.lines.Line2D at 0x7fd4865854d0>]"
      ]
     },
     "execution_count": 34,
     "metadata": {},
     "output_type": "execute_result"
    },
    {
     "data": {
      "image/png": "[encoded data removed]",
      "text/plain": [
       "<Figure size 640x480 with 1 Axes>"
      ]
     },
     "metadata": {},
     "output_type": "display_data"
    }
   ],
   "source": [
    "plt.plot(num_atoms_list)"
   ]
  },
  {
   "cell_type": "markdown",
   "metadata": {},
   "source": []
  }
 ],
 "metadata": {
  "kernelspec": {
   "display_name": "dmff",
   "language": "python",
   "name": "python3"
  },
  "language_info": {
   "codemirror_mode": {
    "name": "ipython",
    "version": 3
   },
   "file_extension": ".py",
   "mimetype": "text/x-python",
   "name": "python",
   "nbconvert_exporter": "python",
   "pygments_lexer": "ipython3",
   "version": "3.11.6"
  },
  "orig_nbformat": 4
 },
 "nbformat": 4,
 "nbformat_minor": 2
}
